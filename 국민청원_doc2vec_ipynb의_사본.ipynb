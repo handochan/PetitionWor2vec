{
  "nbformat": 4,
  "nbformat_minor": 0,
  "metadata": {
    "colab": {
      "name": "국민청원 doc2vec.ipynb의 사본",
      "provenance": [],
      "collapsed_sections": [],
      "include_colab_link": true
    },
    "kernelspec": {
      "name": "python3",
      "display_name": "Python 3"
    },
    "accelerator": "GPU"
  },
  "cells": [
    {
      "cell_type": "markdown",
      "metadata": {
        "id": "view-in-github",
        "colab_type": "text"
      },
      "source": [
        "<a href=\"https://colab.research.google.com/github/handochan/PetitionWor2vec/blob/master/%EA%B5%AD%EB%AF%BC%EC%B2%AD%EC%9B%90_doc2vec_ipynb%EC%9D%98_%EC%82%AC%EB%B3%B8.ipynb\" target=\"_parent\"><img src=\"https://colab.research.google.com/assets/colab-badge.svg\" alt=\"Open In Colab\"/></a>"
      ]
    },
    {
      "cell_type": "code",
      "metadata": {
        "id": "YEVoUTGinhLn",
        "colab_type": "code",
        "colab": {}
      },
      "source": [
        "from sklearn.manifold import TSNE\n",
        "import pandas as pd\n",
        "import numpy as np\n",
        "import re\n",
        "import matplotlib as mpl\n",
        "import matplotlib.font_manager as fm\n",
        "import warnings\n",
        "import matplotlib.pyplot as plt\n",
        "from mpl_toolkits.mplot3d import Axes3D\n",
        "fontpath = '/usr/share/fonts/truetype/nanum/NanumBarunGothic.ttf'\n",
        "font = fm.FontProperties(fname=fontpath, size=9)\n",
        "mpl.rc('font', family='NanumBarunGothic') \n",
        "mpl.font_manager._rebuild()\n",
        "warnings.filterwarnings('ignore')"
      ],
      "execution_count": 0,
      "outputs": []
    },
    {
      "cell_type": "code",
      "metadata": {
        "id": "kIBllKZcpZ6p",
        "colab_type": "code",
        "outputId": "81799ad3-398e-44b5-d8d8-e89826565050",
        "colab": {
          "base_uri": "https://localhost:8080/",
          "height": 353
        }
      },
      "source": [
        "!apt-get update -qq\n",
        "!apt-get install fonts-nanum* -qq\n",
        "import matplotlib.font_manager as fm\n",
        "fontpath = '/usr/share/fonts/truetype/nanum/NanumBarunGothic.ttf'\n",
        "font = fm.FontProperties(fname=fontpath, size=9)\n",
        "plt.rc('font', family='NanumBarunGothic') "
      ],
      "execution_count": 0,
      "outputs": [
        {
          "output_type": "stream",
          "text": [
            "Selecting previously unselected package fonts-nanum.\n",
            "(Reading database ... \r(Reading database ... 5%\r(Reading database ... 10%\r(Reading database ... 15%\r(Reading database ... 20%\r(Reading database ... 25%\r(Reading database ... 30%\r(Reading database ... 35%\r(Reading database ... 40%\r(Reading database ... 45%\r(Reading database ... 50%\r(Reading database ... 55%\r(Reading database ... 60%\r(Reading database ... 65%\r(Reading database ... 70%\r(Reading database ... 75%\r(Reading database ... 80%\r(Reading database ... 85%\r(Reading database ... 90%\r(Reading database ... 95%\r(Reading database ... 100%\r(Reading database ... 144467 files and directories currently installed.)\n",
            "Preparing to unpack .../fonts-nanum_20170925-1_all.deb ...\n",
            "Unpacking fonts-nanum (20170925-1) ...\n",
            "Selecting previously unselected package fonts-nanum-eco.\n",
            "Preparing to unpack .../fonts-nanum-eco_1.000-6_all.deb ...\n",
            "Unpacking fonts-nanum-eco (1.000-6) ...\n",
            "Selecting previously unselected package fonts-nanum-extra.\n",
            "Preparing to unpack .../fonts-nanum-extra_20170925-1_all.deb ...\n",
            "Unpacking fonts-nanum-extra (20170925-1) ...\n",
            "Selecting previously unselected package fonts-nanum-coding.\n",
            "Preparing to unpack .../fonts-nanum-coding_2.5-1_all.deb ...\n",
            "Unpacking fonts-nanum-coding (2.5-1) ...\n",
            "Setting up fonts-nanum-extra (20170925-1) ...\n",
            "Setting up fonts-nanum (20170925-1) ...\n",
            "Setting up fonts-nanum-coding (2.5-1) ...\n",
            "Setting up fonts-nanum-eco (1.000-6) ...\n",
            "Processing triggers for fontconfig (2.12.6-0ubuntu2) ...\n"
          ],
          "name": "stdout"
        }
      ]
    },
    {
      "cell_type": "code",
      "metadata": {
        "id": "OmxoGUAJV7mM",
        "colab_type": "code",
        "outputId": "8f1b85a3-f831-486f-d0ca-4d29135d9ddc",
        "colab": {
          "base_uri": "https://localhost:8080/",
          "height": 131
        }
      },
      "source": [
        "from google.colab import drive\n",
        "drive.mount('/content/gdrive')"
      ],
      "execution_count": 0,
      "outputs": [
        {
          "output_type": "stream",
          "text": [
            "Go to this URL in a browser: https://accounts.google.com/o/oauth2/auth?client_id=947318989803-6bn6qk8qdgf4n4g3pfee6491hc0brc4i.apps.googleusercontent.com&redirect_uri=urn%3aietf%3awg%3aoauth%3a2.0%3aoob&response_type=code&scope=email%20https%3a%2f%2fwww.googleapis.com%2fauth%2fdocs.test%20https%3a%2f%2fwww.googleapis.com%2fauth%2fdrive%20https%3a%2f%2fwww.googleapis.com%2fauth%2fdrive.photos.readonly%20https%3a%2f%2fwww.googleapis.com%2fauth%2fpeopleapi.readonly\n",
            "\n",
            "Enter your authorization code:\n",
            "··········\n",
            "Mounted at /content/gdrive\n"
          ],
          "name": "stdout"
        }
      ]
    },
    {
      "cell_type": "code",
      "metadata": {
        "id": "ZiLS_1VXWF1l",
        "colab_type": "code",
        "outputId": "29ce1614-14e5-4e9f-caf2-f38ec1d8c127",
        "colab": {
          "base_uri": "https://localhost:8080/",
          "height": 35
        }
      },
      "source": [
        "cd /content/gdrive/My Drive/"
      ],
      "execution_count": 0,
      "outputs": [
        {
          "output_type": "stream",
          "text": [
            "/content/gdrive/My Drive\n"
          ],
          "name": "stdout"
        }
      ]
    },
    {
      "cell_type": "code",
      "metadata": {
        "id": "iRqiZAfonlzC",
        "colab_type": "code",
        "outputId": "e29e0a30-72dd-4fd9-e29a-22e748f1f619",
        "colab": {
          "base_uri": "https://localhost:8080/",
          "height": 411
        }
      },
      "source": [
        "!pip install soynlp\n",
        "!pip show soynlp"
      ],
      "execution_count": 0,
      "outputs": [
        {
          "output_type": "stream",
          "text": [
            "Collecting soynlp\n",
            "\u001b[?25l  Downloading https://files.pythonhosted.org/packages/7e/50/6913dc52a86a6b189419e59f9eef1b8d599cffb6f44f7bb91854165fc603/soynlp-0.0.493-py3-none-any.whl (416kB)\n",
            "\r\u001b[K     |▉                               | 10kB 24.5MB/s eta 0:00:01\r\u001b[K     |█▋                              | 20kB 1.9MB/s eta 0:00:01\r\u001b[K     |██▍                             | 30kB 2.2MB/s eta 0:00:01\r\u001b[K     |███▏                            | 40kB 2.5MB/s eta 0:00:01\r\u001b[K     |████                            | 51kB 2.5MB/s eta 0:00:01\r\u001b[K     |████▊                           | 61kB 2.8MB/s eta 0:00:01\r\u001b[K     |█████▌                          | 71kB 3.0MB/s eta 0:00:01\r\u001b[K     |██████▎                         | 81kB 3.2MB/s eta 0:00:01\r\u001b[K     |███████                         | 92kB 3.1MB/s eta 0:00:01\r\u001b[K     |███████▉                        | 102kB 3.3MB/s eta 0:00:01\r\u001b[K     |████████▋                       | 112kB 3.3MB/s eta 0:00:01\r\u001b[K     |█████████▍                      | 122kB 3.3MB/s eta 0:00:01\r\u001b[K     |██████████▏                     | 133kB 3.3MB/s eta 0:00:01\r\u001b[K     |███████████                     | 143kB 3.3MB/s eta 0:00:01\r\u001b[K     |███████████▉                    | 153kB 3.3MB/s eta 0:00:01\r\u001b[K     |████████████▋                   | 163kB 3.3MB/s eta 0:00:01\r\u001b[K     |█████████████▍                  | 174kB 3.3MB/s eta 0:00:01\r\u001b[K     |██████████████▏                 | 184kB 3.3MB/s eta 0:00:01\r\u001b[K     |███████████████                 | 194kB 3.3MB/s eta 0:00:01\r\u001b[K     |███████████████▊                | 204kB 3.3MB/s eta 0:00:01\r\u001b[K     |████████████████▌               | 215kB 3.3MB/s eta 0:00:01\r\u001b[K     |█████████████████▎              | 225kB 3.3MB/s eta 0:00:01\r\u001b[K     |██████████████████              | 235kB 3.3MB/s eta 0:00:01\r\u001b[K     |██████████████████▉             | 245kB 3.3MB/s eta 0:00:01\r\u001b[K     |███████████████████▋            | 256kB 3.3MB/s eta 0:00:01\r\u001b[K     |████████████████████▍           | 266kB 3.3MB/s eta 0:00:01\r\u001b[K     |█████████████████████▎          | 276kB 3.3MB/s eta 0:00:01\r\u001b[K     |██████████████████████          | 286kB 3.3MB/s eta 0:00:01\r\u001b[K     |██████████████████████▉         | 296kB 3.3MB/s eta 0:00:01\r\u001b[K     |███████████████████████▋        | 307kB 3.3MB/s eta 0:00:01\r\u001b[K     |████████████████████████▍       | 317kB 3.3MB/s eta 0:00:01\r\u001b[K     |█████████████████████████▏      | 327kB 3.3MB/s eta 0:00:01\r\u001b[K     |██████████████████████████      | 337kB 3.3MB/s eta 0:00:01\r\u001b[K     |██████████████████████████▊     | 348kB 3.3MB/s eta 0:00:01\r\u001b[K     |███████████████████████████▌    | 358kB 3.3MB/s eta 0:00:01\r\u001b[K     |████████████████████████████▎   | 368kB 3.3MB/s eta 0:00:01\r\u001b[K     |█████████████████████████████   | 378kB 3.3MB/s eta 0:00:01\r\u001b[K     |█████████████████████████████▉  | 389kB 3.3MB/s eta 0:00:01\r\u001b[K     |██████████████████████████████▋ | 399kB 3.3MB/s eta 0:00:01\r\u001b[K     |███████████████████████████████▌| 409kB 3.3MB/s eta 0:00:01\r\u001b[K     |████████████████████████████████| 419kB 3.3MB/s \n",
            "\u001b[?25hRequirement already satisfied: psutil>=5.0.1 in /usr/local/lib/python3.6/dist-packages (from soynlp) (5.4.8)\n",
            "Requirement already satisfied: scikit-learn>=0.20.0 in /usr/local/lib/python3.6/dist-packages (from soynlp) (0.22.2.post1)\n",
            "Requirement already satisfied: scipy>=1.1.0 in /usr/local/lib/python3.6/dist-packages (from soynlp) (1.4.1)\n",
            "Requirement already satisfied: numpy>=1.12.1 in /usr/local/lib/python3.6/dist-packages (from soynlp) (1.18.5)\n",
            "Requirement already satisfied: joblib>=0.11 in /usr/local/lib/python3.6/dist-packages (from scikit-learn>=0.20.0->soynlp) (0.15.1)\n",
            "Installing collected packages: soynlp\n",
            "Successfully installed soynlp-0.0.493\n",
            "Name: soynlp\n",
            "Version: 0.0.493\n",
            "Summary: Unsupervised Korean Natural Language Processing Toolkits\n",
            "Home-page: https://github.com/lovit/soynlp\n",
            "Author: Lovit\n",
            "Author-email: soy.lovit@gmail.com\n",
            "License: UNKNOWN\n",
            "Location: /usr/local/lib/python3.6/dist-packages\n",
            "Requires: scikit-learn, numpy, psutil, scipy\n",
            "Required-by: \n"
          ],
          "name": "stdout"
        }
      ]
    },
    {
      "cell_type": "code",
      "metadata": {
        "id": "gzIyt0xinxql",
        "colab_type": "code",
        "outputId": "6df92b40-ef7b-4b47-8747-29013105fdef",
        "colab": {
          "base_uri": "https://localhost:8080/",
          "height": 198
        }
      },
      "source": [
        "# !pip install gensim\n",
        "!pip show gensim"
      ],
      "execution_count": 0,
      "outputs": [
        {
          "output_type": "stream",
          "text": [
            "Name: gensim\n",
            "Version: 3.6.0\n",
            "Summary: Python framework for fast Vector Space Modelling\n",
            "Home-page: http://radimrehurek.com/gensim\n",
            "Author: Radim Rehurek\n",
            "Author-email: me@radimrehurek.com\n",
            "License: LGPLv2.1\n",
            "Location: /usr/local/lib/python3.6/dist-packages\n",
            "Requires: six, smart-open, numpy, scipy\n",
            "Required-by: \n"
          ],
          "name": "stdout"
        }
      ]
    },
    {
      "cell_type": "code",
      "metadata": {
        "id": "5Lm5vZbonzL7",
        "colab_type": "code",
        "outputId": "56c085ce-7039-4771-f14d-dbdf2e1135bd",
        "colab": {
          "base_uri": "https://localhost:8080/",
          "height": 36
        }
      },
      "source": [
        "petitions = pd.read_csv('https://s3.ap-northeast-2.amazonaws.com/data10902/petition/petition.csv', parse_dates=['start', 'end'])\n",
        "petitions.shape"
      ],
      "execution_count": 0,
      "outputs": [
        {
          "output_type": "execute_result",
          "data": {
            "text/plain": [
              "(395547, 8)"
            ]
          },
          "metadata": {
            "tags": []
          },
          "execution_count": 5
        }
      ]
    },
    {
      "cell_type": "code",
      "metadata": {
        "id": "saiRDTBYn3Ub",
        "colab_type": "code",
        "colab": {}
      },
      "source": [
        "df = petitions.loc[(petitions['votes'] > 1000) & (petitions['votes'] < 100000)].copy()\n",
        "df.reset_index(drop=True,inplace=True)\n",
        "df_100 = df[0:100]"
      ],
      "execution_count": 0,
      "outputs": []
    },
    {
      "cell_type": "code",
      "metadata": {
        "id": "BDqbLTwnxpNv",
        "colab_type": "code",
        "outputId": "86ae0b0c-5fde-48d5-fefb-84eb8732d336",
        "colab": {
          "base_uri": "https://localhost:8080/",
          "height": 710
        }
      },
      "source": [
        "df_100"
      ],
      "execution_count": 0,
      "outputs": [
        {
          "output_type": "execute_result",
          "data": {
            "text/html": [
              "<div>\n",
              "<style scoped>\n",
              "    .dataframe tbody tr th:only-of-type {\n",
              "        vertical-align: middle;\n",
              "    }\n",
              "\n",
              "    .dataframe tbody tr th {\n",
              "        vertical-align: top;\n",
              "    }\n",
              "\n",
              "    .dataframe thead th {\n",
              "        text-align: right;\n",
              "    }\n",
              "</style>\n",
              "<table border=\"1\" class=\"dataframe\">\n",
              "  <thead>\n",
              "    <tr style=\"text-align: right;\">\n",
              "      <th></th>\n",
              "      <th>article_id</th>\n",
              "      <th>start</th>\n",
              "      <th>end</th>\n",
              "      <th>answered</th>\n",
              "      <th>votes</th>\n",
              "      <th>category</th>\n",
              "      <th>title</th>\n",
              "      <th>content</th>\n",
              "    </tr>\n",
              "  </thead>\n",
              "  <tbody>\n",
              "    <tr>\n",
              "      <th>0</th>\n",
              "      <td>28</td>\n",
              "      <td>2017-08-19</td>\n",
              "      <td>2017-08-26</td>\n",
              "      <td>0</td>\n",
              "      <td>2137</td>\n",
              "      <td>경제민주화</td>\n",
              "      <td>소액주주를 보호해주십시오</td>\n",
              "      <td>**  존경하옵는 문재인대통령님께\\n저는 중국원양자원이라는 KOSPI상장사의 소액 ...</td>\n",
              "    </tr>\n",
              "    <tr>\n",
              "      <th>1</th>\n",
              "      <td>43</td>\n",
              "      <td>2017-08-19</td>\n",
              "      <td>2017-09-18</td>\n",
              "      <td>0</td>\n",
              "      <td>11293</td>\n",
              "      <td>육아/교육</td>\n",
              "      <td>기간제 교사의 정규직화를 반대합니다.</td>\n",
              "      <td>대통령님, 안녕하세요. 저는 임용을 준비하고 수험생입니다. 처음 기간제 정규직화 된...</td>\n",
              "    </tr>\n",
              "    <tr>\n",
              "      <th>2</th>\n",
              "      <td>46</td>\n",
              "      <td>2017-08-19</td>\n",
              "      <td>2017-09-18</td>\n",
              "      <td>0</td>\n",
              "      <td>1933</td>\n",
              "      <td>육아/교육</td>\n",
              "      <td>기간제교사의 정규직화를 반대합니다.</td>\n",
              "      <td>대통령님, 안녕하세요. 저는 임용을 준비하고 수험생입니다. 처음 기간제 정규직화 된...</td>\n",
              "    </tr>\n",
              "    <tr>\n",
              "      <th>3</th>\n",
              "      <td>50</td>\n",
              "      <td>2017-08-19</td>\n",
              "      <td>2017-10-18</td>\n",
              "      <td>0</td>\n",
              "      <td>1251</td>\n",
              "      <td>일자리</td>\n",
              "      <td>치과위생사 국가고시 날짜 변경 억울합니다</td>\n",
              "      <td>안녕하십니까? 대통령님 간단하게 제소개 부터 하겠습니다. 저는 치위생과 3학년 학생...</td>\n",
              "    </tr>\n",
              "    <tr>\n",
              "      <th>4</th>\n",
              "      <td>61</td>\n",
              "      <td>2017-08-19</td>\n",
              "      <td>2017-08-26</td>\n",
              "      <td>0</td>\n",
              "      <td>1185</td>\n",
              "      <td>일자리</td>\n",
              "      <td>영어회화전문강사제도는 유지되어야합니다.</td>\n",
              "      <td>1. 영전강의고용안정을 원합니다\\n2.1년단위계약직으로 임신 출산육아 매우 곤란합니...</td>\n",
              "    </tr>\n",
              "    <tr>\n",
              "      <th>...</th>\n",
              "      <td>...</td>\n",
              "      <td>...</td>\n",
              "      <td>...</td>\n",
              "      <td>...</td>\n",
              "      <td>...</td>\n",
              "      <td>...</td>\n",
              "      <td>...</td>\n",
              "      <td>...</td>\n",
              "    </tr>\n",
              "    <tr>\n",
              "      <th>95</th>\n",
              "      <td>14263</td>\n",
              "      <td>2017-09-18</td>\n",
              "      <td>2017-10-18</td>\n",
              "      <td>0</td>\n",
              "      <td>1185</td>\n",
              "      <td>보건복지</td>\n",
              "      <td>한부모가족의 행복을 보장해주세요</td>\n",
              "      <td>2012년 이혼후 12살,10살 딸을 양육하고 있는 한부모가정의 엄마입니다.\\n이혼...</td>\n",
              "    </tr>\n",
              "    <tr>\n",
              "      <th>96</th>\n",
              "      <td>14347</td>\n",
              "      <td>2017-09-18</td>\n",
              "      <td>2017-10-18</td>\n",
              "      <td>0</td>\n",
              "      <td>1283</td>\n",
              "      <td>육아/교육</td>\n",
              "      <td>유치원 회계감사 제대로 해주세요</td>\n",
              "      <td>두아이에 엄마입니다\\n앞으로 몇년을 더 유치원을 보내는 입장으로\\n이번일에 화가 많...</td>\n",
              "    </tr>\n",
              "    <tr>\n",
              "      <th>97</th>\n",
              "      <td>14350</td>\n",
              "      <td>2017-09-18</td>\n",
              "      <td>2017-10-18</td>\n",
              "      <td>0</td>\n",
              "      <td>7835</td>\n",
              "      <td>보건복지</td>\n",
              "      <td>장애인활동보조</td>\n",
              "      <td>지금장애인활동보조는 부모나직계가족은안되고있어요\\n맞벌이를해야하거나 활동보조를못구하면...</td>\n",
              "    </tr>\n",
              "    <tr>\n",
              "      <th>98</th>\n",
              "      <td>14390</td>\n",
              "      <td>2017-09-18</td>\n",
              "      <td>2017-10-18</td>\n",
              "      <td>0</td>\n",
              "      <td>1274</td>\n",
              "      <td>안전/환경</td>\n",
              "      <td>부천 특고압 설치 민원으로 보는 문제점 (국책사업 주민 의견 수렴 및 전자파 기준 ...</td>\n",
              "      <td>2013년부터 서울/경기북부 지역 전력확충을 위해 부천시를 관통하여 특고압라인을 매...</td>\n",
              "    </tr>\n",
              "    <tr>\n",
              "      <th>99</th>\n",
              "      <td>14468</td>\n",
              "      <td>2017-09-18</td>\n",
              "      <td>2017-10-18</td>\n",
              "      <td>0</td>\n",
              "      <td>1499</td>\n",
              "      <td>저출산/고령화대책</td>\n",
              "      <td>임신이 어려워 고통받는 분들에게도 희망을 주십시오</td>\n",
              "      <td>난임 부부들과 함께  아기를 맞이할 나라를 만들겠습니다 .\\n\"간절히 바랬는데, 하...</td>\n",
              "    </tr>\n",
              "  </tbody>\n",
              "</table>\n",
              "<p>100 rows × 8 columns</p>\n",
              "</div>"
            ],
            "text/plain": [
              "    article_id  ...                                            content\n",
              "0           28  ...  **  존경하옵는 문재인대통령님께\\n저는 중국원양자원이라는 KOSPI상장사의 소액 ...\n",
              "1           43  ...  대통령님, 안녕하세요. 저는 임용을 준비하고 수험생입니다. 처음 기간제 정규직화 된...\n",
              "2           46  ...  대통령님, 안녕하세요. 저는 임용을 준비하고 수험생입니다. 처음 기간제 정규직화 된...\n",
              "3           50  ...  안녕하십니까? 대통령님 간단하게 제소개 부터 하겠습니다. 저는 치위생과 3학년 학생...\n",
              "4           61  ...  1. 영전강의고용안정을 원합니다\\n2.1년단위계약직으로 임신 출산육아 매우 곤란합니...\n",
              "..         ...  ...                                                ...\n",
              "95       14263  ...  2012년 이혼후 12살,10살 딸을 양육하고 있는 한부모가정의 엄마입니다.\\n이혼...\n",
              "96       14347  ...  두아이에 엄마입니다\\n앞으로 몇년을 더 유치원을 보내는 입장으로\\n이번일에 화가 많...\n",
              "97       14350  ...  지금장애인활동보조는 부모나직계가족은안되고있어요\\n맞벌이를해야하거나 활동보조를못구하면...\n",
              "98       14390  ...  2013년부터 서울/경기북부 지역 전력확충을 위해 부천시를 관통하여 특고압라인을 매...\n",
              "99       14468  ...  난임 부부들과 함께  아기를 맞이할 나라를 만들겠습니다 .\\n\"간절히 바랬는데, 하...\n",
              "\n",
              "[100 rows x 8 columns]"
            ]
          },
          "metadata": {
            "tags": []
          },
          "execution_count": 7
        }
      ]
    },
    {
      "cell_type": "code",
      "metadata": {
        "id": "hGtV2GPioo7V",
        "colab_type": "code",
        "outputId": "0a406b44-f2df-422f-e81b-f562476b6caa",
        "colab": {
          "base_uri": "https://localhost:8080/",
          "height": 762
        }
      },
      "source": [
        "df2 = petitions.loc[(petitions['votes']> 100)].copy()\n",
        "df2.reset_index(drop=True,inplace=True)\n",
        "df2"
      ],
      "execution_count": 0,
      "outputs": [
        {
          "output_type": "execute_result",
          "data": {
            "text/html": [
              "<div>\n",
              "<style scoped>\n",
              "    .dataframe tbody tr th:only-of-type {\n",
              "        vertical-align: middle;\n",
              "    }\n",
              "\n",
              "    .dataframe tbody tr th {\n",
              "        vertical-align: top;\n",
              "    }\n",
              "\n",
              "    .dataframe thead th {\n",
              "        text-align: right;\n",
              "    }\n",
              "</style>\n",
              "<table border=\"1\" class=\"dataframe\">\n",
              "  <thead>\n",
              "    <tr style=\"text-align: right;\">\n",
              "      <th></th>\n",
              "      <th>article_id</th>\n",
              "      <th>start</th>\n",
              "      <th>end</th>\n",
              "      <th>answered</th>\n",
              "      <th>votes</th>\n",
              "      <th>category</th>\n",
              "      <th>title</th>\n",
              "      <th>content</th>\n",
              "    </tr>\n",
              "  </thead>\n",
              "  <tbody>\n",
              "    <tr>\n",
              "      <th>0</th>\n",
              "      <td>28</td>\n",
              "      <td>2017-08-19</td>\n",
              "      <td>2017-08-26</td>\n",
              "      <td>0</td>\n",
              "      <td>2137</td>\n",
              "      <td>경제민주화</td>\n",
              "      <td>소액주주를 보호해주십시오</td>\n",
              "      <td>**  존경하옵는 문재인대통령님께\\n저는 중국원양자원이라는 KOSPI상장사의 소액 ...</td>\n",
              "    </tr>\n",
              "    <tr>\n",
              "      <th>1</th>\n",
              "      <td>34</td>\n",
              "      <td>2017-08-19</td>\n",
              "      <td>2017-09-18</td>\n",
              "      <td>0</td>\n",
              "      <td>679</td>\n",
              "      <td>기타</td>\n",
              "      <td>『국가유공자 등 예우 및 지원에 관한법률』상「6.25전몰군경 자녀수당」의 불합리한 ...</td>\n",
              "      <td>(현황)\\n우리들 아버지께서는 67여년전 북의 남침으로 조국이 위기에 처했을 때 젊...</td>\n",
              "    </tr>\n",
              "    <tr>\n",
              "      <th>2</th>\n",
              "      <td>37</td>\n",
              "      <td>2017-08-19</td>\n",
              "      <td>2017-09-18</td>\n",
              "      <td>0</td>\n",
              "      <td>415</td>\n",
              "      <td>기타</td>\n",
              "      <td>황우석박사님 연구재개 허용 촉구합니다.</td>\n",
              "      <td>국민의 70% 이상이 황우석박사님을 응원하고 지지하고 있습니다.\\n*2007년 1월...</td>\n",
              "    </tr>\n",
              "    <tr>\n",
              "      <th>3</th>\n",
              "      <td>40</td>\n",
              "      <td>2017-08-19</td>\n",
              "      <td>2017-09-18</td>\n",
              "      <td>0</td>\n",
              "      <td>218</td>\n",
              "      <td>외교/통일/국방</td>\n",
              "      <td>국가유공자등 예우및 지우너에 관한 법률 시행령 개정</td>\n",
              "      <td>지금부터 67년전 1950년 6.25전쟁때 조국 대한민국이 위태로운 시점에 우리들 ...</td>\n",
              "    </tr>\n",
              "    <tr>\n",
              "      <th>4</th>\n",
              "      <td>41</td>\n",
              "      <td>2017-08-19</td>\n",
              "      <td>2017-09-18</td>\n",
              "      <td>0</td>\n",
              "      <td>227</td>\n",
              "      <td>외교/통일/국방</td>\n",
              "      <td>국가유공자등 예우및 지우너에 관한 법률 시행령 개정</td>\n",
              "      <td>지금부터 67년전 1950년 6.25전쟁때 조국 대한민국이 위태로운 시점에 우리들 ...</td>\n",
              "    </tr>\n",
              "    <tr>\n",
              "      <th>...</th>\n",
              "      <td>...</td>\n",
              "      <td>...</td>\n",
              "      <td>...</td>\n",
              "      <td>...</td>\n",
              "      <td>...</td>\n",
              "      <td>...</td>\n",
              "      <td>...</td>\n",
              "      <td>...</td>\n",
              "    </tr>\n",
              "    <tr>\n",
              "      <th>18428</th>\n",
              "      <td>516826</td>\n",
              "      <td>2019-02-04</td>\n",
              "      <td>2019-03-06</td>\n",
              "      <td>0</td>\n",
              "      <td>232</td>\n",
              "      <td>행정</td>\n",
              "      <td>대한민국 공법단체(상이군경회, 고엽제전우회(월남참전전우회포함), 특수임무유공자회 하...</td>\n",
              "      <td>1. 각기 공법단체가 따로 수익사업을 하고 있어 비리가 끝이지 않고, 전국 각 지자...</td>\n",
              "    </tr>\n",
              "    <tr>\n",
              "      <th>18429</th>\n",
              "      <td>516901</td>\n",
              "      <td>2019-02-04</td>\n",
              "      <td>2019-03-06</td>\n",
              "      <td>0</td>\n",
              "      <td>718</td>\n",
              "      <td>외교/통일/국방</td>\n",
              "      <td>대한민국 예비역 장성모임(성우회)를 구성하고 있는 전직 고위장성들의 연금을 박탈하고...</td>\n",
              "      <td>올해는 3.1운동과 임시정부 수립 100주년을 맞는 해입니다. 더구나 시민들의 촛불...</td>\n",
              "    </tr>\n",
              "    <tr>\n",
              "      <th>18430</th>\n",
              "      <td>517037</td>\n",
              "      <td>2019-02-04</td>\n",
              "      <td>2019-03-06</td>\n",
              "      <td>0</td>\n",
              "      <td>938</td>\n",
              "      <td>인권/성평등</td>\n",
              "      <td>군,경의 90% 남성할당제. 공정한 기회는 도대체 누구에게 주어졌습니까?</td>\n",
              "      <td>일부 공무원시험에서도, 경찰대학교나 사관학교에서도, 또한 군과 협약을 맺은 여타 고...</td>\n",
              "    </tr>\n",
              "    <tr>\n",
              "      <th>18431</th>\n",
              "      <td>517038</td>\n",
              "      <td>2019-02-04</td>\n",
              "      <td>2019-03-06</td>\n",
              "      <td>0</td>\n",
              "      <td>186</td>\n",
              "      <td>인권/성평등</td>\n",
              "      <td>남성차별하는 여성가족부를 폐지하라</td>\n",
              "      <td>여성가족부 폐지 운동을 하고 있습니다. 여성가족부는 일년예산으로만 1조2천억 이라는...</td>\n",
              "    </tr>\n",
              "    <tr>\n",
              "      <th>18432</th>\n",
              "      <td>517095</td>\n",
              "      <td>2019-02-04</td>\n",
              "      <td>2019-03-06</td>\n",
              "      <td>0</td>\n",
              "      <td>418</td>\n",
              "      <td>일자리</td>\n",
              "      <td>한화**의 더러움을 고발합니다.</td>\n",
              "      <td>한화**의 갑질횡포를 온국민들께 알립니다.\\n저는 한화**와 태양광모듈 자동화설비 ...</td>\n",
              "    </tr>\n",
              "  </tbody>\n",
              "</table>\n",
              "<p>18433 rows × 8 columns</p>\n",
              "</div>"
            ],
            "text/plain": [
              "       article_id  ...                                            content\n",
              "0              28  ...  **  존경하옵는 문재인대통령님께\\n저는 중국원양자원이라는 KOSPI상장사의 소액 ...\n",
              "1              34  ...  (현황)\\n우리들 아버지께서는 67여년전 북의 남침으로 조국이 위기에 처했을 때 젊...\n",
              "2              37  ...  국민의 70% 이상이 황우석박사님을 응원하고 지지하고 있습니다.\\n*2007년 1월...\n",
              "3              40  ...  지금부터 67년전 1950년 6.25전쟁때 조국 대한민국이 위태로운 시점에 우리들 ...\n",
              "4              41  ...  지금부터 67년전 1950년 6.25전쟁때 조국 대한민국이 위태로운 시점에 우리들 ...\n",
              "...           ...  ...                                                ...\n",
              "18428      516826  ...  1. 각기 공법단체가 따로 수익사업을 하고 있어 비리가 끝이지 않고, 전국 각 지자...\n",
              "18429      516901  ...  올해는 3.1운동과 임시정부 수립 100주년을 맞는 해입니다. 더구나 시민들의 촛불...\n",
              "18430      517037  ...  일부 공무원시험에서도, 경찰대학교나 사관학교에서도, 또한 군과 협약을 맺은 여타 고...\n",
              "18431      517038  ...  여성가족부 폐지 운동을 하고 있습니다. 여성가족부는 일년예산으로만 1조2천억 이라는...\n",
              "18432      517095  ...  한화**의 갑질횡포를 온국민들께 알립니다.\\n저는 한화**와 태양광모듈 자동화설비 ...\n",
              "\n",
              "[18433 rows x 8 columns]"
            ]
          },
          "metadata": {
            "tags": []
          },
          "execution_count": 8
        }
      ]
    },
    {
      "cell_type": "code",
      "metadata": {
        "id": "2fu3gJyhopRI",
        "colab_type": "code",
        "outputId": "3d77c21b-004b-4cef-ef40-3ef0817112cb",
        "colab": {
          "base_uri": "https://localhost:8080/",
          "height": 415
        }
      },
      "source": [
        "df_id_cat=df2[['article_id','category']]\n",
        "df_id_cat"
      ],
      "execution_count": 0,
      "outputs": [
        {
          "output_type": "execute_result",
          "data": {
            "text/html": [
              "<div>\n",
              "<style scoped>\n",
              "    .dataframe tbody tr th:only-of-type {\n",
              "        vertical-align: middle;\n",
              "    }\n",
              "\n",
              "    .dataframe tbody tr th {\n",
              "        vertical-align: top;\n",
              "    }\n",
              "\n",
              "    .dataframe thead th {\n",
              "        text-align: right;\n",
              "    }\n",
              "</style>\n",
              "<table border=\"1\" class=\"dataframe\">\n",
              "  <thead>\n",
              "    <tr style=\"text-align: right;\">\n",
              "      <th></th>\n",
              "      <th>article_id</th>\n",
              "      <th>category</th>\n",
              "    </tr>\n",
              "  </thead>\n",
              "  <tbody>\n",
              "    <tr>\n",
              "      <th>0</th>\n",
              "      <td>28</td>\n",
              "      <td>경제민주화</td>\n",
              "    </tr>\n",
              "    <tr>\n",
              "      <th>1</th>\n",
              "      <td>34</td>\n",
              "      <td>기타</td>\n",
              "    </tr>\n",
              "    <tr>\n",
              "      <th>2</th>\n",
              "      <td>37</td>\n",
              "      <td>기타</td>\n",
              "    </tr>\n",
              "    <tr>\n",
              "      <th>3</th>\n",
              "      <td>40</td>\n",
              "      <td>외교/통일/국방</td>\n",
              "    </tr>\n",
              "    <tr>\n",
              "      <th>4</th>\n",
              "      <td>41</td>\n",
              "      <td>외교/통일/국방</td>\n",
              "    </tr>\n",
              "    <tr>\n",
              "      <th>...</th>\n",
              "      <td>...</td>\n",
              "      <td>...</td>\n",
              "    </tr>\n",
              "    <tr>\n",
              "      <th>18428</th>\n",
              "      <td>516826</td>\n",
              "      <td>행정</td>\n",
              "    </tr>\n",
              "    <tr>\n",
              "      <th>18429</th>\n",
              "      <td>516901</td>\n",
              "      <td>외교/통일/국방</td>\n",
              "    </tr>\n",
              "    <tr>\n",
              "      <th>18430</th>\n",
              "      <td>517037</td>\n",
              "      <td>인권/성평등</td>\n",
              "    </tr>\n",
              "    <tr>\n",
              "      <th>18431</th>\n",
              "      <td>517038</td>\n",
              "      <td>인권/성평등</td>\n",
              "    </tr>\n",
              "    <tr>\n",
              "      <th>18432</th>\n",
              "      <td>517095</td>\n",
              "      <td>일자리</td>\n",
              "    </tr>\n",
              "  </tbody>\n",
              "</table>\n",
              "<p>18433 rows × 2 columns</p>\n",
              "</div>"
            ],
            "text/plain": [
              "       article_id  category\n",
              "0              28     경제민주화\n",
              "1              34        기타\n",
              "2              37        기타\n",
              "3              40  외교/통일/국방\n",
              "4              41  외교/통일/국방\n",
              "...           ...       ...\n",
              "18428      516826        행정\n",
              "18429      516901  외교/통일/국방\n",
              "18430      517037    인권/성평등\n",
              "18431      517038    인권/성평등\n",
              "18432      517095       일자리\n",
              "\n",
              "[18433 rows x 2 columns]"
            ]
          },
          "metadata": {
            "tags": []
          },
          "execution_count": 9
        }
      ]
    },
    {
      "cell_type": "code",
      "metadata": {
        "id": "H1-sC7vhozTn",
        "colab_type": "code",
        "outputId": "0b80a16d-c24f-49b1-c639-4351807a6cb6",
        "colab": {
          "base_uri": "https://localhost:8080/",
          "height": 352
        }
      },
      "source": [
        "category_count = df['category'].value_counts()\n",
        "category_count\n",
        "%matplotlib inline\n",
        "category_count.plot(kind='bar')"
      ],
      "execution_count": 0,
      "outputs": [
        {
          "output_type": "execute_result",
          "data": {
            "text/plain": [
              "<matplotlib.axes._subplots.AxesSubplot at 0x7fc120cc62e8>"
            ]
          },
          "metadata": {
            "tags": []
          },
          "execution_count": 10
        },
        {
          "output_type": "stream",
          "text": [
            "findfont: Font family ['NanumBarunGothic'] not found. Falling back to DejaVu Sans.\n"
          ],
          "name": "stderr"
        },
        {
          "output_type": "display_data",
          "data": {
            "image/png": "[encoded data removed]",
            "text/plain": [
              "<Figure size 432x288 with 1 Axes>"
            ]
          },
          "metadata": {
            "tags": [],
            "needs_background": "light"
          }
        }
      ]
    },
    {
      "cell_type": "code",
      "metadata": {
        "id": "E1ZGuuqUo-QE",
        "colab_type": "code",
        "outputId": "2a324e29-2762-4594-b161-9aefca172b22",
        "colab": {
          "base_uri": "https://localhost:8080/",
          "height": 332
        }
      },
      "source": [
        "category_count = df2['category'].value_counts()\n",
        "category_count\n",
        "%matplotlib inline\n",
        "category_count.plot(kind='bar')"
      ],
      "execution_count": 0,
      "outputs": [
        {
          "output_type": "execute_result",
          "data": {
            "text/plain": [
              "<matplotlib.axes._subplots.AxesSubplot at 0x7fc120c2f2e8>"
            ]
          },
          "metadata": {
            "tags": []
          },
          "execution_count": 11
        },
        {
          "output_type": "display_data",
          "data": {
            "image/png": "[encoded data removed]",
            "text/plain": [
              "<Figure size 432x288 with 1 Axes>"
            ]
          },
          "metadata": {
            "tags": [],
            "needs_background": "light"
          }
        }
      ]
    },
    {
      "cell_type": "code",
      "metadata": {
        "id": "WOef1QgCpR-E",
        "colab_type": "code",
        "colab": {}
      },
      "source": [
        "sample_index = 38\n",
        "sample_content = df2['content'][sample_index]\n",
        "sample_title = df2['title'][sample_index]\n"
      ],
      "execution_count": 0,
      "outputs": []
    },
    {
      "cell_type": "code",
      "metadata": {
        "id": "9hNZ6SbSpCwf",
        "colab_type": "code",
        "colab": {}
      },
      "source": [
        "def preprocessing(text):\n",
        "\n",
        "    # 개행문자 제거\n",
        "  text= str(text)\n",
        "  text = re.sub('\\\\\\\\n', ' ', text)\n",
        "    # 특수문자 제거\n",
        "    # 특수문자나 이모티콘 등은 때로는 의미를 갖기도 하지만 여기에서는 제거했습니다.\n",
        "  text = re.sub('[?.,;:|\\)*~`’!^\\-_+<>@\\#$%&-=#}※]', '', text)\n",
        "    # 한글, 영문, 숫자만 남기고 모두 제거하도록 합니다.\n",
        "    # text = re.sub('[^가-힣ㄱ-ㅎㅏ-ㅣa-zA-Z0-9]', ' ', text)\n",
        "    # 한글, 영문만 남기고 모두 제거하도록 합니다.\n",
        "  text = re.sub('[^가-힣ㄱ-ㅎㅏ-ㅣa-zA-Z]', ' ', text)\n",
        "  return text\n",
        "# 불용어 제거\n",
        "def remove_stopwords(text):\n",
        "    tokens = text.split(' ')\n",
        "    stops = ['수', '현', '있는', '있습니다', '그', '년도', '합니다', '하는', '및', '제', '할', '하고', '더', '대한', '한', '그리고', '월', '저는', '없는', '입니다', '등', '일', '많은', '이런', '것은', '왜','같은', '같습니다', '없습니다', '위해', '한다','이', '년', '것입니다', '또한', '현재', '것이', '우리', '모든', '않고', '것을', '위한', '생각합니다', '저희', '것', '너무', '때문에', '대해', '중', '또', '다시', '아니라', '후', '바랍니다', '있도록', '아닌', '지금', '통해', '이렇게']\n",
        "    meaningful_words = [w for w in tokens if not w in stops]\n",
        "    return ' '.join(meaningful_words)\n",
        "# 샘플데이터에 적용\n",
        "pre_sample_content = preprocessing(sample_content)\n",
        "pre_sample_content = remove_stopwords(pre_sample_content)"
      ],
      "execution_count": 0,
      "outputs": []
    },
    {
      "cell_type": "code",
      "metadata": {
        "id": "ZeGwCPZHpI_G",
        "colab_type": "code",
        "outputId": "338e6866-d18e-420a-9a98-0405a4cb67a6",
        "colab": {
          "base_uri": "https://localhost:8080/",
          "height": 92
        }
      },
      "source": [
        "%time presentences1 = df['content'].apply(preprocessing)\n",
        "%time sentences1 = presentences1.apply(remove_stopwords)"
      ],
      "execution_count": 0,
      "outputs": [
        {
          "output_type": "stream",
          "text": [
            "CPU times: user 347 ms, sys: 12.3 ms, total: 360 ms\n",
            "Wall time: 360 ms\n",
            "CPU times: user 721 ms, sys: 0 ns, total: 721 ms\n",
            "Wall time: 721 ms\n"
          ],
          "name": "stdout"
        }
      ]
    },
    {
      "cell_type": "code",
      "metadata": {
        "id": "5nhy14AgpZpT",
        "colab_type": "code",
        "outputId": "658717db-704d-4a33-b033-352f5f5169bf",
        "colab": {
          "base_uri": "https://localhost:8080/",
          "height": 92
        }
      },
      "source": [
        "%time presentences2 = df2['content'].apply(preprocessing)\n",
        "%time sentences2 = presentences2.apply(remove_stopwords)"
      ],
      "execution_count": 0,
      "outputs": [
        {
          "output_type": "stream",
          "text": [
            "CPU times: user 1.24 s, sys: 10.4 ms, total: 1.25 s\n",
            "Wall time: 1.25 s\n",
            "CPU times: user 2.66 s, sys: 5.37 ms, total: 2.67 s\n",
            "Wall time: 2.67 s\n"
          ],
          "name": "stdout"
        }
      ]
    },
    {
      "cell_type": "code",
      "metadata": {
        "id": "v6fwxBR4pcHN",
        "colab_type": "code",
        "outputId": "c749bc5c-26b2-4270-d723-4fa38e7519a4",
        "colab": {
          "base_uri": "https://localhost:8080/",
          "height": 36
        }
      },
      "source": [
        "from soynlp.tokenizer import RegexTokenizer\n",
        "\n",
        "tokenizer = RegexTokenizer()\n",
        "tokenizer"
      ],
      "execution_count": 0,
      "outputs": [
        {
          "output_type": "execute_result",
          "data": {
            "text/plain": [
              "<soynlp.tokenizer._tokenizer.RegexTokenizer at 0x7fc1206aea20>"
            ]
          },
          "metadata": {
            "tags": []
          },
          "execution_count": 16
        }
      ]
    },
    {
      "cell_type": "code",
      "metadata": {
        "id": "2nmhq0jrphKU",
        "colab_type": "code",
        "outputId": "426458b5-03f6-47e6-e4b4-037c9a02d4f5",
        "colab": {
          "base_uri": "https://localhost:8080/",
          "height": 36
        }
      },
      "source": [
        "# 전처리 이전의 샘플 텍스트로 토큰화\n",
        "tokened_title = tokenizer.tokenize(sample_title)\n",
        "tokened_title"
      ],
      "execution_count": 0,
      "outputs": [
        {
          "output_type": "execute_result",
          "data": {
            "text/plain": [
              "['대통령님', '!', '8.2', '부동산', '대책', '소급적용', '부당성에', '대해', '청원드립니다']"
            ]
          },
          "metadata": {
            "tags": []
          },
          "execution_count": 17
        }
      ]
    },
    {
      "cell_type": "code",
      "metadata": {
        "id": "xkMuV9CbpmT2",
        "colab_type": "code",
        "outputId": "583e3db6-4e1d-407c-8d79-18ebc86056ce",
        "colab": {
          "base_uri": "https://localhost:8080/",
          "height": 577
        }
      },
      "source": [
        "# 전처리 이후의 샘플 텍스트로 토큰화\n",
        "tokened_content = tokenizer.tokenize(sample_content)\n",
        "tokened_content[:30]"
      ],
      "execution_count": 0,
      "outputs": [
        {
          "output_type": "execute_result",
          "data": {
            "text/plain": [
              "['대통령님',\n",
              " '\\\\',\n",
              " 'n',\n",
              " '취임',\n",
              " '이후',\n",
              " '어려운',\n",
              " '상황',\n",
              " '속에서도',\n",
              " '원만한',\n",
              " '국정',\n",
              " '운영을',\n",
              " '해',\n",
              " '주신',\n",
              " '점',\n",
              " '국민의',\n",
              " '한',\n",
              " '사람으로써',\n",
              " '정말',\n",
              " '감사하다는',\n",
              " '말씀',\n",
              " '드립니다',\n",
              " '.\\\\',\n",
              " 'n',\n",
              " '오늘',\n",
              " '제가',\n",
              " '호소하고자',\n",
              " '하는',\n",
              " '내용은',\n",
              " '8.2',\n",
              " '부동산']"
            ]
          },
          "metadata": {
            "tags": []
          },
          "execution_count": 18
        }
      ]
    },
    {
      "cell_type": "code",
      "metadata": {
        "id": "e4yU6OPXprE4",
        "colab_type": "code",
        "outputId": "f554fb87-4343-408a-f0e5-89aca16e3d37",
        "colab": {
          "base_uri": "https://localhost:8080/",
          "height": 167
        }
      },
      "source": [
        "%time tokens1 = sentences1.apply(tokenizer.tokenize)\n",
        "tokens1[:5]"
      ],
      "execution_count": 0,
      "outputs": [
        {
          "output_type": "stream",
          "text": [
            "CPU times: user 4.8 s, sys: 110 ms, total: 4.91 s\n",
            "Wall time: 4.91 s\n"
          ],
          "name": "stdout"
        },
        {
          "output_type": "execute_result",
          "data": {
            "text/plain": [
              "0    [존경하옵는, 문재인대통령님께, 중국원양자원이라는, KOSPI, 상장사의, 소액, ...\n",
              "1    [대통령님, 안녕하세요, 임용을, 준비하고, 수험생입니다, 처음, 기간제, 정규직화...\n",
              "2    [대통령님, 안녕하세요, 임용을, 준비하고, 수험생입니다, 처음, 기간제, 정규직화...\n",
              "3    [안녕하십니까, 대통령님, 간단하게, 제소개, 부터, 하겠습니다, 치위생과, 학년,...\n",
              "4    [영전강의고용안정을, 원합니다, 년단위계약직으로, 임신, 출산육아, 매우, 곤란합니...\n",
              "Name: content, dtype: object"
            ]
          },
          "metadata": {
            "tags": []
          },
          "execution_count": 19
        }
      ]
    },
    {
      "cell_type": "code",
      "metadata": {
        "id": "_fLTLylXpxOa",
        "colab_type": "code",
        "outputId": "cd73f4d6-4271-4b41-da9f-07f7c8d5d2e2",
        "colab": {
          "base_uri": "https://localhost:8080/",
          "height": 167
        }
      },
      "source": [
        "%time tokens2 = sentences2.apply(tokenizer.tokenize)\n",
        "tokens2[:5]"
      ],
      "execution_count": 0,
      "outputs": [
        {
          "output_type": "stream",
          "text": [
            "CPU times: user 17.5 s, sys: 135 ms, total: 17.7 s\n",
            "Wall time: 17.7 s\n"
          ],
          "name": "stdout"
        },
        {
          "output_type": "execute_result",
          "data": {
            "text/plain": [
              "0    [존경하옵는, 문재인대통령님께, 중국원양자원이라는, KOSPI, 상장사의, 소액, ...\n",
              "1    [현황, 우리들, 아버지께서는, 여년전, 북의, 남침으로, 조국이, 위기에, 처했을...\n",
              "2    [국민의, 이상이, 황우석박사님을, 응원하고, 지지하고, 중앙일보, 여론조, 국민,...\n",
              "3    [지금부터, 년전, 전쟁때, 조국, 대한민국이, 위태로운, 시점에, 우리들, 아버님...\n",
              "4    [지금부터, 년전, 전쟁때, 조국, 대한민국이, 위태로운, 시점에, 우리들, 아버님...\n",
              "Name: content, dtype: object"
            ]
          },
          "metadata": {
            "tags": []
          },
          "execution_count": 20
        }
      ]
    },
    {
      "cell_type": "code",
      "metadata": {
        "id": "G6atACaPpzeY",
        "colab_type": "code",
        "colab": {}
      },
      "source": [
        "#doc2vec 시작\n",
        "from gensim.models.doc2vec import Doc2Vec, TaggedDocument"
      ],
      "execution_count": 0,
      "outputs": []
    },
    {
      "cell_type": "code",
      "metadata": {
        "id": "in6Yqr4uqJtu",
        "colab_type": "code",
        "outputId": "d8376433-e263-4e51-8a3c-a0f216d72ccd",
        "colab": {
          "base_uri": "https://localhost:8080/",
          "height": 241
        }
      },
      "source": [
        "df2['article_id']"
      ],
      "execution_count": 0,
      "outputs": [
        {
          "output_type": "execute_result",
          "data": {
            "text/plain": [
              "0            28\n",
              "1            34\n",
              "2            37\n",
              "3            40\n",
              "4            41\n",
              "          ...  \n",
              "18428    516826\n",
              "18429    516901\n",
              "18430    517037\n",
              "18431    517038\n",
              "18432    517095\n",
              "Name: article_id, Length: 18433, dtype: int64"
            ]
          },
          "metadata": {
            "tags": []
          },
          "execution_count": 22
        }
      ]
    },
    {
      "cell_type": "code",
      "metadata": {
        "id": "fakHik6JqM3s",
        "colab_type": "code",
        "outputId": "13faa15e-074d-4519-984c-817eefbf610e",
        "colab": {
          "base_uri": "https://localhost:8080/",
          "height": 75
        }
      },
      "source": [
        "documents = [TaggedDocument(doc, [df2['article_id'][i]]) for i, doc in enumerate(tokens2)]\n",
        "documents[0:2]"
      ],
      "execution_count": 0,
      "outputs": [
        {
          "output_type": "execute_result",
          "data": {
            "text/plain": [
              "[TaggedDocument(words=['존경하옵는', '문재인대통령님께', '중국원양자원이라는', 'KOSPI', '상장사의', '소액', '주주입니다', '중국원양자원이하', '중원은', '이번', '재회계감사에서', '의견거절이라는', '감사인', '판단이', '내려져', '꿈에도', '생각못한', '상장폐지를', '목전에', '두고', '상장폐지가되면', '국내에', '상장하여', '천문학적인', '금액을', '취득하여', '회사의', '규모를', '키우고', '개인자산을', '불린', '자신의', '지분도', '다', '팔아서', '이득을', '챙긴', '중국인', '장화리', '사장은', '정리매매때', '휴지조각의', '비용으로', '자신의', '지분을', '사들이고', '대주주로서의', '지위를', '획득하여', '온전히', '자신의', '기업으로', '만들수', '결국', '한국', '국민들의', '피땀어린', '투자금으로', '중국인', '사장의', '부를', '채워주지만', '이에', '한국의', '금융당국', '상장과', '운영의', '주체인', '거래소는', '누구도', '이에대한', '책임없이', '이를', '그냥', '덮어버리고만', '말것입니다', '이로인해', '약', '만', '천의', '국내소액주주는', '피눈물을', '흘리며', '고통속에', '살게', '될', '주식투자는', '개인의', '판단하에', '이루어지는', '것이나', '투자에', '개인의', '책임을', '묻기전에', '과정은', '규정과', '상식에', '맞게', '공정하고', '정의로워야', '이는', '존경하는', '문대통령님의', '말씀이라', '가슴깊이', '새기고', '있었으나', '우리나라의', '금융', '시스템', '특히', '거래소와', '회계감사는', '그렇지', '못한', '생각하게된', '이유는', '이번', '회계감사의', '주된', '의견거절의', '이유', '때문입니다', '이번', '신한회계법인의', '추측적이고', '터무니없는', '의견거절로', '전재산이', '한순간에', '물거품으로', '사라질', '위기에', '처한', '본인을', '비롯한', '사람들이', '죽음이라는', '극단적인', '선택앞에', '내몰려져', '억울함과', '원통함에', '피눈물을', '흘리고', '기업의', '사업성이나', '계속', '존속여부를', '점검하는', '감사자인', '회계법인은', '오직', '밝혀진', '사실과', '그에', '따른', '증거만을', '근거로', '공정하게', '기업의', '존속여부에', '의견을', '내야하고', '유추할', '경우에도', '당연히', '관련', '법이나', '판례에', '근거하여야', '그러나', '신한회계법인은', '법또는', '제도권으로', '확정되지', '않은', '추정사항을', '의견거절의결정적', '이유로', '명시하였는바', '이는', '감사자의', '의견거절에', '따른', '참혹한', '결과로', '볼때', '명의', '국민들과', '가족들은', '공정한', '감사결과라', '절대로', '인정할수', '고통의', '원인은', '법', '제도나', '규정에', '근거를', '두지', '자의적인', '추측에', '따라', '작성', '발표한', '감사인의', '감사보고서', '의견', '거절', '때문입니다', '한국', '증권거래소에', '상장된', '중국원양자원에', '투자한', '국민', '명과', '수많은', '가족들은', '부당한', '감사인의', '의견', '거절로', '절망에', '처하고', '삶의', '의욕과', '희망을', '모두', '잃어가고', '분명', '투자는', '개개인의', '책임입니다', '그런데', '최근', '언론을', '중대하게', '다루어졌듯이', '국민', '노후를', '책임지는', '국민연금', '역시', '증권', '시장의', '공정성과', '투명성에', '크게', '의존하고', '증권', '시장의', '공정성과', '투명성이', '확보되지', '않으면', '증권시장에', '의존하여', '국민의', '노후를', '책임지는', '국민연금', '역시', '국민의', '재산을', '지켜낼', '없고', '결국에는', '이리저리', '부당하게', '뜯겨나가서', '몇', '줌', '안', '되는', '푼돈만', '국민들에게', '남을', '마찬가지로', '은행', '증권', '보험사를', '어떤', '형태로든', '금융', '상품에', '가입되어', '수많은', '금융', '소비자', '역시', '불공정한', '금융', '질서의', '피해자가', '될', '수밖에', '심대한', '피해를', '입힐', '증권시장의', '부당함이', '금융시장에', '새로운', '전례로', '남게', '될', '일을', '앞두고', '번', '불공정성이', '뿌리내리면', '부당함은', '우리나라', '금융', '시장에서', '독버섯처럼', '세력을', '뻗어나갈', '국민', '만', '천', '명의', '재산이', '몰수되도록', '회계', '감사', '법인의', '부당한', '감사', '의견이', '개인', '투자자', '만', '천', '명들의', '피눈물로만', '끝나지', '않을', '이유가', '여기에', '기업', '회계', '기록의', '적정성이나', '회사의', '계속', '존속', '여부를', '점검하는', '회계', '감사', '법인은', '오직', '밝혀진', '사실과', '이를', '뒷받침하는', '증거를', '근거로', '회계', '장부가', '공정하게', '기록되었는지', '의견을', '표명해야', '추정이', '필요할', '경우에도', '회계', '기준에서', '규정하고', '방법을', '준수해야', '한다고', '명시되어', '왜냐하면', '회계', '감사', '의견', '자체가', '기업의', '사활을', '결정지을', '대출', '가능', '여부', '회사채', '발행', '가능', '여부', '증권', '시장에서', '상장', '유지와', '상장', '폐지에', '있어서', '결정적이기', '때문입니다', '그러나', '신한회계법인은', '어떤', '규정이나', '법에도', '근거를', '두지', '추측과', '예단을', '감사', '의견', '거절의', '결정적', '근거로', '명시하였는', '바', '이는', '감사인의', '의견거절로', '인해', '명의', '재산이', '부당한', '상장', '폐지로', '몰수되는', '참혹한', '결과에', '비추어', '볼', '때', '너무도', '무책임하며', '법적', '근거를', '갖추지', '못한', '심각하게', '불공정한', '처사로', '명의', '국민들과', '가족들은', '적법한', '감사', '결과로', '절대', '인정할', '감사인', '신한회계법인이', '감사', '의견을', '거절', '로', '표명한', '근거는', '가지입니다', '증권선물위원회의', '올', '해', '정례', '회의에서', '회사', '대표이사를', '검찰에', '고발하기로', '결의한', '우발부채와', '소송사건이', '재무제표에', '미칠', '영향에', '대하여', '충분한', '감사', '증거를', '회사에서', '제공하지', '않았다는', '유동부채가', '유동자산보다', 'HKD', '많고', '억', '원', '자본금이', 'HKD', '잠식', '억', '원되었다는', '사유의', '부당함을', '하나씩', '짚어보겠습니다', '의견', '거절', '사유', '은', '증권선물위원회', '회의에서', '중국원양자원', '대표이사', '고발을', '달', '전', '결의한', '감사', '의견', '거절의', '근거로', '내세웠습니다', '년부터', '매년', '차례씩', '회사', '내부', '서류를', '샅샅히', '들여다보며', '매', '반기와', '연말', '감사를', '직접', '수행하고', '총', '차례에', '걸쳐', '회계', '장부가', '적정하게', '작성되었다고', '적정', '의견을', '표명했던', '회계', '감사인이', '신한회계법인', '법원의', '유죄', '판결도', '아니고', '검찰의', '기소도', '검찰', '고발', '결의를', '달', '전에', '증권선물위원회가', '했던', '사유로', '작년', '말', '기준', '작성되었던', '회사의', '회계', '장부를', '믿지', '못하는', '이유라고', '내세웠습니다', '년부터', '매년', '차례씩', '회계', '장부와', '증빙', '서류를', '샅샅히', '확인하고', '조사', '검토한', '회계', '법인이', '손에', '넣고', '직접', '눈으로', '확인했던', '증빙', '서류들은', '놔둔', '채', '상급', '감독기관의', '회의에서', '대표이사', '검찰에', '고발', '결의', '사항을', '감사', '의견', '거절의', '근거로', '삼은', '지난', '동안', '차례의', '감사', '과정에', '입수했던', '회계', '서류로는', '감사', '의견', '거절', '을', '표명할', '없었지만', '상급', '감독기관에서', '대표이사', '검찰', '고발을', '결의한', '결정을', '사유로', '감사', '의견', '거절을', '낸', '것에', '주목해주시기', '더구나', '우리나라', '증권', '시장의', '전례를', '보았을', '때', '대표이사가', '검찰에', '고발되어', '실제로', '억', '원의', '벌금형을', '선고받은', '셀트리온의', '경우', '회사의', '감사', '의견에는', '전혀', '영향이', '없었던', '점에서', '감사인의', '의견', '거절', '사유', '은', '법이나', '규정에', '전혀', '근거를', '두지', '않은', '내용입니다', '의견', '거절', '사유', '역시', '회사', '법인에', '우발부채', '소송사건이', '회사의', '대표이사', '개인에', '우발부채와', '소송사건을', '문제', '삼은', '것으로', '회사', '측과', '감사인', '신한회계법인이', '각각', '회사가', '외국', '현지', '로펌을', '선임해', '의견서를', '제출받은', '결과', '회사', '측', '로펌에서', '문제가', '없다는', '의견을', '낸', '바', '의견', '거절', '사유', '은', '자본잠식', '자본잠식률', '회계', '감사', '의견', '표명과는', '무관함에도', '불구하고', '감사', '의견', '거절', '사유로', '내세웠습니다', '편', 'KRX', '한국거래소에서는', '자본잠식률', '이상', '연속', '유지될', '경우를', '상장', '폐지', '사유로', '규정하고', '감사', '의견', '거절', '사유로', '의', '자본잠식을', '내세우는', '어디에서도', '근거를', '찾을', '처사입니다', '지금도', '코스닥', '시장에는', '개사의', '부분', '자본', '잠식', '회사들이', '등록되어', '올', '해', '월에는', '유동부채의', '유동자산', '초과액이', '억', '원에서', '억', '원으로', '줄어드는', '후속', '사건이', '있었습니다', '그런데', '감사인은', '감사', '시점', '개월', '뒤인', '올', '월에', '생긴', '후속', '사건은', '감사', '의견', '거절', '사유로', '전면에', '내세우면서도', '그보다', '달', '앞서', '있었던', '후속', '사건은', '감사', '의견에', '전혀', '반영하지', '규정에', '맞지', '않는', '근거를', '내세우면서', '그마저도', '형평성을', '크게', '잃은', '부당한', '감사', '의견입니다', '국내', '주주', '명의', '재산', '합계', '천억', '원이', '하루', '아침에', '없어질', '상황에', '놓인', '중국원양자원의', '상장', '폐지', '여부는', '감사인의', '감사', '의견에', '의해', '결정됩니다', '감사인', '신한회계법인은', '년부터', '동안', '의심의', '눈초리로', '국내의', '통상적인', '회계', '감사보다', '훨씬', '엄격하게', '감사를', '수행해왔고', '엄격한', '잣대에도', '회사의', '회계', '장부에서는', '오점이', '발견되지', '않았습니다', '그런데', '지난', '동안의', '감사에서', '수집했던', '증거로는', '감사', '의견', '거절', '표명을', '하지', '못했던', '감사인이', '법이나', '제도에', '근거하지', '않은', '부당한', '의견', '거절', '표명으로', '국내', '투자자', '명의', '생계를', '사지에', '몰아넣고', '회사는', '지난', '약', '년간', '선원의', '파업과', '어업조황의', '악화', '낮은', '어가로', '인해', '좋은', '실적을', '못내었고', '동시에', '이러한', '악조건속에서', '선단수를', '늘리는', '모험을', '감행해', '적자폭이', '늘어났습니다', '그러나', '어가가', '회복되고', '있고', '늘어난', '조업선단이', '자리잡아', '장화리사장은', '올', '하반기부터는', '억', '이상의', '순이익을', '자신하고', '그에따른', '순이익의', '배당을', '기대하고', '있었으며', '우리나라를', '포함', '전세계적으로', '원양어업의', '환경이', '좋아지고', '있으며', '원양업체들의', '매출및', '이익이', '전년대비', '향상되고', '와중에', '이러한', '부적절하고', '정당하지', '못하며', '형평에', '맞지않는', '재감사', '결과로', '인해', '상장주체인', '거래소에서', '대한민국에', '상장시킨', '중국원양자원', '이라는', '회사에', '원양어업의', '발전', '가능성을', '보고', '투자한', '수십년간', '성실히', '살면서', '아끼고', '아껴서', '모은', '소액주주들의', '소중한', '재산이', '한순간에', '휴지조각이', '될', '현실에', '처해', '너무나도', '가슴이', '아프며', '소액주주들의', '삶', '자체가', '존폐위기에', '놓여', '거래소의', '심리', '제도는', '날선', '칼날처럼', '예리해야', '하지만', '한편으로는', '투명성공정성과', '보편성정당성', '형평성을', '유지하여', '미래의', '성장성이', '인정되는', '기업이', '도태되거나', '어느한쪽이', '일방적으로', '억울하게', '피해을', '당하는', '일이', '없도록', '방패의', '역할도', '함께', '수행해야', '한다고', '생각', '중국원양자원', '에서', '과거에', '일어났던', '일련의', '사건에', '대해서만', '집중하고', '미래에', '그려나갈', '모습들에', '대해서는', '상대적으로', '등한시', '특히나', '투자자들의', '권익과', '입장에', '대해서는', '가장', '후순위로', '밀어놓고', '이에', '투자자들의', '의견이나', '읍소에선', '아랑곳하지', '않는다면', '대다수의', '국민들은', '누굴믿고', '투자를', '하겠습니까', '상장폐지제도에서', '투자자보호', '라고', '기치에', '맞게', '진정한', '투자자보호를', '위하여', '공정하고', '형평성있는', '심사가', '이루어질수', '간청', '드립니다', '무엇보다', '재감사결과에', '공정한', '정정을', '원하며', '만에하나', '이루어지지않는다면', '최소한', '대한민국', '국민인', '소액주주들의', '피해를', '최소화하기위해', '거래소', '당국자분들께서', '개선기간을', '년이상', '부여해주시는', '융통성을', '발휘해주시기를', '년이상의', '개선기간', '부여로', '인해', '국민의', '어떠한', '추가적인', '다른', '피해는', '없으면서', '회사가', '약속한', '이익의', '개선이', '이루어지기를', '바랄수', '있고', '최악의', '경우', '회사의', '실적이', '돌이킬수', '없게되더라도', '주총에서', '장화리', '사장의', '해임등', '안을', '모색해서', '국부의', '유출을', '막을', '있기', '때문입니다', '대한민국의', '투자자를', '거래소라면', '최소한의', '억울한', '투자자', '피해를', '막기위한', '이러한', '결정은', '당연히', '이뤄져야할', '것이라고', '믿습니다', '부디', '소시민의', '눈물어린', '목소리에', '귀기울여', '주시고', '대통령님이', '바라시는', '정의로운', '사회에', '맞는', '판단을', '해', '주실것을', '온', '마음을', '다해', '부탁드립니다', '긴글', '읽어주셔서', '감사합니다'], tags=[28]),\n",
              " TaggedDocument(words=['현황', '우리들', '아버지께서는', '여년전', '북의', '남침으로', '조국이', '위기에', '처했을', '때', '젊은', '목숨', '을', '바쳐', '대한민국을', '지켜내는데', '헌신했습니다', '우리들', '대부분의', '아버님들', '만위는', '전쟁', '지금껏', '유해도', '수습', '못했고', '도', '제대로', '알지', '못하지만', '오직', '국가유공자의', '자녀라는', '자긍심으로', '오랜', '기간을', '가난과', '멸시', '천대를', '이겨왔습니다', '전후', '원호제도는', '빈약하여', '전사자와', '가족에', '보상과', '연금', '등은', '빈약했고', '후도', '경제발전', '수준을', '따라가지도', '못하였는데', '년대', '말은', '전쟁유자녀가', '성년이', '되었다는', '이유로', '보훈', '보상혜택에서', '제외시켰다가', '김대중정부', '시절', '년월부터', '보훈제도가', '확대되어', '전후의', '미흡했던', '보훈혜택을', '보전해주기', '월일을', '기준으로', '아래의', '제적유자녀', '와', '승계유자녀', '에게는', '자녀', '에', '대하여만', '전몰', '군경자녀수당', '을', '지급하게', '되었으나', '단서조항으로', '년월일', '이후', '어머니', '사망으로', '연금수급권이', '소멸되기', '시작한', '유자녀들에', '대하여는', '동법', '적용을', '배제하여', '어머니', '돌아가신', '날', '하루', '차이로', '미수당유자녀', '아래표', '라는', '보훈정책의', '사각지대가', '생겨났던', '신설된', '수당과', '유족연금이', '노무현', '정부이래', '점차', '현실화', '인상', '조정되고', '문제가', '장기간', '누증되다보니', '전쟁에서', '똑', '같이', '아버지가', '전사한', '군', '경유자녀들인데', '누구는', '국가의', '지원을', '받고', '누구는', '국가의', '지원을', '받지', '못하는', '형평성에', '문제가', '국가유공자', '예우', '지원에', '관한', '법률', '제조자녀수당의단서조항', '일을', '삭제하는', '법안을', '대', '국회에서', '더민주당', '민홍철', '의원님경남', '김해이', '대표발의', '하시어', '당시', '여당의원', '일부', '반대의', '우여곡절', '끝에', '전해철', '법사위', '소위원장님', '등의', '주도적', '노력으로', '월일', '제회', '정기회에서', '재석', '의원', '만장일치로', '법이', '통과되어', '월일', '법률', '제호로', '공포된바', '있었습니다', '그럼에도', '박근혜', '정부는', '동법', '개정이유와', '주요내용에서', '입법부가', '제안한대로', '특정일', '기준', '없이', '전몰군경유자녀에게', '자녀수당을', '지급하도록', '하여', '자녀간', '형평성을', '도모함과', '이들에', '생활안정과', '복지향상을', '재고하려', '고', '밝히면서도', '입법부의', '개정', '법률에', '정면', '위배되는', '시행령제호으로', '천원', '천원', '천원이라는', '불평등으로', '호국영령의', '명예와', '최장', '여년을', '기다려온', '당사자들을', '우롱하였던', '결과', '현재까지', '수당현황을', '살펴보면', '전몰군경', '유자녀수당', '현황', '구', '분', '인', '원', '최초', '시행일', '최초', '월수령액', '수령액', '월수령액', '제적', '유자녀', '여명', '원', '원', '원', '승계', '유자녀', '여명', '원', '원', '원', '수당', '유자녀신규', '여명', '원', '원', '원', '참고', '유족', '연금', '여명', '원', '원', 'a', '전년과', '동일', '제적유자녀', '전사자의', '미성년자녀로서', '보상금을', '받다가', '성년이', '되어', '보상금을', '받을', '유족이', '없어', '지급대상에서', '제적된', '경우', '승계유자녀', '전사자의', '배우자', '또는', '부모가', '보상금을', '받다가', '이전에', '사망하여', '수급권이', '소멸한', '경우', '수당유자녀', '월일', '이후에', '전사자의', '배우자', '또는', '부모가', '보상금을', '받다가', '사망으로', '수급권이', '소멸한', '경우', '이상', '구분과', '호칭은', '국가보훈처가', '정한', '것이며', '유족연금', '수령자의', '자녀는', '향후', '유자녀수당', '대상이', '됩니다', '국가보훈처가', '내세우는', '보상금수당을', '받고', '덜', '받는', '형평성은', '결국', '조부모', '또는', '모친의', '수명과', '연관된', '문제가', '되어', '유족당', '총수령액의', '형평성은', '위표', '유자녀가', '월부터', '수당을', '받기', '시작한', '수당', '수령', '총액과', '말까지', '보상금연금을', '받은', '위표', '의', '조부모', '또는', '모친의', '보상금', '수령', '총액은', '이전에', '이미', '역차별까지', '발생하였는데도', '보수정권하의', '보훈처는', '확대시행', '자체를', '반대만', '했습니다', '더욱이', '위표의', '미수당유자녀유족의', '보훈급여금', '수령총액', '평균이', '원에', '불과하고', '전몰군경유족에', '국가보상은', '년까지', '수령총액이', '원', '년까지', '부친', '전사이후', '약', '년간의', '보상금', '수령총액이', '억여원기본급', '기준에', '불과한데', '각종', '사고', '보상금', '지급사례와', '비교보훈안보연구원', '박혜란유영옥', '논문하면', '정전협정중인', '나라가', '전사자와', '가족을', '홀대하고', '나라를', '희생한', '국가유공자와', '유족은', '국가가', '끝까지', '책임진다', '고', '떠들어온', '보수정권의', '허무맹랑한', '호국보훈정책이었습니다', '국가유공자예우법', '상', '보상과', '보훈은', '국가유공자의', '국가에', '희생에', '보답에', '있으므로', '국가유공자의', '배우자', '자녀', '부모의', '위치에', '따라', '예우정도를', '달리하는', '원칙에', '어긋나며', '제차', '선순위자로', '유족이', '된', '자는', '누구든', '동일한', '권리를', '소유하고', '행사할', '국가가', '보살펴', '주어야', '한다고', '생각됨에도', '국가보훈처는', '과거', '자녀는', '미성년자녀에', '고', '규정하고', '성년이', '되었다는', '이유로', '연금지급대상에서', '제외시켰던', '보훈정책의', '근시안적', '잘못이며', '세계적으로', '성년자녀에게는', '보상을', '해주지', '않는다는', '주무부처의', '논리와', '예산당국의', '횡포는', '동족간', '전쟁의', '아픔과', '상처를', '겪어보지', '못한', '국가정체성도', '공직자의', '무지로', '전사자와', '생존자간의', '예우', '나아가', '전사간의', '예우에', '불균형을', '초래한', '보훈정책의', '과오였으며', '독립운동유족의', '대까지', '보살핌이나', '국가보상법', '시행령', '광주민주화운동보상법', '등에서와', '같이', '별도의', '차별', '규정을', '두지', '않았다면', '발생하지도', '않았을', '모순이라고', '저희들은', '지금까지', '정부를', '원망해왔습니다', '전사자', '유족이', '받은', '연금보상금', '총액과', '아래표를', '보시면', '허탈한', '심경을', '이해하실', '각', '사망사고', '보상금', '비교', '광주민주화운동억만원', '국고보상법억만원', 'C', '랜드화재억만원', '삼풍사고', '성수대교', '억만원', '대구철도억', '세월호', '참사억억', '천안함', '희생용사억억', '경주마우나리조트억', '아시아나', '착륙사고억', 'a', '서해훼리호억', '등등', '대통령님께서', '취임하신', '광화문번가', '인수위원회', '비서실에도', '편지와', '메일로', '제안', '호소를', '드렸지만', '바로', '국가보훈처로', '이첩되고', '국가보훈처는', '과거', '보수정권하와', '똑같이', '앵무새와', '답변만', '반복하고', '있으며답변', '내용중', '일부를', '인용하면', '이후에도', '보상금을', '수령한', '유족이', '유자녀가', '동일한', '수혜를', '받았다고', '보기는', '어렵다는', '정책적', '판단', '하에', '향후', '국가재정', '여건', '등을', '감안하여', '관계부처와의', '협의를', '거쳐', '점차', '개선운운', '저희들', '대표와의', '면담', '신청마져', '업무수행과', '대외행사', '참여로', '바쁘다', '는', '회신으로', '경청도', '소통도', '거부하고', '국가보훈처의', '업무태도와', '의사소통은', '대통령님이', '바라시는', '국정', '운영', '철학과는', '너무나', '다르다고', '생각됩니다', '청원의', '해결', '방안', '국가유공자', '예우', '지원에', '관한', '법률', '시행령', '제호', '별표를', '개정하되', 'A', '승계유자녀', '에', '신규', '유자녀', '속칭', '수당유자녀를', '포함하여', '차등', '없이', '일률', '지급하시거나', 'B', '예산사정이', '어렵다면', '부터', '까지', '연금', '수급권이', '정지되었던', '기간을', '개별적으로', '감안하시어', '역순으로', '약간의', '인정할', '차등을', '두는', '방안은', '당사자들도', '납득할', '있지', '않을까', '개인적으로는', '생각하나', '근원적', '해결책은', '아니라고', '대', '국회에', '호', '국가유공자', '예우', '지원에', '관한', '법률', '일부', '개정법률안', '더불어민주당', '민홍철의원', '분이', '발의', '동법의', '제정목적과', '이념을', '바로잡고', '전사자와', '유족의', '명예회복과', '전몰군경유자녀유족간', '갈등과', '불평등을', '해소할', '개정안이', '정무위원회에', '계류중에', '있으므로', '의원입법으로', '통과되도록', '대통령님의', '정책', '배려', '여당의', '주도적', '지원이', '가능하리라', '사료됩니다', '위', '안의', '아쉬움은', '국가를', '희생된', '유자녀들', '아버지', '죽음에', '대가가', '사회보장적', '생활', '보호적', '차원에서', '보상을', '한다는', '이미', '평균나이', '세이상인', '당사자들에게는', '국민기초생활', '보장', '또는', '노약자복지', '차원과', '중복되는', '허탈감은', '있으나', '국민기초생활보장법상의', '생계급여가', '기준중위소득의', '년까지', '인', '점을', '감안하여', '이상', '수준에서', '합리적으로', '결정하도록', '최소기준을', '정하고', '있으므로', '시행령으로', '상위법을', '무력화', '시키는', '행정권', '남용과', '원칙없는', '불평등', '해결의', '차선책은', '될', '있다고', '생각됩니다', '천원이', '기준', '약', '천원으로', '조정되는', '안', '호소', '존경하는', '문재인', '대통령님', '대통령님께서는', '지난', '현충일', '추념사에서', '국가유공자와', '보훈대상자', '가족이', '자존감을', '지키며', '살아가실', '하겠으며', '국가를', '헌신하면', '보상받고', '반역자는', '심판받는다는', '흔들리지', '않는', '믿음이', '있어야', '한다고', '말씀하시며', '그것이', '국민이', '애국심을', '바칠', '나라다운', '나라로', '애국이', '보상받고', '정의가', '보상받고', '원칙이', '보상받고', '정직이', '보상받는', '나라를', '다함께', '만들어', '나가자고', '말씀하셨습니다', '아울러', '독립유공자와', '가족', '행사', '광복절', '기념사에서', '새', '정부가', '가장', '중요하게', '생각하는', '하나가', '보훈정책을', '제대로', '이라며', '보훈처와', '관련', '정부', '부처가', '함께', '보훈', '보상체계', '개선방안을', '준비하고', '있으며', '이번', '기회에', '정부는', '대한민국', '보훈의', '기틀을', '완전히', '새롭게', '세우고자', '한다고', '하시어', '저희들은', '마음', '든든하였으나', '한가지', '아쉬운', '점은', '독립운동', '유족은', '대까지인이', '전체로', '확대', '참전용사와', '무공영예수당의', '대폭', '인상', '순직', '군인과', '경찰', '소방공무원', '유족까지', '처우', '확대', '의료', '확대', '등을', '언급하시면서', '전쟁에서', '아버지를', '잃고', '유해마저', '인수받지', '못하고', '불평등한', '처우를', '받고', '유자녀들만', '외면하시는', '아닌지', '너무나', '안타깝습니다', '사랑하는', '부모형제와', '젊은', '부인', '핏덩이', '자식을', '남기고', '전사하신', '가장의', '심정으로', '보훈의', '기틀을', '세우시면서', '어머니', '앞으로', '국가에서', '나온', '연금만으로는', '생활할', '수도', '없어', '소년가장이', '되어', '가난하지만', '자식의', '효심으로', '어머니를', '조금', '모시다가', '가시게', '미수당', 'or', '신규유자녀들', '위표', '문제도', '바로', '잡아주시어', '평균', '세', '이상인', '저희들이', '아버지가', '목숨바쳐', '지킨', '나라에서', '남은', '생을', '자랑스럽게', '살고', '갈', '청원드리오니', '살펴주시기'], tags=[34])]"
            ]
          },
          "metadata": {
            "tags": []
          },
          "execution_count": 23
        }
      ]
    },
    {
      "cell_type": "code",
      "metadata": {
        "id": "VssTKAjCDcMz",
        "colab_type": "code",
        "colab": {}
      },
      "source": [
        "import logging\n",
        "logging.basicConfig(\n",
        "    format='%(asctime)s : %(levelname)s : %(message)s', \n",
        "    level = logging.INFO)"
      ],
      "execution_count": 0,
      "outputs": []
    },
    {
      "cell_type": "code",
      "metadata": {
        "id": "JPo3BIPiqSjJ",
        "colab_type": "code",
        "outputId": "ab204434-bddc-4947-a559-e8120a260bb5",
        "colab": {
          "base_uri": "https://localhost:8080/",
          "height": 1000
        }
      },
      "source": [
        "docmodel = Doc2Vec(documents, size = 100, min_count=5, window=10, iter = 50)"
      ],
      "execution_count": 0,
      "outputs": [
        {
          "output_type": "stream",
          "text": [
            "2020-06-10 11:53:18,051 : INFO : collecting all words and their counts\n",
            "2020-06-10 11:53:18,052 : INFO : PROGRESS: at example #0, processed 0 words (0/s), 0 word types, 0 tags\n",
            "2020-06-10 11:53:18,541 : INFO : PROGRESS: at example #10000, processed 1603494 words (3293175/s), 349071 word types, 286928 tags\n",
            "2020-06-10 11:53:19,054 : INFO : collected 582568 word types and 517096 unique tags from a corpus of 18433 examples and 3253831 words\n",
            "2020-06-10 11:53:19,055 : INFO : Loading a fresh vocabulary\n",
            "2020-06-10 11:53:19,389 : INFO : effective_min_count=5 retains 74939 unique words (12% of original 582568, drops 507629)\n",
            "2020-06-10 11:53:19,390 : INFO : effective_min_count=5 leaves 2552594 word corpus (78% of original 3253831, drops 701237)\n",
            "2020-06-10 11:53:19,633 : INFO : deleting the raw counts dictionary of 582568 items\n",
            "2020-06-10 11:53:19,645 : INFO : sample=0.001 downsamples 0 most-common words\n",
            "2020-06-10 11:53:19,646 : INFO : downsampling leaves estimated 2552594 word corpus (100.0% of prior 2552594)\n",
            "2020-06-10 11:53:19,839 : INFO : estimated required memory for 74939 words and 100 dimensions: 304259100 bytes\n",
            "2020-06-10 11:53:19,840 : INFO : resetting layer weights\n",
            "2020-06-10 11:55:34,068 : INFO : training model with 3 workers on 74939 vocabulary and 100 features, using sg=0 hs=0 sample=0.001 negative=5 window=10\n",
            "2020-06-10 11:55:35,084 : INFO : EPOCH 1 - PROGRESS: at 11.38% examples, 337996 words/s, in_qsize 5, out_qsize 0\n",
            "2020-06-10 11:55:36,104 : INFO : EPOCH 1 - PROGRESS: at 25.85% examples, 323406 words/s, in_qsize 5, out_qsize 0\n",
            "2020-06-10 11:55:37,109 : INFO : EPOCH 1 - PROGRESS: at 42.38% examples, 313997 words/s, in_qsize 5, out_qsize 0\n",
            "2020-06-10 11:55:38,139 : INFO : EPOCH 1 - PROGRESS: at 54.98% examples, 317695 words/s, in_qsize 6, out_qsize 0\n",
            "2020-06-10 11:55:39,149 : INFO : EPOCH 1 - PROGRESS: at 67.36% examples, 320771 words/s, in_qsize 5, out_qsize 0\n",
            "2020-06-10 11:55:40,152 : INFO : EPOCH 1 - PROGRESS: at 78.52% examples, 324004 words/s, in_qsize 5, out_qsize 0\n",
            "2020-06-10 11:55:41,165 : INFO : EPOCH 1 - PROGRESS: at 89.93% examples, 323017 words/s, in_qsize 5, out_qsize 0\n",
            "2020-06-10 11:55:41,962 : INFO : worker thread finished; awaiting finish of 2 more threads\n",
            "2020-06-10 11:55:41,992 : INFO : worker thread finished; awaiting finish of 1 more threads\n",
            "2020-06-10 11:55:42,005 : INFO : worker thread finished; awaiting finish of 0 more threads\n",
            "2020-06-10 11:55:42,006 : INFO : EPOCH - 1 : training on 3253831 raw words (2571027 effective words) took 7.9s, 324127 effective words/s\n",
            "2020-06-10 11:55:43,040 : INFO : EPOCH 2 - PROGRESS: at 11.60% examples, 339819 words/s, in_qsize 5, out_qsize 0\n",
            "2020-06-10 11:55:44,059 : INFO : EPOCH 2 - PROGRESS: at 25.76% examples, 320943 words/s, in_qsize 5, out_qsize 0\n",
            "2020-06-10 11:55:45,062 : INFO : EPOCH 2 - PROGRESS: at 42.07% examples, 309850 words/s, in_qsize 5, out_qsize 0\n",
            "2020-06-10 11:55:46,069 : INFO : EPOCH 2 - PROGRESS: at 54.49% examples, 314478 words/s, in_qsize 5, out_qsize 0\n",
            "2020-06-10 11:55:47,096 : INFO : EPOCH 2 - PROGRESS: at 66.94% examples, 317382 words/s, in_qsize 5, out_qsize 0\n",
            "2020-06-10 11:55:48,101 : INFO : EPOCH 2 - PROGRESS: at 77.91% examples, 320890 words/s, in_qsize 5, out_qsize 0\n",
            "2020-06-10 11:55:49,121 : INFO : EPOCH 2 - PROGRESS: at 89.93% examples, 322194 words/s, in_qsize 5, out_qsize 0\n",
            "2020-06-10 11:55:49,930 : INFO : worker thread finished; awaiting finish of 2 more threads\n",
            "2020-06-10 11:55:49,940 : INFO : worker thread finished; awaiting finish of 1 more threads\n",
            "2020-06-10 11:55:49,953 : INFO : worker thread finished; awaiting finish of 0 more threads\n",
            "2020-06-10 11:55:49,954 : INFO : EPOCH - 2 : training on 3253831 raw words (2571027 effective words) took 7.9s, 323738 effective words/s\n",
            "2020-06-10 11:55:50,975 : INFO : EPOCH 3 - PROGRESS: at 11.21% examples, 330991 words/s, in_qsize 6, out_qsize 0\n",
            "2020-06-10 11:55:51,981 : INFO : EPOCH 3 - PROGRESS: at 25.32% examples, 318457 words/s, in_qsize 5, out_qsize 0\n",
            "2020-06-10 11:55:52,984 : INFO : EPOCH 3 - PROGRESS: at 40.88% examples, 304662 words/s, in_qsize 5, out_qsize 0\n",
            "2020-06-10 11:55:54,007 : INFO : EPOCH 3 - PROGRESS: at 54.05% examples, 311348 words/s, in_qsize 5, out_qsize 0\n",
            "2020-06-10 11:55:55,023 : INFO : EPOCH 3 - PROGRESS: at 66.14% examples, 314205 words/s, in_qsize 5, out_qsize 0\n",
            "2020-06-10 11:55:56,024 : INFO : EPOCH 3 - PROGRESS: at 76.70% examples, 317058 words/s, in_qsize 5, out_qsize 0\n",
            "2020-06-10 11:55:57,042 : INFO : EPOCH 3 - PROGRESS: at 88.96% examples, 319098 words/s, in_qsize 5, out_qsize 0\n",
            "2020-06-10 11:55:57,935 : INFO : worker thread finished; awaiting finish of 2 more threads\n",
            "2020-06-10 11:55:57,956 : INFO : worker thread finished; awaiting finish of 1 more threads\n",
            "2020-06-10 11:55:57,963 : INFO : worker thread finished; awaiting finish of 0 more threads\n",
            "2020-06-10 11:55:57,964 : INFO : EPOCH - 3 : training on 3253831 raw words (2571027 effective words) took 8.0s, 321244 effective words/s\n",
            "2020-06-10 11:55:58,988 : INFO : EPOCH 4 - PROGRESS: at 11.21% examples, 330038 words/s, in_qsize 5, out_qsize 0\n",
            "2020-06-10 11:55:59,991 : INFO : EPOCH 4 - PROGRESS: at 24.98% examples, 314629 words/s, in_qsize 6, out_qsize 0\n",
            "2020-06-10 11:56:00,992 : INFO : EPOCH 4 - PROGRESS: at 41.69% examples, 310211 words/s, in_qsize 5, out_qsize 0\n",
            "2020-06-10 11:56:02,015 : INFO : EPOCH 4 - PROGRESS: at 54.05% examples, 311606 words/s, in_qsize 5, out_qsize 0\n",
            "2020-06-10 11:56:03,055 : INFO : EPOCH 4 - PROGRESS: at 65.82% examples, 311327 words/s, in_qsize 5, out_qsize 0\n",
            "2020-06-10 11:56:04,058 : INFO : EPOCH 4 - PROGRESS: at 76.85% examples, 315945 words/s, in_qsize 5, out_qsize 0\n",
            "2020-06-10 11:56:05,077 : INFO : EPOCH 4 - PROGRESS: at 89.26% examples, 319109 words/s, in_qsize 5, out_qsize 0\n",
            "2020-06-10 11:56:05,933 : INFO : worker thread finished; awaiting finish of 2 more threads\n",
            "2020-06-10 11:56:05,946 : INFO : worker thread finished; awaiting finish of 1 more threads\n",
            "2020-06-10 11:56:05,964 : INFO : worker thread finished; awaiting finish of 0 more threads\n",
            "2020-06-10 11:56:05,965 : INFO : EPOCH - 4 : training on 3253831 raw words (2571027 effective words) took 8.0s, 321620 effective words/s\n",
            "2020-06-10 11:56:06,983 : INFO : EPOCH 5 - PROGRESS: at 11.21% examples, 331985 words/s, in_qsize 5, out_qsize 0\n",
            "2020-06-10 11:56:07,994 : INFO : EPOCH 5 - PROGRESS: at 25.76% examples, 324778 words/s, in_qsize 5, out_qsize 0\n",
            "2020-06-10 11:56:09,011 : INFO : EPOCH 5 - PROGRESS: at 41.69% examples, 308334 words/s, in_qsize 5, out_qsize 0\n",
            "2020-06-10 11:56:10,011 : INFO : EPOCH 5 - PROGRESS: at 53.58% examples, 310104 words/s, in_qsize 5, out_qsize 0\n",
            "2020-06-10 11:56:11,023 : INFO : EPOCH 5 - PROGRESS: at 65.82% examples, 313344 words/s, in_qsize 5, out_qsize 0\n",
            "2020-06-10 11:56:12,040 : INFO : EPOCH 5 - PROGRESS: at 76.85% examples, 316886 words/s, in_qsize 5, out_qsize 0\n",
            "2020-06-10 11:56:13,054 : INFO : EPOCH 5 - PROGRESS: at 88.71% examples, 317945 words/s, in_qsize 6, out_qsize 0\n",
            "2020-06-10 11:56:13,972 : INFO : worker thread finished; awaiting finish of 2 more threads\n",
            "2020-06-10 11:56:13,999 : INFO : worker thread finished; awaiting finish of 1 more threads\n",
            "2020-06-10 11:56:14,004 : INFO : worker thread finished; awaiting finish of 0 more threads\n",
            "2020-06-10 11:56:14,005 : INFO : EPOCH - 5 : training on 3253831 raw words (2571027 effective words) took 8.0s, 320029 effective words/s\n",
            "2020-06-10 11:56:15,019 : INFO : EPOCH 6 - PROGRESS: at 11.11% examples, 331243 words/s, in_qsize 5, out_qsize 0\n",
            "2020-06-10 11:56:16,026 : INFO : EPOCH 6 - PROGRESS: at 25.55% examples, 322143 words/s, in_qsize 5, out_qsize 0\n",
            "2020-06-10 11:56:17,036 : INFO : EPOCH 6 - PROGRESS: at 41.69% examples, 309824 words/s, in_qsize 5, out_qsize 0\n",
            "2020-06-10 11:56:18,050 : INFO : EPOCH 6 - PROGRESS: at 54.02% examples, 311954 words/s, in_qsize 5, out_qsize 0\n",
            "2020-06-10 11:56:19,066 : INFO : EPOCH 6 - PROGRESS: at 66.99% examples, 318867 words/s, in_qsize 5, out_qsize 0\n",
            "2020-06-10 11:56:20,102 : INFO : EPOCH 6 - PROGRESS: at 78.14% examples, 322058 words/s, in_qsize 6, out_qsize 0\n",
            "2020-06-10 11:56:21,145 : INFO : EPOCH 6 - PROGRESS: at 90.46% examples, 323004 words/s, in_qsize 5, out_qsize 0\n",
            "2020-06-10 11:56:21,900 : INFO : worker thread finished; awaiting finish of 2 more threads\n",
            "2020-06-10 11:56:21,907 : INFO : worker thread finished; awaiting finish of 1 more threads\n",
            "2020-06-10 11:56:21,926 : INFO : worker thread finished; awaiting finish of 0 more threads\n",
            "2020-06-10 11:56:21,927 : INFO : EPOCH - 6 : training on 3253831 raw words (2571027 effective words) took 7.9s, 324782 effective words/s\n",
            "2020-06-10 11:56:22,953 : INFO : EPOCH 7 - PROGRESS: at 11.60% examples, 343144 words/s, in_qsize 5, out_qsize 0\n",
            "2020-06-10 11:56:23,966 : INFO : EPOCH 7 - PROGRESS: at 26.06% examples, 327225 words/s, in_qsize 5, out_qsize 0\n",
            "2020-06-10 11:56:24,980 : INFO : EPOCH 7 - PROGRESS: at 43.15% examples, 319530 words/s, in_qsize 6, out_qsize 0\n",
            "2020-06-10 11:56:25,985 : INFO : EPOCH 7 - PROGRESS: at 55.44% examples, 322684 words/s, in_qsize 5, out_qsize 0\n",
            "2020-06-10 11:56:26,988 : INFO : EPOCH 7 - PROGRESS: at 67.60% examples, 323744 words/s, in_qsize 5, out_qsize 0\n",
            "2020-06-10 11:56:28,007 : INFO : EPOCH 7 - PROGRESS: at 78.97% examples, 326847 words/s, in_qsize 5, out_qsize 0\n",
            "2020-06-10 11:56:29,016 : INFO : EPOCH 7 - PROGRESS: at 91.04% examples, 326530 words/s, in_qsize 6, out_qsize 0\n",
            "2020-06-10 11:56:29,728 : INFO : worker thread finished; awaiting finish of 2 more threads\n",
            "2020-06-10 11:56:29,730 : INFO : worker thread finished; awaiting finish of 1 more threads\n",
            "2020-06-10 11:56:29,743 : INFO : worker thread finished; awaiting finish of 0 more threads\n",
            "2020-06-10 11:56:29,744 : INFO : EPOCH - 7 : training on 3253831 raw words (2571027 effective words) took 7.8s, 329206 effective words/s\n",
            "2020-06-10 11:56:30,755 : INFO : EPOCH 8 - PROGRESS: at 11.44% examples, 341873 words/s, in_qsize 5, out_qsize 0\n",
            "2020-06-10 11:56:31,778 : INFO : EPOCH 8 - PROGRESS: at 26.06% examples, 327745 words/s, in_qsize 5, out_qsize 0\n",
            "2020-06-10 11:56:32,790 : INFO : EPOCH 8 - PROGRESS: at 42.55% examples, 315030 words/s, in_qsize 5, out_qsize 0\n",
            "2020-06-10 11:56:33,791 : INFO : EPOCH 8 - PROGRESS: at 54.26% examples, 313762 words/s, in_qsize 5, out_qsize 0\n",
            "2020-06-10 11:56:34,793 : INFO : EPOCH 8 - PROGRESS: at 66.14% examples, 315472 words/s, in_qsize 5, out_qsize 0\n",
            "2020-06-10 11:56:35,815 : INFO : EPOCH 8 - PROGRESS: at 77.56% examples, 321007 words/s, in_qsize 5, out_qsize 0\n",
            "2020-06-10 11:56:36,841 : INFO : EPOCH 8 - PROGRESS: at 90.19% examples, 324102 words/s, in_qsize 6, out_qsize 0\n",
            "2020-06-10 11:56:37,592 : INFO : worker thread finished; awaiting finish of 2 more threads\n",
            "2020-06-10 11:56:37,603 : INFO : worker thread finished; awaiting finish of 1 more threads\n",
            "2020-06-10 11:56:37,619 : INFO : worker thread finished; awaiting finish of 0 more threads\n",
            "2020-06-10 11:56:37,620 : INFO : EPOCH - 8 : training on 3253831 raw words (2571027 effective words) took 7.9s, 326692 effective words/s\n",
            "2020-06-10 11:56:38,644 : INFO : EPOCH 9 - PROGRESS: at 11.11% examples, 328237 words/s, in_qsize 5, out_qsize 0\n",
            "2020-06-10 11:56:39,669 : INFO : EPOCH 9 - PROGRESS: at 25.32% examples, 315006 words/s, in_qsize 5, out_qsize 0\n",
            "2020-06-10 11:56:40,690 : INFO : EPOCH 9 - PROGRESS: at 42.07% examples, 308521 words/s, in_qsize 5, out_qsize 0\n",
            "2020-06-10 11:56:41,699 : INFO : EPOCH 9 - PROGRESS: at 54.45% examples, 313300 words/s, in_qsize 5, out_qsize 0\n",
            "2020-06-10 11:56:42,727 : INFO : EPOCH 9 - PROGRESS: at 67.05% examples, 316081 words/s, in_qsize 5, out_qsize 0\n",
            "2020-06-10 11:56:43,749 : INFO : EPOCH 9 - PROGRESS: at 78.29% examples, 320391 words/s, in_qsize 5, out_qsize 0\n",
            "2020-06-10 11:56:44,764 : INFO : EPOCH 9 - PROGRESS: at 90.19% examples, 321991 words/s, in_qsize 6, out_qsize 0\n",
            "2020-06-10 11:56:45,597 : INFO : worker thread finished; awaiting finish of 2 more threads\n",
            "2020-06-10 11:56:45,615 : INFO : worker thread finished; awaiting finish of 1 more threads\n",
            "2020-06-10 11:56:45,622 : INFO : worker thread finished; awaiting finish of 0 more threads\n",
            "2020-06-10 11:56:45,623 : INFO : EPOCH - 9 : training on 3253831 raw words (2571027 effective words) took 8.0s, 321504 effective words/s\n",
            "2020-06-10 11:56:46,632 : INFO : EPOCH 10 - PROGRESS: at 11.11% examples, 333649 words/s, in_qsize 5, out_qsize 0\n",
            "2020-06-10 11:56:47,639 : INFO : EPOCH 10 - PROGRESS: at 25.54% examples, 324426 words/s, in_qsize 5, out_qsize 0\n",
            "2020-06-10 11:56:48,657 : INFO : EPOCH 10 - PROGRESS: at 42.01% examples, 312199 words/s, in_qsize 5, out_qsize 0\n",
            "2020-06-10 11:56:49,660 : INFO : EPOCH 10 - PROGRESS: at 54.26% examples, 314679 words/s, in_qsize 5, out_qsize 0\n",
            "2020-06-10 11:56:50,664 : INFO : EPOCH 10 - PROGRESS: at 66.14% examples, 316011 words/s, in_qsize 5, out_qsize 0\n",
            "2020-06-10 11:56:51,667 : INFO : EPOCH 10 - PROGRESS: at 77.31% examples, 321212 words/s, in_qsize 6, out_qsize 0\n",
            "2020-06-10 11:56:52,693 : INFO : EPOCH 10 - PROGRESS: at 89.67% examples, 323235 words/s, in_qsize 5, out_qsize 0\n",
            "2020-06-10 11:56:53,502 : INFO : worker thread finished; awaiting finish of 2 more threads\n",
            "2020-06-10 11:56:53,509 : INFO : worker thread finished; awaiting finish of 1 more threads\n",
            "2020-06-10 11:56:53,519 : INFO : worker thread finished; awaiting finish of 0 more threads\n",
            "2020-06-10 11:56:53,520 : INFO : EPOCH - 10 : training on 3253831 raw words (2571027 effective words) took 7.9s, 325886 effective words/s\n",
            "2020-06-10 11:56:54,541 : INFO : EPOCH 11 - PROGRESS: at 11.60% examples, 344094 words/s, in_qsize 5, out_qsize 0\n",
            "2020-06-10 11:56:55,562 : INFO : EPOCH 11 - PROGRESS: at 26.06% examples, 326437 words/s, in_qsize 6, out_qsize 0\n",
            "2020-06-10 11:56:56,573 : INFO : EPOCH 11 - PROGRESS: at 42.39% examples, 312686 words/s, in_qsize 5, out_qsize 0\n",
            "2020-06-10 11:56:57,586 : INFO : EPOCH 11 - PROGRESS: at 54.68% examples, 316175 words/s, in_qsize 5, out_qsize 0\n",
            "2020-06-10 11:56:58,619 : INFO : EPOCH 11 - PROGRESS: at 67.18% examples, 318285 words/s, in_qsize 5, out_qsize 0\n",
            "2020-06-10 11:56:59,630 : INFO : EPOCH 11 - PROGRESS: at 78.52% examples, 322619 words/s, in_qsize 5, out_qsize 0\n",
            "2020-06-10 11:57:00,656 : INFO : EPOCH 11 - PROGRESS: at 90.77% examples, 323414 words/s, in_qsize 5, out_qsize 0\n",
            "2020-06-10 11:57:01,375 : INFO : worker thread finished; awaiting finish of 2 more threads\n",
            "2020-06-10 11:57:01,405 : INFO : worker thread finished; awaiting finish of 1 more threads\n",
            "2020-06-10 11:57:01,413 : INFO : worker thread finished; awaiting finish of 0 more threads\n",
            "2020-06-10 11:57:01,414 : INFO : EPOCH - 11 : training on 3253831 raw words (2571027 effective words) took 7.9s, 325944 effective words/s\n",
            "2020-06-10 11:57:02,429 : INFO : EPOCH 12 - PROGRESS: at 11.21% examples, 332818 words/s, in_qsize 5, out_qsize 0\n",
            "2020-06-10 11:57:03,437 : INFO : EPOCH 12 - PROGRESS: at 25.32% examples, 319005 words/s, in_qsize 5, out_qsize 0\n",
            "2020-06-10 11:57:04,455 : INFO : EPOCH 12 - PROGRESS: at 42.07% examples, 311380 words/s, in_qsize 5, out_qsize 0\n",
            "2020-06-10 11:57:05,456 : INFO : EPOCH 12 - PROGRESS: at 54.29% examples, 314173 words/s, in_qsize 5, out_qsize 0\n",
            "2020-06-10 11:57:06,463 : INFO : EPOCH 12 - PROGRESS: at 66.81% examples, 318244 words/s, in_qsize 5, out_qsize 0\n",
            "2020-06-10 11:57:07,464 : INFO : EPOCH 12 - PROGRESS: at 77.66% examples, 321978 words/s, in_qsize 5, out_qsize 0\n",
            "2020-06-10 11:57:08,500 : INFO : EPOCH 12 - PROGRESS: at 89.76% examples, 322424 words/s, in_qsize 6, out_qsize 0\n",
            "2020-06-10 11:57:09,291 : INFO : worker thread finished; awaiting finish of 2 more threads\n",
            "2020-06-10 11:57:09,313 : INFO : worker thread finished; awaiting finish of 1 more threads\n",
            "2020-06-10 11:57:09,323 : INFO : worker thread finished; awaiting finish of 0 more threads\n",
            "2020-06-10 11:57:09,323 : INFO : EPOCH - 12 : training on 3253831 raw words (2571027 effective words) took 7.9s, 325309 effective words/s\n",
            "2020-06-10 11:57:10,340 : INFO : EPOCH 13 - PROGRESS: at 11.11% examples, 330656 words/s, in_qsize 5, out_qsize 0\n",
            "2020-06-10 11:57:11,349 : INFO : EPOCH 13 - PROGRESS: at 25.55% examples, 321386 words/s, in_qsize 5, out_qsize 0\n",
            "2020-06-10 11:57:12,357 : INFO : EPOCH 13 - PROGRESS: at 41.69% examples, 309590 words/s, in_qsize 6, out_qsize 0\n",
            "2020-06-10 11:57:13,357 : INFO : EPOCH 13 - PROGRESS: at 54.49% examples, 316830 words/s, in_qsize 5, out_qsize 0\n",
            "2020-06-10 11:57:14,383 : INFO : EPOCH 13 - PROGRESS: at 67.05% examples, 319053 words/s, in_qsize 5, out_qsize 0\n",
            "2020-06-10 11:57:15,396 : INFO : EPOCH 13 - PROGRESS: at 78.14% examples, 323327 words/s, in_qsize 5, out_qsize 0\n",
            "2020-06-10 11:57:16,399 : INFO : EPOCH 13 - PROGRESS: at 89.93% examples, 324028 words/s, in_qsize 5, out_qsize 0\n",
            "2020-06-10 11:57:17,205 : INFO : worker thread finished; awaiting finish of 2 more threads\n",
            "2020-06-10 11:57:17,213 : INFO : worker thread finished; awaiting finish of 1 more threads\n",
            "2020-06-10 11:57:17,216 : INFO : worker thread finished; awaiting finish of 0 more threads\n",
            "2020-06-10 11:57:17,217 : INFO : EPOCH - 13 : training on 3253831 raw words (2571027 effective words) took 7.9s, 325955 effective words/s\n",
            "2020-06-10 11:57:18,230 : INFO : EPOCH 14 - PROGRESS: at 11.21% examples, 333173 words/s, in_qsize 6, out_qsize 0\n",
            "2020-06-10 11:57:19,235 : INFO : EPOCH 14 - PROGRESS: at 25.21% examples, 318516 words/s, in_qsize 5, out_qsize 0\n",
            "2020-06-10 11:57:20,253 : INFO : EPOCH 14 - PROGRESS: at 41.69% examples, 309208 words/s, in_qsize 5, out_qsize 0\n",
            "2020-06-10 11:57:21,264 : INFO : EPOCH 14 - PROGRESS: at 54.29% examples, 313673 words/s, in_qsize 5, out_qsize 0\n",
            "2020-06-10 11:57:22,265 : INFO : EPOCH 14 - PROGRESS: at 66.81% examples, 318248 words/s, in_qsize 5, out_qsize 0\n",
            "2020-06-10 11:57:23,280 : INFO : EPOCH 14 - PROGRESS: at 77.91% examples, 322547 words/s, in_qsize 5, out_qsize 0\n",
            "2020-06-10 11:57:24,287 : INFO : EPOCH 14 - PROGRESS: at 89.93% examples, 324225 words/s, in_qsize 5, out_qsize 0\n",
            "2020-06-10 11:57:25,059 : INFO : worker thread finished; awaiting finish of 2 more threads\n",
            "2020-06-10 11:57:25,084 : INFO : worker thread finished; awaiting finish of 1 more threads\n",
            "2020-06-10 11:57:25,085 : INFO : worker thread finished; awaiting finish of 0 more threads\n",
            "2020-06-10 11:57:25,086 : INFO : EPOCH - 14 : training on 3253831 raw words (2571027 effective words) took 7.9s, 326951 effective words/s\n",
            "2020-06-10 11:57:26,103 : INFO : EPOCH 15 - PROGRESS: at 11.11% examples, 331199 words/s, in_qsize 5, out_qsize 0\n",
            "2020-06-10 11:57:27,104 : INFO : EPOCH 15 - PROGRESS: at 25.76% examples, 326868 words/s, in_qsize 5, out_qsize 0\n",
            "2020-06-10 11:57:28,105 : INFO : EPOCH 15 - PROGRESS: at 41.69% examples, 311302 words/s, in_qsize 5, out_qsize 0\n",
            "2020-06-10 11:57:29,112 : INFO : EPOCH 15 - PROGRESS: at 54.02% examples, 313644 words/s, in_qsize 5, out_qsize 0\n",
            "2020-06-10 11:57:30,123 : INFO : EPOCH 15 - PROGRESS: at 66.81% examples, 319173 words/s, in_qsize 5, out_qsize 0\n",
            "2020-06-10 11:57:31,125 : INFO : EPOCH 15 - PROGRESS: at 77.91% examples, 323993 words/s, in_qsize 5, out_qsize 0\n",
            "2020-06-10 11:57:32,127 : INFO : EPOCH 15 - PROGRESS: at 89.93% examples, 325687 words/s, in_qsize 5, out_qsize 0\n",
            "2020-06-10 11:57:32,905 : INFO : worker thread finished; awaiting finish of 2 more threads\n",
            "2020-06-10 11:57:32,915 : INFO : worker thread finished; awaiting finish of 1 more threads\n",
            "2020-06-10 11:57:32,927 : INFO : worker thread finished; awaiting finish of 0 more threads\n",
            "2020-06-10 11:57:32,928 : INFO : EPOCH - 15 : training on 3253831 raw words (2571027 effective words) took 7.8s, 328216 effective words/s\n",
            "2020-06-10 11:57:33,980 : INFO : EPOCH 16 - PROGRESS: at 11.92% examples, 341422 words/s, in_qsize 5, out_qsize 0\n",
            "2020-06-10 11:57:34,989 : INFO : EPOCH 16 - PROGRESS: at 25.55% examples, 315841 words/s, in_qsize 6, out_qsize 0\n",
            "2020-06-10 11:57:35,993 : INFO : EPOCH 16 - PROGRESS: at 40.06% examples, 298646 words/s, in_qsize 6, out_qsize 0\n",
            "2020-06-10 11:57:37,008 : INFO : EPOCH 16 - PROGRESS: at 52.79% examples, 301872 words/s, in_qsize 5, out_qsize 0\n",
            "2020-06-10 11:57:38,039 : INFO : EPOCH 16 - PROGRESS: at 64.82% examples, 304072 words/s, in_qsize 5, out_qsize 0\n",
            "2020-06-10 11:57:39,086 : INFO : EPOCH 16 - PROGRESS: at 76.11% examples, 308833 words/s, in_qsize 5, out_qsize 0\n",
            "2020-06-10 11:57:40,092 : INFO : EPOCH 16 - PROGRESS: at 87.23% examples, 309210 words/s, in_qsize 5, out_qsize 0\n",
            "2020-06-10 11:57:41,100 : INFO : EPOCH 16 - PROGRESS: at 98.32% examples, 310269 words/s, in_qsize 5, out_qsize 0\n",
            "2020-06-10 11:57:41,185 : INFO : worker thread finished; awaiting finish of 2 more threads\n",
            "2020-06-10 11:57:41,190 : INFO : worker thread finished; awaiting finish of 1 more threads\n",
            "2020-06-10 11:57:41,203 : INFO : worker thread finished; awaiting finish of 0 more threads\n",
            "2020-06-10 11:57:41,204 : INFO : EPOCH - 16 : training on 3253831 raw words (2571027 effective words) took 8.3s, 310860 effective words/s\n",
            "2020-06-10 11:57:42,239 : INFO : EPOCH 17 - PROGRESS: at 11.38% examples, 331909 words/s, in_qsize 5, out_qsize 0\n",
            "2020-06-10 11:57:43,269 : INFO : EPOCH 17 - PROGRESS: at 25.55% examples, 315217 words/s, in_qsize 5, out_qsize 0\n",
            "2020-06-10 11:57:44,327 : INFO : EPOCH 17 - PROGRESS: at 41.79% examples, 300540 words/s, in_qsize 5, out_qsize 0\n",
            "2020-06-10 11:57:45,330 : INFO : EPOCH 17 - PROGRESS: at 54.26% examples, 307688 words/s, in_qsize 5, out_qsize 0\n",
            "2020-06-10 11:57:46,367 : INFO : EPOCH 17 - PROGRESS: at 66.99% examples, 312563 words/s, in_qsize 5, out_qsize 0\n",
            "2020-06-10 11:57:47,370 : INFO : EPOCH 17 - PROGRESS: at 77.91% examples, 317182 words/s, in_qsize 5, out_qsize 0\n",
            "2020-06-10 11:57:48,371 : INFO : EPOCH 17 - PROGRESS: at 89.67% examples, 318783 words/s, in_qsize 5, out_qsize 0\n",
            "2020-06-10 11:57:49,252 : INFO : worker thread finished; awaiting finish of 2 more threads\n",
            "2020-06-10 11:57:49,254 : INFO : worker thread finished; awaiting finish of 1 more threads\n",
            "2020-06-10 11:57:49,259 : INFO : worker thread finished; awaiting finish of 0 more threads\n",
            "2020-06-10 11:57:49,259 : INFO : EPOCH - 17 : training on 3253831 raw words (2571027 effective words) took 8.0s, 319402 effective words/s\n",
            "2020-06-10 11:57:50,276 : INFO : EPOCH 18 - PROGRESS: at 10.61% examples, 319592 words/s, in_qsize 5, out_qsize 0\n",
            "2020-06-10 11:57:51,298 : INFO : EPOCH 18 - PROGRESS: at 24.49% examples, 310037 words/s, in_qsize 5, out_qsize 0\n",
            "2020-06-10 11:57:52,298 : INFO : EPOCH 18 - PROGRESS: at 40.67% examples, 301613 words/s, in_qsize 5, out_qsize 0\n",
            "2020-06-10 11:57:53,304 : INFO : EPOCH 18 - PROGRESS: at 53.34% examples, 308789 words/s, in_qsize 5, out_qsize 0\n",
            "2020-06-10 11:57:54,345 : INFO : EPOCH 18 - PROGRESS: at 65.82% examples, 312072 words/s, in_qsize 5, out_qsize 0\n",
            "2020-06-10 11:57:55,345 : INFO : EPOCH 18 - PROGRESS: at 77.31% examples, 319303 words/s, in_qsize 5, out_qsize 0\n",
            "2020-06-10 11:57:56,353 : INFO : EPOCH 18 - PROGRESS: at 89.50% examples, 321318 words/s, in_qsize 5, out_qsize 0\n",
            "2020-06-10 11:57:57,182 : INFO : worker thread finished; awaiting finish of 2 more threads\n",
            "2020-06-10 11:57:57,189 : INFO : worker thread finished; awaiting finish of 1 more threads\n",
            "2020-06-10 11:57:57,205 : INFO : worker thread finished; awaiting finish of 0 more threads\n",
            "2020-06-10 11:57:57,206 : INFO : EPOCH - 18 : training on 3253831 raw words (2571027 effective words) took 7.9s, 324069 effective words/s\n",
            "2020-06-10 11:57:58,219 : INFO : EPOCH 19 - PROGRESS: at 11.16% examples, 332694 words/s, in_qsize 5, out_qsize 0\n",
            "2020-06-10 11:57:59,225 : INFO : EPOCH 19 - PROGRESS: at 25.55% examples, 321885 words/s, in_qsize 5, out_qsize 0\n",
            "2020-06-10 11:58:00,232 : INFO : EPOCH 19 - PROGRESS: at 41.79% examples, 309951 words/s, in_qsize 5, out_qsize 0\n",
            "2020-06-10 11:58:01,243 : INFO : EPOCH 19 - PROGRESS: at 54.26% examples, 314329 words/s, in_qsize 5, out_qsize 0\n",
            "2020-06-10 11:58:02,246 : INFO : EPOCH 19 - PROGRESS: at 66.64% examples, 317250 words/s, in_qsize 5, out_qsize 0\n",
            "2020-06-10 11:58:03,263 : INFO : EPOCH 19 - PROGRESS: at 77.31% examples, 320291 words/s, in_qsize 5, out_qsize 0\n",
            "2020-06-10 11:58:04,280 : INFO : EPOCH 19 - PROGRESS: at 89.20% examples, 320613 words/s, in_qsize 6, out_qsize 0\n",
            "2020-06-10 11:58:05,134 : INFO : worker thread finished; awaiting finish of 2 more threads\n",
            "2020-06-10 11:58:05,167 : INFO : worker thread finished; awaiting finish of 1 more threads\n",
            "2020-06-10 11:58:05,170 : INFO : worker thread finished; awaiting finish of 0 more threads\n",
            "2020-06-10 11:58:05,171 : INFO : EPOCH - 19 : training on 3253831 raw words (2571027 effective words) took 8.0s, 322911 effective words/s\n",
            "2020-06-10 11:58:06,199 : INFO : EPOCH 20 - PROGRESS: at 11.70% examples, 342326 words/s, in_qsize 5, out_qsize 0\n",
            "2020-06-10 11:58:07,249 : INFO : EPOCH 20 - PROGRESS: at 26.70% examples, 328622 words/s, in_qsize 5, out_qsize 0\n",
            "2020-06-10 11:58:08,262 : INFO : EPOCH 20 - PROGRESS: at 43.41% examples, 317966 words/s, in_qsize 5, out_qsize 0\n",
            "2020-06-10 11:58:09,263 : INFO : EPOCH 20 - PROGRESS: at 55.83% examples, 323679 words/s, in_qsize 5, out_qsize 0\n",
            "2020-06-10 11:58:10,265 : INFO : EPOCH 20 - PROGRESS: at 68.21% examples, 324717 words/s, in_qsize 6, out_qsize 0\n",
            "2020-06-10 11:58:11,285 : INFO : EPOCH 20 - PROGRESS: at 79.40% examples, 327640 words/s, in_qsize 5, out_qsize 0\n",
            "2020-06-10 11:58:12,287 : INFO : EPOCH 20 - PROGRESS: at 91.90% examples, 327417 words/s, in_qsize 5, out_qsize 0\n",
            "2020-06-10 11:58:12,949 : INFO : worker thread finished; awaiting finish of 2 more threads\n",
            "2020-06-10 11:58:12,963 : INFO : worker thread finished; awaiting finish of 1 more threads\n",
            "2020-06-10 11:58:12,977 : INFO : worker thread finished; awaiting finish of 0 more threads\n",
            "2020-06-10 11:58:12,977 : INFO : EPOCH - 20 : training on 3253831 raw words (2571027 effective words) took 7.8s, 329671 effective words/s\n",
            "2020-06-10 11:58:14,001 : INFO : EPOCH 21 - PROGRESS: at 11.60% examples, 343641 words/s, in_qsize 5, out_qsize 0\n",
            "2020-06-10 11:58:15,006 : INFO : EPOCH 21 - PROGRESS: at 25.76% examples, 324973 words/s, in_qsize 5, out_qsize 0\n",
            "2020-06-10 11:58:16,006 : INFO : EPOCH 21 - PROGRESS: at 41.69% examples, 310108 words/s, in_qsize 5, out_qsize 0\n",
            "2020-06-10 11:58:17,039 : INFO : EPOCH 21 - PROGRESS: at 54.26% examples, 312715 words/s, in_qsize 5, out_qsize 0\n",
            "2020-06-10 11:58:18,047 : INFO : EPOCH 21 - PROGRESS: at 66.82% examples, 317056 words/s, in_qsize 5, out_qsize 0\n",
            "2020-06-10 11:58:19,069 : INFO : EPOCH 21 - PROGRESS: at 77.31% examples, 318680 words/s, in_qsize 5, out_qsize 0\n",
            "2020-06-10 11:58:20,072 : INFO : EPOCH 21 - PROGRESS: at 88.96% examples, 318828 words/s, in_qsize 5, out_qsize 0\n",
            "2020-06-10 11:58:20,993 : INFO : worker thread finished; awaiting finish of 2 more threads\n",
            "2020-06-10 11:58:20,999 : INFO : worker thread finished; awaiting finish of 1 more threads\n",
            "2020-06-10 11:58:21,014 : INFO : worker thread finished; awaiting finish of 0 more threads\n",
            "2020-06-10 11:58:21,015 : INFO : EPOCH - 21 : training on 3253831 raw words (2571027 effective words) took 8.0s, 320150 effective words/s\n",
            "2020-06-10 11:58:22,030 : INFO : EPOCH 22 - PROGRESS: at 11.38% examples, 339043 words/s, in_qsize 5, out_qsize 0\n",
            "2020-06-10 11:58:23,034 : INFO : EPOCH 22 - PROGRESS: at 25.55% examples, 322745 words/s, in_qsize 5, out_qsize 0\n",
            "2020-06-10 11:58:24,063 : INFO : EPOCH 22 - PROGRESS: at 42.07% examples, 310897 words/s, in_qsize 6, out_qsize 0\n",
            "2020-06-10 11:58:25,067 : INFO : EPOCH 22 - PROGRESS: at 54.45% examples, 315436 words/s, in_qsize 5, out_qsize 0\n",
            "2020-06-10 11:58:26,085 : INFO : EPOCH 22 - PROGRESS: at 66.30% examples, 315560 words/s, in_qsize 6, out_qsize 0\n",
            "2020-06-10 11:58:27,144 : INFO : EPOCH 22 - PROGRESS: at 78.29% examples, 320425 words/s, in_qsize 5, out_qsize 0\n",
            "2020-06-10 11:58:28,157 : INFO : EPOCH 22 - PROGRESS: at 90.19% examples, 322116 words/s, in_qsize 6, out_qsize 0\n",
            "2020-06-10 11:58:28,929 : INFO : worker thread finished; awaiting finish of 2 more threads\n",
            "2020-06-10 11:58:28,938 : INFO : worker thread finished; awaiting finish of 1 more threads\n",
            "2020-06-10 11:58:28,959 : INFO : worker thread finished; awaiting finish of 0 more threads\n",
            "2020-06-10 11:58:28,960 : INFO : EPOCH - 22 : training on 3253831 raw words (2571027 effective words) took 7.9s, 323917 effective words/s\n",
            "2020-06-10 11:58:30,011 : INFO : EPOCH 23 - PROGRESS: at 11.87% examples, 341735 words/s, in_qsize 5, out_qsize 0\n",
            "2020-06-10 11:58:31,011 : INFO : EPOCH 23 - PROGRESS: at 26.06% examples, 324963 words/s, in_qsize 5, out_qsize 0\n",
            "2020-06-10 11:58:32,020 : INFO : EPOCH 23 - PROGRESS: at 42.97% examples, 317122 words/s, in_qsize 5, out_qsize 0\n",
            "2020-06-10 11:58:33,049 : INFO : EPOCH 23 - PROGRESS: at 55.22% examples, 318121 words/s, in_qsize 5, out_qsize 0\n",
            "2020-06-10 11:58:34,077 : INFO : EPOCH 23 - PROGRESS: at 67.60% examples, 320117 words/s, in_qsize 6, out_qsize 0\n",
            "2020-06-10 11:58:35,085 : INFO : EPOCH 23 - PROGRESS: at 79.17% examples, 325705 words/s, in_qsize 5, out_qsize 0\n",
            "2020-06-10 11:58:36,113 : INFO : EPOCH 23 - PROGRESS: at 91.78% examples, 325751 words/s, in_qsize 5, out_qsize 0\n",
            "2020-06-10 11:58:36,771 : INFO : worker thread finished; awaiting finish of 2 more threads\n",
            "2020-06-10 11:58:36,792 : INFO : worker thread finished; awaiting finish of 1 more threads\n",
            "2020-06-10 11:58:36,810 : INFO : worker thread finished; awaiting finish of 0 more threads\n",
            "2020-06-10 11:58:36,811 : INFO : EPOCH - 23 : training on 3253831 raw words (2571027 effective words) took 7.8s, 327748 effective words/s\n",
            "2020-06-10 11:58:37,868 : INFO : EPOCH 24 - PROGRESS: at 11.92% examples, 340157 words/s, in_qsize 5, out_qsize 0\n",
            "2020-06-10 11:58:38,899 : INFO : EPOCH 24 - PROGRESS: at 26.98% examples, 326879 words/s, in_qsize 6, out_qsize 0\n",
            "2020-06-10 11:58:39,914 : INFO : EPOCH 24 - PROGRESS: at 43.33% examples, 316914 words/s, in_qsize 6, out_qsize 0\n",
            "2020-06-10 11:58:40,928 : INFO : EPOCH 24 - PROGRESS: at 55.58% examples, 319784 words/s, in_qsize 5, out_qsize 0\n",
            "2020-06-10 11:58:41,929 : INFO : EPOCH 24 - PROGRESS: at 67.95% examples, 321625 words/s, in_qsize 5, out_qsize 0\n",
            "2020-06-10 11:58:42,929 : INFO : EPOCH 24 - PROGRESS: at 79.17% examples, 326075 words/s, in_qsize 5, out_qsize 0\n",
            "2020-06-10 11:58:43,935 : INFO : EPOCH 24 - PROGRESS: at 91.78% examples, 327080 words/s, in_qsize 5, out_qsize 0\n",
            "2020-06-10 11:58:44,639 : INFO : worker thread finished; awaiting finish of 2 more threads\n",
            "2020-06-10 11:58:44,652 : INFO : worker thread finished; awaiting finish of 1 more threads\n",
            "2020-06-10 11:58:44,669 : INFO : worker thread finished; awaiting finish of 0 more threads\n",
            "2020-06-10 11:58:44,670 : INFO : EPOCH - 24 : training on 3253831 raw words (2571027 effective words) took 7.9s, 327429 effective words/s\n",
            "2020-06-10 11:58:45,684 : INFO : EPOCH 25 - PROGRESS: at 11.60% examples, 346781 words/s, in_qsize 5, out_qsize 0\n",
            "2020-06-10 11:58:46,687 : INFO : EPOCH 25 - PROGRESS: at 25.76% examples, 326776 words/s, in_qsize 5, out_qsize 0\n",
            "2020-06-10 11:58:47,708 : INFO : EPOCH 25 - PROGRESS: at 42.38% examples, 314401 words/s, in_qsize 6, out_qsize 0\n",
            "2020-06-10 11:58:48,720 : INFO : EPOCH 25 - PROGRESS: at 54.68% examples, 317525 words/s, in_qsize 5, out_qsize 0\n",
            "2020-06-10 11:58:49,725 : INFO : EPOCH 25 - PROGRESS: at 66.81% examples, 317922 words/s, in_qsize 5, out_qsize 0\n",
            "2020-06-10 11:58:50,734 : INFO : EPOCH 25 - PROGRESS: at 77.91% examples, 322551 words/s, in_qsize 5, out_qsize 0\n",
            "2020-06-10 11:58:51,753 : INFO : EPOCH 25 - PROGRESS: at 89.67% examples, 322600 words/s, in_qsize 5, out_qsize 0\n",
            "2020-06-10 11:58:52,563 : INFO : worker thread finished; awaiting finish of 2 more threads\n",
            "2020-06-10 11:58:52,581 : INFO : worker thread finished; awaiting finish of 1 more threads\n",
            "2020-06-10 11:58:52,598 : INFO : worker thread finished; awaiting finish of 0 more threads\n",
            "2020-06-10 11:58:52,599 : INFO : EPOCH - 25 : training on 3253831 raw words (2571027 effective words) took 7.9s, 324534 effective words/s\n",
            "2020-06-10 11:58:53,634 : INFO : EPOCH 26 - PROGRESS: at 11.60% examples, 339407 words/s, in_qsize 6, out_qsize 0\n",
            "2020-06-10 11:58:54,647 : INFO : EPOCH 26 - PROGRESS: at 26.39% examples, 329317 words/s, in_qsize 5, out_qsize 0\n",
            "2020-06-10 11:58:55,670 : INFO : EPOCH 26 - PROGRESS: at 43.15% examples, 317605 words/s, in_qsize 5, out_qsize 0\n",
            "2020-06-10 11:58:56,693 : INFO : EPOCH 26 - PROGRESS: at 55.83% examples, 323398 words/s, in_qsize 5, out_qsize 0\n",
            "2020-06-10 11:58:57,705 : INFO : EPOCH 26 - PROGRESS: at 68.79% examples, 326928 words/s, in_qsize 5, out_qsize 0\n",
            "2020-06-10 11:58:58,729 : INFO : EPOCH 26 - PROGRESS: at 79.70% examples, 327906 words/s, in_qsize 5, out_qsize 0\n",
            "2020-06-10 11:58:59,757 : INFO : EPOCH 26 - PROGRESS: at 91.78% examples, 325531 words/s, in_qsize 5, out_qsize 0\n",
            "2020-06-10 11:59:00,460 : INFO : worker thread finished; awaiting finish of 2 more threads\n",
            "2020-06-10 11:59:00,468 : INFO : worker thread finished; awaiting finish of 1 more threads\n",
            "2020-06-10 11:59:00,479 : INFO : worker thread finished; awaiting finish of 0 more threads\n",
            "2020-06-10 11:59:00,480 : INFO : EPOCH - 26 : training on 3253831 raw words (2571027 effective words) took 7.9s, 326492 effective words/s\n",
            "2020-06-10 11:59:01,492 : INFO : EPOCH 27 - PROGRESS: at 11.38% examples, 339809 words/s, in_qsize 5, out_qsize 0\n",
            "2020-06-10 11:59:02,509 : INFO : EPOCH 27 - PROGRESS: at 25.55% examples, 320859 words/s, in_qsize 5, out_qsize 0\n",
            "2020-06-10 11:59:03,534 : INFO : EPOCH 27 - PROGRESS: at 40.88% examples, 302263 words/s, in_qsize 5, out_qsize 0\n",
            "2020-06-10 11:59:04,540 : INFO : EPOCH 27 - PROGRESS: at 53.07% examples, 305191 words/s, in_qsize 5, out_qsize 0\n",
            "2020-06-10 11:59:05,561 : INFO : EPOCH 27 - PROGRESS: at 65.29% examples, 308968 words/s, in_qsize 5, out_qsize 0\n",
            "2020-06-10 11:59:06,588 : INFO : EPOCH 27 - PROGRESS: at 76.53% examples, 313777 words/s, in_qsize 5, out_qsize 0\n",
            "2020-06-10 11:59:07,602 : INFO : EPOCH 27 - PROGRESS: at 89.20% examples, 318640 words/s, in_qsize 5, out_qsize 0\n",
            "2020-06-10 11:59:08,468 : INFO : worker thread finished; awaiting finish of 2 more threads\n",
            "2020-06-10 11:59:08,473 : INFO : worker thread finished; awaiting finish of 1 more threads\n",
            "2020-06-10 11:59:08,487 : INFO : worker thread finished; awaiting finish of 0 more threads\n",
            "2020-06-10 11:59:08,488 : INFO : EPOCH - 27 : training on 3253831 raw words (2571027 effective words) took 8.0s, 321312 effective words/s\n",
            "2020-06-10 11:59:09,509 : INFO : EPOCH 28 - PROGRESS: at 11.60% examples, 344607 words/s, in_qsize 5, out_qsize 0\n",
            "2020-06-10 11:59:10,527 : INFO : EPOCH 28 - PROGRESS: at 26.06% examples, 326987 words/s, in_qsize 6, out_qsize 0\n",
            "2020-06-10 11:59:11,528 : INFO : EPOCH 28 - PROGRESS: at 43.15% examples, 320888 words/s, in_qsize 6, out_qsize 0\n",
            "2020-06-10 11:59:12,532 : INFO : EPOCH 28 - PROGRESS: at 55.44% examples, 323705 words/s, in_qsize 6, out_qsize 0\n",
            "2020-06-10 11:59:13,562 : INFO : EPOCH 28 - PROGRESS: at 67.60% examples, 322825 words/s, in_qsize 6, out_qsize 0\n",
            "2020-06-10 11:59:14,584 : INFO : EPOCH 28 - PROGRESS: at 78.97% examples, 325943 words/s, in_qsize 5, out_qsize 0\n",
            "2020-06-10 11:59:15,619 : INFO : EPOCH 28 - PROGRESS: at 90.77% examples, 323704 words/s, in_qsize 5, out_qsize 0\n",
            "2020-06-10 11:59:16,340 : INFO : worker thread finished; awaiting finish of 2 more threads\n",
            "2020-06-10 11:59:16,358 : INFO : worker thread finished; awaiting finish of 1 more threads\n",
            "2020-06-10 11:59:16,360 : INFO : worker thread finished; awaiting finish of 0 more threads\n",
            "2020-06-10 11:59:16,362 : INFO : EPOCH - 28 : training on 3253831 raw words (2571027 effective words) took 7.9s, 326781 effective words/s\n",
            "2020-06-10 11:59:17,376 : INFO : EPOCH 29 - PROGRESS: at 11.38% examples, 339157 words/s, in_qsize 5, out_qsize 0\n",
            "2020-06-10 11:59:18,395 : INFO : EPOCH 29 - PROGRESS: at 25.76% examples, 324240 words/s, in_qsize 5, out_qsize 0\n",
            "2020-06-10 11:59:19,398 : INFO : EPOCH 29 - PROGRESS: at 41.42% examples, 306618 words/s, in_qsize 5, out_qsize 0\n",
            "2020-06-10 11:59:20,408 : INFO : EPOCH 29 - PROGRESS: at 53.58% examples, 310086 words/s, in_qsize 5, out_qsize 0\n",
            "2020-06-10 11:59:21,434 : INFO : EPOCH 29 - PROGRESS: at 66.30% examples, 315416 words/s, in_qsize 6, out_qsize 0\n",
            "2020-06-10 11:59:22,447 : INFO : EPOCH 29 - PROGRESS: at 77.91% examples, 321468 words/s, in_qsize 5, out_qsize 0\n",
            "2020-06-10 11:59:23,463 : INFO : EPOCH 29 - PROGRESS: at 89.67% examples, 321770 words/s, in_qsize 5, out_qsize 0\n",
            "2020-06-10 11:59:24,291 : INFO : worker thread finished; awaiting finish of 2 more threads\n",
            "2020-06-10 11:59:24,313 : INFO : worker thread finished; awaiting finish of 1 more threads\n",
            "2020-06-10 11:59:24,325 : INFO : worker thread finished; awaiting finish of 0 more threads\n",
            "2020-06-10 11:59:24,326 : INFO : EPOCH - 29 : training on 3253831 raw words (2571027 effective words) took 8.0s, 323119 effective words/s\n",
            "2020-06-10 11:59:25,354 : INFO : EPOCH 30 - PROGRESS: at 11.11% examples, 326875 words/s, in_qsize 5, out_qsize 0\n",
            "2020-06-10 11:59:26,370 : INFO : EPOCH 30 - PROGRESS: at 25.32% examples, 315837 words/s, in_qsize 5, out_qsize 0\n",
            "2020-06-10 11:59:27,388 : INFO : EPOCH 30 - PROGRESS: at 42.07% examples, 309281 words/s, in_qsize 5, out_qsize 0\n",
            "2020-06-10 11:59:28,394 : INFO : EPOCH 30 - PROGRESS: at 54.29% examples, 312098 words/s, in_qsize 5, out_qsize 0\n",
            "2020-06-10 11:59:29,419 : INFO : EPOCH 30 - PROGRESS: at 67.05% examples, 316932 words/s, in_qsize 5, out_qsize 0\n",
            "2020-06-10 11:59:30,436 : INFO : EPOCH 30 - PROGRESS: at 78.14% examples, 321369 words/s, in_qsize 5, out_qsize 0\n",
            "2020-06-10 11:59:31,475 : INFO : EPOCH 30 - PROGRESS: at 90.77% examples, 322847 words/s, in_qsize 5, out_qsize 0\n",
            "2020-06-10 11:59:32,215 : INFO : worker thread finished; awaiting finish of 2 more threads\n",
            "2020-06-10 11:59:32,236 : INFO : worker thread finished; awaiting finish of 1 more threads\n",
            "2020-06-10 11:59:32,239 : INFO : worker thread finished; awaiting finish of 0 more threads\n",
            "2020-06-10 11:59:32,240 : INFO : EPOCH - 30 : training on 3253831 raw words (2571027 effective words) took 7.9s, 325122 effective words/s\n",
            "2020-06-10 11:59:33,248 : INFO : EPOCH 31 - PROGRESS: at 11.21% examples, 335654 words/s, in_qsize 5, out_qsize 0\n",
            "2020-06-10 11:59:34,249 : INFO : EPOCH 31 - PROGRESS: at 25.55% examples, 324347 words/s, in_qsize 5, out_qsize 0\n",
            "2020-06-10 11:59:35,249 : INFO : EPOCH 31 - PROGRESS: at 41.69% examples, 312196 words/s, in_qsize 5, out_qsize 0\n",
            "2020-06-10 11:59:36,257 : INFO : EPOCH 31 - PROGRESS: at 54.05% examples, 314185 words/s, in_qsize 5, out_qsize 0\n",
            "2020-06-10 11:59:37,275 : INFO : EPOCH 31 - PROGRESS: at 66.64% examples, 317870 words/s, in_qsize 5, out_qsize 0\n",
            "2020-06-10 11:59:38,302 : INFO : EPOCH 31 - PROGRESS: at 77.91% examples, 322731 words/s, in_qsize 5, out_qsize 0\n",
            "2020-06-10 11:59:39,338 : INFO : EPOCH 31 - PROGRESS: at 89.93% examples, 323069 words/s, in_qsize 5, out_qsize 0\n",
            "2020-06-10 11:59:40,143 : INFO : worker thread finished; awaiting finish of 2 more threads\n",
            "2020-06-10 11:59:40,157 : INFO : worker thread finished; awaiting finish of 1 more threads\n",
            "2020-06-10 11:59:40,162 : INFO : worker thread finished; awaiting finish of 0 more threads\n",
            "2020-06-10 11:59:40,163 : INFO : EPOCH - 31 : training on 3253831 raw words (2571027 effective words) took 7.9s, 324817 effective words/s\n",
            "2020-06-10 11:59:41,209 : INFO : EPOCH 32 - PROGRESS: at 11.44% examples, 330518 words/s, in_qsize 5, out_qsize 0\n",
            "2020-06-10 11:59:42,227 : INFO : EPOCH 32 - PROGRESS: at 26.39% examples, 326877 words/s, in_qsize 6, out_qsize 0\n",
            "2020-06-10 11:59:43,228 : INFO : EPOCH 32 - PROGRESS: at 43.33% examples, 320910 words/s, in_qsize 5, out_qsize 0\n",
            "2020-06-10 11:59:44,235 : INFO : EPOCH 32 - PROGRESS: at 55.58% examples, 323347 words/s, in_qsize 6, out_qsize 0\n",
            "2020-06-10 11:59:45,260 : INFO : EPOCH 32 - PROGRESS: at 67.60% examples, 321369 words/s, in_qsize 5, out_qsize 1\n",
            "2020-06-10 11:59:46,261 : INFO : EPOCH 32 - PROGRESS: at 78.75% examples, 324571 words/s, in_qsize 5, out_qsize 0\n",
            "2020-06-10 11:59:47,272 : INFO : EPOCH 32 - PROGRESS: at 91.04% examples, 325568 words/s, in_qsize 5, out_qsize 0\n",
            "2020-06-10 11:59:47,971 : INFO : worker thread finished; awaiting finish of 2 more threads\n",
            "2020-06-10 11:59:47,996 : INFO : worker thread finished; awaiting finish of 1 more threads\n",
            "2020-06-10 11:59:48,001 : INFO : worker thread finished; awaiting finish of 0 more threads\n",
            "2020-06-10 11:59:48,001 : INFO : EPOCH - 32 : training on 3253831 raw words (2571027 effective words) took 7.8s, 328288 effective words/s\n",
            "2020-06-10 11:59:49,016 : INFO : EPOCH 33 - PROGRESS: at 11.44% examples, 341005 words/s, in_qsize 6, out_qsize 0\n",
            "2020-06-10 11:59:50,032 : INFO : EPOCH 33 - PROGRESS: at 26.06% examples, 328480 words/s, in_qsize 5, out_qsize 0\n",
            "2020-06-10 11:59:51,058 : INFO : EPOCH 33 - PROGRESS: at 42.87% examples, 316589 words/s, in_qsize 5, out_qsize 0\n",
            "2020-06-10 11:59:52,063 : INFO : EPOCH 33 - PROGRESS: at 54.90% examples, 318635 words/s, in_qsize 5, out_qsize 0\n",
            "2020-06-10 11:59:53,066 : INFO : EPOCH 33 - PROGRESS: at 67.60% examples, 323484 words/s, in_qsize 5, out_qsize 0\n",
            "2020-06-10 11:59:54,072 : INFO : EPOCH 33 - PROGRESS: at 78.37% examples, 324811 words/s, in_qsize 5, out_qsize 0\n",
            "2020-06-10 11:59:55,089 : INFO : EPOCH 33 - PROGRESS: at 90.46% examples, 325450 words/s, in_qsize 6, out_qsize 0\n",
            "2020-06-10 11:59:55,830 : INFO : worker thread finished; awaiting finish of 2 more threads\n",
            "2020-06-10 11:59:55,848 : INFO : worker thread finished; awaiting finish of 1 more threads\n",
            "2020-06-10 11:59:55,855 : INFO : worker thread finished; awaiting finish of 0 more threads\n",
            "2020-06-10 11:59:55,856 : INFO : EPOCH - 33 : training on 3253831 raw words (2571027 effective words) took 7.8s, 327628 effective words/s\n",
            "2020-06-10 11:59:56,880 : INFO : EPOCH 34 - PROGRESS: at 11.60% examples, 343332 words/s, in_qsize 5, out_qsize 0\n",
            "2020-06-10 11:59:57,882 : INFO : EPOCH 34 - PROGRESS: at 25.76% examples, 325264 words/s, in_qsize 5, out_qsize 0\n",
            "2020-06-10 11:59:58,896 : INFO : EPOCH 34 - PROGRESS: at 41.69% examples, 308892 words/s, in_qsize 5, out_qsize 0\n",
            "2020-06-10 11:59:59,896 : INFO : EPOCH 34 - PROGRESS: at 54.49% examples, 316296 words/s, in_qsize 5, out_qsize 0\n",
            "2020-06-10 12:00:00,909 : INFO : EPOCH 34 - PROGRESS: at 67.05% examples, 319467 words/s, in_qsize 5, out_qsize 0\n",
            "2020-06-10 12:00:01,947 : INFO : EPOCH 34 - PROGRESS: at 78.75% examples, 324896 words/s, in_qsize 5, out_qsize 0\n",
            "2020-06-10 12:00:02,974 : INFO : EPOCH 34 - PROGRESS: at 90.46% examples, 323991 words/s, in_qsize 6, out_qsize 0\n",
            "2020-06-10 12:00:03,738 : INFO : worker thread finished; awaiting finish of 2 more threads\n",
            "2020-06-10 12:00:03,752 : INFO : worker thread finished; awaiting finish of 1 more threads\n",
            "2020-06-10 12:00:03,758 : INFO : worker thread finished; awaiting finish of 0 more threads\n",
            "2020-06-10 12:00:03,759 : INFO : EPOCH - 34 : training on 3253831 raw words (2571027 effective words) took 7.9s, 325591 effective words/s\n",
            "2020-06-10 12:00:04,801 : INFO : EPOCH 35 - PROGRESS: at 12.19% examples, 352620 words/s, in_qsize 5, out_qsize 0\n",
            "2020-06-10 12:00:05,816 : INFO : EPOCH 35 - PROGRESS: at 27.64% examples, 335659 words/s, in_qsize 5, out_qsize 0\n",
            "2020-06-10 12:00:06,827 : INFO : EPOCH 35 - PROGRESS: at 43.87% examples, 325437 words/s, in_qsize 6, out_qsize 0\n",
            "2020-06-10 12:00:07,832 : INFO : EPOCH 35 - PROGRESS: at 56.08% examples, 327040 words/s, in_qsize 5, out_qsize 0\n",
            "2020-06-10 12:00:08,844 : INFO : EPOCH 35 - PROGRESS: at 68.76% examples, 328168 words/s, in_qsize 6, out_qsize 0\n",
            "2020-06-10 12:00:09,898 : INFO : EPOCH 35 - PROGRESS: at 79.70% examples, 327402 words/s, in_qsize 5, out_qsize 0\n",
            "2020-06-10 12:00:10,908 : INFO : EPOCH 35 - PROGRESS: at 92.21% examples, 328051 words/s, in_qsize 5, out_qsize 0\n",
            "2020-06-10 12:00:11,549 : INFO : worker thread finished; awaiting finish of 2 more threads\n",
            "2020-06-10 12:00:11,562 : INFO : worker thread finished; awaiting finish of 1 more threads\n",
            "2020-06-10 12:00:11,569 : INFO : worker thread finished; awaiting finish of 0 more threads\n",
            "2020-06-10 12:00:11,570 : INFO : EPOCH - 35 : training on 3253831 raw words (2571027 effective words) took 7.8s, 329432 effective words/s\n",
            "2020-06-10 12:00:12,598 : INFO : EPOCH 36 - PROGRESS: at 11.60% examples, 342010 words/s, in_qsize 5, out_qsize 0\n",
            "2020-06-10 12:00:13,606 : INFO : EPOCH 36 - PROGRESS: at 26.06% examples, 327394 words/s, in_qsize 5, out_qsize 0\n",
            "2020-06-10 12:00:14,634 : INFO : EPOCH 36 - PROGRESS: at 42.97% examples, 316672 words/s, in_qsize 5, out_qsize 0\n",
            "2020-06-10 12:00:15,635 : INFO : EPOCH 36 - PROGRESS: at 55.20% examples, 320140 words/s, in_qsize 5, out_qsize 0\n",
            "2020-06-10 12:00:16,650 : INFO : EPOCH 36 - PROGRESS: at 67.60% examples, 322405 words/s, in_qsize 5, out_qsize 0\n",
            "2020-06-10 12:00:17,651 : INFO : EPOCH 36 - PROGRESS: at 79.17% examples, 328052 words/s, in_qsize 5, out_qsize 0\n",
            "2020-06-10 12:00:18,661 : INFO : EPOCH 36 - PROGRESS: at 91.59% examples, 327459 words/s, in_qsize 5, out_qsize 0\n",
            "2020-06-10 12:00:19,367 : INFO : worker thread finished; awaiting finish of 2 more threads\n",
            "2020-06-10 12:00:19,394 : INFO : worker thread finished; awaiting finish of 1 more threads\n",
            "2020-06-10 12:00:19,407 : INFO : worker thread finished; awaiting finish of 0 more threads\n",
            "2020-06-10 12:00:19,408 : INFO : EPOCH - 36 : training on 3253831 raw words (2571027 effective words) took 7.8s, 328286 effective words/s\n",
            "2020-06-10 12:00:20,429 : INFO : EPOCH 37 - PROGRESS: at 11.38% examples, 336360 words/s, in_qsize 5, out_qsize 0\n",
            "2020-06-10 12:00:21,440 : INFO : EPOCH 37 - PROGRESS: at 25.76% examples, 324218 words/s, in_qsize 5, out_qsize 0\n",
            "2020-06-10 12:00:22,456 : INFO : EPOCH 37 - PROGRESS: at 42.38% examples, 313253 words/s, in_qsize 6, out_qsize 0\n",
            "2020-06-10 12:00:23,505 : INFO : EPOCH 37 - PROGRESS: at 54.68% examples, 313805 words/s, in_qsize 5, out_qsize 0\n",
            "2020-06-10 12:00:24,511 : INFO : EPOCH 37 - PROGRESS: at 67.23% examples, 317675 words/s, in_qsize 5, out_qsize 0\n",
            "2020-06-10 12:00:25,529 : INFO : EPOCH 37 - PROGRESS: at 78.52% examples, 321993 words/s, in_qsize 6, out_qsize 0\n",
            "2020-06-10 12:00:26,546 : INFO : EPOCH 37 - PROGRESS: at 90.77% examples, 323357 words/s, in_qsize 5, out_qsize 0\n",
            "2020-06-10 12:00:27,282 : INFO : worker thread finished; awaiting finish of 2 more threads\n",
            "2020-06-10 12:00:27,291 : INFO : worker thread finished; awaiting finish of 1 more threads\n",
            "2020-06-10 12:00:27,318 : INFO : worker thread finished; awaiting finish of 0 more threads\n",
            "2020-06-10 12:00:27,319 : INFO : EPOCH - 37 : training on 3253831 raw words (2571027 effective words) took 7.9s, 325237 effective words/s\n",
            "2020-06-10 12:00:28,338 : INFO : EPOCH 38 - PROGRESS: at 11.21% examples, 331293 words/s, in_qsize 5, out_qsize 0\n",
            "2020-06-10 12:00:29,356 : INFO : EPOCH 38 - PROGRESS: at 25.06% examples, 315815 words/s, in_qsize 6, out_qsize 0\n",
            "2020-06-10 12:00:30,363 : INFO : EPOCH 38 - PROGRESS: at 42.01% examples, 311051 words/s, in_qsize 6, out_qsize 0\n",
            "2020-06-10 12:00:31,370 : INFO : EPOCH 38 - PROGRESS: at 54.49% examples, 315428 words/s, in_qsize 5, out_qsize 0\n",
            "2020-06-10 12:00:32,393 : INFO : EPOCH 38 - PROGRESS: at 67.05% examples, 318086 words/s, in_qsize 5, out_qsize 0\n",
            "2020-06-10 12:00:33,400 : INFO : EPOCH 38 - PROGRESS: at 78.29% examples, 322857 words/s, in_qsize 5, out_qsize 0\n",
            "2020-06-10 12:00:34,437 : INFO : EPOCH 38 - PROGRESS: at 90.46% examples, 324001 words/s, in_qsize 5, out_qsize 0\n",
            "2020-06-10 12:00:35,172 : INFO : worker thread finished; awaiting finish of 2 more threads\n",
            "2020-06-10 12:00:35,196 : INFO : worker thread finished; awaiting finish of 1 more threads\n",
            "2020-06-10 12:00:35,202 : INFO : worker thread finished; awaiting finish of 0 more threads\n",
            "2020-06-10 12:00:35,203 : INFO : EPOCH - 38 : training on 3253831 raw words (2571027 effective words) took 7.9s, 326368 effective words/s\n",
            "2020-06-10 12:00:36,239 : INFO : EPOCH 39 - PROGRESS: at 11.92% examples, 346620 words/s, in_qsize 5, out_qsize 0\n",
            "2020-06-10 12:00:37,272 : INFO : EPOCH 39 - PROGRESS: at 26.98% examples, 329738 words/s, in_qsize 5, out_qsize 0\n",
            "2020-06-10 12:00:38,290 : INFO : EPOCH 39 - PROGRESS: at 43.61% examples, 320994 words/s, in_qsize 5, out_qsize 0\n",
            "2020-06-10 12:00:39,308 : INFO : EPOCH 39 - PROGRESS: at 55.82% examples, 322498 words/s, in_qsize 5, out_qsize 0\n",
            "2020-06-10 12:00:40,326 : INFO : EPOCH 39 - PROGRESS: at 68.45% examples, 324296 words/s, in_qsize 5, out_qsize 0\n",
            "2020-06-10 12:00:41,350 : INFO : EPOCH 39 - PROGRESS: at 80.05% examples, 328234 words/s, in_qsize 5, out_qsize 0\n",
            "2020-06-10 12:00:42,358 : INFO : EPOCH 39 - PROGRESS: at 92.82% examples, 329862 words/s, in_qsize 5, out_qsize 1\n",
            "2020-06-10 12:00:42,935 : INFO : worker thread finished; awaiting finish of 2 more threads\n",
            "2020-06-10 12:00:42,956 : INFO : worker thread finished; awaiting finish of 1 more threads\n",
            "2020-06-10 12:00:42,979 : INFO : worker thread finished; awaiting finish of 0 more threads\n",
            "2020-06-10 12:00:42,980 : INFO : EPOCH - 39 : training on 3253831 raw words (2571027 effective words) took 7.8s, 330836 effective words/s\n",
            "2020-06-10 12:00:44,027 : INFO : EPOCH 40 - PROGRESS: at 11.60% examples, 335878 words/s, in_qsize 5, out_qsize 0\n",
            "2020-06-10 12:00:45,060 : INFO : EPOCH 40 - PROGRESS: at 26.39% examples, 324427 words/s, in_qsize 5, out_qsize 0\n",
            "2020-06-10 12:00:46,106 : INFO : EPOCH 40 - PROGRESS: at 43.41% examples, 314259 words/s, in_qsize 5, out_qsize 0\n",
            "2020-06-10 12:00:47,114 : INFO : EPOCH 40 - PROGRESS: at 56.08% examples, 322235 words/s, in_qsize 5, out_qsize 0\n",
            "2020-06-10 12:00:48,126 : INFO : EPOCH 40 - PROGRESS: at 68.56% examples, 322893 words/s, in_qsize 5, out_qsize 0\n",
            "2020-06-10 12:00:49,138 : INFO : EPOCH 40 - PROGRESS: at 79.17% examples, 323986 words/s, in_qsize 5, out_qsize 0\n",
            "2020-06-10 12:00:50,173 : INFO : EPOCH 40 - PROGRESS: at 91.86% examples, 323911 words/s, in_qsize 5, out_qsize 0\n",
            "2020-06-10 12:00:50,826 : INFO : worker thread finished; awaiting finish of 2 more threads\n",
            "2020-06-10 12:00:50,836 : INFO : worker thread finished; awaiting finish of 1 more threads\n",
            "2020-06-10 12:00:50,846 : INFO : worker thread finished; awaiting finish of 0 more threads\n",
            "2020-06-10 12:00:50,847 : INFO : EPOCH - 40 : training on 3253831 raw words (2571027 effective words) took 7.9s, 327108 effective words/s\n",
            "2020-06-10 12:00:51,888 : INFO : EPOCH 41 - PROGRESS: at 11.92% examples, 345492 words/s, in_qsize 6, out_qsize 0\n",
            "2020-06-10 12:00:52,915 : INFO : EPOCH 41 - PROGRESS: at 26.39% examples, 326205 words/s, in_qsize 5, out_qsize 0\n",
            "2020-06-10 12:00:53,929 : INFO : EPOCH 41 - PROGRESS: at 42.55% examples, 311443 words/s, in_qsize 5, out_qsize 0\n",
            "2020-06-10 12:00:54,945 : INFO : EPOCH 41 - PROGRESS: at 54.90% examples, 315735 words/s, in_qsize 5, out_qsize 0\n",
            "2020-06-10 12:00:55,955 : INFO : EPOCH 41 - PROGRESS: at 67.36% examples, 319167 words/s, in_qsize 5, out_qsize 0\n",
            "2020-06-10 12:00:56,957 : INFO : EPOCH 41 - PROGRESS: at 78.75% examples, 323944 words/s, in_qsize 5, out_qsize 0\n",
            "2020-06-10 12:00:57,977 : INFO : EPOCH 41 - PROGRESS: at 91.04% examples, 324598 words/s, in_qsize 6, out_qsize 0\n",
            "2020-06-10 12:00:58,685 : INFO : worker thread finished; awaiting finish of 2 more threads\n",
            "2020-06-10 12:00:58,700 : INFO : worker thread finished; awaiting finish of 1 more threads\n",
            "2020-06-10 12:00:58,713 : INFO : worker thread finished; awaiting finish of 0 more threads\n",
            "2020-06-10 12:00:58,714 : INFO : EPOCH - 41 : training on 3253831 raw words (2571027 effective words) took 7.9s, 327096 effective words/s\n",
            "2020-06-10 12:00:59,737 : INFO : EPOCH 42 - PROGRESS: at 11.21% examples, 329883 words/s, in_qsize 5, out_qsize 0\n",
            "2020-06-10 12:01:00,748 : INFO : EPOCH 42 - PROGRESS: at 25.55% examples, 320002 words/s, in_qsize 5, out_qsize 0\n",
            "2020-06-10 12:01:01,789 : INFO : EPOCH 42 - PROGRESS: at 42.55% examples, 312059 words/s, in_qsize 5, out_qsize 0\n",
            "2020-06-10 12:01:02,792 : INFO : EPOCH 42 - PROGRESS: at 54.90% examples, 317212 words/s, in_qsize 5, out_qsize 0\n",
            "2020-06-10 12:01:03,797 : INFO : EPOCH 42 - PROGRESS: at 66.94% examples, 317825 words/s, in_qsize 5, out_qsize 0\n",
            "2020-06-10 12:01:04,802 : INFO : EPOCH 42 - PROGRESS: at 78.14% examples, 322520 words/s, in_qsize 5, out_qsize 0\n",
            "2020-06-10 12:01:05,841 : INFO : EPOCH 42 - PROGRESS: at 90.46% examples, 323591 words/s, in_qsize 5, out_qsize 0\n",
            "2020-06-10 12:01:06,570 : INFO : worker thread finished; awaiting finish of 2 more threads\n",
            "2020-06-10 12:01:06,582 : INFO : worker thread finished; awaiting finish of 1 more threads\n",
            "2020-06-10 12:01:06,595 : INFO : worker thread finished; awaiting finish of 0 more threads\n",
            "2020-06-10 12:01:06,595 : INFO : EPOCH - 42 : training on 3253831 raw words (2571027 effective words) took 7.9s, 326455 effective words/s\n",
            "2020-06-10 12:01:07,644 : INFO : EPOCH 43 - PROGRESS: at 11.92% examples, 342463 words/s, in_qsize 5, out_qsize 0\n",
            "2020-06-10 12:01:08,652 : INFO : EPOCH 43 - PROGRESS: at 26.98% examples, 331610 words/s, in_qsize 5, out_qsize 0\n",
            "2020-06-10 12:01:09,667 : INFO : EPOCH 43 - PROGRESS: at 43.33% examples, 320011 words/s, in_qsize 5, out_qsize 0\n",
            "2020-06-10 12:01:10,689 : INFO : EPOCH 43 - PROGRESS: at 55.83% examples, 323337 words/s, in_qsize 5, out_qsize 0\n",
            "2020-06-10 12:01:11,694 : INFO : EPOCH 43 - PROGRESS: at 67.95% examples, 322745 words/s, in_qsize 5, out_qsize 0\n",
            "2020-06-10 12:01:12,735 : INFO : EPOCH 43 - PROGRESS: at 79.70% examples, 327353 words/s, in_qsize 5, out_qsize 0\n",
            "2020-06-10 12:01:13,749 : INFO : EPOCH 43 - PROGRESS: at 92.35% examples, 327765 words/s, in_qsize 5, out_qsize 0\n",
            "2020-06-10 12:01:14,352 : INFO : worker thread finished; awaiting finish of 2 more threads\n",
            "2020-06-10 12:01:14,369 : INFO : worker thread finished; awaiting finish of 1 more threads\n",
            "2020-06-10 12:01:14,382 : INFO : worker thread finished; awaiting finish of 0 more threads\n",
            "2020-06-10 12:01:14,382 : INFO : EPOCH - 43 : training on 3253831 raw words (2571027 effective words) took 7.8s, 330395 effective words/s\n",
            "2020-06-10 12:01:15,420 : INFO : EPOCH 44 - PROGRESS: at 11.92% examples, 346564 words/s, in_qsize 5, out_qsize 0\n",
            "2020-06-10 12:01:16,450 : INFO : EPOCH 44 - PROGRESS: at 26.98% examples, 330041 words/s, in_qsize 5, out_qsize 0\n",
            "2020-06-10 12:01:17,462 : INFO : EPOCH 44 - PROGRESS: at 43.60% examples, 321639 words/s, in_qsize 5, out_qsize 0\n",
            "2020-06-10 12:01:18,499 : INFO : EPOCH 44 - PROGRESS: at 56.36% examples, 325438 words/s, in_qsize 5, out_qsize 0\n",
            "2020-06-10 12:01:19,513 : INFO : EPOCH 44 - PROGRESS: at 69.00% examples, 326799 words/s, in_qsize 5, out_qsize 0\n",
            "2020-06-10 12:01:20,522 : INFO : EPOCH 44 - PROGRESS: at 80.05% examples, 328636 words/s, in_qsize 5, out_qsize 0\n",
            "2020-06-10 12:01:21,540 : INFO : EPOCH 44 - PROGRESS: at 92.88% examples, 330845 words/s, in_qsize 5, out_qsize 0\n",
            "2020-06-10 12:01:22,081 : INFO : worker thread finished; awaiting finish of 2 more threads\n",
            "2020-06-10 12:01:22,088 : INFO : worker thread finished; awaiting finish of 1 more threads\n",
            "2020-06-10 12:01:22,108 : INFO : worker thread finished; awaiting finish of 0 more threads\n",
            "2020-06-10 12:01:22,109 : INFO : EPOCH - 44 : training on 3253831 raw words (2571027 effective words) took 7.7s, 333038 effective words/s\n",
            "2020-06-10 12:01:23,129 : INFO : EPOCH 45 - PROGRESS: at 11.92% examples, 352442 words/s, in_qsize 5, out_qsize 0\n",
            "2020-06-10 12:01:24,144 : INFO : EPOCH 45 - PROGRESS: at 26.98% examples, 335210 words/s, in_qsize 5, out_qsize 0\n",
            "2020-06-10 12:01:25,158 : INFO : EPOCH 45 - PROGRESS: at 43.61% examples, 325055 words/s, in_qsize 6, out_qsize 0\n",
            "2020-06-10 12:01:26,165 : INFO : EPOCH 45 - PROGRESS: at 56.08% examples, 328355 words/s, in_qsize 5, out_qsize 0\n",
            "2020-06-10 12:01:27,208 : INFO : EPOCH 45 - PROGRESS: at 69.26% examples, 330298 words/s, in_qsize 6, out_qsize 0\n",
            "2020-06-10 12:01:28,222 : INFO : EPOCH 45 - PROGRESS: at 80.61% examples, 332591 words/s, in_qsize 5, out_qsize 0\n",
            "2020-06-10 12:01:29,242 : INFO : EPOCH 45 - PROGRESS: at 92.88% examples, 331953 words/s, in_qsize 5, out_qsize 0\n",
            "2020-06-10 12:01:29,801 : INFO : worker thread finished; awaiting finish of 2 more threads\n",
            "2020-06-10 12:01:29,808 : INFO : worker thread finished; awaiting finish of 1 more threads\n",
            "2020-06-10 12:01:29,820 : INFO : worker thread finished; awaiting finish of 0 more threads\n",
            "2020-06-10 12:01:29,820 : INFO : EPOCH - 45 : training on 3253831 raw words (2571027 effective words) took 7.7s, 333669 effective words/s\n",
            "2020-06-10 12:01:30,840 : INFO : EPOCH 46 - PROGRESS: at 10.94% examples, 323825 words/s, in_qsize 5, out_qsize 0\n",
            "2020-06-10 12:01:31,870 : INFO : EPOCH 46 - PROGRESS: at 25.76% examples, 321545 words/s, in_qsize 5, out_qsize 0\n",
            "2020-06-10 12:01:32,883 : INFO : EPOCH 46 - PROGRESS: at 42.97% examples, 316843 words/s, in_qsize 6, out_qsize 0\n",
            "2020-06-10 12:01:33,890 : INFO : EPOCH 46 - PROGRESS: at 55.20% examples, 319814 words/s, in_qsize 6, out_qsize 0\n",
            "2020-06-10 12:01:34,892 : INFO : EPOCH 46 - PROGRESS: at 67.60% examples, 322947 words/s, in_qsize 5, out_qsize 0\n",
            "2020-06-10 12:01:35,905 : INFO : EPOCH 46 - PROGRESS: at 78.97% examples, 326525 words/s, in_qsize 5, out_qsize 0\n",
            "2020-06-10 12:01:36,913 : INFO : EPOCH 46 - PROGRESS: at 91.04% examples, 326329 words/s, in_qsize 5, out_qsize 0\n",
            "2020-06-10 12:01:37,600 : INFO : worker thread finished; awaiting finish of 2 more threads\n",
            "2020-06-10 12:01:37,612 : INFO : worker thread finished; awaiting finish of 1 more threads\n",
            "2020-06-10 12:01:37,620 : INFO : worker thread finished; awaiting finish of 0 more threads\n",
            "2020-06-10 12:01:37,621 : INFO : EPOCH - 46 : training on 3253831 raw words (2571027 effective words) took 7.8s, 329864 effective words/s\n",
            "2020-06-10 12:01:38,645 : INFO : EPOCH 47 - PROGRESS: at 11.60% examples, 343348 words/s, in_qsize 5, out_qsize 0\n",
            "2020-06-10 12:01:39,665 : INFO : EPOCH 47 - PROGRESS: at 26.39% examples, 330085 words/s, in_qsize 6, out_qsize 0\n",
            "2020-06-10 12:01:40,699 : INFO : EPOCH 47 - PROGRESS: at 42.97% examples, 315304 words/s, in_qsize 6, out_qsize 0\n",
            "2020-06-10 12:01:41,731 : INFO : EPOCH 47 - PROGRESS: at 55.82% examples, 322213 words/s, in_qsize 5, out_qsize 0\n",
            "2020-06-10 12:01:42,750 : INFO : EPOCH 47 - PROGRESS: at 68.79% examples, 325435 words/s, in_qsize 6, out_qsize 0\n",
            "2020-06-10 12:01:43,769 : INFO : EPOCH 47 - PROGRESS: at 80.62% examples, 330706 words/s, in_qsize 5, out_qsize 0\n",
            "2020-06-10 12:01:44,771 : INFO : EPOCH 47 - PROGRESS: at 93.16% examples, 332227 words/s, in_qsize 5, out_qsize 0\n",
            "2020-06-10 12:01:45,302 : INFO : worker thread finished; awaiting finish of 2 more threads\n",
            "2020-06-10 12:01:45,321 : INFO : worker thread finished; awaiting finish of 1 more threads\n",
            "2020-06-10 12:01:45,338 : INFO : worker thread finished; awaiting finish of 0 more threads\n",
            "2020-06-10 12:01:45,339 : INFO : EPOCH - 47 : training on 3253831 raw words (2571027 effective words) took 7.7s, 333395 effective words/s\n",
            "2020-06-10 12:01:46,356 : INFO : EPOCH 48 - PROGRESS: at 11.92% examples, 353692 words/s, in_qsize 6, out_qsize 0\n",
            "2020-06-10 12:01:47,377 : INFO : EPOCH 48 - PROGRESS: at 27.64% examples, 338856 words/s, in_qsize 5, out_qsize 0\n",
            "2020-06-10 12:01:48,404 : INFO : EPOCH 48 - PROGRESS: at 43.60% examples, 323237 words/s, in_qsize 6, out_qsize 0\n",
            "2020-06-10 12:01:49,440 : INFO : EPOCH 48 - PROGRESS: at 55.83% examples, 322904 words/s, in_qsize 5, out_qsize 0\n",
            "2020-06-10 12:01:50,448 : INFO : EPOCH 48 - PROGRESS: at 68.56% examples, 325186 words/s, in_qsize 5, out_qsize 0\n",
            "2020-06-10 12:01:51,481 : INFO : EPOCH 48 - PROGRESS: at 79.70% examples, 327287 words/s, in_qsize 5, out_qsize 0\n",
            "2020-06-10 12:01:52,491 : INFO : EPOCH 48 - PROGRESS: at 92.35% examples, 327921 words/s, in_qsize 5, out_qsize 0\n",
            "2020-06-10 12:01:53,121 : INFO : worker thread finished; awaiting finish of 2 more threads\n",
            "2020-06-10 12:01:53,130 : INFO : worker thread finished; awaiting finish of 1 more threads\n",
            "2020-06-10 12:01:53,138 : INFO : worker thread finished; awaiting finish of 0 more threads\n",
            "2020-06-10 12:01:53,139 : INFO : EPOCH - 48 : training on 3253831 raw words (2571027 effective words) took 7.8s, 329907 effective words/s\n",
            "2020-06-10 12:01:54,149 : INFO : EPOCH 49 - PROGRESS: at 11.38% examples, 340212 words/s, in_qsize 5, out_qsize 0\n",
            "2020-06-10 12:01:55,165 : INFO : EPOCH 49 - PROGRESS: at 26.06% examples, 329100 words/s, in_qsize 5, out_qsize 0\n",
            "2020-06-10 12:01:56,171 : INFO : EPOCH 49 - PROGRESS: at 43.15% examples, 321634 words/s, in_qsize 6, out_qsize 0\n",
            "2020-06-10 12:01:57,199 : INFO : EPOCH 49 - PROGRESS: at 55.34% examples, 322406 words/s, in_qsize 5, out_qsize 0\n",
            "2020-06-10 12:01:58,215 : INFO : EPOCH 49 - PROGRESS: at 67.95% examples, 324272 words/s, in_qsize 5, out_qsize 0\n",
            "2020-06-10 12:01:59,227 : INFO : EPOCH 49 - PROGRESS: at 79.70% examples, 330161 words/s, in_qsize 6, out_qsize 0\n",
            "2020-06-10 12:02:00,250 : INFO : EPOCH 49 - PROGRESS: at 92.35% examples, 329783 words/s, in_qsize 5, out_qsize 0\n",
            "2020-06-10 12:02:00,845 : INFO : worker thread finished; awaiting finish of 2 more threads\n",
            "2020-06-10 12:02:00,853 : INFO : worker thread finished; awaiting finish of 1 more threads\n",
            "2020-06-10 12:02:00,876 : INFO : worker thread finished; awaiting finish of 0 more threads\n",
            "2020-06-10 12:02:00,877 : INFO : EPOCH - 49 : training on 3253831 raw words (2571027 effective words) took 7.7s, 332551 effective words/s\n",
            "2020-06-10 12:02:01,897 : INFO : EPOCH 50 - PROGRESS: at 11.38% examples, 336909 words/s, in_qsize 5, out_qsize 0\n",
            "2020-06-10 12:02:02,912 : INFO : EPOCH 50 - PROGRESS: at 26.09% examples, 327720 words/s, in_qsize 5, out_qsize 0\n",
            "2020-06-10 12:02:03,938 : INFO : EPOCH 50 - PROGRESS: at 42.38% examples, 312049 words/s, in_qsize 5, out_qsize 0\n",
            "2020-06-10 12:02:04,985 : INFO : EPOCH 50 - PROGRESS: at 54.79% examples, 312943 words/s, in_qsize 5, out_qsize 0\n",
            "2020-06-10 12:02:06,011 : INFO : EPOCH 50 - PROGRESS: at 67.60% examples, 319062 words/s, in_qsize 5, out_qsize 0\n",
            "2020-06-10 12:02:07,029 : INFO : EPOCH 50 - PROGRESS: at 78.97% examples, 322960 words/s, in_qsize 6, out_qsize 0\n",
            "2020-06-10 12:02:08,043 : INFO : EPOCH 50 - PROGRESS: at 91.59% examples, 324061 words/s, in_qsize 5, out_qsize 0\n",
            "2020-06-10 12:02:08,732 : INFO : worker thread finished; awaiting finish of 2 more threads\n",
            "2020-06-10 12:02:08,747 : INFO : worker thread finished; awaiting finish of 1 more threads\n",
            "2020-06-10 12:02:08,760 : INFO : worker thread finished; awaiting finish of 0 more threads\n",
            "2020-06-10 12:02:08,761 : INFO : EPOCH - 50 : training on 3253831 raw words (2571027 effective words) took 7.9s, 326384 effective words/s\n",
            "2020-06-10 12:02:08,762 : INFO : training on a 162691550 raw words (128551350 effective words) took 394.7s, 325699 effective words/s\n"
          ],
          "name": "stderr"
        }
      ]
    },
    {
      "cell_type": "code",
      "metadata": {
        "id": "CzAWI4KPVEwH",
        "colab_type": "code",
        "outputId": "fb0f64fb-09f5-425c-d807-ea53f54b538d",
        "colab": {
          "base_uri": "https://localhost:8080/",
          "height": 73
        }
      },
      "source": [
        "docmodel.save('model')"
      ],
      "execution_count": 0,
      "outputs": [
        {
          "output_type": "stream",
          "text": [
            "2020-06-10 12:37:10,116 : INFO : saving Doc2Vec object under model, separately None\n",
            "2020-06-10 12:37:10,118 : INFO : storing np array 'vectors_docs' to model.docvecs.vectors_docs.npy\n",
            "2020-06-10 12:37:11,170 : INFO : saved model\n"
          ],
          "name": "stderr"
        }
      ]
    },
    {
      "cell_type": "code",
      "metadata": {
        "id": "xcvn6Q0WsNNM",
        "colab_type": "code",
        "outputId": "623a7378-1b42-40c9-d043-262e38b69176",
        "colab": {
          "base_uri": "https://localhost:8080/",
          "height": 148
        }
      },
      "source": [
        "docmodel= Doc2Vec.load(\"model\")"
      ],
      "execution_count": 0,
      "outputs": [
        {
          "output_type": "stream",
          "text": [
            "2020-06-10 12:37:12,308 : INFO : loading Doc2Vec object from model\n",
            "2020-06-10 12:37:13,136 : INFO : loading vocabulary recursively from model.vocabulary.* with mmap=None\n",
            "2020-06-10 12:37:13,137 : INFO : loading trainables recursively from model.trainables.* with mmap=None\n",
            "2020-06-10 12:37:13,138 : INFO : loading wv recursively from model.wv.* with mmap=None\n",
            "2020-06-10 12:37:13,139 : INFO : loading docvecs recursively from model.docvecs.* with mmap=None\n",
            "2020-06-10 12:37:13,140 : INFO : loading vectors_docs from model.docvecs.vectors_docs.npy with mmap=None\n",
            "2020-06-10 12:37:13,215 : INFO : loaded model\n"
          ],
          "name": "stderr"
        }
      ]
    },
    {
      "cell_type": "code",
      "metadata": {
        "id": "fzkWCdzxvUl9",
        "colab_type": "code",
        "colab": {}
      },
      "source": [
        "article_list=list(df2['article_id'])\n",
        "category_list = df2['category']"
      ],
      "execution_count": 0,
      "outputs": []
    },
    {
      "cell_type": "code",
      "metadata": {
        "id": "E9h7Lb08vhRh",
        "colab_type": "code",
        "outputId": "0b3d8646-0b8e-40ed-e66c-c9332dade687",
        "colab": {
          "base_uri": "https://localhost:8080/",
          "height": 335
        }
      },
      "source": [
        "list(set(category_list))\n"
      ],
      "execution_count": 0,
      "outputs": [
        {
          "output_type": "execute_result",
          "data": {
            "text/plain": [
              "['보건복지',\n",
              " '정치개혁',\n",
              " '경제민주화',\n",
              " '반려동물',\n",
              " '일자리',\n",
              " '안전/환경',\n",
              " '저출산/고령화대책',\n",
              " '행정',\n",
              " '인권/성평등',\n",
              " '외교/통일/국방',\n",
              " '육아/교육',\n",
              " '문화/예술/체육/언론',\n",
              " '기타',\n",
              " '농산어촌',\n",
              " '미래',\n",
              " '교통/건축/국토',\n",
              " '성장동력']"
            ]
          },
          "metadata": {
            "tags": []
          },
          "execution_count": 46
        }
      ]
    },
    {
      "cell_type": "code",
      "metadata": {
        "id": "8wM6daeV6ZpF",
        "colab_type": "code",
        "outputId": "e31d4093-d870-4c32-83fc-f838d4003605",
        "colab": {
          "base_uri": "https://localhost:8080/",
          "height": 1000
        }
      },
      "source": [
        "article_list"
      ],
      "execution_count": 0,
      "outputs": [
        {
          "output_type": "execute_result",
          "data": {
            "text/plain": [
              "[28,\n",
              " 34,\n",
              " 37,\n",
              " 40,\n",
              " 41,\n",
              " 42,\n",
              " 43,\n",
              " 46,\n",
              " 47,\n",
              " 50,\n",
              " 52,\n",
              " 54,\n",
              " 61,\n",
              " 62,\n",
              " 65,\n",
              " 66,\n",
              " 67,\n",
              " 69,\n",
              " 70,\n",
              " 71,\n",
              " 72,\n",
              " 73,\n",
              " 74,\n",
              " 75,\n",
              " 81,\n",
              " 83,\n",
              " 86,\n",
              " 87,\n",
              " 89,\n",
              " 91,\n",
              " 98,\n",
              " 105,\n",
              " 106,\n",
              " 107,\n",
              " 112,\n",
              " 114,\n",
              " 119,\n",
              " 122,\n",
              " 126,\n",
              " 165,\n",
              " 190,\n",
              " 194,\n",
              " 196,\n",
              " 211,\n",
              " 264,\n",
              " 268,\n",
              " 286,\n",
              " 291,\n",
              " 312,\n",
              " 322,\n",
              " 328,\n",
              " 341,\n",
              " 348,\n",
              " 372,\n",
              " 386,\n",
              " 387,\n",
              " 407,\n",
              " 426,\n",
              " 449,\n",
              " 453,\n",
              " 461,\n",
              " 465,\n",
              " 467,\n",
              " 480,\n",
              " 499,\n",
              " 504,\n",
              " 505,\n",
              " 514,\n",
              " 515,\n",
              " 523,\n",
              " 530,\n",
              " 531,\n",
              " 545,\n",
              " 551,\n",
              " 574,\n",
              " 580,\n",
              " 598,\n",
              " 602,\n",
              " 609,\n",
              " 612,\n",
              " 619,\n",
              " 625,\n",
              " 635,\n",
              " 649,\n",
              " 673,\n",
              " 684,\n",
              " 687,\n",
              " 690,\n",
              " 695,\n",
              " 704,\n",
              " 707,\n",
              " 712,\n",
              " 738,\n",
              " 743,\n",
              " 749,\n",
              " 769,\n",
              " 772,\n",
              " 778,\n",
              " 799,\n",
              " 810,\n",
              " 830,\n",
              " 831,\n",
              " 853,\n",
              " 855,\n",
              " 860,\n",
              " 871,\n",
              " 899,\n",
              " 927,\n",
              " 928,\n",
              " 1016,\n",
              " 1026,\n",
              " 1036,\n",
              " 1050,\n",
              " 1051,\n",
              " 1053,\n",
              " 1101,\n",
              " 1140,\n",
              " 1158,\n",
              " 1168,\n",
              " 1170,\n",
              " 1240,\n",
              " 1255,\n",
              " 1279,\n",
              " 1287,\n",
              " 1325,\n",
              " 1391,\n",
              " 1401,\n",
              " 1434,\n",
              " 1441,\n",
              " 1520,\n",
              " 1523,\n",
              " 1536,\n",
              " 1613,\n",
              " 1623,\n",
              " 1645,\n",
              " 1698,\n",
              " 1729,\n",
              " 1731,\n",
              " 1738,\n",
              " 1785,\n",
              " 1798,\n",
              " 1809,\n",
              " 1817,\n",
              " 1860,\n",
              " 1888,\n",
              " 1914,\n",
              " 1916,\n",
              " 1920,\n",
              " 1939,\n",
              " 1946,\n",
              " 2054,\n",
              " 2703,\n",
              " 2897,\n",
              " 3437,\n",
              " 3870,\n",
              " 4885,\n",
              " 5457,\n",
              " 5678,\n",
              " 6734,\n",
              " 6794,\n",
              " 6956,\n",
              " 7591,\n",
              " 8068,\n",
              " 8434,\n",
              " 8517,\n",
              " 9185,\n",
              " 9553,\n",
              " 9975,\n",
              " 10194,\n",
              " 10200,\n",
              " 10305,\n",
              " 10365,\n",
              " 10536,\n",
              " 10767,\n",
              " 10786,\n",
              " 10845,\n",
              " 10949,\n",
              " 11461,\n",
              " 11769,\n",
              " 11913,\n",
              " 11950,\n",
              " 11955,\n",
              " 12002,\n",
              " 12103,\n",
              " 12236,\n",
              " 12311,\n",
              " 12413,\n",
              " 12429,\n",
              " 12506,\n",
              " 12515,\n",
              " 12566,\n",
              " 12595,\n",
              " 12601,\n",
              " 12608,\n",
              " 12610,\n",
              " 12626,\n",
              " 12629,\n",
              " 12632,\n",
              " 12665,\n",
              " 12694,\n",
              " 12754,\n",
              " 12758,\n",
              " 12806,\n",
              " 12807,\n",
              " 12818,\n",
              " 12831,\n",
              " 12865,\n",
              " 12879,\n",
              " 12931,\n",
              " 12947,\n",
              " 12979,\n",
              " 13041,\n",
              " 13053,\n",
              " 13073,\n",
              " 13097,\n",
              " 13122,\n",
              " 13129,\n",
              " 13177,\n",
              " 13188,\n",
              " 13192,\n",
              " 13252,\n",
              " 13261,\n",
              " 13271,\n",
              " 13321,\n",
              " 13338,\n",
              " 13366,\n",
              " 13372,\n",
              " 13419,\n",
              " 13422,\n",
              " 13446,\n",
              " 13469,\n",
              " 13483,\n",
              " 13485,\n",
              " 13509,\n",
              " 13540,\n",
              " 13551,\n",
              " 13553,\n",
              " 13613,\n",
              " 13618,\n",
              " 13629,\n",
              " 13639,\n",
              " 13656,\n",
              " 13669,\n",
              " 13679,\n",
              " 13699,\n",
              " 13732,\n",
              " 13738,\n",
              " 13742,\n",
              " 13743,\n",
              " 13776,\n",
              " 13821,\n",
              " 13850,\n",
              " 13865,\n",
              " 13892,\n",
              " 13900,\n",
              " 13940,\n",
              " 13945,\n",
              " 14054,\n",
              " 14059,\n",
              " 14060,\n",
              " 14061,\n",
              " 14069,\n",
              " 14077,\n",
              " 14082,\n",
              " 14089,\n",
              " 14124,\n",
              " 14125,\n",
              " 14135,\n",
              " 14206,\n",
              " 14223,\n",
              " 14228,\n",
              " 14252,\n",
              " 14263,\n",
              " 14267,\n",
              " 14286,\n",
              " 14303,\n",
              " 14305,\n",
              " 14310,\n",
              " 14333,\n",
              " 14337,\n",
              " 14346,\n",
              " 14347,\n",
              " 14350,\n",
              " 14356,\n",
              " 14358,\n",
              " 14364,\n",
              " 14390,\n",
              " 14392,\n",
              " 14468,\n",
              " 14469,\n",
              " 14496,\n",
              " 14502,\n",
              " 14504,\n",
              " 14517,\n",
              " 14523,\n",
              " 14539,\n",
              " 14556,\n",
              " 14558,\n",
              " 14572,\n",
              " 14589,\n",
              " 14594,\n",
              " 14615,\n",
              " 14621,\n",
              " 14637,\n",
              " 14641,\n",
              " 14647,\n",
              " 14650,\n",
              " 14656,\n",
              " 14658,\n",
              " 14660,\n",
              " 14672,\n",
              " 14680,\n",
              " 14685,\n",
              " 14691,\n",
              " 14695,\n",
              " 14699,\n",
              " 14702,\n",
              " 14705,\n",
              " 14709,\n",
              " 14716,\n",
              " 14728,\n",
              " 14751,\n",
              " 14780,\n",
              " 14800,\n",
              " 14802,\n",
              " 14806,\n",
              " 14808,\n",
              " 14814,\n",
              " 14820,\n",
              " 14821,\n",
              " 14823,\n",
              " 14825,\n",
              " 14842,\n",
              " 14844,\n",
              " 14855,\n",
              " 14858,\n",
              " 14865,\n",
              " 14869,\n",
              " 14873,\n",
              " 14877,\n",
              " 14893,\n",
              " 14898,\n",
              " 14908,\n",
              " 14910,\n",
              " 14918,\n",
              " 14919,\n",
              " 14922,\n",
              " 14940,\n",
              " 14944,\n",
              " 14952,\n",
              " 14959,\n",
              " 14979,\n",
              " 14989,\n",
              " 14997,\n",
              " 15013,\n",
              " 15023,\n",
              " 15039,\n",
              " 15045,\n",
              " 15061,\n",
              " 15065,\n",
              " 15070,\n",
              " 15108,\n",
              " 15109,\n",
              " 15125,\n",
              " 15181,\n",
              " 15207,\n",
              " 15221,\n",
              " 15227,\n",
              " 15228,\n",
              " 15229,\n",
              " 15230,\n",
              " 15231,\n",
              " 15232,\n",
              " 15241,\n",
              " 15418,\n",
              " 15448,\n",
              " 15569,\n",
              " 15576,\n",
              " 15601,\n",
              " 15602,\n",
              " 15608,\n",
              " 15656,\n",
              " 15672,\n",
              " 15728,\n",
              " 15742,\n",
              " 15862,\n",
              " 15864,\n",
              " 15900,\n",
              " 15968,\n",
              " 15972,\n",
              " 15993,\n",
              " 15997,\n",
              " 16010,\n",
              " 16075,\n",
              " 16102,\n",
              " 16116,\n",
              " 16159,\n",
              " 16245,\n",
              " 16347,\n",
              " 16370,\n",
              " 16506,\n",
              " 16550,\n",
              " 16575,\n",
              " 16703,\n",
              " 16779,\n",
              " 16869,\n",
              " 16909,\n",
              " 16954,\n",
              " 16958,\n",
              " 17000,\n",
              " 17032,\n",
              " 17076,\n",
              " 17092,\n",
              " 17167,\n",
              " 17226,\n",
              " 17265,\n",
              " 17294,\n",
              " 17391,\n",
              " 17414,\n",
              " 17536,\n",
              " 17607,\n",
              " 17622,\n",
              " 17645,\n",
              " 17743,\n",
              " 17791,\n",
              " 17796,\n",
              " 17833,\n",
              " 17879,\n",
              " 17950,\n",
              " 17973,\n",
              " 18068,\n",
              " 18113,\n",
              " 18187,\n",
              " 18223,\n",
              " 18227,\n",
              " 18278,\n",
              " 18320,\n",
              " 18412,\n",
              " 18467,\n",
              " 18506,\n",
              " 18625,\n",
              " 18655,\n",
              " 18683,\n",
              " 18717,\n",
              " 18718,\n",
              " 18773,\n",
              " 18780,\n",
              " 18808,\n",
              " 19128,\n",
              " 19170,\n",
              " 19230,\n",
              " 19313,\n",
              " 19392,\n",
              " 19441,\n",
              " 19466,\n",
              " 19623,\n",
              " 19669,\n",
              " 19696,\n",
              " 19698,\n",
              " 19714,\n",
              " 19740,\n",
              " 19744,\n",
              " 19816,\n",
              " 19839,\n",
              " 19864,\n",
              " 19868,\n",
              " 19924,\n",
              " 19979,\n",
              " 20012,\n",
              " 20031,\n",
              " 20076,\n",
              " 20136,\n",
              " 20193,\n",
              " 20230,\n",
              " 20252,\n",
              " 20293,\n",
              " 20407,\n",
              " 20434,\n",
              " 20465,\n",
              " 20476,\n",
              " 20540,\n",
              " 20572,\n",
              " 20661,\n",
              " 20671,\n",
              " 20675,\n",
              " 20761,\n",
              " 20775,\n",
              " 20829,\n",
              " 20842,\n",
              " 20846,\n",
              " 20910,\n",
              " 21015,\n",
              " 21075,\n",
              " 21180,\n",
              " 21240,\n",
              " 21277,\n",
              " 21390,\n",
              " 21447,\n",
              " 21501,\n",
              " 21619,\n",
              " 21667,\n",
              " 21673,\n",
              " 21696,\n",
              " 21702,\n",
              " 21775,\n",
              " 21823,\n",
              " 21840,\n",
              " 21946,\n",
              " 21959,\n",
              " 22059,\n",
              " 22091,\n",
              " 22143,\n",
              " 22144,\n",
              " 22288,\n",
              " 22289,\n",
              " 22303,\n",
              " 22348,\n",
              " 22413,\n",
              " 22499,\n",
              " 22556,\n",
              " 22597,\n",
              " 22641,\n",
              " 22748,\n",
              " 22761,\n",
              " 22783,\n",
              " 22784,\n",
              " 22828,\n",
              " 22842,\n",
              " 22844,\n",
              " 22884,\n",
              " 22929,\n",
              " 22950,\n",
              " 23054,\n",
              " 23086,\n",
              " 23088,\n",
              " 23089,\n",
              " 23114,\n",
              " 23123,\n",
              " 23127,\n",
              " 23290,\n",
              " 23424,\n",
              " 23428,\n",
              " 23446,\n",
              " 23494,\n",
              " 23511,\n",
              " 23611,\n",
              " 23618,\n",
              " 23683,\n",
              " 23688,\n",
              " 23701,\n",
              " 23705,\n",
              " 23717,\n",
              " 23723,\n",
              " 23749,\n",
              " 23753,\n",
              " 23827,\n",
              " 23884,\n",
              " 23918,\n",
              " 23959,\n",
              " 23968,\n",
              " 23978,\n",
              " 23983,\n",
              " 24039,\n",
              " 24076,\n",
              " 24137,\n",
              " 24164,\n",
              " 24175,\n",
              " 24199,\n",
              " 24216,\n",
              " 24246,\n",
              " 24278,\n",
              " 24336,\n",
              " 24349,\n",
              " 24357,\n",
              " 24362,\n",
              " 24392,\n",
              " 24420,\n",
              " 24521,\n",
              " 24543,\n",
              " 24552,\n",
              " 24672,\n",
              " 24683,\n",
              " 24694,\n",
              " 24728,\n",
              " 24747,\n",
              " 24757,\n",
              " 24789,\n",
              " 24796,\n",
              " 24871,\n",
              " 24917,\n",
              " 24970,\n",
              " 25028,\n",
              " 25029,\n",
              " 25042,\n",
              " 25047,\n",
              " 25080,\n",
              " 25092,\n",
              " 25093,\n",
              " 25153,\n",
              " 25238,\n",
              " 25243,\n",
              " 25254,\n",
              " 25278,\n",
              " 25292,\n",
              " 25297,\n",
              " 25299,\n",
              " 25350,\n",
              " 25466,\n",
              " 25521,\n",
              " 25563,\n",
              " 25573,\n",
              " 25581,\n",
              " 25585,\n",
              " 25640,\n",
              " 25709,\n",
              " 25721,\n",
              " 25742,\n",
              " 25750,\n",
              " 25768,\n",
              " 25803,\n",
              " 25864,\n",
              " 25921,\n",
              " 25966,\n",
              " 26017,\n",
              " 26024,\n",
              " 26028,\n",
              " 26053,\n",
              " 26092,\n",
              " 26108,\n",
              " 26111,\n",
              " 26193,\n",
              " 26265,\n",
              " 26279,\n",
              " 26282,\n",
              " 26301,\n",
              " 26330,\n",
              " 26418,\n",
              " 26435,\n",
              " 26444,\n",
              " 26467,\n",
              " 26472,\n",
              " 26473,\n",
              " 26517,\n",
              " 26520,\n",
              " 26551,\n",
              " 26556,\n",
              " 26567,\n",
              " 26575,\n",
              " 26589,\n",
              " 26616,\n",
              " 26706,\n",
              " 26710,\n",
              " 26721,\n",
              " 26880,\n",
              " 26924,\n",
              " 26928,\n",
              " 26986,\n",
              " 27054,\n",
              " 27234,\n",
              " 27305,\n",
              " 27964,\n",
              " 28019,\n",
              " 28388,\n",
              " 28450,\n",
              " 28466,\n",
              " 28501,\n",
              " 29540,\n",
              " 29677,\n",
              " 29945,\n",
              " 30064,\n",
              " 30606,\n",
              " 30634,\n",
              " 30643,\n",
              " 30655,\n",
              " 30730,\n",
              " 30767,\n",
              " 30804,\n",
              " 30999,\n",
              " 31012,\n",
              " 31042,\n",
              " 31119,\n",
              " 31142,\n",
              " 31185,\n",
              " 31191,\n",
              " 31224,\n",
              " 31254,\n",
              " 31260,\n",
              " 31503,\n",
              " 31573,\n",
              " 31589,\n",
              " 31820,\n",
              " 32068,\n",
              " 35990,\n",
              " 40497,\n",
              " 40833,\n",
              " 42738,\n",
              " 42756,\n",
              " 42811,\n",
              " 43104,\n",
              " 43140,\n",
              " 43206,\n",
              " 43239,\n",
              " 43252,\n",
              " 43322,\n",
              " 43330,\n",
              " 43355,\n",
              " 43645,\n",
              " 43830,\n",
              " 43887,\n",
              " 43965,\n",
              " 43986,\n",
              " 43993,\n",
              " 44046,\n",
              " 44182,\n",
              " 44286,\n",
              " 44294,\n",
              " 44477,\n",
              " 44537,\n",
              " 44582,\n",
              " 44630,\n",
              " 44666,\n",
              " 44694,\n",
              " 44717,\n",
              " 44720,\n",
              " 44741,\n",
              " 44752,\n",
              " 44766,\n",
              " 44873,\n",
              " 44875,\n",
              " 44880,\n",
              " 44902,\n",
              " 44991,\n",
              " 45008,\n",
              " 45016,\n",
              " 45020,\n",
              " 45021,\n",
              " 45022,\n",
              " 45198,\n",
              " 45227,\n",
              " 45287,\n",
              " 45331,\n",
              " 45363,\n",
              " 45428,\n",
              " 45473,\n",
              " 45482,\n",
              " 45517,\n",
              " 45520,\n",
              " 45525,\n",
              " 45531,\n",
              " 45534,\n",
              " 45570,\n",
              " 45572,\n",
              " 45581,\n",
              " 45602,\n",
              " 45604,\n",
              " 45621,\n",
              " 45676,\n",
              " 45677,\n",
              " 45685,\n",
              " 45690,\n",
              " 45694,\n",
              " 45779,\n",
              " 45800,\n",
              " 45857,\n",
              " 45879,\n",
              " 45886,\n",
              " 45980,\n",
              " 46055,\n",
              " 46085,\n",
              " 46097,\n",
              " 46124,\n",
              " 46150,\n",
              " 46153,\n",
              " 46194,\n",
              " 46195,\n",
              " 46207,\n",
              " 46229,\n",
              " 46240,\n",
              " 46335,\n",
              " 46404,\n",
              " 46427,\n",
              " 46453,\n",
              " 46521,\n",
              " 46546,\n",
              " 46567,\n",
              " 46570,\n",
              " 46576,\n",
              " 46651,\n",
              " 46683,\n",
              " 46695,\n",
              " 46743,\n",
              " 46786,\n",
              " 46834,\n",
              " 46903,\n",
              " 46969,\n",
              " 46970,\n",
              " 47022,\n",
              " 47023,\n",
              " 47040,\n",
              " 47041,\n",
              " 47048,\n",
              " 47052,\n",
              " 47054,\n",
              " 47077,\n",
              " 47087,\n",
              " 47170,\n",
              " 47194,\n",
              " 47197,\n",
              " 47210,\n",
              " 47218,\n",
              " 47245,\n",
              " 47289,\n",
              " 47353,\n",
              " 47354,\n",
              " 47377,\n",
              " 47467,\n",
              " 47523,\n",
              " 47526,\n",
              " 47546,\n",
              " 47589,\n",
              " 47594,\n",
              " 47596,\n",
              " 47650,\n",
              " 47725,\n",
              " 47736,\n",
              " 47841,\n",
              " 47846,\n",
              " 47924,\n",
              " 47963,\n",
              " 47970,\n",
              " 47971,\n",
              " 48029,\n",
              " 48044,\n",
              " 48083,\n",
              " 48101,\n",
              " 48141,\n",
              " 48198,\n",
              " 48261,\n",
              " 48263,\n",
              " 48271,\n",
              " 48290,\n",
              " 48351,\n",
              " 48357,\n",
              " 48397,\n",
              " 48458,\n",
              " 48470,\n",
              " 48471,\n",
              " 48506,\n",
              " 48533,\n",
              " 48548,\n",
              " 48595,\n",
              " 48636,\n",
              " 48652,\n",
              " 48679,\n",
              " 48823,\n",
              " 48853,\n",
              " 48857,\n",
              " 48898,\n",
              " 48946,\n",
              " 48967,\n",
              " 49083,\n",
              " 49511,\n",
              " 49574,\n",
              " 49617,\n",
              " 49762,\n",
              " 49816,\n",
              " 49822,\n",
              " 49901,\n",
              " 50101,\n",
              " 50115,\n",
              " 50119,\n",
              " 50215,\n",
              " 50257,\n",
              " 50348,\n",
              " 50461,\n",
              " 50465,\n",
              " 50474,\n",
              " 50552,\n",
              " 50578,\n",
              " 50638,\n",
              " 50733,\n",
              " 50736,\n",
              " 50742,\n",
              " 50872,\n",
              " 50921,\n",
              " 50953,\n",
              " 51064,\n",
              " 51182,\n",
              " 51416,\n",
              " 51446,\n",
              " 51467,\n",
              " 51488,\n",
              " 51498,\n",
              " 51506,\n",
              " 51538,\n",
              " 51756,\n",
              " 51780,\n",
              " 51816,\n",
              " 51835,\n",
              " 51943,\n",
              " 52001,\n",
              " 52108,\n",
              " 52138,\n",
              " 52296,\n",
              " 52301,\n",
              " 52313,\n",
              " 52350,\n",
              " 52372,\n",
              " 52421,\n",
              " 52437,\n",
              " 52446,\n",
              " 52467,\n",
              " 52468,\n",
              " 52485,\n",
              " 52492,\n",
              " 52495,\n",
              " 52519,\n",
              " 52558,\n",
              " 52564,\n",
              " 52587,\n",
              " 52602,\n",
              " 52650,\n",
              " 52679,\n",
              " 52698,\n",
              " 52702,\n",
              " 52878,\n",
              " 52910,\n",
              " 52914,\n",
              " 52920,\n",
              " 53044,\n",
              " 53265,\n",
              " 53295,\n",
              " 53345,\n",
              " 53446,\n",
              " 53580,\n",
              " 53678,\n",
              " 53746,\n",
              " 53826,\n",
              " 53846,\n",
              " 54004,\n",
              " 54015,\n",
              " 54020,\n",
              " 54047,\n",
              " 54115,\n",
              " 54171,\n",
              " 54218,\n",
              " 54270,\n",
              " 54303,\n",
              " 54322,\n",
              " 54357,\n",
              " 54387,\n",
              " 54443,\n",
              " 54451,\n",
              " 54581,\n",
              " 54617,\n",
              " 54630,\n",
              " 54645,\n",
              " 54678,\n",
              " 54700,\n",
              " 54706,\n",
              " 54720,\n",
              " 54723,\n",
              " 54756,\n",
              " 54819,\n",
              " 54838,\n",
              " 54883,\n",
              " 54889,\n",
              " 54966,\n",
              " 55000,\n",
              " 55014,\n",
              " 55018,\n",
              " 55038,\n",
              " 55097,\n",
              " 55156,\n",
              " 55242,\n",
              " 55256,\n",
              " 55261,\n",
              " 55277,\n",
              " 55280,\n",
              " 55371,\n",
              " 55377,\n",
              " 55386,\n",
              " 55394,\n",
              " 55425,\n",
              " 55495,\n",
              " 55522,\n",
              " 55530,\n",
              " 55573,\n",
              " 55594,\n",
              " 55606,\n",
              " 55637,\n",
              " 55652,\n",
              " 55674,\n",
              " 55713,\n",
              " 55719,\n",
              " 55729,\n",
              " 55733,\n",
              " 55735,\n",
              " 55744,\n",
              " 55779,\n",
              " ...]"
            ]
          },
          "metadata": {
            "tags": []
          },
          "execution_count": 47
        }
      ]
    },
    {
      "cell_type": "code",
      "metadata": {
        "id": "YTORSDJJwTpO",
        "colab_type": "code",
        "outputId": "dc11e6a6-5f75-42e2-9a05-76bff629d8c4",
        "colab": {
          "base_uri": "https://localhost:8080/",
          "height": 36
        }
      },
      "source": [
        "tsne_x=docmodel[article_list]\n",
        "tsne_x.shape"
      ],
      "execution_count": 0,
      "outputs": [
        {
          "output_type": "execute_result",
          "data": {
            "text/plain": [
              "(18433, 100)"
            ]
          },
          "metadata": {
            "tags": []
          },
          "execution_count": 48
        }
      ]
    },
    {
      "cell_type": "code",
      "metadata": {
        "id": "AALNSSIWAyzO",
        "colab_type": "code",
        "outputId": "b456488c-3f12-4292-810a-9a5f4f6c32ae",
        "colab": {
          "base_uri": "https://localhost:8080/",
          "height": 1000
        }
      },
      "source": [
        "tsne = TSNE(n_components=3, random_state=0)\n",
        "X_t = tsne.fit_transform(tsne_x[0:300])\n",
        "X_t"
      ],
      "execution_count": 0,
      "outputs": [
        {
          "output_type": "execute_result",
          "data": {
            "text/plain": [
              "array([[ 1.18395325e+02, -3.58307266e+01,  8.64620895e+01],\n",
              "       [ 1.24937124e+01,  1.33840179e+02,  8.44887390e+01],\n",
              "       [-7.17171936e+01,  3.61772346e+01,  5.62213097e+01],\n",
              "       [ 4.35425339e+01, -1.59934418e+02, -6.99003067e+01],\n",
              "       [-1.09104567e+01, -5.91448555e+01,  1.51167923e+02],\n",
              "       [ 7.81714325e+01,  8.90061417e+01, -1.32134018e+02],\n",
              "       [-3.66804428e+01,  1.01887642e+02, -1.36282181e+02],\n",
              "       [ 1.81334705e+01,  1.40707840e+02, -7.38707962e+01],\n",
              "       [ 2.31905518e+01,  9.52153320e+01,  1.03493202e+02],\n",
              "       [ 1.70401525e+00, -1.18024511e+01, -1.73304733e+02],\n",
              "       [ 3.87684059e+01,  9.87875671e+01,  7.66090240e+01],\n",
              "       [ 1.55852310e+02,  1.59885139e+01, -9.28978195e+01],\n",
              "       [-1.05426361e+02,  7.06339264e+01, -1.06980003e+02],\n",
              "       [ 1.70016327e+01,  1.18277824e+02, -1.07999519e+02],\n",
              "       [ 5.59174118e+01,  1.49228439e+02, -9.94358521e+01],\n",
              "       [ 4.11344433e+00,  9.29926682e+01, -1.55120255e+02],\n",
              "       [-3.13555115e+02, -5.89123840e+01, -4.96884918e+01],\n",
              "       [-1.33590607e+02,  3.12181702e+01, -1.10707642e+02],\n",
              "       [ 7.40609455e+00,  6.81986313e+01, -1.25293190e+02],\n",
              "       [-6.44358978e+01,  1.11223764e+01, -1.12720840e+02],\n",
              "       [ 8.63718033e+01, -1.63344376e+02, -1.47930765e+01],\n",
              "       [-1.02071753e+01,  8.69042816e+01, -4.47170982e+01],\n",
              "       [ 1.09314995e+02,  3.23894463e+01, -1.25016869e+02],\n",
              "       [-4.53542557e+01,  9.63780670e+01, -5.90363312e+01],\n",
              "       [-6.14770317e+01, -2.72500191e+01,  2.97185326e+01],\n",
              "       [-1.79905853e+02,  1.18362942e+01,  4.79431267e+01],\n",
              "       [ 5.86775360e+01, -2.38277874e+01,  1.78639511e+02],\n",
              "       [ 4.72391281e+01,  9.89129868e+01,  1.35166306e+02],\n",
              "       [ 9.63800735e+01,  1.24320999e+02, -6.95291595e+01],\n",
              "       [ 5.79093742e+01, -6.62356567e+01,  1.02373528e+02],\n",
              "       [ 4.60766945e+01, -1.57257095e+02,  5.55039139e+01],\n",
              "       [-1.10245056e+02, -2.94608974e+00, -9.22156601e+01],\n",
              "       [ 4.66237831e+01,  1.04541466e+02, -4.06428261e+01],\n",
              "       [-9.77100945e+00, -1.59113007e+02, -6.96888351e+01],\n",
              "       [-5.03152161e+01, -3.84715729e+01, -9.34267044e+01],\n",
              "       [-6.25365334e+01,  7.79806232e+00, -1.69502579e+02],\n",
              "       [ 1.99492168e+01,  4.22482033e+01, -1.67353638e+02],\n",
              "       [-1.31594172e+01,  1.25239891e+02, -3.33561554e+01],\n",
              "       [ 4.52602425e+01, -1.06400368e+02,  3.82292938e+01],\n",
              "       [-3.24115082e+02,  6.96023926e+02, -1.04331494e+03],\n",
              "       [ 2.73273640e+01,  3.25903487e+00,  1.35590305e+01],\n",
              "       [ 1.68336697e+01,  5.75260963e+01,  7.34906998e+01],\n",
              "       [ 5.93652496e+01, -1.12026947e+02, -1.19935020e+02],\n",
              "       [-2.20073395e+01,  2.17470123e+02, -6.05126228e+01],\n",
              "       [ 1.44921677e+02,  7.23181305e+01, -4.98286514e+01],\n",
              "       [-1.29012852e+01,  1.16345345e+02,  1.25293808e+02],\n",
              "       [ 1.13849220e+02, -1.79052906e+01, -3.26400528e+01],\n",
              "       [-1.27555733e+02, -9.91976261e+00,  6.43591156e+01],\n",
              "       [-1.00173368e+01, -7.81011124e+01, -9.28833389e+01],\n",
              "       [ 5.98123894e+01,  1.24930740e+02,  9.48240814e+01],\n",
              "       [ 1.27919304e+02,  4.24847565e+01, -7.22090836e+01],\n",
              "       [ 5.54956627e+01, -5.06070633e+01,  2.29038563e+01],\n",
              "       [-4.58157310e+01,  1.59796143e+02, -2.94249611e+01],\n",
              "       [ 3.91335564e+01, -2.34189529e+01,  9.12064438e+01],\n",
              "       [-4.32185860e+01,  1.74159409e+02,  4.76141205e+01],\n",
              "       [-1.08076096e+02, -8.06157017e+00, -1.32107101e+02],\n",
              "       [-8.69476929e+01, -7.04855499e+01, -7.20436811e+00],\n",
              "       [-2.78980827e+01,  1.08123550e+02,  6.36358681e+01],\n",
              "       [ 9.15419769e+01, -3.98643684e+01, -1.63128605e+01],\n",
              "       [ 3.93419800e+01, -5.33420830e+01,  5.28874168e+01],\n",
              "       [-9.38620682e+01, -6.00909653e+01, -9.62257156e+01],\n",
              "       [ 1.41137878e+02, -7.01251221e+01,  1.63098466e+00],\n",
              "       [-7.91340637e+01,  4.65471802e+01, -8.50381241e+01],\n",
              "       [ 2.85361557e+01,  8.47990036e+01, -9.01907883e+01],\n",
              "       [-3.86647720e+01, -1.51545229e+01, -9.26122856e+00],\n",
              "       [-2.49273453e+01,  1.26230942e+02, -8.70816345e+01],\n",
              "       [ 1.19552589e+02, -9.35261078e+01,  4.54803543e+01],\n",
              "       [ 8.71146088e+01,  1.18010559e+02,  4.41601868e+01],\n",
              "       [ 2.83829021e+01, -7.25921936e+01, -4.65428009e+01],\n",
              "       [ 1.14631698e-01,  6.71542597e+00, -8.07980347e+01],\n",
              "       [-9.54537430e+01, -9.54681168e+01,  5.37959404e+01],\n",
              "       [-1.41005478e+02, -8.90926285e+01, -8.73931732e+01],\n",
              "       [ 1.13328339e+02, -1.55625505e+01, -8.56817551e+01],\n",
              "       [-3.96457214e+01, -2.21644950e+00, -7.06174927e+01],\n",
              "       [ 4.98437653e+01, -8.44491730e+01,  2.82769585e+00],\n",
              "       [-9.63675022e+00,  6.07406158e+01, -1.11880522e+01],\n",
              "       [-9.76934738e+01,  5.08339119e+01, -3.13270149e+01],\n",
              "       [ 8.96928558e+01, -4.48604012e+01,  1.00071526e+02],\n",
              "       [-4.18691521e+01,  6.84025726e+01,  2.97316456e+01],\n",
              "       [ 7.60967941e+01, -1.26735626e+02, -4.81289635e+01],\n",
              "       [ 6.30245857e+01, -6.56603851e+01,  1.54883209e+02],\n",
              "       [ 3.04550362e+01,  6.28936148e+00, -3.90528679e+01],\n",
              "       [ 2.88267689e+01, -1.11007401e+02, -7.83172989e+01],\n",
              "       [-4.37290726e+01, -7.68284225e+01, -5.11944389e+01],\n",
              "       [ 4.17796631e+01, -8.50206947e+00, -9.06465302e+01],\n",
              "       [-1.97336075e+02, -4.10408096e+01, -2.09862556e+01],\n",
              "       [ 1.31996078e+02, -1.17221497e+02, -2.38668213e+01],\n",
              "       [ 1.01896332e+02, -4.95714912e+01,  3.08223782e+01],\n",
              "       [ 9.04715347e+01, -1.16363586e+02,  4.90272856e+00],\n",
              "       [-8.31341019e+01, -4.96552010e+01, -5.01492500e+01],\n",
              "       [-1.09965744e+02,  8.92239456e+01,  3.56899643e+01],\n",
              "       [-4.73581009e+01, -3.47581978e+01, -4.11006622e+01],\n",
              "       [ 7.97915649e+00,  1.74375092e+02,  1.40755768e+01],\n",
              "       [ 1.75540802e+02, -1.10333290e+01,  3.80446091e+01],\n",
              "       [-1.20696518e+02, -7.59990158e+01, -2.97139759e+01],\n",
              "       [ 2.95623112e+01, -1.80909256e+02, -3.02934742e+00],\n",
              "       [ 5.37214966e+01, -1.30373718e+02,  1.04237843e+01],\n",
              "       [-1.40908661e+02,  1.14864754e+02, -7.06820726e-01],\n",
              "       [ 1.74233612e+02, -3.84287796e+01, -3.88146553e+01],\n",
              "       [-2.09808483e+01,  1.35903656e+02,  2.51006870e+01],\n",
              "       [-5.47296295e+01,  1.07958176e+02,  1.42922010e+01],\n",
              "       [-1.67174927e+02, -9.46289158e+00, -3.04849777e+01],\n",
              "       [-1.46175491e+02, -8.03091507e+01,  8.85893936e+01],\n",
              "       [-8.39092636e+01, -1.42008423e+02, -6.57519989e+01],\n",
              "       [ 5.53334773e-01,  9.91439819e+01,  3.93798637e+01],\n",
              "       [-6.17627716e+01,  8.30963707e+00,  8.33807220e+01],\n",
              "       [-1.01596344e+02,  8.02669754e+01,  1.36335709e+02],\n",
              "       [ 1.12677628e+02,  7.58408508e+01,  2.29812050e+01],\n",
              "       [-3.16590843e+01,  2.91575642e+01,  1.00767906e+02],\n",
              "       [ 7.28073730e+01, -1.35030591e+00, -6.07724457e+01],\n",
              "       [-1.26388687e+02,  3.43426285e+01, -5.78021736e+01],\n",
              "       [ 4.05830145e+00, -1.34625412e+02,  2.55772629e+01],\n",
              "       [-8.10989532e+01, -7.40125704e+00, -1.77035046e+01],\n",
              "       [-8.01905975e+01,  2.83159328e+00, -5.56500397e+01],\n",
              "       [-5.76986923e+01,  4.82060852e+01, -4.28513193e+00],\n",
              "       [ 5.64093895e+01,  1.54580811e+02, -3.85059891e+01],\n",
              "       [ 3.82963486e+01, -1.18429779e+02,  8.72278900e+01],\n",
              "       [ 8.45409298e+00, -8.51735916e+01, -1.27842398e+01],\n",
              "       [ 5.02211838e+01,  1.66609009e+02,  5.98838387e+01],\n",
              "       [-3.66377029e+01,  3.69502296e+01, -7.38190765e+01],\n",
              "       [-2.09126846e+02, -2.24483627e+02, -1.44340668e+02],\n",
              "       [-1.08875618e+02,  3.15987453e+01,  3.40093842e+01],\n",
              "       [-1.02044334e+02,  1.61262222e+02,  1.77666740e+01],\n",
              "       [-6.54388809e+01, -1.03411606e+02, -2.44565544e+01],\n",
              "       [-7.87470856e+01,  1.28395157e+02,  1.47136736e+01],\n",
              "       [-8.52437668e+01,  6.01121445e+01,  9.89948940e+00],\n",
              "       [-1.23605774e+02,  2.81312752e+01,  1.32855865e+02],\n",
              "       [-5.60953865e+01,  5.90489426e+01, -4.56733017e+01],\n",
              "       [-2.34799461e+01,  5.16582870e+01,  6.48874893e+01],\n",
              "       [-7.63083496e+01,  1.36194096e+01,  1.52422516e+02],\n",
              "       [-9.84566116e+01,  1.37584641e+02, -3.47117538e+01],\n",
              "       [ 1.57375031e+01, -2.02096577e+01,  1.29806381e+02],\n",
              "       [-2.07502294e+00, -1.20753069e+01, -2.73298836e+01],\n",
              "       [-4.85975494e+01,  6.57515411e+01,  1.12576736e+02],\n",
              "       [-5.33102264e+01,  4.10186157e+01,  1.50223099e+02],\n",
              "       [-6.27242317e+01,  1.05045197e+02,  1.09273338e+02],\n",
              "       [ 1.48766037e+02,  1.48182688e+01,  7.48123016e+01],\n",
              "       [ 4.32263069e+01,  1.38977341e+02,  4.03247499e+00],\n",
              "       [-9.70186710e+00,  2.48902664e+01, -3.28493500e+01],\n",
              "       [-4.85612907e+01, -2.61716938e+01,  1.67060211e+02],\n",
              "       [-1.17684433e+02, -2.41380920e+01,  1.25547457e+01],\n",
              "       [ 7.48431206e-01, -2.11363087e+01,  3.09449883e+01],\n",
              "       [-1.18128557e+01,  5.68947220e+01,  1.55141602e+02],\n",
              "       [ 9.36121445e+01,  2.61656666e+01, -5.54075737e+01],\n",
              "       [-7.27126312e+01, -2.32373981e+01,  1.12067894e+02],\n",
              "       [-4.35098610e+01, -3.01075573e+01,  7.48831863e+01],\n",
              "       [-3.33267517e+01, -4.14620285e+01,  1.14728104e+02],\n",
              "       [-6.98765335e+01,  7.44488754e+01,  5.82352524e+01],\n",
              "       [-2.49380245e+01, -2.27462459e+00,  2.89666653e+01],\n",
              "       [ 2.65313206e+01, -2.97465324e+01,  1.66970993e+02],\n",
              "       [-1.50115250e+02, -5.46283836e+01,  4.05437050e+01],\n",
              "       [ 3.95057797e+00, -8.91824417e+01,  7.79197235e+01],\n",
              "       [-5.97469597e+01,  6.91897888e+01, -1.38138779e+02],\n",
              "       [-1.47197403e+02, -5.42342339e+01, -2.72616792e+00],\n",
              "       [-4.40224533e+01, -2.65991745e+01, -1.41930603e+02],\n",
              "       [ 6.31720123e+01, -2.43089867e+01, -5.76420212e+01],\n",
              "       [ 7.08383484e+01,  9.35817051e+00,  1.57353439e+02],\n",
              "       [ 2.06722183e+01, -1.27641891e+02, -3.02617989e+01],\n",
              "       [ 1.58780041e+01,  9.85186081e+01, -9.51850224e+00],\n",
              "       [-8.32117996e+01,  7.91669693e+01, -7.23193283e+01],\n",
              "       [-1.53649612e+02,  3.50569878e+01,  8.20007401e+01],\n",
              "       [-1.10793770e+02,  1.21514534e+02,  7.92598648e+01],\n",
              "       [-1.46569595e+02,  1.08701220e+01,  2.47666187e+01],\n",
              "       [-5.38669357e+01, -1.37869720e+02, -8.31474609e+01],\n",
              "       [-2.65812278e+00,  6.54037018e+01,  1.76208744e+01],\n",
              "       [ 1.91573086e+01, -3.73572960e+01,  6.02379894e+00],\n",
              "       [ 7.22659073e+01, -1.82337379e+01, -1.09347458e+02],\n",
              "       [-6.47583923e+01, -6.39933472e+01, -1.22666229e+02],\n",
              "       [ 7.42748489e+01,  9.85373917e+01, -8.19551392e+01],\n",
              "       [-7.40948944e+01, -7.17805862e+01,  1.44338867e+02],\n",
              "       [ 8.56112442e+01,  8.09341965e+01, -6.97502594e+01],\n",
              "       [ 1.56975174e+02, -3.86570396e+01, -8.08416138e+01],\n",
              "       [-9.54965591e+01,  1.24798203e+02, -8.74735413e+01],\n",
              "       [ 6.23498459e+01,  5.64104195e+01,  1.00196617e+02],\n",
              "       [ 8.19867020e+01,  6.62994919e+01,  6.34902191e+01],\n",
              "       [-3.95486755e+01,  9.60756836e+01, -1.60150776e+01],\n",
              "       [ 1.00138271e+00,  2.47600269e+01,  4.11542130e+01],\n",
              "       [ 8.60960312e+01,  7.71623230e+01,  1.06167923e+02],\n",
              "       [-3.21645699e+01,  2.68299351e+01, -1.45098068e+02],\n",
              "       [-1.02678276e+02,  6.93377113e+00,  9.42012558e+01],\n",
              "       [-8.62958298e+01,  9.25009766e+01, -2.46321735e+01],\n",
              "       [ 5.38443708e+00,  2.86116123e+01,  1.08283813e+02],\n",
              "       [ 6.43842545e+01, -8.85213280e+00, -1.62693954e+02],\n",
              "       [ 6.80037231e+01, -9.01152649e+01, -5.94964600e+01],\n",
              "       [ 1.40384811e+02, -2.02499561e+01,  6.22612190e+00],\n",
              "       [-7.44684143e+01, -5.19659233e+01,  6.48909760e+01],\n",
              "       [-3.05737662e+00, -3.95097198e+01, -6.73400955e+01],\n",
              "       [ 3.50644646e+01,  4.55402985e+01,  4.56897306e+00],\n",
              "       [ 8.12950516e+01,  4.13422318e+01,  2.31742840e+01],\n",
              "       [-8.99837341e+01, -9.02024612e+01, -7.82548676e+01],\n",
              "       [ 4.12067986e+01,  4.29105415e+01,  4.15887184e+01],\n",
              "       [ 3.64346199e+01,  1.53644638e+02,  1.18760788e+02],\n",
              "       [ 6.98153000e+01,  4.59098282e+01, -9.01500092e+01],\n",
              "       [ 9.81568146e+01, -5.21955872e+01, -6.44269180e+01],\n",
              "       [ 7.11968613e+01,  4.21886368e+01, -1.64550209e+01],\n",
              "       [ 7.97022781e+01, -6.61801682e+01, -9.66411896e+01],\n",
              "       [ 5.03870735e+01, -1.23345276e+02,  1.19961632e+02],\n",
              "       [ 6.62671204e+01,  3.48534179e+00, -1.11102476e+01],\n",
              "       [ 2.38272995e+02,  1.20747406e+02, -1.54164581e+02],\n",
              "       [ 8.00578918e+01, -4.78097820e+00,  2.56238747e+01],\n",
              "       [ 3.90203857e+01,  2.09856815e+01, -7.26471710e+01],\n",
              "       [ 4.43283653e+01,  2.42618217e+01, -1.26842522e+02],\n",
              "       [-1.57988861e+02, -2.94346809e+01,  8.91589584e+01],\n",
              "       [ 3.22268791e+01,  1.33429504e+02,  3.37294312e+01],\n",
              "       [-1.13584801e+02,  6.18416328e+01,  8.84393082e+01],\n",
              "       [-9.53788757e+00, -4.78309059e+01, -2.29055862e+01],\n",
              "       [-8.49700546e+01,  4.85075989e+01,  1.03288628e+02],\n",
              "       [ 2.00105209e+01, -8.95884705e+01, -1.55055557e+02],\n",
              "       [ 4.44142418e+01, -3.70388641e+01, -2.43883934e+01],\n",
              "       [ 1.10670113e+02, -1.61015530e+01,  1.26118469e+02],\n",
              "       [ 1.24321472e+02,  1.88048706e+01,  5.53788719e+01],\n",
              "       [ 1.30699753e+02, -6.90350952e+01, -4.64432373e+01],\n",
              "       [ 9.72126846e+01,  1.42582657e+02,  4.29892445e+00],\n",
              "       [ 7.73261795e+01, -2.62968178e+01,  6.21294098e+01],\n",
              "       [ 7.79398651e+01,  1.80592194e+01,  7.57895203e+01],\n",
              "       [-1.21307611e+01, -1.60953873e+02,  2.37354031e+01],\n",
              "       [ 9.81992340e+01,  1.21018229e+01,  1.11945564e+02],\n",
              "       [ 7.78710327e+01, -1.05284554e+02,  7.55933151e+01],\n",
              "       [ 7.89178772e+01, -8.44391174e+01,  4.40791016e+01],\n",
              "       [ 9.91857605e+01, -1.37765793e+02,  5.88192139e+01],\n",
              "       [-7.86558437e+00, -1.25354225e+02, -1.16345589e+02],\n",
              "       [-9.27053909e+01, -7.48224869e+01, -1.47567245e+02],\n",
              "       [ 1.09123665e+02, -8.41854706e+01,  1.19597748e+02],\n",
              "       [-1.53665939e+02, -2.55331650e+01, -9.36934052e+01],\n",
              "       [-1.16740044e+02, -4.60078621e+00, -2.96725979e+01],\n",
              "       [ 1.30514328e+02,  5.97285652e+01,  9.72255020e+01],\n",
              "       [-1.61807976e+01, -1.05250298e+02, -5.13502655e+01],\n",
              "       [-1.75619537e+02, -8.50119324e+01, -3.38586044e+01],\n",
              "       [-1.55831451e+01,  6.40098267e+01,  1.08826866e+02],\n",
              "       [ 1.05690012e+01,  7.38402987e+00,  6.53238068e+01],\n",
              "       [ 2.54764318e+00,  1.10752289e+02, -6.96814728e+01],\n",
              "       [-1.18555079e+01, -1.08196083e+02,  1.31065079e+02],\n",
              "       [-1.51528259e+02,  6.55034637e+01,  3.39247322e+01],\n",
              "       [ 9.56342545e+01,  9.24843597e+01, -2.50539989e+01],\n",
              "       [ 3.75466652e+01,  4.86510582e+01,  1.54018066e+02],\n",
              "       [-5.18957138e+01,  2.68238049e+01, -3.06412067e+01],\n",
              "       [-1.26084337e+01, -6.44113693e+01, -1.28870529e+02],\n",
              "       [-2.56554174e+00,  1.75340363e+02, -7.58485260e+01],\n",
              "       [ 1.10425659e+02,  1.56948366e+01,  6.98350286e+00],\n",
              "       [ 1.43154282e+02,  1.04944397e+02, -1.57752142e+01],\n",
              "       [ 6.68709183e+01,  8.90172653e+01,  7.75609303e+00],\n",
              "       [ 1.98870621e+01, -6.37349777e+01,  1.11022148e+02],\n",
              "       [ 1.61733795e+02,  1.74587650e+01, -2.87682667e+01],\n",
              "       [ 4.00424004e+01,  5.73035812e+01, -4.07994423e+01],\n",
              "       [ 3.11943302e+01, -3.75125847e+01, -1.30763626e+02],\n",
              "       [-1.41166000e+02,  7.20967407e+01, -2.85508194e+01],\n",
              "       [-1.67854941e+00,  3.30984383e+01, -1.09952682e+02],\n",
              "       [ 1.40136688e+02,  7.32918549e+01,  5.54823418e+01],\n",
              "       [-1.11630013e+02, -4.59167175e+01,  9.27946320e+01],\n",
              "       [-6.90626068e+01, -1.63154892e+02, -1.99339924e+01],\n",
              "       [-4.11938591e+01, -9.43481979e+01, -9.46065598e+01],\n",
              "       [ 4.62536774e+01,  1.41284323e+01,  1.15137894e+02],\n",
              "       [-9.16123886e+01, -1.77028990e+00,  3.94828720e+01],\n",
              "       [-1.21629463e+02, -1.29545181e+02, -2.31830006e+01],\n",
              "       [ 1.18735245e+02, -1.06823479e+02, -7.87594376e+01],\n",
              "       [-6.26285973e+01, -8.06827011e+01,  1.88869610e+01],\n",
              "       [ 4.26473007e+01, -5.94786882e-01,  4.96014481e+01],\n",
              "       [ 1.18805649e+02, -2.52085724e+01, -1.35113953e+02],\n",
              "       [-2.32499599e+01, -1.08210236e+02,  4.80747375e+01],\n",
              "       [-7.91515503e+01, -8.71960907e+01,  9.33918839e+01],\n",
              "       [-4.37075119e+01, -1.73413818e+02,  6.24137154e+01],\n",
              "       [ 1.40013168e+02,  1.06164612e+02,  3.60362053e+01],\n",
              "       [-8.07974911e+00, -1.34266068e+02,  7.01908340e+01],\n",
              "       [-7.06544209e+00, -1.46777582e+01, -1.16993523e+02],\n",
              "       [-1.38352385e+01, -3.15358063e+02, -1.98128311e+02],\n",
              "       [-5.91614799e+01, -1.28334625e+02,  6.22749634e+01],\n",
              "       [-6.41765747e+01,  1.21115265e+02,  6.10711021e+01],\n",
              "       [-4.62492418e+00, -1.82638569e+01,  8.06881561e+01],\n",
              "       [ 1.11740585e+02,  4.59986801e+01, -1.86843376e+01],\n",
              "       [ 3.58215332e+01, -5.10114319e+02, -1.20027763e+02],\n",
              "       [-9.47644501e+01, -5.47767944e+01,  3.32235603e+01],\n",
              "       [-3.04864426e+01,  8.18675537e+01, -9.69867554e+01],\n",
              "       [-1.97952728e+01, -5.16574707e+01,  1.79639835e+01],\n",
              "       [ 8.96942749e+01, -7.40402451e+01, -1.78719387e+01],\n",
              "       [-5.34092979e+01,  1.34057741e+01,  1.51574163e+01],\n",
              "       [-2.09862156e+01, -3.37414694e+00,  1.20545258e+02],\n",
              "       [-1.55478191e+00, -5.07675171e+01,  6.03593521e+01],\n",
              "       [-5.02694588e+01, -5.46125717e+01, -7.01697874e+00],\n",
              "       [-1.31529175e+02,  2.68710213e+01, -9.72141933e+00],\n",
              "       [-9.55981445e+01, -1.34676163e+02,  2.33233814e+01],\n",
              "       [-1.27831406e+02, -3.98249702e+01, -5.59940300e+01],\n",
              "       [ 3.37032471e+01, -5.87205086e+01, -9.12645645e+01],\n",
              "       [-3.63055382e+01,  2.50538445e+01,  4.32654610e+01],\n",
              "       [-1.13941498e+02, -9.95427475e+01,  2.34437180e+01],\n",
              "       [-2.77074680e+01, -7.95339203e+01, -7.81270981e+00],\n",
              "       [-4.45092964e+01, -9.56717606e+01,  9.03682098e+01],\n",
              "       [ 1.15076317e+02, -7.22000351e+01, -1.10049156e+02],\n",
              "       [-2.00259238e-02,  5.49129333e+01, -6.33700447e+01],\n",
              "       [-1.00911758e+02, -1.20096428e+02,  1.00912193e+02],\n",
              "       [-4.26279907e+01, -6.90450592e+01,  5.32226486e+01],\n",
              "       [-6.69225464e+01, -1.39004395e+02,  1.00739227e+02],\n",
              "       [ 4.02577934e+01,  8.75759811e+01,  2.81882706e+01],\n",
              "       [ 1.48124619e+02, -5.90844536e+01,  5.58013916e+01],\n",
              "       [-5.06842880e+01, -1.22610069e+02,  1.83465080e+01],\n",
              "       [-4.39695549e+01, -4.86851685e+02,  1.21837944e+02],\n",
              "       [-2.21436501e+01,  4.71286297e+00,  6.31042480e+01],\n",
              "       [-2.38337879e+01, -1.36612534e+02, -1.70875435e+01],\n",
              "       [-6.38811731e+00,  2.12668056e+01,  8.29615688e+00],\n",
              "       [-1.05051552e+02, -1.53574387e+02,  6.45240631e+01],\n",
              "       [ 8.80040169e+00, -8.57071533e+01,  3.22824402e+01]], dtype=float32)"
            ]
          },
          "metadata": {
            "tags": []
          },
          "execution_count": 49
        }
      ]
    },
    {
      "cell_type": "code",
      "metadata": {
        "id": "RflfdlrNGqip",
        "colab_type": "code",
        "colab": {}
      },
      "source": [
        "x = X_t[:, 0]\n",
        "y = X_t[:, 1]\n",
        "z = X_t[:, 2]"
      ],
      "execution_count": 0,
      "outputs": []
    },
    {
      "cell_type": "code",
      "metadata": {
        "id": "iPSA4jWYCwzH",
        "colab_type": "code",
        "outputId": "49b1cbd2-e636-44b9-d520-2a35bbee24ca",
        "colab": {
          "base_uri": "https://localhost:8080/",
          "height": 248
        }
      },
      "source": [
        "from mpl_toolkits.mplot3d import Axes3D\n",
        "import matplotlib.pyplot as plt\n",
        "\n",
        "\n",
        "\n",
        "fig = plt.figure()\n",
        "ax = fig.add_subplot(111, projection='3d')\n",
        "\n",
        "\n",
        "ax.scatter(x, y, z, c='r', marker='o')\n",
        "\n",
        "ax.set_xlabel('X Label')\n",
        "ax.set_ylabel('Y Label')\n",
        "ax.set_zlabel('Z Label')\n",
        "\n",
        "plt.show()"
      ],
      "execution_count": 0,
      "outputs": [
        {
          "output_type": "display_data",
          "data": {
            "image/png": "[encoded data removed]",
            "text/plain": [
              "<Figure size 432x288 with 1 Axes>"
            ]
          },
          "metadata": {
            "tags": [],
            "needs_background": "light"
          }
        }
      ]
    },
    {
      "cell_type": "code",
      "metadata": {
        "id": "JeCjSUWtCuVF",
        "colab_type": "code",
        "colab": {}
      },
      "source": [
        ""
      ],
      "execution_count": 0,
      "outputs": []
    },
    {
      "cell_type": "code",
      "metadata": {
        "id": "nmE6xAyJqVSY",
        "colab_type": "code",
        "outputId": "4c0a66a7-c3a5-4c08-d6d6-f753752c1ead",
        "colab": {
          "base_uri": "https://localhost:8080/",
          "height": 483
        }
      },
      "source": [
        "def tsne_plot(x1, y1, name=\"graph.png\"):\n",
        "    tsne = TSNE(n_components=2, random_state=0)\n",
        "    X_t = tsne.fit_transform(x1)\n",
        "\n",
        "    plt.figure(figsize=(12, 8))\n",
        "    plt.scatter(X_t[np.where(y1 == '미래'), 0],X_t[np.where(y1 == '미래'), 1], marker='o', color='black', linewidth='1', alpha=0.8, label='미래')\n",
        "    plt.scatter(X_t[np.where(y1 == '문화/예술/체육/언론'), 0], X_t[np.where(y1 == '문화/예술/체육/언론'), 1], marker='o', color='darkgrey', linewidth='1', alpha=0.8, label='문화/예술/체육/언론')\n",
        "    plt.scatter(X_t[np.where(y1 == '보건복지'), 0], X_t[np.where(y1 == '보건복지'), 1], marker='o', color='lightcoral', linewidth='1', alpha=0.8, label='보건복지')\n",
        "    plt.scatter(X_t[np.where(y1 == '외교/통일/국방'), 0],X_t[np.where(y1 == '외교/통일/국방'), 1], marker='o', color='maroon', linewidth='1', alpha=0.8, label='외교/통일/국방')\n",
        "    plt.scatter(X_t[np.where(y1 == '경제민주화'), 0], X_t[np.where(y1 == '경제민주화'), 1], marker='o', color='tomato', linewidth='1', alpha=0.8, label='경제민주화')\n",
        "    plt.scatter(X_t[np.where(y1 == '행정'), 0], X_t[np.where(y1 == '행정'), 1], marker='o', color='lightsalmon', linewidth='1', alpha=0.8, label='행정')\n",
        "    plt.scatter(X_t[np.where(y1 == '농산어촌'), 0],X_t[np.where(y1 == '농산어촌'), 1], marker='o', color='peru', linewidth='1', alpha=0.8, label='농산어촌')\n",
        "    plt.scatter(X_t[np.where(y1 == '반려동물'), 0], X_t[np.where(y1 == '반려동물'), 1], marker='o', color='darkorange', linewidth='1', alpha=0.8, label='반려동물')\n",
        "    plt.scatter(X_t[np.where(y1 == '저출산/고령화대책'), 0],X_t[np.where(y1 == '저출산/고령화대책'), 1], marker='o', color='khaki', linewidth='1', alpha=0.8, label='저출산/고령화대책')\n",
        "    plt.scatter(X_t[np.where(y1 == '정치개혁'), 0], X_t[np.where(y1 == '정치개혁'), 1], marker='o', color='olive', linewidth='1', alpha=0.8, label='정치개혁')\n",
        "    plt.scatter(X_t[np.where(y1 == '인권/성평등'), 0],X_t[np.where(y1 == '인권/성평등'), 1], marker='o', color='darkseagreen', linewidth='1', alpha=0.8, label='인권/성평등')\n",
        "    plt.scatter(X_t[np.where(y1 == '육아/교육'), 0], X_t[np.where(y1 == '육아/교육'), 1], marker='o', color='palegreen', linewidth='1', alpha=0.8, label='육아/교육')\n",
        "    plt.scatter(X_t[np.where(y1 == '기타'), 0],X_t[np.where(y1 == '기타'), 1], marker='o', color='navy', linewidth='1', alpha=0.8, label='기타')\n",
        "    plt.scatter(X_t[np.where(y1 == '교통/건축/국토'), 0], X_t[np.where(y1 == '교통/건축/국토'), 1], marker='o', color='blue', linewidth='1', alpha=0.8, label='교통/건축/국토')\n",
        "    plt.scatter(X_t[np.where(y1 == '성장동력'), 0],X_t[np.where(y1 == '성장동력'), 1], marker='o', color='purple', linewidth='1', alpha=0.8, label='성장동력')\n",
        "    plt.scatter(X_t[np.where(y1 == '안전/환경'), 0],X_t[np.where(y1 == '안전/환경'), 1], marker='o', color='pink', linewidth='1', alpha=0.8, label='안전/환경')\n",
        "    plt.scatter(X_t[np.where(y1 == '일자리'), 0],X_t[np.where(y1 == '일자리'), 1], marker='o', color='crimson', linewidth='1', alpha=0.8, label='일자리')\n",
        "    \n",
        "    \n",
        "    plt.legend(loc='best')\n",
        "    # plt.savefig(name)\n",
        "    plt.show()\n",
        "tsne_plot(docmodel[article_list], category_list, name='123')"
      ],
      "execution_count": 0,
      "outputs": [
        {
          "output_type": "display_data",
          "data": {
            "image/png": "[encoded data removed]",
            "text/plain": [
              "<Figure size 864x576 with 1 Axes>"
            ]
          },
          "metadata": {
            "tags": [],
            "needs_background": "light"
          }
        }
      ]
    },
    {
      "cell_type": "code",
      "metadata": {
        "id": "pfhMokELAaBK",
        "colab_type": "code",
        "colab": {}
      },
      "source": [
        ""
      ],
      "execution_count": 0,
      "outputs": []
    },
    {
      "cell_type": "code",
      "metadata": {
        "id": "4Y8K9v2JN2KY",
        "colab_type": "code",
        "colab": {}
      },
      "source": [
        "def tsne_plot(x1, y1, name=\"graph.png\"):\n",
        "    tsne = TSNE(n_components=3, random_state=0)\n",
        "    X_t = tsne.fit_transform(x1)\n",
        "\n",
        "    fig = plt.figure()\n",
        "    ax = fig.add_subplot(111, projection='3d')\n",
        "\n",
        "    ax.scatter(X_t[np.where(y1 == '미래'), 0],X_t[np.where(y1 == '미래'), 1], X_t[np.where(y1 == '미래'), 2], marker='o', color='black', linewidth='1', alpha=0.8, label='미래')\n",
        "    ax.scatter(X_t[np.where(y1 == '문화/예술/체육/언론'), 0], X_t[np.where(y1 == '문화/예술/체육/언론'), 1], X_t[np.where(y1 == '문화/예술/체육/언론'), 2], marker='o', color='darkgrey', linewidth='1', alpha=0.8, label='문화/예술/체육/언론')\n",
        "    ax.scatter(X_t[np.where(y1 == '보건복지'), 0], X_t[np.where(y1 == '보건복지'), 1], X_t[np.where(y1 == '보건복지'), 2], marker='o', color='lightcoral', linewidth='1', alpha=0.8, label='보건복지')\n",
        "    ax.scatter(X_t[np.where(y1 == '외교/통일/국방'), 0],X_t[np.where(y1 == '외교/통일/국방'), 1], X_t[np.where(y1 == '외교/통일/국방'), 2], marker='o', color='maroon', linewidth='1', alpha=0.8, label='외교/통일/국방')\n",
        "    ax.scatter(X_t[np.where(y1 == '경제민주화'), 0], X_t[np.where(y1 == '경제민주화'), 1], X_t[np.where(y1 == '경제민주화'), 2], marker='o', color='tomato', linewidth='1', alpha=0.8, label='경제민주화')\n",
        "    ax.scatter(X_t[np.where(y1 == '행정'), 0], X_t[np.where(y1 == '행정'), 1], X_t[np.where(y1 == '행정'), 2],marker='o', color='lightsalmon', linewidth='1', alpha=0.8, label='행정')\n",
        "    ax.scatter(X_t[np.where(y1 == '농산어촌'), 0],X_t[np.where(y1 == '농산어촌'), 1], X_t[np.where(y1 == '농산어촌'), 2],marker='o', color='peru', linewidth='1', alpha=0.8, label='농산어촌')\n",
        "    ax.scatter(X_t[np.where(y1 == '반려동물'), 0], X_t[np.where(y1 == '반려동물'), 1], X_t[np.where(y1 == '반려동물'), 2],marker='o', color='darkorange', linewidth='1', alpha=0.8, label='반려동물')\n",
        "    ax.scatter(X_t[np.where(y1 == '저출산/고령화대책'), 0],X_t[np.where(y1 == '저출산/고령화대책'), 1], X_t[np.where(y1 == '저출산/고령화대책'), 2], marker='o', color='khaki', linewidth='1', alpha=0.8, label='저출산/고령화대책')\n",
        "    ax.scatter(X_t[np.where(y1 == '정치개혁'), 0], X_t[np.where(y1 == '정치개혁'), 1], X_t[np.where(y1 == '정치개혁'), 2],marker='o', color='olive', linewidth='1', alpha=0.8, label='정치개혁')\n",
        "    ax.scatter(X_t[np.where(y1 == '인권/성평등'), 0],X_t[np.where(y1 == '인권/성평등'), 1], X_t[np.where(y1 == '인권/성평등'), 2],marker='o', color='darkseagreen', linewidth='1', alpha=0.8, label='인권/성평등')\n",
        "    ax.scatter(X_t[np.where(y1 == '육아/교육'), 0], X_t[np.where(y1 == '육아/교육'), 1], X_t[np.where(y1 == '육아/교육'), 2],marker='o', color='palegreen', linewidth='1', alpha=0.8, label='육아/교육')\n",
        "    ax.scatter(X_t[np.where(y1 == '기타'), 0],X_t[np.where(y1 == '기타'), 1], X_t[np.where(y1 == '기타'), 2],marker='o', color='navy', linewidth='1', alpha=0.8, label='기타')\n",
        "    ax.scatter(X_t[np.where(y1 == '교통/건축/국토'), 0], X_t[np.where(y1 == '교통/건축/국토'), 1],X_t[np.where(y1 == '교통/건축/국토'), 2], marker='o', color='blue', linewidth='1', alpha=0.8, label='교통/건축/국토')\n",
        "    ax.scatter(X_t[np.where(y1 == '성장동력'), 0],X_t[np.where(y1 == '성장동력'), 1], X_t[np.where(y1 == '성장동력'), 2], marker='o', color='purple', linewidth='1', alpha=0.8, label='성장동력')\n",
        "    ax.scatter(X_t[np.where(y1 == '안전/환경'), 0],X_t[np.where(y1 == '안전/환경'), 1], X_t[np.where(y1 == '안전/환경'), 2],marker='o', color='pink', linewidth='1', alpha=0.8, label='안전/환경')\n",
        "    ax.scatter(X_t[np.where(y1 == '일자리'), 0],X_t[np.where(y1 == '일자리'), 1], X_t[np.where(y1 == '일자리'), 2],marker='o', color='crimson', linewidth='1', alpha=0.8, label='일자리')\n",
        "    \n",
        "    \n",
        "    plt.legend(loc='best')\n",
        "    plt.savefig(name)\n",
        "    plt.show()\n"
      ],
      "execution_count": 0,
      "outputs": []
    },
    {
      "cell_type": "code",
      "metadata": {
        "id": "unftbdIGIyPA",
        "colab_type": "code",
        "outputId": "0ff5b876-4a59-434c-9293-0e781a126a56",
        "colab": {
          "base_uri": "https://localhost:8080/",
          "height": 171
        }
      },
      "source": [
        "test = np.array(list(map(float, docmodel[article_list[0:2]])))"
      ],
      "execution_count": 0,
      "outputs": [
        {
          "output_type": "error",
          "ename": "TypeError",
          "evalue": "ignored",
          "traceback": [
            "\u001b[0;31m---------------------------------------------------------------------------\u001b[0m",
            "\u001b[0;31mTypeError\u001b[0m                                 Traceback (most recent call last)",
            "\u001b[0;32m<ipython-input-71-91c5f2007f79>\u001b[0m in \u001b[0;36m<module>\u001b[0;34m()\u001b[0m\n\u001b[0;32m----> 1\u001b[0;31m \u001b[0mtest\u001b[0m \u001b[0;34m=\u001b[0m \u001b[0mnp\u001b[0m\u001b[0;34m.\u001b[0m\u001b[0marray\u001b[0m\u001b[0;34m(\u001b[0m\u001b[0mlist\u001b[0m\u001b[0;34m(\u001b[0m\u001b[0mmap\u001b[0m\u001b[0;34m(\u001b[0m\u001b[0mfloat\u001b[0m\u001b[0;34m,\u001b[0m \u001b[0mdocmodel\u001b[0m\u001b[0;34m[\u001b[0m\u001b[0marticle_list\u001b[0m\u001b[0;34m[\u001b[0m\u001b[0;36m0\u001b[0m\u001b[0;34m:\u001b[0m\u001b[0;36m2\u001b[0m\u001b[0;34m]\u001b[0m\u001b[0;34m]\u001b[0m\u001b[0;34m)\u001b[0m\u001b[0;34m)\u001b[0m\u001b[0;34m)\u001b[0m\u001b[0;34m\u001b[0m\u001b[0;34m\u001b[0m\u001b[0m\n\u001b[0m",
            "\u001b[0;31mTypeError\u001b[0m: only size-1 arrays can be converted to Python scalars"
          ]
        }
      ]
    },
    {
      "cell_type": "code",
      "metadata": {
        "id": "G3Tf3rX-JOb-",
        "colab_type": "code",
        "outputId": "2f9b05b6-9a07-4c85-87a6-899527ecddad",
        "colab": {
          "base_uri": "https://localhost:8080/",
          "height": 35
        }
      },
      "source": [
        "test.shape"
      ],
      "execution_count": 0,
      "outputs": [
        {
          "output_type": "execute_result",
          "data": {
            "text/plain": [
              "()"
            ]
          },
          "metadata": {
            "tags": []
          },
          "execution_count": 70
        }
      ]
    },
    {
      "cell_type": "code",
      "metadata": {
        "id": "g-ZlWIZqnw5Q",
        "colab_type": "code",
        "outputId": "d6beee8d-9219-47ca-92d4-8ed819804f63",
        "colab": {
          "base_uri": "https://localhost:8080/",
          "height": 648
        }
      },
      "source": [
        "tsne_plot(test, category_list[0], name=\"graph.png\")"
      ],
      "execution_count": 0,
      "outputs": [
        {
          "output_type": "error",
          "ename": "ValueError",
          "evalue": "ignored",
          "traceback": [
            "\u001b[0;31m---------------------------------------------------------------------------\u001b[0m",
            "\u001b[0;31mValueError\u001b[0m                                Traceback (most recent call last)",
            "\u001b[0;32m<ipython-input-65-ebb79a1000f0>\u001b[0m in \u001b[0;36m<module>\u001b[0;34m()\u001b[0m\n\u001b[0;32m----> 1\u001b[0;31m \u001b[0mtsne_plot\u001b[0m\u001b[0;34m(\u001b[0m\u001b[0mtest\u001b[0m\u001b[0;34m,\u001b[0m \u001b[0mcategory_list\u001b[0m\u001b[0;34m[\u001b[0m\u001b[0;36m0\u001b[0m\u001b[0;34m]\u001b[0m\u001b[0;34m,\u001b[0m \u001b[0mname\u001b[0m\u001b[0;34m=\u001b[0m\u001b[0;34m\"graph.png\"\u001b[0m\u001b[0;34m)\u001b[0m\u001b[0;34m\u001b[0m\u001b[0;34m\u001b[0m\u001b[0m\n\u001b[0m",
            "\u001b[0;32m<ipython-input-49-025a0ebeeb23>\u001b[0m in \u001b[0;36mtsne_plot\u001b[0;34m(x1, y1, name)\u001b[0m\n\u001b[1;32m      1\u001b[0m \u001b[0;32mdef\u001b[0m \u001b[0mtsne_plot\u001b[0m\u001b[0;34m(\u001b[0m\u001b[0mx1\u001b[0m\u001b[0;34m,\u001b[0m \u001b[0my1\u001b[0m\u001b[0;34m,\u001b[0m \u001b[0mname\u001b[0m\u001b[0;34m=\u001b[0m\u001b[0;34m\"graph.png\"\u001b[0m\u001b[0;34m)\u001b[0m\u001b[0;34m:\u001b[0m\u001b[0;34m\u001b[0m\u001b[0;34m\u001b[0m\u001b[0m\n\u001b[1;32m      2\u001b[0m     \u001b[0mtsne\u001b[0m \u001b[0;34m=\u001b[0m \u001b[0mTSNE\u001b[0m\u001b[0;34m(\u001b[0m\u001b[0mn_components\u001b[0m\u001b[0;34m=\u001b[0m\u001b[0;36m3\u001b[0m\u001b[0;34m,\u001b[0m \u001b[0mrandom_state\u001b[0m\u001b[0;34m=\u001b[0m\u001b[0;36m0\u001b[0m\u001b[0;34m)\u001b[0m\u001b[0;34m\u001b[0m\u001b[0;34m\u001b[0m\u001b[0m\n\u001b[0;32m----> 3\u001b[0;31m     \u001b[0mX_t\u001b[0m \u001b[0;34m=\u001b[0m \u001b[0mtsne\u001b[0m\u001b[0;34m.\u001b[0m\u001b[0mfit_transform\u001b[0m\u001b[0;34m(\u001b[0m\u001b[0mx1\u001b[0m\u001b[0;34m)\u001b[0m\u001b[0;34m\u001b[0m\u001b[0;34m\u001b[0m\u001b[0m\n\u001b[0m\u001b[1;32m      4\u001b[0m \u001b[0;34m\u001b[0m\u001b[0m\n\u001b[1;32m      5\u001b[0m     \u001b[0mfig\u001b[0m \u001b[0;34m=\u001b[0m \u001b[0mplt\u001b[0m\u001b[0;34m.\u001b[0m\u001b[0mfigure\u001b[0m\u001b[0;34m(\u001b[0m\u001b[0;34m)\u001b[0m\u001b[0;34m\u001b[0m\u001b[0;34m\u001b[0m\u001b[0m\n",
            "\u001b[0;32m/usr/local/lib/python3.6/dist-packages/sklearn/manifold/_t_sne.py\u001b[0m in \u001b[0;36mfit_transform\u001b[0;34m(self, X, y)\u001b[0m\n\u001b[1;32m    884\u001b[0m             \u001b[0mEmbedding\u001b[0m \u001b[0mof\u001b[0m \u001b[0mthe\u001b[0m \u001b[0mtraining\u001b[0m \u001b[0mdata\u001b[0m \u001b[0;32min\u001b[0m \u001b[0mlow\u001b[0m\u001b[0;34m-\u001b[0m\u001b[0mdimensional\u001b[0m \u001b[0mspace\u001b[0m\u001b[0;34m.\u001b[0m\u001b[0;34m\u001b[0m\u001b[0;34m\u001b[0m\u001b[0m\n\u001b[1;32m    885\u001b[0m         \"\"\"\n\u001b[0;32m--> 886\u001b[0;31m         \u001b[0membedding\u001b[0m \u001b[0;34m=\u001b[0m \u001b[0mself\u001b[0m\u001b[0;34m.\u001b[0m\u001b[0m_fit\u001b[0m\u001b[0;34m(\u001b[0m\u001b[0mX\u001b[0m\u001b[0;34m)\u001b[0m\u001b[0;34m\u001b[0m\u001b[0;34m\u001b[0m\u001b[0m\n\u001b[0m\u001b[1;32m    887\u001b[0m         \u001b[0mself\u001b[0m\u001b[0;34m.\u001b[0m\u001b[0membedding_\u001b[0m \u001b[0;34m=\u001b[0m \u001b[0membedding\u001b[0m\u001b[0;34m\u001b[0m\u001b[0;34m\u001b[0m\u001b[0m\n\u001b[1;32m    888\u001b[0m         \u001b[0;32mreturn\u001b[0m \u001b[0mself\u001b[0m\u001b[0;34m.\u001b[0m\u001b[0membedding_\u001b[0m\u001b[0;34m\u001b[0m\u001b[0;34m\u001b[0m\u001b[0m\n",
            "\u001b[0;32m/usr/local/lib/python3.6/dist-packages/sklearn/manifold/_t_sne.py\u001b[0m in \u001b[0;36m_fit\u001b[0;34m(self, X, skip_num_points)\u001b[0m\n\u001b[1;32m    664\u001b[0m         \u001b[0;32mif\u001b[0m \u001b[0mself\u001b[0m\u001b[0;34m.\u001b[0m\u001b[0mmethod\u001b[0m \u001b[0;34m==\u001b[0m \u001b[0;34m'barnes_hut'\u001b[0m\u001b[0;34m:\u001b[0m\u001b[0;34m\u001b[0m\u001b[0;34m\u001b[0m\u001b[0m\n\u001b[1;32m    665\u001b[0m             X = check_array(X, accept_sparse=['csr'], ensure_min_samples=2,\n\u001b[0;32m--> 666\u001b[0;31m                             dtype=[np.float32, np.float64])\n\u001b[0m\u001b[1;32m    667\u001b[0m         \u001b[0;32melse\u001b[0m\u001b[0;34m:\u001b[0m\u001b[0;34m\u001b[0m\u001b[0;34m\u001b[0m\u001b[0m\n\u001b[1;32m    668\u001b[0m             X = check_array(X, accept_sparse=['csr', 'csc', 'coo'],\n",
            "\u001b[0;32m/usr/local/lib/python3.6/dist-packages/sklearn/utils/validation.py\u001b[0m in \u001b[0;36mcheck_array\u001b[0;34m(array, accept_sparse, accept_large_sparse, dtype, order, copy, force_all_finite, ensure_2d, allow_nd, ensure_min_samples, ensure_min_features, warn_on_dtype, estimator)\u001b[0m\n\u001b[1;32m    554\u001b[0m                     \u001b[0;34m\"Reshape your data either using array.reshape(-1, 1) if \"\u001b[0m\u001b[0;34m\u001b[0m\u001b[0;34m\u001b[0m\u001b[0m\n\u001b[1;32m    555\u001b[0m                     \u001b[0;34m\"your data has a single feature or array.reshape(1, -1) \"\u001b[0m\u001b[0;34m\u001b[0m\u001b[0;34m\u001b[0m\u001b[0m\n\u001b[0;32m--> 556\u001b[0;31m                     \"if it contains a single sample.\".format(array))\n\u001b[0m\u001b[1;32m    557\u001b[0m \u001b[0;34m\u001b[0m\u001b[0m\n\u001b[1;32m    558\u001b[0m         \u001b[0;31m# in the future np.flexible dtypes will be handled like object dtypes\u001b[0m\u001b[0;34m\u001b[0m\u001b[0;34m\u001b[0m\u001b[0;34m\u001b[0m\u001b[0m\n",
            "\u001b[0;31mValueError\u001b[0m: Expected 2D array, got 1D array instead:\narray=[-4.378696   -1.1959999   1.622794    0.23413885  6.200063    1.0734208\n  4.521303   -3.6365948   7.7203918   6.9300246   3.4696958  -0.35688862\n  2.4293478   2.7148201  -0.02744743 -7.981542    0.04282313  6.5736732\n  4.3288164   7.212483    1.6666056   1.4272228   4.717643   -4.5741296\n  3.397846    0.6487168  -0.44470704 -4.054434   -3.6898217   0.26043665\n  4.76023     7.2002015   2.808241    2.4680681   7.1342454  -4.814211\n  3.737949   -3.9195175   6.732258   -4.3738923   2.6479554  -1.5390457\n -3.0323958  -2.352463   -8.455262    0.56193477  3.1221418  -7.135949\n  1.1297762   2.3041515  -8.947371    1.6713374   6.979056    1.8385948\n  1.7338285  -9.002249   -4.8443003   0.3894057  -6.1720567  -0.04647572\n  3.2615023  -8.916522   -3.755819   -9.790358   -5.5587106   2.4294562\n  3.411525   -4.857424    1.5401646   5.5405135  -3.196885    0.84466636\n -4.567076   -2.619425    4.8425646   2.1101763  -1.9479566   1.0049149\n -0.48662075 -2.075019    1.3519609  -0.0758929   3.3152063  -4.4975276\n -4.943061    1.5672897   1.5448967  -3.204589    3.7690022   4.1676755\n  3.5599003  -4.9587116   9.241246    8.518287    5.962618   -6.690532\n  0.46059653  2.340894    4.1106324  -1.5104097 ].\nReshape your data either using array.reshape(-1, 1) if your data has a single feature or array.reshape(1, -1) if it contains a single sample."
          ]
        }
      ]
    },
    {
      "cell_type": "code",
      "metadata": {
        "id": "ThoAmucPHvrY",
        "colab_type": "code",
        "outputId": "835e6f8b-03c6-49f3-f9d0-0d48f41de967",
        "colab": {
          "base_uri": "https://localhost:8080/",
          "height": 252
        }
      },
      "source": [
        "docmodel[article_list[0:100]].astype('float64')"
      ],
      "execution_count": 0,
      "outputs": [
        {
          "output_type": "execute_result",
          "data": {
            "text/plain": [
              "array([[-4.37869596, -1.19599986,  1.62279403, ...,  2.34089398,\n",
              "         4.11063242, -1.51040971],\n",
              "       [ 2.40967679, -5.31095457,  0.77151948, ...,  1.57143211,\n",
              "        -5.10931492, -8.20110321],\n",
              "       [ 3.53443742, -0.534006  ,  2.52850699, ..., -0.47835967,\n",
              "         1.99282444, -1.8312695 ],\n",
              "       ...,\n",
              "       [-1.87598956,  0.28115299,  5.45189285, ..., -2.63160372,\n",
              "         2.01974678, -6.17580557],\n",
              "       [ 4.28465509,  1.45152962, -0.11507496, ..., -0.64362633,\n",
              "         8.95467567, -1.64241433],\n",
              "       [ 0.21987103, -2.60945439, -0.22703981, ...,  9.65984726,\n",
              "         3.01285505, -4.14508724]])"
            ]
          },
          "metadata": {
            "tags": []
          },
          "execution_count": 54
        }
      ]
    },
    {
      "cell_type": "code",
      "metadata": {
        "id": "eSG-vl8YHwUS",
        "colab_type": "code",
        "colab": {}
      },
      "source": [
        "from sklearn.datasets import make_swiss_roll\n",
        "\n",
        "X, t = make_swiss_roll(n_samples=1000, noise=0)"
      ],
      "execution_count": 0,
      "outputs": []
    },
    {
      "cell_type": "code",
      "metadata": {
        "id": "3CvProzJQffi",
        "colab_type": "code",
        "outputId": "8385bebd-a89a-457c-c2b0-5fc42e180d14",
        "colab": {
          "base_uri": "https://localhost:8080/",
          "height": 1000
        }
      },
      "source": [
        "t"
      ],
      "execution_count": 0,
      "outputs": [
        {
          "output_type": "execute_result",
          "data": {
            "text/plain": [
              "array([10.27029255, 10.73578471, 13.35180084, 12.74229717, 12.36683459,\n",
              "        8.96319934,  8.24971548, 10.06086239,  8.84056677, 12.96062457,\n",
              "       11.13505166, 12.29997254, 10.32854529, 12.29993006,  8.78870802,\n",
              "        9.59864138, 13.14261   , 12.97918794,  7.97729402,  9.45409087,\n",
              "       13.77918846,  7.68253188, 10.64807328,  9.72039274,  5.63345954,\n",
              "        8.75583735,  9.59549194,  9.4891791 ,  8.87444778,  4.91233982,\n",
              "        8.09869762,  9.93585039,  4.90346372, 11.79818926,  7.03001209,\n",
              "        7.9954285 , 13.94598476,  4.90517186, 12.81329411, 12.49491556,\n",
              "       10.88682161,  8.46370739, 11.00870506,  6.4271023 , 11.15775068,\n",
              "       10.25982914, 13.01751978,  7.2315672 , 12.74848376,  5.64135288,\n",
              "       14.01766071,  6.16031146, 12.37976709,  9.58057752, 13.49215611,\n",
              "       13.86121919,  7.28697195, 12.34774873,  9.47215923, 11.25938251,\n",
              "        7.24092365,  8.26165474,  9.84609453,  6.84670553,  6.99976172,\n",
              "        5.85744822,  7.92261532, 14.0007499 ,  6.65588563,  5.03877413,\n",
              "       13.55929347,  8.7833246 ,  9.12441353, 11.06590876,  6.45544933,\n",
              "       12.21336485,  6.90832668,  6.48389266,  4.857733  ,  4.80247826,\n",
              "       10.23638229, 13.29140398, 13.36348561,  5.21913878,  4.73962095,\n",
              "        8.87924328, 13.8139052 ,  7.68127021, 12.7398776 ,  6.64075716,\n",
              "        6.91256345, 12.25216576, 11.40096802,  5.80521106,  8.03753772,\n",
              "       11.57468085,  5.70628562, 10.32566529,  9.822672  ,  8.81193317,\n",
              "        9.75532219, 11.96418055, 11.46440185,  5.51901681,  8.18845164,\n",
              "       10.43677918,  6.99418934,  8.33452108,  9.25479152, 13.25563936,\n",
              "       11.73790828,  8.64211225,  9.61056273, 13.04403729,  6.96626748,\n",
              "       10.85562836, 13.74097018, 11.95523532,  9.27005572,  8.03063258,\n",
              "        7.44072937, 13.07857441,  6.82888902,  5.09542678,  6.58239939,\n",
              "       13.27451947, 11.88874063, 12.35511415, 13.2516065 , 11.16111204,\n",
              "        7.95678182,  6.30705112,  8.69462691, 12.35296218,  4.83118553,\n",
              "        9.71604591,  6.56691967,  5.48255998,  6.23644914,  6.1180615 ,\n",
              "       12.56086663,  6.08279309, 13.12487821,  9.77506079,  9.25603324,\n",
              "        8.47358455,  4.76913609, 10.61006766, 11.83590469, 11.74862818,\n",
              "        8.77200546,  6.02915087,  8.25677028,  6.43151124, 12.30424312,\n",
              "        5.32176011,  9.38812881,  5.66938713, 11.18507268,  7.89756448,\n",
              "        6.65331062, 10.13421854,  9.20788812,  5.28724003, 12.40612135,\n",
              "       12.24794017,  7.55251268,  8.76293611,  6.18541021, 12.72871927,\n",
              "        8.99163794, 12.02311442,  5.04968624,  5.57385304, 13.54421719,\n",
              "        5.21330352,  7.91972865,  4.99808004, 11.78336665,  5.14668802,\n",
              "       13.68681685, 11.87890671, 11.64464611,  5.83497672, 10.72686619,\n",
              "        7.59106348,  4.96810584, 12.76371831, 13.17739161,  6.435386  ,\n",
              "       12.82642763,  6.93765271,  5.26214445,  7.93777349,  9.21037604,\n",
              "       13.53821619,  9.66881992,  7.87704973,  4.76587907, 11.5909048 ,\n",
              "        7.30364418,  9.53518051, 10.9838131 , 13.59960855, 11.94710082,\n",
              "       10.74514989, 10.73456547, 11.4097456 , 13.09235481,  9.45159512,\n",
              "       12.59811897,  5.62121742,  7.38152787,  5.78477307,  5.80687312,\n",
              "        7.84917896,  7.75560066,  4.89640165, 11.08466191, 11.34374681,\n",
              "        8.94530131, 11.1810484 , 13.89704503, 10.79489438, 11.82079629,\n",
              "       11.40605892, 10.32289531,  7.57124117,  9.49199421,  6.93587858,\n",
              "       12.29980957, 10.71081566,  7.23235663,  5.06855522, 11.85195727,\n",
              "       11.23850536, 12.34708993, 13.9802241 , 14.07771783,  8.40369323,\n",
              "        5.34096513, 11.14800698,  5.4600737 ,  9.5447213 , 10.46065388,\n",
              "       10.39308192, 13.11924334,  7.26883817, 12.69846862, 12.63920679,\n",
              "        6.06878027,  8.21494127,  9.96373511,  8.94502427,  5.05433722,\n",
              "        8.86881689, 10.49704174, 12.38468713,  7.08048761,  4.79036756,\n",
              "       11.91757385,  9.77869843,  7.33161848,  8.75849129, 11.92033548,\n",
              "       11.38150978,  4.98843312, 12.42339296,  6.09212545,  9.35593195,\n",
              "        5.27189221,  7.6109326 , 13.00326834,  7.73875239,  8.99077155,\n",
              "       12.14668876, 10.34802941, 11.1783696 , 11.00395955, 13.34682983,\n",
              "        7.27742848, 12.03566185,  8.10478557,  7.83309599, 10.51847416,\n",
              "        9.73322333,  6.76698995, 14.06543322,  4.73692933,  8.60560274,\n",
              "        6.06309696,  8.56160083, 13.84830073, 10.05597703, 11.68835421,\n",
              "        5.08823786,  9.97561193,  8.96574789, 13.64685415, 12.22230658,\n",
              "        9.3714993 ,  6.11048813,  9.0040829 , 11.07660986,  9.51292926,\n",
              "        5.36191233, 11.69315095,  9.65396718, 10.06228918,  6.16839772,\n",
              "        4.81242796,  8.56844989, 11.40991805, 11.40784999, 11.88728384,\n",
              "       11.30818884,  7.25660847,  6.52581807,  9.82806537, 10.3447844 ,\n",
              "        7.12692028,  4.87215652, 13.79077633, 12.00662457, 12.2205275 ,\n",
              "        5.71444063, 12.84878046, 13.03622794, 10.68703337,  6.81599489,\n",
              "       10.05317352,  5.960336  , 11.06301781, 13.85889031,  8.04052164,\n",
              "       14.12226186,  8.15103975,  5.39975055, 10.21853319,  9.78812238,\n",
              "       12.967101  ,  4.97746486, 13.15605833,  8.9058977 , 13.74203696,\n",
              "        6.26751307,  5.51341995, 10.7748694 , 14.03206603,  7.42853379,\n",
              "        7.71547493,  5.64444885,  6.82750766,  6.53965748, 10.22001012,\n",
              "        7.65609609,  8.96145802,  6.39302731, 12.09077372, 13.54399128,\n",
              "        7.46906059,  8.18627381,  6.24992399,  5.5779476 ,  9.82948591,\n",
              "       10.33880645, 10.3571339 , 11.53315832, 12.52505702, 13.54617725,\n",
              "        5.56455317, 11.40877053,  6.26153972, 13.31619352,  6.94743966,\n",
              "       13.17138319, 10.91784377,  8.74817511,  7.31368004,  5.39447334,\n",
              "        4.77996261,  7.48301877,  6.04698997,  9.39142577, 12.52062413,\n",
              "        7.04109718, 13.05657021,  7.98840614,  6.06852582,  6.49138691,\n",
              "        6.0911584 ,  5.66139573,  5.0772343 ,  6.2602457 , 11.25359076,\n",
              "       12.09665642,  9.34871445,  5.61594857, 12.29278562,  9.54053698,\n",
              "       13.06900213,  4.9624999 , 10.2325074 , 12.22849186,  9.48366244,\n",
              "        8.35979835, 11.55196833,  9.38279741, 12.43167402,  8.29389331,\n",
              "        6.14097602, 10.08168963,  6.59777246,  7.44120357,  9.30904598,\n",
              "        8.64127922, 11.1033061 ,  7.11675148, 12.68668896, 13.492401  ,\n",
              "       11.36363717,  9.11912875,  4.97694724,  9.43701087, 11.71272655,\n",
              "       10.00946221,  5.25863306, 10.57606917, 13.71348552,  6.25082389,\n",
              "        9.89334937,  9.04426265,  7.73009944,  7.33595538,  8.14010989,\n",
              "       13.70016753, 12.52717885,  6.21813266, 13.32414085, 13.03789781,\n",
              "        8.23364417, 13.47301504,  5.87634467, 12.76536497,  6.19426361,\n",
              "       10.70384579,  6.79304314, 12.11772391, 11.03273727,  9.35118677,\n",
              "        5.38016854,  5.95988736,  7.02057476, 11.90084063,  5.22505231,\n",
              "        8.54606235, 13.48945274,  9.9555759 ,  6.7995211 ,  8.07236324,\n",
              "       10.39775453,  4.7498501 ,  6.76729815, 10.62683624, 12.88423559,\n",
              "        8.38181913,  4.84218074,  5.66720949,  4.81254687,  9.65413955,\n",
              "       11.1692298 ,  7.06111227,  8.6121641 , 11.11535858,  6.24798903,\n",
              "        4.84925018, 11.12457129, 13.8099718 ,  9.98804652,  5.52017322,\n",
              "       10.3449452 ,  5.0951032 , 11.45270801,  7.42152767,  9.22562784,\n",
              "        8.8130667 ,  6.43978312,  9.7363515 ,  9.95163597,  8.20986067,\n",
              "        7.15788333, 14.06771517,  9.07485466,  6.81083241, 11.98210442,\n",
              "       10.40866719, 10.15862782,  4.82288161, 11.5448561 ,  9.73626063,\n",
              "       11.07738428,  8.55842119,  4.95324577, 10.33240661,  6.02054238,\n",
              "        9.10342456,  6.47910975, 10.92887531,  5.07761875, 13.76324163,\n",
              "        4.78398659, 11.57755376, 12.17779724,  8.80106068, 10.21946137,\n",
              "       10.43508666,  4.81234149, 11.12190617,  6.8244441 ,  5.98399017,\n",
              "        9.14457832,  5.05533329,  9.75121484,  7.56507911,  6.52551535,\n",
              "       13.9278984 ,  6.99159576,  4.99717249,  4.78514553, 13.59826377,\n",
              "        8.07216911,  5.89958967,  8.7533561 , 12.4975946 ,  8.78109717,\n",
              "       11.92457136,  8.56281742, 12.51453641, 10.56354391,  5.6298808 ,\n",
              "        5.50506346,  5.3676165 , 12.14878333,  7.89421481, 11.41197986,\n",
              "       12.67858817,  6.41385424,  7.31184461,  6.44336125, 11.33277222,\n",
              "       10.75350038, 13.69452765,  6.3338456 , 12.18569589,  7.71960248,\n",
              "       10.29090773, 10.79747857,  7.14071224,  5.96867367,  7.85105495,\n",
              "        9.18945376,  9.32870842,  7.60451065,  9.22355273,  5.11759834,\n",
              "       10.20217134,  8.80774793,  7.47947981,  6.20066025, 13.34243622,\n",
              "        5.59842976, 10.42798493, 11.38136545,  7.48121735,  6.45870392,\n",
              "       10.49769118, 11.73107924, 10.1900983 ,  5.34011644,  6.03127026,\n",
              "        5.01696666, 12.09611308,  6.97159715,  6.57033114,  4.91147024,\n",
              "        8.99218087,  9.36341604,  5.31901337,  7.63579347,  5.94050156,\n",
              "        4.9172756 , 12.80372794, 11.38185003,  7.1271255 ,  4.98460219,\n",
              "        7.21499797,  6.21117389, 11.73040448, 13.43328831, 12.41484213,\n",
              "        5.68519967,  6.82023575, 12.53234261,  4.84622203,  6.12468582,\n",
              "       12.41451615,  9.60175738, 13.80922729,  5.4962336 ,  6.52621066,\n",
              "       10.59190432,  8.0782868 ,  7.97544462,  7.56703875, 10.7611468 ,\n",
              "       11.81614913,  8.74310355,  8.89093371,  9.63078229, 12.05717598,\n",
              "       12.87323859, 11.97440686, 11.52313152, 13.88484941,  7.29881668,\n",
              "        6.94702001,  7.09237264,  9.69575411,  4.75642762, 10.19489489,\n",
              "       12.30765957, 12.83399928,  7.51877555, 12.85727556, 13.29491411,\n",
              "        8.36734383, 10.63063976,  9.25213724, 11.28336715, 13.34930977,\n",
              "       10.75457039, 11.28507475, 14.03507053,  7.63657801,  6.71440407,\n",
              "       13.50751873,  5.17053717, 13.89322256,  5.24587299, 13.27110515,\n",
              "       13.1550087 , 13.32059232,  9.08230684,  7.54117932, 12.35754222,\n",
              "        5.13194959, 13.11828969, 13.39814423, 12.70856417,  7.01319411,\n",
              "       10.65816174, 11.85195843,  5.01552797, 13.28761928, 10.26825111,\n",
              "        9.92986622, 11.84791469,  6.55424833,  8.58108516,  6.31583837,\n",
              "        6.60463519, 13.62014121,  6.03171386,  4.94458653, 14.07247351,\n",
              "       12.63552679,  8.63336212,  6.11486782, 11.02800323,  5.96912715,\n",
              "        5.40742522, 11.58994952,  4.91131827,  9.28314651,  9.14267236,\n",
              "        4.85619408,  9.24970418,  9.31358579,  6.81489759, 11.54307138,\n",
              "       13.00355453, 12.28408505,  6.4083263 ,  6.62628646,  7.54118142,\n",
              "        8.45943649,  8.25335998,  5.15329503,  6.72216757, 10.04811207,\n",
              "        7.91083639, 14.08642446, 11.63599139, 12.4513505 , 11.91599706,\n",
              "        8.50999865, 11.39249923, 13.38513027,  8.04650221, 12.6199524 ,\n",
              "        6.04837764,  9.96104377, 12.59601977,  5.0294693 ,  5.35352657,\n",
              "        5.78896132, 13.90039934,  5.36191423, 11.48560445,  8.75879445,\n",
              "        6.77109761,  8.52653866, 11.55123017,  7.77315204, 13.4031945 ,\n",
              "        5.70816818, 11.51331857, 10.55302672,  9.17064848, 11.21835199,\n",
              "        7.64822218,  9.89180951,  9.43834018,  8.17948509,  6.31916618,\n",
              "       10.67481649,  9.16055925, 11.8798205 , 11.56696681,  6.53169017,\n",
              "       11.0833078 ,  9.25361392, 11.69612272, 10.14193173, 13.77807823,\n",
              "        5.94064828, 12.89811037,  5.33574244,  8.55268974, 10.94582243,\n",
              "        7.94502273,  5.35412631,  7.5568238 ,  8.95983211,  5.43599336,\n",
              "       13.70478741, 10.75465185, 13.80492491, 13.73535884,  6.01204983,\n",
              "       10.19740933,  5.27740526, 10.53587274,  6.6595966 ,  6.85247483,\n",
              "        5.73216132, 12.24318323,  5.82161388, 12.05550333,  4.78290528,\n",
              "       12.08501766, 12.06871668,  9.64601905,  7.76277928,  6.48522799,\n",
              "       12.47137559, 10.15780948, 13.77257728,  7.20544237, 11.40419747,\n",
              "       13.16297915,  9.28799931,  8.73874344,  4.88555154,  8.13664066,\n",
              "       10.17981835,  7.59212276,  5.70025234,  6.34279537, 12.88098018,\n",
              "       10.35811857,  7.2773661 ,  9.20582878, 12.03682206, 12.44249001,\n",
              "        6.78381675,  8.37455957, 13.53182507,  8.70957324, 10.70874995,\n",
              "        5.79628533,  9.02837074,  9.84398503, 11.26276376,  6.07081072,\n",
              "       10.13312123,  4.77633675,  8.68159318, 11.8018753 ,  4.86059153,\n",
              "        8.42514451, 13.89407343, 11.53131858, 10.99232171, 12.22572718,\n",
              "        9.38103095,  6.991628  , 10.46313886, 10.79328441,  9.17137372,\n",
              "       11.57985734,  8.84701452, 13.53268852, 11.98441682,  6.06450011,\n",
              "        7.48139695, 12.28074644,  5.12807473, 10.76996608,  5.39620611,\n",
              "       13.30537554, 12.76917683, 10.6521133 , 10.42241575, 11.45869626,\n",
              "       13.75145508, 11.06301108, 13.90561212,  9.1279773 ,  8.73537379,\n",
              "       11.30600789, 13.8406056 , 13.20853526,  6.01885386,  7.6817231 ,\n",
              "        8.02496729,  5.15117457,  6.41208446, 10.78225557,  8.41356785,\n",
              "        5.57069213,  8.8258646 , 12.48835713, 13.42719562, 13.19134948,\n",
              "        6.77514542,  8.80338885,  4.80310004, 11.62025571, 13.9922408 ,\n",
              "        9.33471642,  7.65037958, 12.77100649,  9.96610631,  5.39052638,\n",
              "        5.96672436,  6.05667976,  5.61086468, 10.55112558,  9.86885178,\n",
              "        6.70734101, 14.00243941,  9.4116847 , 10.40661561,  6.2294988 ,\n",
              "       10.60477284,  5.24385646,  4.73879907, 11.20442989,  9.16750914,\n",
              "        7.7049525 ,  6.36185085, 10.0062815 , 12.25195452,  9.21852343,\n",
              "        5.9147852 ,  9.91449413,  5.02986087,  7.77230839, 13.37763151,\n",
              "        6.36171425,  9.31024403, 13.68889471,  7.87187   , 11.81370762,\n",
              "        9.63520591, 12.29222047, 12.5984696 , 13.00963237,  6.57081706,\n",
              "       11.04977497, 10.56366799,  5.64924722, 13.46995061,  9.18304502,\n",
              "        9.80733538,  7.06944791, 11.28581116,  6.43501191,  5.88692367,\n",
              "       11.87402321,  9.9474007 , 12.04183743, 10.6194683 , 11.37857102,\n",
              "        6.02734406,  6.26990902, 12.62355568, 12.57149479, 11.83259113,\n",
              "       12.13468942,  8.7040676 , 10.69081092, 13.0139168 , 13.8266984 ,\n",
              "        8.60002913, 12.25098078,  9.47212526,  9.4312509 , 10.39057787,\n",
              "        9.63515978, 12.09635894, 10.25244051, 13.55136841,  9.08378097,\n",
              "       11.7360042 ,  6.29198139, 13.64997852,  6.07852508,  6.97132897,\n",
              "       10.56160495,  6.41908909,  8.13405866,  6.66556647, 11.39661825,\n",
              "       10.73362779,  6.41594127,  7.61961612,  6.08702952,  8.07739655,\n",
              "        7.2095725 ,  7.60438211,  8.57701758,  6.27684   ,  9.90690035,\n",
              "        6.84381337,  8.1489376 ,  6.54088306, 13.409351  , 10.67956111,\n",
              "        6.05065809, 12.59385254, 10.08725636,  9.26012851,  4.99529371,\n",
              "       13.09901104,  9.17699513,  6.56312709, 11.24542294,  5.56430241,\n",
              "        7.521913  , 12.88864886, 10.5489122 , 10.14951651,  9.5589772 ,\n",
              "       12.19012447,  9.22402872,  7.49491981,  9.16073425, 13.67735956,\n",
              "        9.65696255,  6.85476963, 10.41616663,  8.97366575, 13.7079357 ,\n",
              "       12.80547511,  4.93075082,  9.17780783, 12.05840608,  4.99104888,\n",
              "        9.57557399, 10.83692405,  4.908649  , 13.29996156, 10.52246641,\n",
              "       12.54070685,  9.47937795, 12.0971874 , 14.00223841,  7.95101548])"
            ]
          },
          "metadata": {
            "tags": []
          },
          "execution_count": 59
        }
      ]
    },
    {
      "cell_type": "code",
      "metadata": {
        "id": "i4yrwzw0JYdk",
        "colab_type": "code",
        "colab": {}
      },
      "source": [
        "color = (t - t.min()) / (t.max() - t.min())"
      ],
      "execution_count": 0,
      "outputs": []
    },
    {
      "cell_type": "code",
      "metadata": {
        "id": "tesnJHOTL9sd",
        "colab_type": "code",
        "outputId": "a227238a-5ff8-4940-e679-d58c279a2770",
        "colab": {
          "base_uri": "https://localhost:8080/",
          "height": 148
        }
      },
      "source": [
        "X"
      ],
      "execution_count": 0,
      "outputs": [
        {
          "output_type": "execute_result",
          "data": {
            "text/plain": [
              "array([[ -6.81276054,   5.2495719 ,  -7.68538892],\n",
              "       [ -2.75777829,  18.40943431, -10.37553527],\n",
              "       [  9.44084618,  19.3647404 ,   9.44145164],\n",
              "       ...,\n",
              "       [ 10.78993994,  19.19382401,  -5.46983904],\n",
              "       [  1.88357404,   1.68294699,  13.87497132],\n",
              "       [ -0.77030746,  19.99824378,   7.91361318]])"
            ]
          },
          "metadata": {
            "tags": []
          },
          "execution_count": 41
        }
      ]
    },
    {
      "cell_type": "code",
      "metadata": {
        "id": "s6Nj6A9pPndq",
        "colab_type": "code",
        "colab": {}
      },
      "source": [
        "X=X_t"
      ],
      "execution_count": 0,
      "outputs": []
    },
    {
      "cell_type": "code",
      "metadata": {
        "id": "PUnGOEqKPpYd",
        "colab_type": "code",
        "colab": {}
      },
      "source": [
        "aa=df2['category'][:300]"
      ],
      "execution_count": 0,
      "outputs": []
    },
    {
      "cell_type": "code",
      "metadata": {
        "id": "10XPJ3DXPuTI",
        "colab_type": "code",
        "outputId": "4a80c875-b12a-4191-eeed-7eba1e7ea8cc",
        "colab": {
          "base_uri": "https://localhost:8080/",
          "height": 36
        }
      },
      "source": [
        "len(aa)"
      ],
      "execution_count": 0,
      "outputs": [
        {
          "output_type": "execute_result",
          "data": {
            "text/plain": [
              "300"
            ]
          },
          "metadata": {
            "tags": []
          },
          "execution_count": 54
        }
      ]
    },
    {
      "cell_type": "code",
      "metadata": {
        "id": "s038qaQSJc5_",
        "colab_type": "code",
        "colab": {}
      },
      "source": [
        "from plotly.offline import plot\n",
        "import plotly.graph_objs as go"
      ],
      "execution_count": 0,
      "outputs": []
    },
    {
      "cell_type": "code",
      "metadata": {
        "id": "10_DMxVVJejS",
        "colab_type": "code",
        "colab": {}
      },
      "source": [
        "data = go.Scatter3d(\n",
        "    x=X[:,0],\n",
        "    y=X[:,1],\n",
        "    z=X[:,2],\n",
        "    text = ['category:{}'.format(aa.iloc[i]) for i in range(len(aa))],\n",
        "    mode='markers',\n",
        "    marker=dict(\n",
        "        size=3,\n",
        "        color=color,\n",
        "        colorscale='Jet',\n",
        "        line=dict(\n",
        "            #color='rgba(217, 217, 217, 0.14)',\n",
        "            #color='rgb(217, 217, 217)',\n",
        "            width=0.0\n",
        "        ),\n",
        "        opacity=0.8\n",
        "    )\n",
        ")\n",
        "color"
      ],
      "execution_count": 0,
      "outputs": []
    },
    {
      "cell_type": "code",
      "metadata": {
        "id": "UpgCtxaaSpox",
        "colab_type": "code",
        "colab": {}
      },
      "source": [
        "dfdf=pd.DataFrame({'x':X[:,0],'y':X[:,1],'z':X[:,2],'category':aa})"
      ],
      "execution_count": 0,
      "outputs": []
    },
    {
      "cell_type": "code",
      "metadata": {
        "id": "XkcawiZPS7Pa",
        "colab_type": "code",
        "outputId": "98beac84-be71-4e43-9e24-4c11851eb6e3",
        "colab": {
          "base_uri": "https://localhost:8080/",
          "height": 415
        }
      },
      "source": [
        "dfdf"
      ],
      "execution_count": 0,
      "outputs": [
        {
          "output_type": "execute_result",
          "data": {
            "text/html": [
              "<div>\n",
              "<style scoped>\n",
              "    .dataframe tbody tr th:only-of-type {\n",
              "        vertical-align: middle;\n",
              "    }\n",
              "\n",
              "    .dataframe tbody tr th {\n",
              "        vertical-align: top;\n",
              "    }\n",
              "\n",
              "    .dataframe thead th {\n",
              "        text-align: right;\n",
              "    }\n",
              "</style>\n",
              "<table border=\"1\" class=\"dataframe\">\n",
              "  <thead>\n",
              "    <tr style=\"text-align: right;\">\n",
              "      <th></th>\n",
              "      <th>x</th>\n",
              "      <th>y</th>\n",
              "      <th>z</th>\n",
              "      <th>category</th>\n",
              "    </tr>\n",
              "  </thead>\n",
              "  <tbody>\n",
              "    <tr>\n",
              "      <th>0</th>\n",
              "      <td>118.395325</td>\n",
              "      <td>-35.830727</td>\n",
              "      <td>86.462090</td>\n",
              "      <td>경제민주화</td>\n",
              "    </tr>\n",
              "    <tr>\n",
              "      <th>1</th>\n",
              "      <td>12.493712</td>\n",
              "      <td>133.840179</td>\n",
              "      <td>84.488739</td>\n",
              "      <td>기타</td>\n",
              "    </tr>\n",
              "    <tr>\n",
              "      <th>2</th>\n",
              "      <td>-71.717194</td>\n",
              "      <td>36.177235</td>\n",
              "      <td>56.221310</td>\n",
              "      <td>기타</td>\n",
              "    </tr>\n",
              "    <tr>\n",
              "      <th>3</th>\n",
              "      <td>43.542534</td>\n",
              "      <td>-159.934418</td>\n",
              "      <td>-69.900307</td>\n",
              "      <td>외교/통일/국방</td>\n",
              "    </tr>\n",
              "    <tr>\n",
              "      <th>4</th>\n",
              "      <td>-10.910457</td>\n",
              "      <td>-59.144855</td>\n",
              "      <td>151.167923</td>\n",
              "      <td>외교/통일/국방</td>\n",
              "    </tr>\n",
              "    <tr>\n",
              "      <th>...</th>\n",
              "      <td>...</td>\n",
              "      <td>...</td>\n",
              "      <td>...</td>\n",
              "      <td>...</td>\n",
              "    </tr>\n",
              "    <tr>\n",
              "      <th>295</th>\n",
              "      <td>-22.143650</td>\n",
              "      <td>4.712863</td>\n",
              "      <td>63.104248</td>\n",
              "      <td>저출산/고령화대책</td>\n",
              "    </tr>\n",
              "    <tr>\n",
              "      <th>296</th>\n",
              "      <td>-23.833788</td>\n",
              "      <td>-136.612534</td>\n",
              "      <td>-17.087543</td>\n",
              "      <td>저출산/고령화대책</td>\n",
              "    </tr>\n",
              "    <tr>\n",
              "      <th>297</th>\n",
              "      <td>-6.388117</td>\n",
              "      <td>21.266806</td>\n",
              "      <td>8.296157</td>\n",
              "      <td>저출산/고령화대책</td>\n",
              "    </tr>\n",
              "    <tr>\n",
              "      <th>298</th>\n",
              "      <td>-105.051552</td>\n",
              "      <td>-153.574387</td>\n",
              "      <td>64.524063</td>\n",
              "      <td>저출산/고령화대책</td>\n",
              "    </tr>\n",
              "    <tr>\n",
              "      <th>299</th>\n",
              "      <td>8.800402</td>\n",
              "      <td>-85.707153</td>\n",
              "      <td>32.282440</td>\n",
              "      <td>저출산/고령화대책</td>\n",
              "    </tr>\n",
              "  </tbody>\n",
              "</table>\n",
              "<p>300 rows × 4 columns</p>\n",
              "</div>"
            ],
            "text/plain": [
              "              x           y           z   category\n",
              "0    118.395325  -35.830727   86.462090      경제민주화\n",
              "1     12.493712  133.840179   84.488739         기타\n",
              "2    -71.717194   36.177235   56.221310         기타\n",
              "3     43.542534 -159.934418  -69.900307   외교/통일/국방\n",
              "4    -10.910457  -59.144855  151.167923   외교/통일/국방\n",
              "..          ...         ...         ...        ...\n",
              "295  -22.143650    4.712863   63.104248  저출산/고령화대책\n",
              "296  -23.833788 -136.612534  -17.087543  저출산/고령화대책\n",
              "297   -6.388117   21.266806    8.296157  저출산/고령화대책\n",
              "298 -105.051552 -153.574387   64.524063  저출산/고령화대책\n",
              "299    8.800402  -85.707153   32.282440  저출산/고령화대책\n",
              "\n",
              "[300 rows x 4 columns]"
            ]
          },
          "metadata": {
            "tags": []
          },
          "execution_count": 64
        }
      ]
    },
    {
      "cell_type": "code",
      "metadata": {
        "id": "voNd3uBhSKtT",
        "colab_type": "code",
        "outputId": "135e0faa-5f32-459d-e2d4-55dd7c0eec11",
        "colab": {
          "base_uri": "https://localhost:8080/",
          "height": 420
        }
      },
      "source": [
        "data = go.Scatter3d(dfdf,\n",
        "    x='x', y='y', z='z',\n",
        "                    color='category', symbol='category'\n",
        ")"
      ],
      "execution_count": 0,
      "outputs": [
        {
          "output_type": "error",
          "ename": "ValueError",
          "evalue": "ignored",
          "traceback": [
            "\u001b[0;31m---------------------------------------------------------------------------\u001b[0m",
            "\u001b[0;31mValueError\u001b[0m                                Traceback (most recent call last)",
            "\u001b[0;32m<ipython-input-65-60d36b368d01>\u001b[0m in \u001b[0;36m<module>\u001b[0;34m()\u001b[0m\n\u001b[1;32m      1\u001b[0m data = go.Scatter3d(dfdf,\n\u001b[1;32m      2\u001b[0m     \u001b[0mx\u001b[0m\u001b[0;34m=\u001b[0m\u001b[0;34m'x'\u001b[0m\u001b[0;34m,\u001b[0m \u001b[0my\u001b[0m\u001b[0;34m=\u001b[0m\u001b[0;34m'y'\u001b[0m\u001b[0;34m,\u001b[0m \u001b[0mz\u001b[0m\u001b[0;34m=\u001b[0m\u001b[0;34m'z'\u001b[0m\u001b[0;34m,\u001b[0m\u001b[0;34m\u001b[0m\u001b[0;34m\u001b[0m\u001b[0m\n\u001b[0;32m----> 3\u001b[0;31m                     \u001b[0mcolor\u001b[0m\u001b[0;34m=\u001b[0m\u001b[0;34m'category'\u001b[0m\u001b[0;34m,\u001b[0m \u001b[0msymbol\u001b[0m\u001b[0;34m=\u001b[0m\u001b[0;34m'category'\u001b[0m\u001b[0;34m\u001b[0m\u001b[0;34m\u001b[0m\u001b[0m\n\u001b[0m\u001b[1;32m      4\u001b[0m )\n",
            "\u001b[0;32m/usr/local/lib/python3.6/dist-packages/plotly/graph_objs/__init__.py\u001b[0m in \u001b[0;36m__init__\u001b[0;34m(self, arg, connectgaps, customdata, customdatasrc, error_x, error_y, error_z, hoverinfo, hoverinfosrc, hoverlabel, hovertemplate, hovertemplatesrc, hovertext, hovertextsrc, ids, idssrc, legendgroup, line, marker, meta, metasrc, mode, name, opacity, projection, scene, showlegend, stream, surfaceaxis, surfacecolor, text, textfont, textposition, textpositionsrc, textsrc, texttemplate, texttemplatesrc, uid, uirevision, visible, x, xcalendar, xsrc, y, ycalendar, ysrc, z, zcalendar, zsrc, **kwargs)\u001b[0m\n\u001b[1;32m  34675\u001b[0m \u001b[0mThe\u001b[0m \u001b[0mfirst\u001b[0m \u001b[0margument\u001b[0m \u001b[0mto\u001b[0m \u001b[0mthe\u001b[0m \u001b[0mplotly\u001b[0m\u001b[0;34m.\u001b[0m\u001b[0mgraph_objs\u001b[0m\u001b[0;34m.\u001b[0m\u001b[0mScatter3d\u001b[0m\u001b[0;34m\u001b[0m\u001b[0;34m\u001b[0m\u001b[0m\n\u001b[1;32m  34676\u001b[0m \u001b[0mconstructor\u001b[0m \u001b[0mmust\u001b[0m \u001b[0mbe\u001b[0m \u001b[0ma\u001b[0m \u001b[0mdict\u001b[0m \u001b[0;32mor\u001b[0m\u001b[0;34m\u001b[0m\u001b[0;34m\u001b[0m\u001b[0m\n\u001b[0;32m> 34677\u001b[0;31m an instance of plotly.graph_objs.Scatter3d\"\"\"\n\u001b[0m\u001b[1;32m  34678\u001b[0m             )\n\u001b[1;32m  34679\u001b[0m \u001b[0;34m\u001b[0m\u001b[0m\n",
            "\u001b[0;31mValueError\u001b[0m: The first argument to the plotly.graph_objs.Scatter3d \nconstructor must be a dict or \nan instance of plotly.graph_objs.Scatter3d"
          ]
        }
      ]
    },
    {
      "cell_type": "code",
      "metadata": {
        "id": "0bA1QN55JhgR",
        "colab_type": "code",
        "outputId": "cff8d9f7-e52b-4a50-bac5-77c72fe31875",
        "colab": {
          "base_uri": "https://localhost:8080/",
          "height": 148
        }
      },
      "source": [
        "layout = go.Layout(\n",
        "    autosize=False,\n",
        "    width=500,\n",
        "    height=500,\n",
        "    margin=go.Margin(\n",
        "        l=50,\n",
        "        r=50,\n",
        "        b=100,\n",
        "        t=100,\n",
        "        pad=4\n",
        "    ),\n",
        "    #paper_bgcolor='#7f7f7f',\n",
        "    #plot_bgcolor='#c7c7c7'\n",
        ")"
      ],
      "execution_count": 0,
      "outputs": [
        {
          "output_type": "stream",
          "text": [
            "/usr/local/lib/python3.6/dist-packages/plotly/graph_objs/_deprecations.py:410: DeprecationWarning:\n",
            "\n",
            "plotly.graph_objs.Margin is deprecated.\n",
            "Please replace it with one of the following more specific types\n",
            "  - plotly.graph_objs.layout.Margin\n",
            "\n",
            "\n"
          ],
          "name": "stderr"
        }
      ]
    },
    {
      "cell_type": "code",
      "metadata": {
        "id": "EgCiPS_yTa5j",
        "colab_type": "code",
        "colab": {}
      },
      "source": [
        "import plotly.express as px\n",
        "df = px.data.iris()"
      ],
      "execution_count": 0,
      "outputs": []
    },
    {
      "cell_type": "code",
      "metadata": {
        "id": "mPP_ekojTb5w",
        "colab_type": "code",
        "outputId": "0a22fcfd-9fed-4dc9-d10c-01d039703540",
        "colab": {
          "base_uri": "https://localhost:8080/",
          "height": 36
        }
      },
      "source": [
        "type(df)"
      ],
      "execution_count": 0,
      "outputs": [
        {
          "output_type": "execute_result",
          "data": {
            "text/plain": [
              "pandas.core.frame.DataFrame"
            ]
          },
          "metadata": {
            "tags": []
          },
          "execution_count": 68
        }
      ]
    },
    {
      "cell_type": "code",
      "metadata": {
        "id": "hYHTF3CJTlal",
        "colab_type": "code",
        "outputId": "2df5ce49-f5e6-41d9-b6f2-ee97f7c3c47c",
        "colab": {
          "base_uri": "https://localhost:8080/",
          "height": 542
        }
      },
      "source": [
        "import plotly.express as px\n",
        "df = px.data.iris()\n",
        "fig = px.scatter_3d(dfdf, x='x', y='y', z='z',\n",
        "                    color='category',size_max=18,symbol='cluster')\n",
        " #symbol='category'\n",
        "fig.show()"
      ],
      "execution_count": 0,
      "outputs": [
        {
          "output_type": "display_data",
          "data": {
            "text/html": [
              "<html>\n",
              "<head><meta charset=\"utf-8\" /></head>\n",
              "<body>\n",
              "    <div>\n",
              "            <script src=\"https://cdnjs.cloudflare.com/ajax/libs/mathjax/2.7.5/MathJax.js?config=TeX-AMS-MML_SVG\"></script><script type=\"text/javascript\">if (window.MathJax) {MathJax.Hub.Config({SVG: {font: \"STIX-Web\"}});}</script>\n",
              "                <script type=\"text/javascript\">window.PlotlyConfig = {MathJaxConfig: 'local'};</script>\n",
              "        <script src=\"https://cdn.plot.ly/plotly-latest.min.js\"></script>    \n",
              "            <div id=\"1c51778c-acd3-4bd0-9e27-8f8a93da9ba1\" class=\"plotly-graph-div\" style=\"height:525px; width:100%;\"></div>\n",
              "            <script type=\"text/javascript\">\n",
              "                \n",
              "                    window.PLOTLYENV=window.PLOTLYENV || {};\n",
              "                    \n",
              "                if (document.getElementById(\"1c51778c-acd3-4bd0-9e27-8f8a93da9ba1\")) {\n",
              "                    Plotly.newPlot(\n",
              "                        '1c51778c-acd3-4bd0-9e27-8f8a93da9ba1',\n",
              "                        [{\"hoverlabel\": {\"namelength\": 0}, \"hovertemplate\": \"category=\\uacbd\\uc81c\\ubbfc\\uc8fc\\ud654<br>cluster=0<br>x=%{x}<br>y=%{y}<br>z=%{z}\", \"legendgroup\": \"category=\\uacbd\\uc81c\\ubbfc\\uc8fc\\ud654, cluster=0\", \"marker\": {\"color\": \"#636efa\", \"symbol\": \"circle\"}, \"mode\": \"markers\", \"name\": \"category=\\uacbd\\uc81c\\ubbfc\\uc8fc\\ud654, cluster=0\", \"scene\": \"scene\", \"showlegend\": true, \"type\": \"scatter3d\", \"x\": [118.39532470703125], \"y\": [-35.830726623535156], \"z\": [86.46208953857422]}, {\"hoverlabel\": {\"namelength\": 0}, \"hovertemplate\": \"category=\\uacbd\\uc81c\\ubbfc\\uc8fc\\ud654<br>cluster=8<br>x=%{x}<br>y=%{y}<br>z=%{z}\", \"legendgroup\": \"category=\\uacbd\\uc81c\\ubbfc\\uc8fc\\ud654, cluster=8\", \"marker\": {\"color\": \"#636efa\", \"symbol\": \"diamond\"}, \"mode\": \"markers\", \"name\": \"category=\\uacbd\\uc81c\\ubbfc\\uc8fc\\ud654, cluster=8\", \"scene\": \"scene\", \"showlegend\": true, \"type\": \"scatter3d\", \"x\": [37.54666519165039], \"y\": [48.651058197021484], \"z\": [154.01806640625]}, {\"hoverlabel\": {\"namelength\": 0}, \"hovertemplate\": \"category=\\uacbd\\uc81c\\ubbfc\\uc8fc\\ud654<br>cluster=6<br>x=%{x}<br>y=%{y}<br>z=%{z}\", \"legendgroup\": \"category=\\uacbd\\uc81c\\ubbfc\\uc8fc\\ud654, cluster=6\", \"marker\": {\"color\": \"#636efa\", \"symbol\": \"square\"}, \"mode\": \"markers\", \"name\": \"category=\\uacbd\\uc81c\\ubbfc\\uc8fc\\ud654, cluster=6\", \"scene\": \"scene\", \"showlegend\": true, \"type\": \"scatter3d\", \"x\": [57.90937423706055, 89.69285583496094], \"y\": [-66.23565673828125, -44.86040115356445], \"z\": [102.37352752685547, 100.07152557373047]}, {\"hoverlabel\": {\"namelength\": 0}, \"hovertemplate\": \"category=\\uacbd\\uc81c\\ubbfc\\uc8fc\\ud654<br>cluster=16<br>x=%{x}<br>y=%{y}<br>z=%{z}\", \"legendgroup\": \"category=\\uacbd\\uc81c\\ubbfc\\uc8fc\\ud654, cluster=16\", \"marker\": {\"color\": \"#636efa\", \"symbol\": \"x\"}, \"mode\": \"markers\", \"name\": \"category=\\uacbd\\uc81c\\ubbfc\\uc8fc\\ud654, cluster=16\", \"scene\": \"scene\", \"showlegend\": true, \"type\": \"scatter3d\", \"x\": [-151.52825927734375], \"y\": [65.50346374511719], \"z\": [33.92473220825195]}, {\"hoverlabel\": {\"namelength\": 0}, \"hovertemplate\": \"category=\\uae30\\ud0c0<br>cluster=0<br>x=%{x}<br>y=%{y}<br>z=%{z}\", \"legendgroup\": \"category=\\uae30\\ud0c0, cluster=0\", \"marker\": {\"color\": \"#EF553B\", \"symbol\": \"circle\"}, \"mode\": \"markers\", \"name\": \"category=\\uae30\\ud0c0, cluster=0\", \"scene\": \"scene\", \"showlegend\": true, \"type\": \"scatter3d\", \"x\": [110.67011260986328], \"y\": [-16.101552963256836], \"z\": [126.11846923828125]}, {\"hoverlabel\": {\"namelength\": 0}, \"hovertemplate\": \"category=\\uae30\\ud0c0<br>cluster=8<br>x=%{x}<br>y=%{y}<br>z=%{z}\", \"legendgroup\": \"category=\\uae30\\ud0c0, cluster=8\", \"marker\": {\"color\": \"#EF553B\", \"symbol\": \"diamond\"}, \"mode\": \"markers\", \"name\": \"category=\\uae30\\ud0c0, cluster=8\", \"scene\": \"scene\", \"showlegend\": true, \"type\": \"scatter3d\", \"x\": [12.493712425231934, 32.22687911987305], \"y\": [133.84017944335938, 133.42950439453125], \"z\": [84.48873901367188, 33.72943115234375]}, {\"hoverlabel\": {\"namelength\": 0}, \"hovertemplate\": \"category=\\uae30\\ud0c0<br>cluster=14<br>x=%{x}<br>y=%{y}<br>z=%{z}\", \"legendgroup\": \"category=\\uae30\\ud0c0, cluster=14\", \"marker\": {\"color\": \"#EF553B\", \"symbol\": \"cross\"}, \"mode\": \"markers\", \"name\": \"category=\\uae30\\ud0c0, cluster=14\", \"scene\": \"scene\", \"showlegend\": true, \"type\": \"scatter3d\", \"x\": [-71.71719360351562], \"y\": [36.1772346496582], \"z\": [56.221309661865234]}, {\"hoverlabel\": {\"namelength\": 0}, \"hovertemplate\": \"category=\\uae30\\ud0c0<br>cluster=6<br>x=%{x}<br>y=%{y}<br>z=%{z}\", \"legendgroup\": \"category=\\uae30\\ud0c0, cluster=6\", \"marker\": {\"color\": \"#EF553B\", \"symbol\": \"square\"}, \"mode\": \"markers\", \"name\": \"category=\\uae30\\ud0c0, cluster=6\", \"scene\": \"scene\", \"showlegend\": true, \"type\": \"scatter3d\", \"x\": [39.1335563659668, 15.737503051757812], \"y\": [-23.41895294189453, -20.209657669067383], \"z\": [91.2064437866211, 129.80638122558594]}, {\"hoverlabel\": {\"namelength\": 0}, \"hovertemplate\": \"category=\\uae30\\ud0c0<br>cluster=1<br>x=%{x}<br>y=%{y}<br>z=%{z}\", \"legendgroup\": \"category=\\uae30\\ud0c0, cluster=1\", \"marker\": {\"color\": \"#EF553B\", \"symbol\": \"circle\"}, \"mode\": \"markers\", \"name\": \"category=\\uae30\\ud0c0, cluster=1\", \"scene\": \"scene\", \"showlegend\": true, \"type\": \"scatter3d\", \"x\": [-126.38868713378906], \"y\": [34.342628479003906], \"z\": [-57.80217361450195]}, {\"hoverlabel\": {\"namelength\": 0}, \"hovertemplate\": \"category=\\uae30\\ud0c0<br>cluster=4<br>x=%{x}<br>y=%{y}<br>z=%{z}\", \"legendgroup\": \"category=\\uae30\\ud0c0, cluster=4\", \"marker\": {\"color\": \"#EF553B\", \"symbol\": \"diamond\"}, \"mode\": \"markers\", \"name\": \"category=\\uae30\\ud0c0, cluster=4\", \"scene\": \"scene\", \"showlegend\": true, \"type\": \"scatter3d\", \"x\": [-209.12684631347656, -175.61953735351562], \"y\": [-224.48362731933594, -85.01193237304688], \"z\": [-144.34066772460938, -33.858604431152344]}, {\"hoverlabel\": {\"namelength\": 0}, \"hovertemplate\": \"category=\\uae30\\ud0c0<br>cluster=7<br>x=%{x}<br>y=%{y}<br>z=%{z}\", \"legendgroup\": \"category=\\uae30\\ud0c0, cluster=7\", \"marker\": {\"color\": \"#EF553B\", \"symbol\": \"square\"}, \"mode\": \"markers\", \"name\": \"category=\\uae30\\ud0c0, cluster=7\", \"scene\": \"scene\", \"showlegend\": true, \"type\": \"scatter3d\", \"x\": [53.72149658203125], \"y\": [-130.37371826171875], \"z\": [10.423784255981445]}, {\"hoverlabel\": {\"namelength\": 0}, \"hovertemplate\": \"category=\\uae30\\ud0c0<br>cluster=10<br>x=%{x}<br>y=%{y}<br>z=%{z}\", \"legendgroup\": \"category=\\uae30\\ud0c0, cluster=10\", \"marker\": {\"color\": \"#EF553B\", \"symbol\": \"x\"}, \"mode\": \"markers\", \"name\": \"category=\\uae30\\ud0c0, cluster=10\", \"scene\": \"scene\", \"showlegend\": true, \"type\": \"scatter3d\", \"x\": [28.382902145385742], \"y\": [-72.59219360351562], \"z\": [-46.54280090332031]}, {\"hoverlabel\": {\"namelength\": 0}, \"hovertemplate\": \"category=\\uae30\\ud0c0<br>cluster=15<br>x=%{x}<br>y=%{y}<br>z=%{z}\", \"legendgroup\": \"category=\\uae30\\ud0c0, cluster=15\", \"marker\": {\"color\": \"#EF553B\", \"symbol\": \"cross\"}, \"mode\": \"markers\", \"name\": \"category=\\uae30\\ud0c0, cluster=15\", \"scene\": \"scene\", \"showlegend\": true, \"type\": \"scatter3d\", \"x\": [43.2263069152832], \"y\": [138.9773406982422], \"z\": [4.032474994659424]}, {\"hoverlabel\": {\"namelength\": 0}, \"hovertemplate\": \"category=\\uae30\\ud0c0<br>cluster=11<br>x=%{x}<br>y=%{y}<br>z=%{z}\", \"legendgroup\": \"category=\\uae30\\ud0c0, cluster=11\", \"marker\": {\"color\": \"#EF553B\", \"symbol\": \"circle\"}, \"mode\": \"markers\", \"name\": \"category=\\uae30\\ud0c0, cluster=11\", \"scene\": \"scene\", \"showlegend\": true, \"type\": \"scatter3d\", \"x\": [-86.94769287109375], \"y\": [-70.48554992675781], \"z\": [-7.2043681144714355]}, {\"hoverlabel\": {\"namelength\": 0}, \"hovertemplate\": \"category=\\uc678\\uad50/\\ud1b5\\uc77c/\\uad6d\\ubc29<br>cluster=0<br>x=%{x}<br>y=%{y}<br>z=%{z}\", \"legendgroup\": \"category=\\uc678\\uad50/\\ud1b5\\uc77c/\\uad6d\\ubc29, cluster=0\", \"marker\": {\"color\": \"#00cc96\", \"symbol\": \"circle\"}, \"mode\": \"markers\", \"name\": \"category=\\uc678\\uad50/\\ud1b5\\uc77c/\\uad6d\\ubc29, cluster=0\", \"scene\": \"scene\", \"showlegend\": true, \"type\": \"scatter3d\", \"x\": [81.29505157470703], \"y\": [41.34223175048828], \"z\": [23.174283981323242]}, {\"hoverlabel\": {\"namelength\": 0}, \"hovertemplate\": \"category=\\uc678\\uad50/\\ud1b5\\uc77c/\\uad6d\\ubc29<br>cluster=8<br>x=%{x}<br>y=%{y}<br>z=%{z}\", \"legendgroup\": \"category=\\uc678\\uad50/\\ud1b5\\uc77c/\\uad6d\\ubc29, cluster=8\", \"marker\": {\"color\": \"#00cc96\", \"symbol\": \"diamond\"}, \"mode\": \"markers\", \"name\": \"category=\\uc678\\uad50/\\ud1b5\\uc77c/\\uad6d\\ubc29, cluster=8\", \"scene\": \"scene\", \"showlegend\": true, \"type\": \"scatter3d\", \"x\": [23.1905517578125, 38.76840591430664, 47.23912811279297, 16.833669662475586, 59.8123893737793], \"y\": [95.21533203125, 98.78756713867188, 98.9129867553711, 57.52609634399414, 124.93074035644531], \"z\": [103.49320220947266, 76.60902404785156, 135.1663055419922, 73.4906997680664, 94.82408142089844]}, {\"hoverlabel\": {\"namelength\": 0}, \"hovertemplate\": \"category=\\uc678\\uad50/\\ud1b5\\uc77c/\\uad6d\\ubc29<br>cluster=14<br>x=%{x}<br>y=%{y}<br>z=%{z}\", \"legendgroup\": \"category=\\uc678\\uad50/\\ud1b5\\uc77c/\\uad6d\\ubc29, cluster=14\", \"marker\": {\"color\": \"#00cc96\", \"symbol\": \"cross\"}, \"mode\": \"markers\", \"name\": \"category=\\uc678\\uad50/\\ud1b5\\uc77c/\\uad6d\\ubc29, cluster=14\", \"scene\": \"scene\", \"showlegend\": true, \"type\": \"scatter3d\", \"x\": [-179.90585327148438], \"y\": [11.836294174194336], \"z\": [47.9431266784668]}, {\"hoverlabel\": {\"namelength\": 0}, \"hovertemplate\": \"category=\\uc678\\uad50/\\ud1b5\\uc77c/\\uad6d\\ubc29<br>cluster=5<br>x=%{x}<br>y=%{y}<br>z=%{z}\", \"legendgroup\": \"category=\\uc678\\uad50/\\ud1b5\\uc77c/\\uad6d\\ubc29, cluster=5\", \"marker\": {\"color\": \"#00cc96\", \"symbol\": \"diamond\"}, \"mode\": \"markers\", \"name\": \"category=\\uc678\\uad50/\\ud1b5\\uc77c/\\uad6d\\ubc29, cluster=5\", \"scene\": \"scene\", \"showlegend\": true, \"type\": \"scatter3d\", \"x\": [43.54253387451172], \"y\": [-159.93441772460938], \"z\": [-69.90030670166016]}, {\"hoverlabel\": {\"namelength\": 0}, \"hovertemplate\": \"category=\\uc678\\uad50/\\ud1b5\\uc77c/\\uad6d\\ubc29<br>cluster=6<br>x=%{x}<br>y=%{y}<br>z=%{z}\", \"legendgroup\": \"category=\\uc678\\uad50/\\ud1b5\\uc77c/\\uad6d\\ubc29, cluster=6\", \"marker\": {\"color\": \"#00cc96\", \"symbol\": \"square\"}, \"mode\": \"markers\", \"name\": \"category=\\uc678\\uad50/\\ud1b5\\uc77c/\\uad6d\\ubc29, cluster=6\", \"scene\": \"scene\", \"showlegend\": true, \"type\": \"scatter3d\", \"x\": [-10.910456657409668, 46.25367736816406], \"y\": [-59.14485549926758, 14.128432273864746], \"z\": [151.1679229736328, 115.13789367675781]}, {\"hoverlabel\": {\"namelength\": 0}, \"hovertemplate\": \"category=\\uc678\\uad50/\\ud1b5\\uc77c/\\uad6d\\ubc29<br>cluster=9<br>x=%{x}<br>y=%{y}<br>z=%{z}\", \"legendgroup\": \"category=\\uc678\\uad50/\\ud1b5\\uc77c/\\uad6d\\ubc29, cluster=9\", \"marker\": {\"color\": \"#00cc96\", \"symbol\": \"square\"}, \"mode\": \"markers\", \"name\": \"category=\\uc678\\uad50/\\ud1b5\\uc77c/\\uad6d\\ubc29, cluster=9\", \"scene\": \"scene\", \"showlegend\": true, \"type\": \"scatter3d\", \"x\": [44.328365325927734], \"y\": [24.261821746826172], \"z\": [-126.84252166748047]}, {\"hoverlabel\": {\"namelength\": 0}, \"hovertemplate\": \"category=\\uc678\\uad50/\\ud1b5\\uc77c/\\uad6d\\ubc29<br>cluster=10<br>x=%{x}<br>y=%{y}<br>z=%{z}\", \"legendgroup\": \"category=\\uc678\\uad50/\\ud1b5\\uc77c/\\uad6d\\ubc29, cluster=10\", \"marker\": {\"color\": \"#00cc96\", \"symbol\": \"x\"}, \"mode\": \"markers\", \"name\": \"category=\\uc678\\uad50/\\ud1b5\\uc77c/\\uad6d\\ubc29, cluster=10\", \"scene\": \"scene\", \"showlegend\": true, \"type\": \"scatter3d\", \"x\": [-61.47703170776367], \"y\": [-27.250019073486328], \"z\": [29.71853256225586]}, {\"hoverlabel\": {\"namelength\": 0}, \"hovertemplate\": \"category=\\uc678\\uad50/\\ud1b5\\uc77c/\\uad6d\\ubc29<br>cluster=16<br>x=%{x}<br>y=%{y}<br>z=%{z}\", \"legendgroup\": \"category=\\uc678\\uad50/\\ud1b5\\uc77c/\\uad6d\\ubc29, cluster=16\", \"marker\": {\"color\": \"#00cc96\", \"symbol\": \"x\"}, \"mode\": \"markers\", \"name\": \"category=\\uc678\\uad50/\\ud1b5\\uc77c/\\uad6d\\ubc29, cluster=16\", \"scene\": \"scene\", \"showlegend\": true, \"type\": \"scatter3d\", \"x\": [-101.59634399414062], \"y\": [80.26697540283203], \"z\": [136.33570861816406]}, {\"hoverlabel\": {\"namelength\": 0}, \"hovertemplate\": \"category=\\uc721\\uc544/\\uad50\\uc721<br>cluster=0<br>x=%{x}<br>y=%{y}<br>z=%{z}\", \"legendgroup\": \"category=\\uc721\\uc544/\\uad50\\uc721, cluster=0\", \"marker\": {\"color\": \"#ab63fa\", \"symbol\": \"circle\"}, \"mode\": \"markers\", \"name\": \"category=\\uc721\\uc544/\\uad50\\uc721, cluster=0\", \"scene\": \"scene\", \"showlegend\": true, \"type\": \"scatter3d\", \"x\": [80.05789184570312, 110.4256591796875], \"y\": [-4.780978202819824, 15.694836616516113], \"z\": [25.62387466430664, 6.9835028648376465]}, {\"hoverlabel\": {\"namelength\": 0}, \"hovertemplate\": \"category=\\uc721\\uc544/\\uad50\\uc721<br>cluster=8<br>x=%{x}<br>y=%{y}<br>z=%{z}\", \"legendgroup\": \"category=\\uc721\\uc544/\\uad50\\uc721, cluster=8\", \"marker\": {\"color\": \"#ab63fa\", \"symbol\": \"diamond\"}, \"mode\": \"markers\", \"name\": \"category=\\uc721\\uc544/\\uad50\\uc721, cluster=8\", \"scene\": \"scene\", \"showlegend\": true, \"type\": \"scatter3d\", \"x\": [-2.6581227779388428], \"y\": [65.40370178222656], \"z\": [17.620874404907227]}, {\"hoverlabel\": {\"namelength\": 0}, \"hovertemplate\": \"category=\\uc721\\uc544/\\uad50\\uc721<br>cluster=14<br>x=%{x}<br>y=%{y}<br>z=%{z}\", \"legendgroup\": \"category=\\uc721\\uc544/\\uad50\\uc721, cluster=14\", \"marker\": {\"color\": \"#ab63fa\", \"symbol\": \"cross\"}, \"mode\": \"markers\", \"name\": \"category=\\uc721\\uc544/\\uad50\\uc721, cluster=14\", \"scene\": \"scene\", \"showlegend\": true, \"type\": \"scatter3d\", \"x\": [-102.67827606201172], \"y\": [6.933771133422852], \"z\": [94.20125579833984]}, {\"hoverlabel\": {\"namelength\": 0}, \"hovertemplate\": \"category=\\uc721\\uc544/\\uad50\\uc721<br>cluster=5<br>x=%{x}<br>y=%{y}<br>z=%{z}\", \"legendgroup\": \"category=\\uc721\\uc544/\\uad50\\uc721, cluster=5\", \"marker\": {\"color\": \"#ab63fa\", \"symbol\": \"diamond\"}, \"mode\": \"markers\", \"name\": \"category=\\uc721\\uc544/\\uad50\\uc721, cluster=5\", \"scene\": \"scene\", \"showlegend\": true, \"type\": \"scatter3d\", \"x\": [-9.77100944519043], \"y\": [-159.11300659179688], \"z\": [-69.68883514404297]}, {\"hoverlabel\": {\"namelength\": 0}, \"hovertemplate\": \"category=\\uc721\\uc544/\\uad50\\uc721<br>cluster=6<br>x=%{x}<br>y=%{y}<br>z=%{z}\", \"legendgroup\": \"category=\\uc721\\uc544/\\uad50\\uc721, cluster=6\", \"marker\": {\"color\": \"#ab63fa\", \"symbol\": \"square\"}, \"mode\": \"markers\", \"name\": \"category=\\uc721\\uc544/\\uad50\\uc721, cluster=6\", \"scene\": \"scene\", \"showlegend\": true, \"type\": \"scatter3d\", \"x\": [58.67753601074219], \"y\": [-23.827787399291992], \"z\": [178.63951110839844]}, {\"hoverlabel\": {\"namelength\": 0}, \"hovertemplate\": \"category=\\uc721\\uc544/\\uad50\\uc721<br>cluster=9<br>x=%{x}<br>y=%{y}<br>z=%{z}\", \"legendgroup\": \"category=\\uc721\\uc544/\\uad50\\uc721, cluster=9\", \"marker\": {\"color\": \"#ab63fa\", \"symbol\": \"square\"}, \"mode\": \"markers\", \"name\": \"category=\\uc721\\uc544/\\uad50\\uc721, cluster=9\", \"scene\": \"scene\", \"showlegend\": true, \"type\": \"scatter3d\", \"x\": [78.17143249511719, -36.680442810058594, 18.13347053527832, 55.91741180419922, 4.1134443283081055, 7.406094551086426, -10.207175254821777, 19.949216842651367, -24.927345275878906, -1.6785494089126587, -0.02002592384815216], \"y\": [89.00614166259766, 101.88764190673828, 140.7078399658203, 149.2284393310547, 92.99266815185547, 68.1986312866211, 86.90428161621094, 42.24820327758789, 126.23094177246094, 33.09843826293945, 54.912933349609375], \"z\": [-132.13401794433594, -136.2821807861328, -73.87079620361328, -99.43585205078125, -155.12025451660156, -125.2931900024414, -44.717098236083984, -167.3536376953125, -87.08163452148438, -109.95268249511719, -63.37004470825195]}, {\"hoverlabel\": {\"namelength\": 0}, \"hovertemplate\": \"category=\\uc721\\uc544/\\uad50\\uc721<br>cluster=2<br>x=%{x}<br>y=%{y}<br>z=%{z}\", \"legendgroup\": \"category=\\uc721\\uc544/\\uad50\\uc721, cluster=2\", \"marker\": {\"color\": \"#ab63fa\", \"symbol\": \"x\"}, \"mode\": \"markers\", \"name\": \"category=\\uc721\\uc544/\\uad50\\uc721, cluster=2\", \"scene\": \"scene\", \"showlegend\": true, \"type\": \"scatter3d\", \"x\": [-64.43589782714844, -62.53653335571289, -108.07609558105469, -93.86206817626953, 0.11463169753551483, -39.645721435546875, -83.13410186767578, -44.02245330810547, -64.75839233398438, -32.16456985473633, 20.010520935058594, -92.70539093017578, 31.1943302154541, -7.065442085266113, 33.7032470703125], \"y\": [11.122376441955566, 7.798062324523926, -8.061570167541504, -60.090965270996094, 6.715425968170166, -2.216449499130249, -49.65520095825195, -26.59917449951172, -63.99334716796875, 26.82993507385254, -89.58847045898438, -74.8224868774414, -37.5125846862793, -14.67775821685791, -58.72050857543945], \"z\": [-112.72084045410156, -169.50257873535156, -132.1071014404297, -96.22571563720703, -80.79803466796875, -70.61749267578125, -50.14925003051758, -141.93060302734375, -122.66622924804688, -145.0980682373047, -155.05555725097656, -147.56724548339844, -130.7636260986328, -116.99352264404297, -91.26456451416016]}, {\"hoverlabel\": {\"namelength\": 0}, \"hovertemplate\": \"category=\\uc721\\uc544/\\uad50\\uc721<br>cluster=12<br>x=%{x}<br>y=%{y}<br>z=%{z}\", \"legendgroup\": \"category=\\uc721\\uc544/\\uad50\\uc721, cluster=12\", \"marker\": {\"color\": \"#ab63fa\", \"symbol\": \"cross\"}, \"mode\": \"markers\", \"name\": \"category=\\uc721\\uc544/\\uad50\\uc721, cluster=12\", \"scene\": \"scene\", \"showlegend\": true, \"type\": \"scatter3d\", \"x\": [109.31499481201172, 41.7796630859375, 64.3842544555664], \"y\": [32.38944625854492, -8.502069473266602, -8.852132797241211], \"z\": [-125.0168685913086, -90.64653015136719, -162.69395446777344]}, {\"hoverlabel\": {\"namelength\": 0}, \"hovertemplate\": \"category=\\uc721\\uc544/\\uad50\\uc721<br>cluster=1<br>x=%{x}<br>y=%{y}<br>z=%{z}\", \"legendgroup\": \"category=\\uc721\\uc544/\\uad50\\uc721, cluster=1\", \"marker\": {\"color\": \"#ab63fa\", \"symbol\": \"circle\"}, \"mode\": \"markers\", \"name\": \"category=\\uc721\\uc544/\\uad50\\uc721, cluster=1\", \"scene\": \"scene\", \"showlegend\": true, \"type\": \"scatter3d\", \"x\": [-133.59060668945312, -45.35425567626953, -110.24505615234375, -79.13406372070312, -9.636750221252441, -81.09895324707031, -80.19059753417969, -57.698692321777344, -56.09538650512695, -51.895713806152344], \"y\": [31.218170166015625, 96.37806701660156, -2.946089744567871, 46.54718017578125, 60.74061584472656, -7.401257038116455, 2.8315932750701904, 48.206085205078125, 59.04894256591797, 26.82380485534668], \"z\": [-110.7076416015625, -59.03633117675781, -92.21566009521484, -85.03812408447266, -11.1880521774292, -17.70350456237793, -55.65003967285156, -4.285131931304932, -45.673301696777344, -30.641206741333008]}, {\"hoverlabel\": {\"namelength\": 0}, \"hovertemplate\": \"category=\\uc721\\uc544/\\uad50\\uc721<br>cluster=4<br>x=%{x}<br>y=%{y}<br>z=%{z}\", \"legendgroup\": \"category=\\uc721\\uc544/\\uad50\\uc721, cluster=4\", \"marker\": {\"color\": \"#ab63fa\", \"symbol\": \"diamond\"}, \"mode\": \"markers\", \"name\": \"category=\\uc721\\uc544/\\uad50\\uc721, cluster=4\", \"scene\": \"scene\", \"showlegend\": true, \"type\": \"scatter3d\", \"x\": [-313.55511474609375, -167.1749267578125, -127.83140563964844], \"y\": [-58.912384033203125, -9.462891578674316, -39.82497024536133], \"z\": [-49.68849182128906, -30.48497772216797, -55.9940299987793]}, {\"hoverlabel\": {\"namelength\": 0}, \"hovertemplate\": \"category=\\uc721\\uc544/\\uad50\\uc721<br>cluster=7<br>x=%{x}<br>y=%{y}<br>z=%{z}\", \"legendgroup\": \"category=\\uc721\\uc544/\\uad50\\uc721, cluster=7\", \"marker\": {\"color\": \"#ab63fa\", \"symbol\": \"square\"}, \"mode\": \"markers\", \"name\": \"category=\\uc721\\uc544/\\uad50\\uc721, cluster=7\", \"scene\": \"scene\", \"showlegend\": true, \"type\": \"scatter3d\", \"x\": [86.3718032836914, 141.13787841796875], \"y\": [-163.34437561035156, -70.1251220703125], \"z\": [-14.793076515197754, 1.6309846639633179]}, {\"hoverlabel\": {\"namelength\": 0}, \"hovertemplate\": \"category=\\uc721\\uc544/\\uad50\\uc721<br>cluster=10<br>x=%{x}<br>y=%{y}<br>z=%{z}\", \"legendgroup\": \"category=\\uc721\\uc544/\\uad50\\uc721, cluster=10\", \"marker\": {\"color\": \"#ab63fa\", \"symbol\": \"x\"}, \"mode\": \"markers\", \"name\": \"category=\\uc721\\uc544/\\uad50\\uc721, cluster=10\", \"scene\": \"scene\", \"showlegend\": true, \"type\": \"scatter3d\", \"x\": [-38.664772033691406, 30.455036163330078, -2.0750229358673096, -9.70186710357666, -9.537887573242188], \"y\": [-15.154522895812988, 6.289361476898193, -12.07530689239502, 24.89026641845703, -47.83090591430664], \"z\": [-9.261228561401367, -39.0528678894043, -27.329883575439453, -32.84934997558594, -22.90558624267578]}, {\"hoverlabel\": {\"namelength\": 0}, \"hovertemplate\": \"category=\\uc721\\uc544/\\uad50\\uc721<br>cluster=15<br>x=%{x}<br>y=%{y}<br>z=%{z}\", \"legendgroup\": \"category=\\uc721\\uc544/\\uad50\\uc721, cluster=15\", \"marker\": {\"color\": \"#ab63fa\", \"symbol\": \"cross\"}, \"mode\": \"markers\", \"name\": \"category=\\uc721\\uc544/\\uad50\\uc721, cluster=15\", \"scene\": \"scene\", \"showlegend\": true, \"type\": \"scatter3d\", \"x\": [56.40938949584961, 15.87800407409668, 238.2729949951172, 111.74058532714844], \"y\": [154.580810546875, 98.51860809326172, 120.74740600585938, 45.998680114746094], \"z\": [-38.50598907470703, -9.518502235412598, -154.16458129882812, -18.684337615966797]}, {\"hoverlabel\": {\"namelength\": 0}, \"hovertemplate\": \"category=\\uc721\\uc544/\\uad50\\uc721<br>cluster=11<br>x=%{x}<br>y=%{y}<br>z=%{z}\", \"legendgroup\": \"category=\\uc721\\uc544/\\uad50\\uc721, cluster=11\", \"marker\": {\"color\": \"#ab63fa\", \"symbol\": \"circle\"}, \"mode\": \"markers\", \"name\": \"category=\\uc721\\uc544/\\uad50\\uc721, cluster=11\", \"scene\": \"scene\", \"showlegend\": true, \"type\": \"scatter3d\", \"x\": [-62.628597259521484], \"y\": [-80.68270111083984], \"z\": [18.886960983276367]}, {\"hoverlabel\": {\"namelength\": 0}, \"hovertemplate\": \"category=\\uc77c\\uc790\\ub9ac<br>cluster=0<br>x=%{x}<br>y=%{y}<br>z=%{z}\", \"legendgroup\": \"category=\\uc77c\\uc790\\ub9ac, cluster=0\", \"marker\": {\"color\": \"#FFA15A\", \"symbol\": \"circle\"}, \"mode\": \"markers\", \"name\": \"category=\\uc77c\\uc790\\ub9ac, cluster=0\", \"scene\": \"scene\", \"showlegend\": true, \"type\": \"scatter3d\", \"x\": [140.3848114013672], \"y\": [-20.249956130981445], \"z\": [6.22612190246582]}, {\"hoverlabel\": {\"namelength\": 0}, \"hovertemplate\": \"category=\\uc77c\\uc790\\ub9ac<br>cluster=14<br>x=%{x}<br>y=%{y}<br>z=%{z}\", \"legendgroup\": \"category=\\uc77c\\uc790\\ub9ac, cluster=14\", \"marker\": {\"color\": \"#FFA15A\", \"symbol\": \"cross\"}, \"mode\": \"markers\", \"name\": \"category=\\uc77c\\uc790\\ub9ac, cluster=14\", \"scene\": \"scene\", \"showlegend\": true, \"type\": \"scatter3d\", \"x\": [-146.1754913330078], \"y\": [-80.30915069580078], \"z\": [88.58939361572266]}, {\"hoverlabel\": {\"namelength\": 0}, \"hovertemplate\": \"category=\\uc77c\\uc790\\ub9ac<br>cluster=6<br>x=%{x}<br>y=%{y}<br>z=%{z}\", \"legendgroup\": \"category=\\uc77c\\uc790\\ub9ac, cluster=6\", \"marker\": {\"color\": \"#FFA15A\", \"symbol\": \"square\"}, \"mode\": \"markers\", \"name\": \"category=\\uc77c\\uc790\\ub9ac, cluster=6\", \"scene\": \"scene\", \"showlegend\": true, \"type\": \"scatter3d\", \"x\": [70.83834838867188, 109.12366485595703], \"y\": [9.358170509338379, -84.18547058105469], \"z\": [157.3534393310547, 119.59774780273438]}, {\"hoverlabel\": {\"namelength\": 0}, \"hovertemplate\": \"category=\\uc77c\\uc790\\ub9ac<br>cluster=9<br>x=%{x}<br>y=%{y}<br>z=%{z}\", \"legendgroup\": \"category=\\uc77c\\uc790\\ub9ac, cluster=9\", \"marker\": {\"color\": \"#FFA15A\", \"symbol\": \"square\"}, \"mode\": \"markers\", \"name\": \"category=\\uc77c\\uc790\\ub9ac, cluster=9\", \"scene\": \"scene\", \"showlegend\": true, \"type\": \"scatter3d\", \"x\": [17.001632690429688, -13.159417152404785, 28.536155700683594, 2.5476431846618652, -2.5655417442321777, -30.48644256591797], \"y\": [118.27782440185547, 125.2398910522461, 84.79900360107422, 110.75228881835938, 175.34036254882812, 81.8675537109375], \"z\": [-107.99951934814453, -33.35615539550781, -90.19078826904297, -69.68147277832031, -75.84852600097656, -96.98675537109375]}, {\"hoverlabel\": {\"namelength\": 0}, \"hovertemplate\": \"category=\\uc77c\\uc790\\ub9ac<br>cluster=2<br>x=%{x}<br>y=%{y}<br>z=%{z}\", \"legendgroup\": \"category=\\uc77c\\uc790\\ub9ac, cluster=2\", \"marker\": {\"color\": \"#FFA15A\", \"symbol\": \"x\"}, \"mode\": \"markers\", \"name\": \"category=\\uc77c\\uc790\\ub9ac, cluster=2\", \"scene\": \"scene\", \"showlegend\": true, \"type\": \"scatter3d\", \"x\": [1.7040152549743652, -12.608433723449707], \"y\": [-11.802451133728027, -64.41136932373047], \"z\": [-173.3047332763672, -128.8705291748047]}, {\"hoverlabel\": {\"namelength\": 0}, \"hovertemplate\": \"category=\\uc77c\\uc790\\ub9ac<br>cluster=12<br>x=%{x}<br>y=%{y}<br>z=%{z}\", \"legendgroup\": \"category=\\uc77c\\uc790\\ub9ac, cluster=12\", \"marker\": {\"color\": \"#FFA15A\", \"symbol\": \"cross\"}, \"mode\": \"markers\", \"name\": \"category=\\uc77c\\uc790\\ub9ac, cluster=12\", \"scene\": \"scene\", \"showlegend\": true, \"type\": \"scatter3d\", \"x\": [155.85231018066406], \"y\": [15.988513946533203], \"z\": [-92.89781951904297]}, {\"hoverlabel\": {\"namelength\": 0}, \"hovertemplate\": \"category=\\uc77c\\uc790\\ub9ac<br>cluster=1<br>x=%{x}<br>y=%{y}<br>z=%{z}\", \"legendgroup\": \"category=\\uc77c\\uc790\\ub9ac, cluster=1\", \"marker\": {\"color\": \"#FFA15A\", \"symbol\": \"circle\"}, \"mode\": \"markers\", \"name\": \"category=\\uc77c\\uc790\\ub9ac, cluster=1\", \"scene\": \"scene\", \"showlegend\": true, \"type\": \"scatter3d\", \"x\": [-105.42636108398438, -97.69347381591797, -95.4965591430664, -39.548675537109375], \"y\": [70.63392639160156, 50.83391189575195, 124.79820251464844, 96.07568359375], \"z\": [-106.9800033569336, -31.327014923095703, -87.47354125976562, -16.015077590942383]}, {\"hoverlabel\": {\"namelength\": 0}, \"hovertemplate\": \"category=\\uc77c\\uc790\\ub9ac<br>cluster=4<br>x=%{x}<br>y=%{y}<br>z=%{z}\", \"legendgroup\": \"category=\\uc77c\\uc790\\ub9ac, cluster=4\", \"marker\": {\"color\": \"#FFA15A\", \"symbol\": \"diamond\"}, \"mode\": \"markers\", \"name\": \"category=\\uc77c\\uc790\\ub9ac, cluster=4\", \"scene\": \"scene\", \"showlegend\": true, \"type\": \"scatter3d\", \"x\": [-153.6659393310547], \"y\": [-25.533164978027344], \"z\": [-93.69340515136719]}, {\"hoverlabel\": {\"namelength\": 0}, \"hovertemplate\": \"category=\\uc77c\\uc790\\ub9ac<br>cluster=15<br>x=%{x}<br>y=%{y}<br>z=%{z}\", \"legendgroup\": \"category=\\uc77c\\uc790\\ub9ac, cluster=15\", \"marker\": {\"color\": \"#FFA15A\", \"symbol\": \"cross\"}, \"mode\": \"markers\", \"name\": \"category=\\uc77c\\uc790\\ub9ac, cluster=15\", \"scene\": \"scene\", \"showlegend\": true, \"type\": \"scatter3d\", \"x\": [96.38007354736328, 46.623783111572266, 74.27484893798828, 85.61124420166016, 40.04240036010742], \"y\": [124.32099914550781, 104.54146575927734, 98.53739166259766, 80.93419647216797, 57.30358123779297], \"z\": [-69.52915954589844, -40.642826080322266, -81.95513916015625, -69.75025939941406, -40.799442291259766]}, {\"hoverlabel\": {\"namelength\": 0}, \"hovertemplate\": \"category=\\uc77c\\uc790\\ub9ac<br>cluster=16<br>x=%{x}<br>y=%{y}<br>z=%{z}\", \"legendgroup\": \"category=\\uc77c\\uc790\\ub9ac, cluster=16\", \"marker\": {\"color\": \"#FFA15A\", \"symbol\": \"x\"}, \"mode\": \"markers\", \"name\": \"category=\\uc77c\\uc790\\ub9ac, cluster=16\", \"scene\": \"scene\", \"showlegend\": true, \"type\": \"scatter3d\", \"x\": [-27.898082733154297, -109.96574401855469, -20.98084831237793, -110.79376983642578], \"y\": [108.12355041503906, 89.22394561767578, 135.90365600585938, 121.51453399658203], \"z\": [63.635868072509766, 35.689964294433594, 25.10068702697754, 79.2598648071289]}, {\"hoverlabel\": {\"namelength\": 0}, \"hovertemplate\": \"category=\\uad50\\ud1b5/\\uac74\\ucd95/\\uad6d\\ud1a0<br>cluster=5<br>x=%{x}<br>y=%{y}<br>z=%{z}\", \"legendgroup\": \"category=\\uad50\\ud1b5/\\uac74\\ucd95/\\uad6d\\ud1a0, cluster=5\", \"marker\": {\"color\": \"#19d3f3\", \"symbol\": \"diamond\"}, \"mode\": \"markers\", \"name\": \"category=\\uad50\\ud1b5/\\uac74\\ucd95/\\uad6d\\ud1a0, cluster=5\", \"scene\": \"scene\", \"showlegend\": true, \"type\": \"scatter3d\", \"x\": [59.36524963378906, 28.82676887512207, 29.56231117248535, -83.90926361083984, -53.86693572998047], \"y\": [-112.02694702148438, -111.00740051269531, -180.9092559814453, -142.0084228515625, -137.86972045898438], \"z\": [-119.93502044677734, -78.31729888916016, -3.0293474197387695, -65.75199890136719, -83.1474609375]}, {\"hoverlabel\": {\"namelength\": 0}, \"hovertemplate\": \"category=\\uad50\\ud1b5/\\uac74\\ucd95/\\uad6d\\ud1a0<br>cluster=6<br>x=%{x}<br>y=%{y}<br>z=%{z}\", \"legendgroup\": \"category=\\uad50\\ud1b5/\\uac74\\ucd95/\\uad6d\\ud1a0, cluster=6\", \"marker\": {\"color\": \"#19d3f3\", \"symbol\": \"square\"}, \"mode\": \"markers\", \"name\": \"category=\\uad50\\ud1b5/\\uac74\\ucd95/\\uad6d\\ud1a0, cluster=6\", \"scene\": \"scene\", \"showlegend\": true, \"type\": \"scatter3d\", \"x\": [63.02458572387695, 38.296348571777344], \"y\": [-65.66038513183594, -118.42977905273438], \"z\": [154.88320922851562, 87.22789001464844]}, {\"hoverlabel\": {\"namelength\": 0}, \"hovertemplate\": \"category=\\uad50\\ud1b5/\\uac74\\ucd95/\\uad6d\\ud1a0<br>cluster=12<br>x=%{x}<br>y=%{y}<br>z=%{z}\", \"legendgroup\": \"category=\\uad50\\ud1b5/\\uac74\\ucd95/\\uad6d\\ud1a0, cluster=12\", \"marker\": {\"color\": \"#19d3f3\", \"symbol\": \"cross\"}, \"mode\": \"markers\", \"name\": \"category=\\uad50\\ud1b5/\\uac74\\ucd95/\\uad6d\\ud1a0, cluster=12\", \"scene\": \"scene\", \"showlegend\": true, \"type\": \"scatter3d\", \"x\": [113.8492202758789, 127.91930389404297, 91.54197692871094, 113.32833862304688, 174.23361206054688, 118.80564880371094], \"y\": [-17.905290603637695, 42.48475646972656, -39.8643684387207, -15.56255054473877, -38.42877960205078, -25.208572387695312], \"z\": [-32.640052795410156, -72.2090835571289, -16.3128604888916, -85.68175506591797, -38.81465530395508, -135.11395263671875]}, {\"hoverlabel\": {\"namelength\": 0}, \"hovertemplate\": \"category=\\uad50\\ud1b5/\\uac74\\ucd95/\\uad6d\\ud1a0<br>cluster=7<br>x=%{x}<br>y=%{y}<br>z=%{z}\", \"legendgroup\": \"category=\\uad50\\ud1b5/\\uac74\\ucd95/\\uad6d\\ud1a0, cluster=7\", \"marker\": {\"color\": \"#19d3f3\", \"symbol\": \"square\"}, \"mode\": \"markers\", \"name\": \"category=\\uad50\\ud1b5/\\uac74\\ucd95/\\uad6d\\ud1a0, cluster=7\", \"scene\": \"scene\", \"showlegend\": true, \"type\": \"scatter3d\", \"x\": [46.07669448852539, 55.495662689208984, 119.5525894165039, 49.84376525878906, 76.09679412841797, 90.4715347290039, 68.00372314453125, 77.87103271484375, 78.91787719726562, 99.18576049804688, 89.69427490234375], \"y\": [-157.25709533691406, -50.60706329345703, -93.52610778808594, -84.44917297363281, -126.73562622070312, -116.36358642578125, -90.11526489257812, -105.28455352783203, -84.43911743164062, -137.7657928466797, -74.04024505615234], \"z\": [55.50391387939453, 22.90385627746582, 45.48035430908203, 2.827695846557617, -48.128963470458984, 4.90272855758667, -59.4964599609375, 75.59331512451172, 44.0791015625, 58.8192138671875, -17.871938705444336]}, {\"hoverlabel\": {\"namelength\": 0}, \"hovertemplate\": \"category=\\uad50\\ud1b5/\\uac74\\ucd95/\\uad6d\\ud1a0<br>cluster=10<br>x=%{x}<br>y=%{y}<br>z=%{z}\", \"legendgroup\": \"category=\\uad50\\ud1b5/\\uac74\\ucd95/\\uad6d\\ud1a0, cluster=10\", \"marker\": {\"color\": \"#19d3f3\", \"symbol\": \"x\"}, \"mode\": \"markers\", \"name\": \"category=\\uad50\\ud1b5/\\uac74\\ucd95/\\uad6d\\ud1a0, cluster=10\", \"scene\": \"scene\", \"showlegend\": true, \"type\": \"scatter3d\", \"x\": [27.327363967895508, 39.34197998046875, 8.454092979431152], \"y\": [3.2590348720550537, -53.34208297729492, -85.17359161376953], \"z\": [13.559030532836914, 52.88741683959961, -12.784239768981934]}, {\"hoverlabel\": {\"namelength\": 0}, \"hovertemplate\": \"category=\\ubcf4\\uac74\\ubcf5\\uc9c0<br>cluster=8<br>x=%{x}<br>y=%{y}<br>z=%{z}\", \"legendgroup\": \"category=\\ubcf4\\uac74\\ubcf5\\uc9c0, cluster=8\", \"marker\": {\"color\": \"#FF6692\", \"symbol\": \"diamond\"}, \"mode\": \"markers\", \"name\": \"category=\\ubcf4\\uac74\\ubcf5\\uc9c0, cluster=8\", \"scene\": \"scene\", \"showlegend\": true, \"type\": \"scatter3d\", \"x\": [-12.901285171508789, 40.25779342651367], \"y\": [116.34534454345703, 87.57598114013672], \"z\": [125.29380798339844, 28.188270568847656]}, {\"hoverlabel\": {\"namelength\": 0}, \"hovertemplate\": \"category=\\ubcf4\\uac74\\ubcf5\\uc9c0<br>cluster=14<br>x=%{x}<br>y=%{y}<br>z=%{z}\", \"legendgroup\": \"category=\\ubcf4\\uac74\\ubcf5\\uc9c0, cluster=14\", \"marker\": {\"color\": \"#FF6692\", \"symbol\": \"cross\"}, \"mode\": \"markers\", \"name\": \"category=\\ubcf4\\uac74\\ubcf5\\uc9c0, cluster=14\", \"scene\": \"scene\", \"showlegend\": true, \"type\": \"scatter3d\", \"x\": [-61.76277160644531, -108.87561798095703, -91.61238861083984], \"y\": [8.309637069702148, 31.598745346069336, -1.7702898979187012], \"z\": [83.38072204589844, 34.00938415527344, 39.482872009277344]}, {\"hoverlabel\": {\"namelength\": 0}, \"hovertemplate\": \"category=\\ubcf4\\uac74\\ubcf5\\uc9c0<br>cluster=5<br>x=%{x}<br>y=%{y}<br>z=%{z}\", \"legendgroup\": \"category=\\ubcf4\\uac74\\ubcf5\\uc9c0, cluster=5\", \"marker\": {\"color\": \"#FF6692\", \"symbol\": \"diamond\"}, \"mode\": \"markers\", \"name\": \"category=\\ubcf4\\uac74\\ubcf5\\uc9c0, cluster=5\", \"scene\": \"scene\", \"showlegend\": true, \"type\": \"scatter3d\", \"x\": [-16.180797576904297, -69.06260681152344, -13.835238456726074], \"y\": [-105.25029754638672, -163.15489196777344, -315.3580627441406], \"z\": [-51.35026550292969, -19.933992385864258, -198.12831115722656]}, {\"hoverlabel\": {\"namelength\": 0}, \"hovertemplate\": \"category=\\ubcf4\\uac74\\ubcf5\\uc9c0<br>cluster=6<br>x=%{x}<br>y=%{y}<br>z=%{z}\", \"legendgroup\": \"category=\\ubcf4\\uac74\\ubcf5\\uc9c0, cluster=6\", \"marker\": {\"color\": \"#FF6692\", \"symbol\": \"square\"}, \"mode\": \"markers\", \"name\": \"category=\\ubcf4\\uac74\\ubcf5\\uc9c0, cluster=6\", \"scene\": \"scene\", \"showlegend\": true, \"type\": \"scatter3d\", \"x\": [26.531320571899414, 3.950577974319458], \"y\": [-29.746532440185547, -89.18244171142578], \"z\": [166.9709930419922, 77.91972351074219]}, {\"hoverlabel\": {\"namelength\": 0}, \"hovertemplate\": \"category=\\ubcf4\\uac74\\ubcf5\\uc9c0<br>cluster=9<br>x=%{x}<br>y=%{y}<br>z=%{z}\", \"legendgroup\": \"category=\\ubcf4\\uac74\\ubcf5\\uc9c0, cluster=9\", \"marker\": {\"color\": \"#FF6692\", \"symbol\": \"square\"}, \"mode\": \"markers\", \"name\": \"category=\\ubcf4\\uac74\\ubcf5\\uc9c0, cluster=9\", \"scene\": \"scene\", \"showlegend\": true, \"type\": \"scatter3d\", \"x\": [-22.007339477539062], \"y\": [217.47012329101562], \"z\": [-60.51262283325195]}, {\"hoverlabel\": {\"namelength\": 0}, \"hovertemplate\": \"category=\\ubcf4\\uac74\\ubcf5\\uc9c0<br>cluster=2<br>x=%{x}<br>y=%{y}<br>z=%{z}\", \"legendgroup\": \"category=\\ubcf4\\uac74\\ubcf5\\uc9c0, cluster=2\", \"marker\": {\"color\": \"#FF6692\", \"symbol\": \"x\"}, \"mode\": \"markers\", \"name\": \"category=\\ubcf4\\uac74\\ubcf5\\uc9c0, cluster=2\", \"scene\": \"scene\", \"showlegend\": true, \"type\": \"scatter3d\", \"x\": [-50.315216064453125, -43.72907257080078, -47.35810089111328, -89.98373413085938], \"y\": [-38.47157287597656, -76.82842254638672, -34.75819778442383, -90.20246124267578], \"z\": [-93.42670440673828, -51.19443893432617, -41.10066223144531, -78.25486755371094]}, {\"hoverlabel\": {\"namelength\": 0}, \"hovertemplate\": \"category=\\ubcf4\\uac74\\ubcf5\\uc9c0<br>cluster=12<br>x=%{x}<br>y=%{y}<br>z=%{z}\", \"legendgroup\": \"category=\\ubcf4\\uac74\\ubcf5\\uc9c0, cluster=12\", \"marker\": {\"color\": \"#FF6692\", \"symbol\": \"cross\"}, \"mode\": \"markers\", \"name\": \"category=\\ubcf4\\uac74\\ubcf5\\uc9c0, cluster=12\", \"scene\": \"scene\", \"showlegend\": true, \"type\": \"scatter3d\", \"x\": [93.61214447021484], \"y\": [26.165666580200195], \"z\": [-55.40757369995117]}, {\"hoverlabel\": {\"namelength\": 0}, \"hovertemplate\": \"category=\\ubcf4\\uac74\\ubcf5\\uc9c0<br>cluster=1<br>x=%{x}<br>y=%{y}<br>z=%{z}\", \"legendgroup\": \"category=\\ubcf4\\uac74\\ubcf5\\uc9c0, cluster=1\", \"marker\": {\"color\": \"#FF6692\", \"symbol\": \"circle\"}, \"mode\": \"markers\", \"name\": \"category=\\ubcf4\\uac74\\ubcf5\\uc9c0, cluster=1\", \"scene\": \"scene\", \"showlegend\": true, \"type\": \"scatter3d\", \"x\": [-85.24376678466797, -116.74004364013672, -141.16600036621094, -131.5291748046875], \"y\": [60.112144470214844, -4.600786209106445, 72.09674072265625, 26.871021270751953], \"z\": [9.899489402770996, -29.672597885131836, -28.550819396972656, -9.721419334411621]}, {\"hoverlabel\": {\"namelength\": 0}, \"hovertemplate\": \"category=\\ubcf4\\uac74\\ubcf5\\uc9c0<br>cluster=4<br>x=%{x}<br>y=%{y}<br>z=%{z}\", \"legendgroup\": \"category=\\ubcf4\\uac74\\ubcf5\\uc9c0, cluster=4\", \"marker\": {\"color\": \"#FF6692\", \"symbol\": \"diamond\"}, \"mode\": \"markers\", \"name\": \"category=\\ubcf4\\uac74\\ubcf5\\uc9c0, cluster=4\", \"scene\": \"scene\", \"showlegend\": true, \"type\": \"scatter3d\", \"x\": [-121.62946319580078], \"y\": [-129.54518127441406], \"z\": [-23.183000564575195]}, {\"hoverlabel\": {\"namelength\": 0}, \"hovertemplate\": \"category=\\ubcf4\\uac74\\ubcf5\\uc9c0<br>cluster=10<br>x=%{x}<br>y=%{y}<br>z=%{z}\", \"legendgroup\": \"category=\\ubcf4\\uac74\\ubcf5\\uc9c0, cluster=10\", \"marker\": {\"color\": \"#FF6692\", \"symbol\": \"x\"}, \"mode\": \"markers\", \"name\": \"category=\\ubcf4\\uac74\\ubcf5\\uc9c0, cluster=10\", \"scene\": \"scene\", \"showlegend\": true, \"type\": \"scatter3d\", \"x\": [-19.795272827148438, -1.5547819137573242, -36.305538177490234], \"y\": [-51.657470703125, -50.76751708984375, 25.053844451904297], \"z\": [17.9639835357666, 60.359352111816406, 43.26546096801758]}, {\"hoverlabel\": {\"namelength\": 0}, \"hovertemplate\": \"category=\\ubcf4\\uac74\\ubcf5\\uc9c0<br>cluster=3<br>x=%{x}<br>y=%{y}<br>z=%{z}\", \"legendgroup\": \"category=\\ubcf4\\uac74\\ubcf5\\uc9c0, cluster=3\", \"marker\": {\"color\": \"#FF6692\", \"symbol\": \"circle\"}, \"mode\": \"markers\", \"name\": \"category=\\ubcf4\\uac74\\ubcf5\\uc9c0, cluster=3\", \"scene\": \"scene\", \"showlegend\": true, \"type\": \"scatter3d\", \"x\": [-324.1150817871094], \"y\": [696.02392578125], \"z\": [-1043.31494140625]}, {\"hoverlabel\": {\"namelength\": 0}, \"hovertemplate\": \"category=\\ubcf4\\uac74\\ubcf5\\uc9c0<br>cluster=16<br>x=%{x}<br>y=%{y}<br>z=%{z}\", \"legendgroup\": \"category=\\ubcf4\\uac74\\ubcf5\\uc9c0, cluster=16\", \"marker\": {\"color\": \"#FF6692\", \"symbol\": \"x\"}, \"mode\": \"markers\", \"name\": \"category=\\ubcf4\\uac74\\ubcf5\\uc9c0, cluster=16\", \"scene\": \"scene\", \"showlegend\": true, \"type\": \"scatter3d\", \"x\": [-41.8691520690918, -140.90866088867188], \"y\": [68.40257263183594, 114.86475372314453], \"z\": [29.731645584106445, -0.7068207263946533]}, {\"hoverlabel\": {\"namelength\": 0}, \"hovertemplate\": \"category=\\ubcf4\\uac74\\ubcf5\\uc9c0<br>cluster=11<br>x=%{x}<br>y=%{y}<br>z=%{z}\", \"legendgroup\": \"category=\\ubcf4\\uac74\\ubcf5\\uc9c0, cluster=11\", \"marker\": {\"color\": \"#FF6692\", \"symbol\": \"circle\"}, \"mode\": \"markers\", \"name\": \"category=\\ubcf4\\uac74\\ubcf5\\uc9c0, cluster=11\", \"scene\": \"scene\", \"showlegend\": true, \"type\": \"scatter3d\", \"x\": [4.0583014488220215, -65.43888092041016, -12.13076114654541, -59.16147994995117, -94.76445007324219, -95.59814453125, -42.62799072265625], \"y\": [-134.6254119873047, -103.41160583496094, -160.95387268066406, -128.33462524414062, -54.77679443359375, -134.67616271972656, -69.04505920410156], \"z\": [25.57726287841797, -24.456554412841797, 23.735403060913086, 62.27496337890625, 33.22356033325195, 23.323381423950195, 53.22264862060547]}, {\"hoverlabel\": {\"namelength\": 0}, \"hovertemplate\": \"category=\\ud589\\uc815<br>cluster=0<br>x=%{x}<br>y=%{y}<br>z=%{z}\", \"legendgroup\": \"category=\\ud589\\uc815, cluster=0\", \"marker\": {\"color\": \"#B6E880\", \"symbol\": \"circle\"}, \"mode\": \"markers\", \"name\": \"category=\\ud589\\uc815, cluster=0\", \"scene\": \"scene\", \"showlegend\": true, \"type\": \"scatter3d\", \"x\": [175.54080200195312, 112.67762756347656, 124.32147216796875, 77.93986511230469], \"y\": [-11.033329010009766, 75.84085083007812, 18.80487060546875, 18.059219360351562], \"z\": [38.04460906982422, 22.981204986572266, 55.37887191772461, 75.78952026367188]}, {\"hoverlabel\": {\"namelength\": 0}, \"hovertemplate\": \"category=\\ud589\\uc815<br>cluster=8<br>x=%{x}<br>y=%{y}<br>z=%{z}\", \"legendgroup\": \"category=\\ud589\\uc815, cluster=8\", \"marker\": {\"color\": \"#B6E880\", \"symbol\": \"diamond\"}, \"mode\": \"markers\", \"name\": \"category=\\ud589\\uc815, cluster=8\", \"scene\": \"scene\", \"showlegend\": true, \"type\": \"scatter3d\", \"x\": [0.5533347725868225, 50.22118377685547], \"y\": [99.14398193359375, 166.6090087890625], \"z\": [39.37986373901367, 59.88383865356445]}, {\"hoverlabel\": {\"namelength\": 0}, \"hovertemplate\": \"category=\\ud589\\uc815<br>cluster=14<br>x=%{x}<br>y=%{y}<br>z=%{z}\", \"legendgroup\": \"category=\\ud589\\uc815, cluster=14\", \"marker\": {\"color\": \"#B6E880\", \"symbol\": \"cross\"}, \"mode\": \"markers\", \"name\": \"category=\\ud589\\uc815, cluster=14\", \"scene\": \"scene\", \"showlegend\": true, \"type\": \"scatter3d\", \"x\": [-72.71263122558594, -74.09489440917969], \"y\": [-23.237398147583008, -71.78058624267578], \"z\": [112.0678939819336, 144.3388671875]}, {\"hoverlabel\": {\"namelength\": 0}, \"hovertemplate\": \"category=\\ud589\\uc815<br>cluster=1<br>x=%{x}<br>y=%{y}<br>z=%{z}\", \"legendgroup\": \"category=\\ud589\\uc815, cluster=1\", \"marker\": {\"color\": \"#B6E880\", \"symbol\": \"circle\"}, \"mode\": \"markers\", \"name\": \"category=\\ud589\\uc815, cluster=1\", \"scene\": \"scene\", \"showlegend\": true, \"type\": \"scatter3d\", \"x\": [-83.21179962158203], \"y\": [79.1669692993164], \"z\": [-72.31932830810547]}, {\"hoverlabel\": {\"namelength\": 0}, \"hovertemplate\": \"category=\\ud589\\uc815<br>cluster=4<br>x=%{x}<br>y=%{y}<br>z=%{z}\", \"legendgroup\": \"category=\\ud589\\uc815, cluster=4\", \"marker\": {\"color\": \"#B6E880\", \"symbol\": \"diamond\"}, \"mode\": \"markers\", \"name\": \"category=\\ud589\\uc815, cluster=4\", \"scene\": \"scene\", \"showlegend\": true, \"type\": \"scatter3d\", \"x\": [-120.69651794433594], \"y\": [-75.99901580810547], \"z\": [-29.71397590637207]}, {\"hoverlabel\": {\"namelength\": 0}, \"hovertemplate\": \"category=\\ud589\\uc815<br>cluster=7<br>x=%{x}<br>y=%{y}<br>z=%{z}\", \"legendgroup\": \"category=\\ud589\\uc815, cluster=7\", \"marker\": {\"color\": \"#B6E880\", \"symbol\": \"square\"}, \"mode\": \"markers\", \"name\": \"category=\\ud589\\uc815, cluster=7\", \"scene\": \"scene\", \"showlegend\": true, \"type\": \"scatter3d\", \"x\": [45.2602424621582, 101.89633178710938], \"y\": [-106.4003677368164, -49.57149124145508], \"z\": [38.22929382324219, 30.822378158569336]}, {\"hoverlabel\": {\"namelength\": 0}, \"hovertemplate\": \"category=\\ud589\\uc815<br>cluster=16<br>x=%{x}<br>y=%{y}<br>z=%{z}\", \"legendgroup\": \"category=\\ud589\\uc815, cluster=16\", \"marker\": {\"color\": \"#B6E880\", \"symbol\": \"x\"}, \"mode\": \"markers\", \"name\": \"category=\\ud589\\uc815, cluster=16\", \"scene\": \"scene\", \"showlegend\": true, \"type\": \"scatter3d\", \"x\": [-102.0443344116211, -78.74708557128906], \"y\": [161.26222229003906, 128.39515686035156], \"z\": [17.766674041748047, 14.71367359161377]}, {\"hoverlabel\": {\"namelength\": 0}, \"hovertemplate\": \"category=\\ubb38\\ud654/\\uc608\\uc220/\\uccb4\\uc721/\\uc5b8\\ub860<br>cluster=0<br>x=%{x}<br>y=%{y}<br>z=%{z}\", \"legendgroup\": \"category=\\ubb38\\ud654/\\uc608\\uc220/\\uccb4\\uc721/\\uc5b8\\ub860, cluster=0\", \"marker\": {\"color\": \"#FF97FF\", \"symbol\": \"circle\"}, \"mode\": \"markers\", \"name\": \"category=\\ubb38\\ud654/\\uc608\\uc220/\\uccb4\\uc721/\\uc5b8\\ub860, cluster=0\", \"scene\": \"scene\", \"showlegend\": true, \"type\": \"scatter3d\", \"x\": [148.7660369873047, 81.98670196533203, 77.32617950439453, 140.13668823242188, 140.01316833496094], \"y\": [14.818268775939941, 66.29949188232422, -26.296817779541016, 73.29185485839844, 106.16461181640625], \"z\": [74.81230163574219, 63.49021911621094, 62.12940979003906, 55.48234176635742, 36.03620529174805]}, {\"hoverlabel\": {\"namelength\": 0}, \"hovertemplate\": \"category=\\ubb38\\ud654/\\uc608\\uc220/\\uccb4\\uc721/\\uc5b8\\ub860<br>cluster=8<br>x=%{x}<br>y=%{y}<br>z=%{z}\", \"legendgroup\": \"category=\\ubb38\\ud654/\\uc608\\uc220/\\uccb4\\uc721/\\uc5b8\\ub860, cluster=8\", \"marker\": {\"color\": \"#FF97FF\", \"symbol\": \"diamond\"}, \"mode\": \"markers\", \"name\": \"category=\\ubb38\\ud654/\\uc608\\uc220/\\uccb4\\uc721/\\uc5b8\\ub860, cluster=8\", \"scene\": \"scene\", \"showlegend\": true, \"type\": \"scatter3d\", \"x\": [62.34984588623047, 86.09603118896484, 36.43461990356445], \"y\": [56.41041946411133, 77.16232299804688, 153.64463806152344], \"z\": [100.19661712646484, 106.16792297363281, 118.76078796386719]}, {\"hoverlabel\": {\"namelength\": 0}, \"hovertemplate\": \"category=\\ubb38\\ud654/\\uc608\\uc220/\\uccb4\\uc721/\\uc5b8\\ub860<br>cluster=5<br>x=%{x}<br>y=%{y}<br>z=%{z}\", \"legendgroup\": \"category=\\ubb38\\ud654/\\uc608\\uc220/\\uccb4\\uc721/\\uc5b8\\ub860, cluster=5\", \"marker\": {\"color\": \"#FF97FF\", \"symbol\": \"diamond\"}, \"mode\": \"markers\", \"name\": \"category=\\ubb38\\ud654/\\uc608\\uc220/\\uccb4\\uc721/\\uc5b8\\ub860, cluster=5\", \"scene\": \"scene\", \"showlegend\": true, \"type\": \"scatter3d\", \"x\": [20.672218322753906], \"y\": [-127.64189147949219], \"z\": [-30.261798858642578]}, {\"hoverlabel\": {\"namelength\": 0}, \"hovertemplate\": \"category=\\ubb38\\ud654/\\uc608\\uc220/\\uccb4\\uc721/\\uc5b8\\ub860<br>cluster=6<br>x=%{x}<br>y=%{y}<br>z=%{z}\", \"legendgroup\": \"category=\\ubb38\\ud654/\\uc608\\uc220/\\uccb4\\uc721/\\uc5b8\\ub860, cluster=6\", \"marker\": {\"color\": \"#FF97FF\", \"symbol\": \"square\"}, \"mode\": \"markers\", \"name\": \"category=\\ubb38\\ud654/\\uc608\\uc220/\\uccb4\\uc721/\\uc5b8\\ub860, cluster=6\", \"scene\": \"scene\", \"showlegend\": true, \"type\": \"scatter3d\", \"x\": [-11.855507850646973, 19.887062072753906], \"y\": [-108.19608306884766, -63.73497772216797], \"z\": [131.06507873535156, 111.02214813232422]}, {\"hoverlabel\": {\"namelength\": 0}, \"hovertemplate\": \"category=\\ubb38\\ud654/\\uc608\\uc220/\\uccb4\\uc721/\\uc5b8\\ub860<br>cluster=4<br>x=%{x}<br>y=%{y}<br>z=%{z}\", \"legendgroup\": \"category=\\ubb38\\ud654/\\uc608\\uc220/\\uccb4\\uc721/\\uc5b8\\ub860, cluster=4\", \"marker\": {\"color\": \"#FF97FF\", \"symbol\": \"diamond\"}, \"mode\": \"markers\", \"name\": \"category=\\ubb38\\ud654/\\uc608\\uc220/\\uccb4\\uc721/\\uc5b8\\ub860, cluster=4\", \"scene\": \"scene\", \"showlegend\": true, \"type\": \"scatter3d\", \"x\": [-197.33607482910156], \"y\": [-41.040809631347656], \"z\": [-20.986255645751953]}, {\"hoverlabel\": {\"namelength\": 0}, \"hovertemplate\": \"category=\\ubb38\\ud654/\\uc608\\uc220/\\uccb4\\uc721/\\uc5b8\\ub860<br>cluster=10<br>x=%{x}<br>y=%{y}<br>z=%{z}\", \"legendgroup\": \"category=\\ubb38\\ud654/\\uc608\\uc220/\\uccb4\\uc721/\\uc5b8\\ub860, cluster=10\", \"marker\": {\"color\": \"#FF97FF\", \"symbol\": \"x\"}, \"mode\": \"markers\", \"name\": \"category=\\ubb38\\ud654/\\uc608\\uc220/\\uccb4\\uc721/\\uc5b8\\ub860, cluster=10\", \"scene\": \"scene\", \"showlegend\": true, \"type\": \"scatter3d\", \"x\": [66.26712036132812], \"y\": [3.485341787338257], \"z\": [-11.110247611999512]}, {\"hoverlabel\": {\"namelength\": 0}, \"hovertemplate\": \"category=\\ubb38\\ud654/\\uc608\\uc220/\\uccb4\\uc721/\\uc5b8\\ub860<br>cluster=15<br>x=%{x}<br>y=%{y}<br>z=%{z}\", \"legendgroup\": \"category=\\ubb38\\ud654/\\uc608\\uc220/\\uccb4\\uc721/\\uc5b8\\ub860, cluster=15\", \"marker\": {\"color\": \"#FF97FF\", \"symbol\": \"cross\"}, \"mode\": \"markers\", \"name\": \"category=\\ubb38\\ud654/\\uc608\\uc220/\\uccb4\\uc721/\\uc5b8\\ub860, cluster=15\", \"scene\": \"scene\", \"showlegend\": true, \"type\": \"scatter3d\", \"x\": [144.9216766357422, 69.81529998779297, 71.19686126708984, 143.15428161621094], \"y\": [72.31813049316406, 45.909828186035156, 42.188636779785156, 104.94439697265625], \"z\": [-49.828651428222656, -90.15000915527344, -16.455020904541016, -15.775214195251465]}, {\"hoverlabel\": {\"namelength\": 0}, \"hovertemplate\": \"category=\\ubb38\\ud654/\\uc608\\uc220/\\uccb4\\uc721/\\uc5b8\\ub860<br>cluster=16<br>x=%{x}<br>y=%{y}<br>z=%{z}\", \"legendgroup\": \"category=\\ubb38\\ud654/\\uc608\\uc220/\\uccb4\\uc721/\\uc5b8\\ub860, cluster=16\", \"marker\": {\"color\": \"#FF97FF\", \"symbol\": \"x\"}, \"mode\": \"markers\", \"name\": \"category=\\ubb38\\ud654/\\uc608\\uc220/\\uccb4\\uc721/\\uc5b8\\ub860, cluster=16\", \"scene\": \"scene\", \"showlegend\": true, \"type\": \"scatter3d\", \"x\": [-43.21858596801758], \"y\": [174.15940856933594], \"z\": [47.61412048339844]}, {\"hoverlabel\": {\"namelength\": 0}, \"hovertemplate\": \"category=\\uc548\\uc804/\\ud658\\uacbd<br>cluster=0<br>x=%{x}<br>y=%{y}<br>z=%{z}\", \"legendgroup\": \"category=\\uc548\\uc804/\\ud658\\uacbd, cluster=0\", \"marker\": {\"color\": \"#FECB52\", \"symbol\": \"circle\"}, \"mode\": \"markers\", \"name\": \"category=\\uc548\\uc804/\\ud658\\uacbd, cluster=0\", \"scene\": \"scene\", \"showlegend\": true, \"type\": \"scatter3d\", \"x\": [98.19923400878906], \"y\": [12.101822853088379], \"z\": [111.94556427001953]}, {\"hoverlabel\": {\"namelength\": 0}, \"hovertemplate\": \"category=\\uc548\\uc804/\\ud658\\uacbd<br>cluster=14<br>x=%{x}<br>y=%{y}<br>z=%{z}\", \"legendgroup\": \"category=\\uc548\\uc804/\\ud658\\uacbd, cluster=14\", \"marker\": {\"color\": \"#FECB52\", \"symbol\": \"cross\"}, \"mode\": \"markers\", \"name\": \"category=\\uc548\\uc804/\\ud658\\uacbd, cluster=14\", \"scene\": \"scene\", \"showlegend\": true, \"type\": \"scatter3d\", \"x\": [-127.55573272705078, -150.11524963378906], \"y\": [-9.91976261138916, -54.62838363647461], \"z\": [64.35911560058594, 40.543704986572266]}, {\"hoverlabel\": {\"namelength\": 0}, \"hovertemplate\": \"category=\\uc548\\uc804/\\ud658\\uacbd<br>cluster=5<br>x=%{x}<br>y=%{y}<br>z=%{z}\", \"legendgroup\": \"category=\\uc548\\uc804/\\ud658\\uacbd, cluster=5\", \"marker\": {\"color\": \"#FECB52\", \"symbol\": \"diamond\"}, \"mode\": \"markers\", \"name\": \"category=\\uc548\\uc804/\\ud658\\uacbd, cluster=5\", \"scene\": \"scene\", \"showlegend\": true, \"type\": \"scatter3d\", \"x\": [-7.865584373474121], \"y\": [-125.3542251586914], \"z\": [-116.34558868408203]}, {\"hoverlabel\": {\"namelength\": 0}, \"hovertemplate\": \"category=\\uc548\\uc804/\\ud658\\uacbd<br>cluster=9<br>x=%{x}<br>y=%{y}<br>z=%{z}\", \"legendgroup\": \"category=\\uc548\\uc804/\\ud658\\uacbd, cluster=9\", \"marker\": {\"color\": \"#FECB52\", \"symbol\": \"square\"}, \"mode\": \"markers\", \"name\": \"category=\\uc548\\uc804/\\ud658\\uacbd, cluster=9\", \"scene\": \"scene\", \"showlegend\": true, \"type\": \"scatter3d\", \"x\": [-59.7469596862793], \"y\": [69.18978881835938], \"z\": [-138.13877868652344]}, {\"hoverlabel\": {\"namelength\": 0}, \"hovertemplate\": \"category=\\uc548\\uc804/\\ud658\\uacbd<br>cluster=2<br>x=%{x}<br>y=%{y}<br>z=%{z}\", \"legendgroup\": \"category=\\uc548\\uc804/\\ud658\\uacbd, cluster=2\", \"marker\": {\"color\": \"#FECB52\", \"symbol\": \"x\"}, \"mode\": \"markers\", \"name\": \"category=\\uc548\\uc804/\\ud658\\uacbd, cluster=2\", \"scene\": \"scene\", \"showlegend\": true, \"type\": \"scatter3d\", \"x\": [-10.01733684539795, -3.0573766231536865, -41.1938591003418], \"y\": [-78.10111236572266, -39.50971984863281, -94.34819793701172], \"z\": [-92.88333892822266, -67.34009552001953, -94.60655975341797]}, {\"hoverlabel\": {\"namelength\": 0}, \"hovertemplate\": \"category=\\uc548\\uc804/\\ud658\\uacbd<br>cluster=12<br>x=%{x}<br>y=%{y}<br>z=%{z}\", \"legendgroup\": \"category=\\uc548\\uc804/\\ud658\\uacbd, cluster=12\", \"marker\": {\"color\": \"#FECB52\", \"symbol\": \"cross\"}, \"mode\": \"markers\", \"name\": \"category=\\uc548\\uc804/\\ud658\\uacbd, cluster=12\", \"scene\": \"scene\", \"showlegend\": true, \"type\": \"scatter3d\", \"x\": [72.807373046875, 63.17201232910156, 72.26590728759766, 156.9751739501953, 79.70227813720703, 39.0203857421875, 130.6997528076172, 161.73379516601562, 118.73524475097656, 115.0763168334961], \"y\": [-1.3503059148788452, -24.30898666381836, -18.23373794555664, -38.657039642333984, -66.18016815185547, 20.985681533813477, -69.03509521484375, 17.458765029907227, -106.82347869873047, -72.20003509521484], \"z\": [-60.77244567871094, -57.64202117919922, -109.34745788574219, -80.84161376953125, -96.64118957519531, -72.64717102050781, -46.4432373046875, -28.768266677856445, -78.75943756103516, -110.04915618896484]}, {\"hoverlabel\": {\"namelength\": 0}, \"hovertemplate\": \"category=\\uc548\\uc804/\\ud658\\uacbd<br>cluster=4<br>x=%{x}<br>y=%{y}<br>z=%{z}\", \"legendgroup\": \"category=\\uc548\\uc804/\\ud658\\uacbd, cluster=4\", \"marker\": {\"color\": \"#FECB52\", \"symbol\": \"diamond\"}, \"mode\": \"markers\", \"name\": \"category=\\uc548\\uc804/\\ud658\\uacbd, cluster=4\", \"scene\": \"scene\", \"showlegend\": true, \"type\": \"scatter3d\", \"x\": [-141.00547790527344], \"y\": [-89.0926284790039], \"z\": [-87.39317321777344]}, {\"hoverlabel\": {\"namelength\": 0}, \"hovertemplate\": \"category=\\uc548\\uc804/\\ud658\\uacbd<br>cluster=7<br>x=%{x}<br>y=%{y}<br>z=%{z}\", \"legendgroup\": \"category=\\uc548\\uc804/\\ud658\\uacbd, cluster=7\", \"marker\": {\"color\": \"#FECB52\", \"symbol\": \"square\"}, \"mode\": \"markers\", \"name\": \"category=\\uc548\\uc804/\\ud658\\uacbd, cluster=7\", \"scene\": \"scene\", \"showlegend\": true, \"type\": \"scatter3d\", \"x\": [131.99607849121094], \"y\": [-117.22149658203125], \"z\": [-23.8668212890625]}, {\"hoverlabel\": {\"namelength\": 0}, \"hovertemplate\": \"category=\\uc548\\uc804/\\ud658\\uacbd<br>cluster=10<br>x=%{x}<br>y=%{y}<br>z=%{z}\", \"legendgroup\": \"category=\\uc548\\uc804/\\ud658\\uacbd, cluster=10\", \"marker\": {\"color\": \"#FECB52\", \"symbol\": \"x\"}, \"mode\": \"markers\", \"name\": \"category=\\uc548\\uc804/\\ud658\\uacbd, cluster=10\", \"scene\": \"scene\", \"showlegend\": true, \"type\": \"scatter3d\", \"x\": [35.0644645690918, 44.414241790771484], \"y\": [45.54029846191406, -37.03886413574219], \"z\": [4.568973064422607, -24.38839340209961]}, {\"hoverlabel\": {\"namelength\": 0}, \"hovertemplate\": \"category=\\uc548\\uc804/\\ud658\\uacbd<br>cluster=15<br>x=%{x}<br>y=%{y}<br>z=%{z}\", \"legendgroup\": \"category=\\uc548\\uc804/\\ud658\\uacbd, cluster=15\", \"marker\": {\"color\": \"#FECB52\", \"symbol\": \"cross\"}, \"mode\": \"markers\", \"name\": \"category=\\uc548\\uc804/\\ud658\\uacbd, cluster=15\", \"scene\": \"scene\", \"showlegend\": true, \"type\": \"scatter3d\", \"x\": [66.87091827392578], \"y\": [89.01726531982422], \"z\": [7.7560930252075195]}, {\"hoverlabel\": {\"namelength\": 0}, \"hovertemplate\": \"category=\\uc548\\uc804/\\ud658\\uacbd<br>cluster=16<br>x=%{x}<br>y=%{y}<br>z=%{z}\", \"legendgroup\": \"category=\\uc548\\uc804/\\ud658\\uacbd, cluster=16\", \"marker\": {\"color\": \"#FECB52\", \"symbol\": \"x\"}, \"mode\": \"markers\", \"name\": \"category=\\uc548\\uc804/\\ud658\\uacbd, cluster=16\", \"scene\": \"scene\", \"showlegend\": true, \"type\": \"scatter3d\", \"x\": [-45.815731048583984], \"y\": [159.796142578125], \"z\": [-29.42496109008789]}, {\"hoverlabel\": {\"namelength\": 0}, \"hovertemplate\": \"category=\\uc815\\uce58\\uac1c\\ud601<br>cluster=0<br>x=%{x}<br>y=%{y}<br>z=%{z}\", \"legendgroup\": \"category=\\uc815\\uce58\\uac1c\\ud601, cluster=0\", \"marker\": {\"color\": \"#636efa\", \"symbol\": \"circle\"}, \"mode\": \"markers\", \"name\": \"category=\\uc815\\uce58\\uac1c\\ud601, cluster=0\", \"scene\": \"scene\", \"showlegend\": true, \"type\": \"scatter3d\", \"x\": [130.5143280029297], \"y\": [59.72856521606445], \"z\": [97.22550201416016]}, {\"hoverlabel\": {\"namelength\": 0}, \"hovertemplate\": \"category=\\uc815\\uce58\\uac1c\\ud601<br>cluster=8<br>x=%{x}<br>y=%{y}<br>z=%{z}\", \"legendgroup\": \"category=\\uc815\\uce58\\uac1c\\ud601, cluster=8\", \"marker\": {\"color\": \"#636efa\", \"symbol\": \"diamond\"}, \"mode\": \"markers\", \"name\": \"category=\\uc815\\uce58\\uac1c\\ud601, cluster=8\", \"scene\": \"scene\", \"showlegend\": true, \"type\": \"scatter3d\", \"x\": [87.11460876464844, 7.979156494140625], \"y\": [118.01055908203125, 174.37509155273438], \"z\": [44.160186767578125, 14.075576782226562]}, {\"hoverlabel\": {\"namelength\": 0}, \"hovertemplate\": \"category=\\uc815\\uce58\\uac1c\\ud601<br>cluster=14<br>x=%{x}<br>y=%{y}<br>z=%{z}\", \"legendgroup\": \"category=\\uc815\\uce58\\uac1c\\ud601, cluster=14\", \"marker\": {\"color\": \"#636efa\", \"symbol\": \"cross\"}, \"mode\": \"markers\", \"name\": \"category=\\uc815\\uce58\\uac1c\\ud601, cluster=14\", \"scene\": \"scene\", \"showlegend\": true, \"type\": \"scatter3d\", \"x\": [-84.97005462646484], \"y\": [48.507598876953125], \"z\": [103.28862762451172]}, {\"hoverlabel\": {\"namelength\": 0}, \"hovertemplate\": \"category=\\uc815\\uce58\\uac1c\\ud601<br>cluster=6<br>x=%{x}<br>y=%{y}<br>z=%{z}\", \"legendgroup\": \"category=\\uc815\\uce58\\uac1c\\ud601, cluster=6\", \"marker\": {\"color\": \"#636efa\", \"symbol\": \"square\"}, \"mode\": \"markers\", \"name\": \"category=\\uc815\\uce58\\uac1c\\ud601, cluster=6\", \"scene\": \"scene\", \"showlegend\": true, \"type\": \"scatter3d\", \"x\": [50.3870735168457], \"y\": [-123.34527587890625], \"z\": [119.96163177490234]}, {\"hoverlabel\": {\"namelength\": 0}, \"hovertemplate\": \"category=\\uc815\\uce58\\uac1c\\ud601<br>cluster=10<br>x=%{x}<br>y=%{y}<br>z=%{z}\", \"legendgroup\": \"category=\\uc815\\uce58\\uac1c\\ud601, cluster=10\", \"marker\": {\"color\": \"#636efa\", \"symbol\": \"x\"}, \"mode\": \"markers\", \"name\": \"category=\\uc815\\uce58\\uac1c\\ud601, cluster=10\", \"scene\": \"scene\", \"showlegend\": true, \"type\": \"scatter3d\", \"x\": [-24.938024520874023, 10.569001197814941, 42.647300720214844], \"y\": [-2.2746245861053467, 7.384029865264893, -0.5947868824005127], \"z\": [28.966665267944336, 65.32380676269531, 49.60144805908203]}, {\"hoverlabel\": {\"namelength\": 0}, \"hovertemplate\": \"category=\\uc815\\uce58\\uac1c\\ud601<br>cluster=15<br>x=%{x}<br>y=%{y}<br>z=%{z}\", \"legendgroup\": \"category=\\uc815\\uce58\\uac1c\\ud601, cluster=15\", \"marker\": {\"color\": \"#636efa\", \"symbol\": \"cross\"}, \"mode\": \"markers\", \"name\": \"category=\\uc815\\uce58\\uac1c\\ud601, cluster=15\", \"scene\": \"scene\", \"showlegend\": true, \"type\": \"scatter3d\", \"x\": [97.21268463134766, 95.6342544555664], \"y\": [142.58265686035156, 92.48435974121094], \"z\": [4.298924446105957, -25.053998947143555]}, {\"hoverlabel\": {\"namelength\": 0}, \"hovertemplate\": \"category=\\uc815\\uce58\\uac1c\\ud601<br>cluster=16<br>x=%{x}<br>y=%{y}<br>z=%{z}\", \"legendgroup\": \"category=\\uc815\\uce58\\uac1c\\ud601, cluster=16\", \"marker\": {\"color\": \"#636efa\", \"symbol\": \"x\"}, \"mode\": \"markers\", \"name\": \"category=\\uc815\\uce58\\uac1c\\ud601, cluster=16\", \"scene\": \"scene\", \"showlegend\": true, \"type\": \"scatter3d\", \"x\": [-48.59754943847656], \"y\": [65.75154113769531], \"z\": [112.57673645019531]}, {\"hoverlabel\": {\"namelength\": 0}, \"hovertemplate\": \"category=\\uc800\\ucd9c\\uc0b0/\\uace0\\ub839\\ud654\\ub300\\ucc45<br>cluster=5<br>x=%{x}<br>y=%{y}<br>z=%{z}\", \"legendgroup\": \"category=\\uc800\\ucd9c\\uc0b0/\\uace0\\ub839\\ud654\\ub300\\ucc45, cluster=5\", \"marker\": {\"color\": \"#EF553B\", \"symbol\": \"diamond\"}, \"mode\": \"markers\", \"name\": \"category=\\uc800\\ucd9c\\uc0b0/\\uace0\\ub839\\ud654\\ub300\\ucc45, cluster=5\", \"scene\": \"scene\", \"showlegend\": true, \"type\": \"scatter3d\", \"x\": [-23.83378791809082], \"y\": [-136.61253356933594], \"z\": [-17.087543487548828]}, {\"hoverlabel\": {\"namelength\": 0}, \"hovertemplate\": \"category=\\uc800\\ucd9c\\uc0b0/\\uace0\\ub839\\ud654\\ub300\\ucc45<br>cluster=6<br>x=%{x}<br>y=%{y}<br>z=%{z}\", \"legendgroup\": \"category=\\uc800\\ucd9c\\uc0b0/\\uace0\\ub839\\ud654\\ub300\\ucc45, cluster=6\", \"marker\": {\"color\": \"#EF553B\", \"symbol\": \"square\"}, \"mode\": \"markers\", \"name\": \"category=\\uc800\\ucd9c\\uc0b0/\\uace0\\ub839\\ud654\\ub300\\ucc45, cluster=6\", \"scene\": \"scene\", \"showlegend\": true, \"type\": \"scatter3d\", \"x\": [-4.624924182891846, -20.986215591430664], \"y\": [-18.263856887817383, -3.3741469383239746], \"z\": [80.68815612792969, 120.54525756835938]}, {\"hoverlabel\": {\"namelength\": 0}, \"hovertemplate\": \"category=\\uc800\\ucd9c\\uc0b0/\\uace0\\ub839\\ud654\\ub300\\ucc45<br>cluster=7<br>x=%{x}<br>y=%{y}<br>z=%{z}\", \"legendgroup\": \"category=\\uc800\\ucd9c\\uc0b0/\\uace0\\ub839\\ud654\\ub300\\ucc45, cluster=7\", \"marker\": {\"color\": \"#EF553B\", \"symbol\": \"square\"}, \"mode\": \"markers\", \"name\": \"category=\\uc800\\ucd9c\\uc0b0/\\uace0\\ub839\\ud654\\ub300\\ucc45, cluster=7\", \"scene\": \"scene\", \"showlegend\": true, \"type\": \"scatter3d\", \"x\": [148.12461853027344], \"y\": [-59.08445358276367], \"z\": [55.8013916015625]}, {\"hoverlabel\": {\"namelength\": 0}, \"hovertemplate\": \"category=\\uc800\\ucd9c\\uc0b0/\\uace0\\ub839\\ud654\\ub300\\ucc45<br>cluster=10<br>x=%{x}<br>y=%{y}<br>z=%{z}\", \"legendgroup\": \"category=\\uc800\\ucd9c\\uc0b0/\\uace0\\ub839\\ud654\\ub300\\ucc45, cluster=10\", \"marker\": {\"color\": \"#EF553B\", \"symbol\": \"x\"}, \"mode\": \"markers\", \"name\": \"category=\\uc800\\ucd9c\\uc0b0/\\uace0\\ub839\\ud654\\ub300\\ucc45, cluster=10\", \"scene\": \"scene\", \"showlegend\": true, \"type\": \"scatter3d\", \"x\": [-53.409297943115234, -50.26945877075195, -27.707468032836914, -22.14365005493164, -6.38811731338501, 8.80040168762207], \"y\": [13.405774116516113, -54.612571716308594, -79.53392028808594, 4.712862968444824, 21.26680564880371, -85.7071533203125], \"z\": [15.157416343688965, -7.016978740692139, -7.812709808349609, 63.104248046875, 8.296156883239746, 32.282440185546875]}, {\"hoverlabel\": {\"namelength\": 0}, \"hovertemplate\": \"category=\\uc800\\ucd9c\\uc0b0/\\uace0\\ub839\\ud654\\ub300\\ucc45<br>cluster=11<br>x=%{x}<br>y=%{y}<br>z=%{z}\", \"legendgroup\": \"category=\\uc800\\ucd9c\\uc0b0/\\uace0\\ub839\\ud654\\ub300\\ucc45, cluster=11\", \"marker\": {\"color\": \"#EF553B\", \"symbol\": \"circle\"}, \"mode\": \"markers\", \"name\": \"category=\\uc800\\ucd9c\\uc0b0/\\uace0\\ub839\\ud654\\ub300\\ucc45, cluster=11\", \"scene\": \"scene\", \"showlegend\": true, \"type\": \"scatter3d\", \"x\": [-95.45374298095703, -23.24995994567871, -79.15155029296875, -43.70751190185547, -8.07974910736084, -113.94149780273438, -44.50929641723633, -100.91175842285156, -66.92254638671875, -50.684288024902344, -105.05155181884766], \"y\": [-95.4681167602539, -108.21023559570312, -87.19609069824219, -173.413818359375, -134.2660675048828, -99.5427474975586, -95.67176055908203, -120.09642791748047, -139.00439453125, -122.61006927490234, -153.5743865966797], \"z\": [53.79594039916992, 48.074737548828125, 93.39188385009766, 62.41371536254883, 70.19083404541016, 23.44371795654297, 90.36820983886719, 100.91219329833984, 100.73922729492188, 18.346508026123047, 64.52406311035156]}, {\"hoverlabel\": {\"namelength\": 0}, \"hovertemplate\": \"category=\\uc800\\ucd9c\\uc0b0/\\uace0\\ub839\\ud654\\ub300\\ucc45<br>cluster=13<br>x=%{x}<br>y=%{y}<br>z=%{z}\", \"legendgroup\": \"category=\\uc800\\ucd9c\\uc0b0/\\uace0\\ub839\\ud654\\ub300\\ucc45, cluster=13\", \"marker\": {\"color\": \"#EF553B\", \"symbol\": \"diamond\"}, \"mode\": \"markers\", \"name\": \"category=\\uc800\\ucd9c\\uc0b0/\\uace0\\ub839\\ud654\\ub300\\ucc45, cluster=13\", \"scene\": \"scene\", \"showlegend\": true, \"type\": \"scatter3d\", \"x\": [-43.96955490112305], \"y\": [-486.8516845703125], \"z\": [121.83794403076172]}, {\"hoverlabel\": {\"namelength\": 0}, \"hovertemplate\": \"category=\\uc778\\uad8c/\\uc131\\ud3c9\\ub4f1<br>cluster=8<br>x=%{x}<br>y=%{y}<br>z=%{z}\", \"legendgroup\": \"category=\\uc778\\uad8c/\\uc131\\ud3c9\\ub4f1, cluster=8\", \"marker\": {\"color\": \"#00cc96\", \"symbol\": \"diamond\"}, \"mode\": \"markers\", \"name\": \"category=\\uc778\\uad8c/\\uc131\\ud3c9\\ub4f1, cluster=8\", \"scene\": \"scene\", \"showlegend\": true, \"type\": \"scatter3d\", \"x\": [-23.47994613647461, -11.81285572052002, 5.384437084197998, 41.2067985534668, -15.583145141601562], \"y\": [51.658287048339844, 56.89472198486328, 28.61161231994629, 42.91054153442383, 64.00982666015625], \"z\": [64.88748931884766, 155.1416015625, 108.2838134765625, 41.58871841430664, 108.82686614990234]}, {\"hoverlabel\": {\"namelength\": 0}, \"hovertemplate\": \"category=\\uc778\\uad8c/\\uc131\\ud3c9\\ub4f1<br>cluster=14<br>x=%{x}<br>y=%{y}<br>z=%{z}\", \"legendgroup\": \"category=\\uc778\\uad8c/\\uc131\\ud3c9\\ub4f1, cluster=14\", \"marker\": {\"color\": \"#00cc96\", \"symbol\": \"cross\"}, \"mode\": \"markers\", \"name\": \"category=\\uc778\\uad8c/\\uc131\\ud3c9\\ub4f1, cluster=14\", \"scene\": \"scene\", \"showlegend\": true, \"type\": \"scatter3d\", \"x\": [-31.65908432006836, -123.60577392578125, -76.308349609375, -53.31022644042969, -117.68443298339844, -43.50986099243164, -153.6496124267578, -146.56959533691406, -157.98886108398438, -113.58480072021484, -111.63001251220703], \"y\": [29.157564163208008, 28.131275177001953, 13.619409561157227, 41.01861572265625, -24.138092041015625, -30.10755729675293, 35.05698776245117, 10.870121955871582, -29.434680938720703, 61.84163284301758, -45.916717529296875], \"z\": [100.76790618896484, 132.85586547851562, 152.42251586914062, 150.2230987548828, 12.5547456741333, 74.88318634033203, 82.00074005126953, 24.766618728637695, 89.1589584350586, 88.4393081665039, 92.79463195800781]}, {\"hoverlabel\": {\"namelength\": 0}, \"hovertemplate\": \"category=\\uc778\\uad8c/\\uc131\\ud3c9\\ub4f1<br>cluster=6<br>x=%{x}<br>y=%{y}<br>z=%{z}\", \"legendgroup\": \"category=\\uc778\\uad8c/\\uc131\\ud3c9\\ub4f1, cluster=6\", \"marker\": {\"color\": \"#00cc96\", \"symbol\": \"square\"}, \"mode\": \"markers\", \"name\": \"category=\\uc778\\uad8c/\\uc131\\ud3c9\\ub4f1, cluster=6\", \"scene\": \"scene\", \"showlegend\": true, \"type\": \"scatter3d\", \"x\": [-48.5612907409668, -33.326751708984375], \"y\": [-26.171693801879883, -41.46202850341797], \"z\": [167.06021118164062, 114.72810363769531]}, {\"hoverlabel\": {\"namelength\": 0}, \"hovertemplate\": \"category=\\uc778\\uad8c/\\uc131\\ud3c9\\ub4f1<br>cluster=1<br>x=%{x}<br>y=%{y}<br>z=%{z}\", \"legendgroup\": \"category=\\uc778\\uad8c/\\uc131\\ud3c9\\ub4f1, cluster=1\", \"marker\": {\"color\": \"#00cc96\", \"symbol\": \"circle\"}, \"mode\": \"markers\", \"name\": \"category=\\uc778\\uad8c/\\uc131\\ud3c9\\ub4f1, cluster=1\", \"scene\": \"scene\", \"showlegend\": true, \"type\": \"scatter3d\", \"x\": [-36.63770294189453, -98.45661163330078, -86.29582977294922], \"y\": [36.95022964477539, 137.5846405029297, 92.5009765625], \"z\": [-73.81907653808594, -34.711753845214844, -24.632173538208008]}, {\"hoverlabel\": {\"namelength\": 0}, \"hovertemplate\": \"category=\\uc778\\uad8c/\\uc131\\ud3c9\\ub4f1<br>cluster=4<br>x=%{x}<br>y=%{y}<br>z=%{z}\", \"legendgroup\": \"category=\\uc778\\uad8c/\\uc131\\ud3c9\\ub4f1, cluster=4\", \"marker\": {\"color\": \"#00cc96\", \"symbol\": \"diamond\"}, \"mode\": \"markers\", \"name\": \"category=\\uc778\\uad8c/\\uc131\\ud3c9\\ub4f1, cluster=4\", \"scene\": \"scene\", \"showlegend\": true, \"type\": \"scatter3d\", \"x\": [-147.19740295410156], \"y\": [-54.23423385620117], \"z\": [-2.726167917251587]}, {\"hoverlabel\": {\"namelength\": 0}, \"hovertemplate\": \"category=\\uc778\\uad8c/\\uc131\\ud3c9\\ub4f1<br>cluster=10<br>x=%{x}<br>y=%{y}<br>z=%{z}\", \"legendgroup\": \"category=\\uc778\\uad8c/\\uc131\\ud3c9\\ub4f1, cluster=10\", \"marker\": {\"color\": \"#00cc96\", \"symbol\": \"x\"}, \"mode\": \"markers\", \"name\": \"category=\\uc778\\uad8c/\\uc131\\ud3c9\\ub4f1, cluster=10\", \"scene\": \"scene\", \"showlegend\": true, \"type\": \"scatter3d\", \"x\": [0.7484312057495117, 19.15730857849121], \"y\": [-21.136308670043945, -37.357295989990234], \"z\": [30.944988250732422, 6.023798942565918]}, {\"hoverlabel\": {\"namelength\": 0}, \"hovertemplate\": \"category=\\uc778\\uad8c/\\uc131\\ud3c9\\ub4f1<br>cluster=16<br>x=%{x}<br>y=%{y}<br>z=%{z}\", \"legendgroup\": \"category=\\uc778\\uad8c/\\uc131\\ud3c9\\ub4f1, cluster=16\", \"marker\": {\"color\": \"#00cc96\", \"symbol\": \"x\"}, \"mode\": \"markers\", \"name\": \"category=\\uc778\\uad8c/\\uc131\\ud3c9\\ub4f1, cluster=16\", \"scene\": \"scene\", \"showlegend\": true, \"type\": \"scatter3d\", \"x\": [-54.72962951660156, -62.7242317199707, -69.87653350830078, -64.17657470703125], \"y\": [107.95817565917969, 105.04519653320312, 74.4488754272461, 121.11526489257812], \"z\": [14.292201042175293, 109.2733383178711, 58.235252380371094, 61.071102142333984]}, {\"hoverlabel\": {\"namelength\": 0}, \"hovertemplate\": \"category=\\uc778\\uad8c/\\uc131\\ud3c9\\ub4f1<br>cluster=13<br>x=%{x}<br>y=%{y}<br>z=%{z}\", \"legendgroup\": \"category=\\uc778\\uad8c/\\uc131\\ud3c9\\ub4f1, cluster=13\", \"marker\": {\"color\": \"#00cc96\", \"symbol\": \"diamond\"}, \"mode\": \"markers\", \"name\": \"category=\\uc778\\uad8c/\\uc131\\ud3c9\\ub4f1, cluster=13\", \"scene\": \"scene\", \"showlegend\": true, \"type\": \"scatter3d\", \"x\": [35.821533203125], \"y\": [-510.11431884765625], \"z\": [-120.02776336669922]}, {\"hoverlabel\": {\"namelength\": 0}, \"hovertemplate\": \"category=\\ubbf8\\ub798<br>cluster=14<br>x=%{x}<br>y=%{y}<br>z=%{z}\", \"legendgroup\": \"category=\\ubbf8\\ub798, cluster=14\", \"marker\": {\"color\": \"#ab63fa\", \"symbol\": \"cross\"}, \"mode\": \"markers\", \"name\": \"category=\\ubbf8\\ub798, cluster=14\", \"scene\": \"scene\", \"showlegend\": true, \"type\": \"scatter3d\", \"x\": [-74.46841430664062], \"y\": [-51.96592330932617], \"z\": [64.89097595214844]}, {\"hoverlabel\": {\"namelength\": 0}, \"hovertemplate\": \"category=\\ubbf8\\ub798<br>cluster=10<br>x=%{x}<br>y=%{y}<br>z=%{z}\", \"legendgroup\": \"category=\\ubbf8\\ub798, cluster=10\", \"marker\": {\"color\": \"#ab63fa\", \"symbol\": \"x\"}, \"mode\": \"markers\", \"name\": \"category=\\ubbf8\\ub798, cluster=10\", \"scene\": \"scene\", \"showlegend\": true, \"type\": \"scatter3d\", \"x\": [1.0013827085494995], \"y\": [24.760026931762695], \"z\": [41.154212951660156]}, {\"hoverlabel\": {\"namelength\": 0}, \"hovertemplate\": \"category=\\ub18d\\uc0b0\\uc5b4\\ucd0c<br>cluster=12<br>x=%{x}<br>y=%{y}<br>z=%{z}\", \"legendgroup\": \"category=\\ub18d\\uc0b0\\uc5b4\\ucd0c, cluster=12\", \"marker\": {\"color\": \"#FFA15A\", \"symbol\": \"cross\"}, \"mode\": \"markers\", \"name\": \"category=\\ub18d\\uc0b0\\uc5b4\\ucd0c, cluster=12\", \"scene\": \"scene\", \"showlegend\": true, \"type\": \"scatter3d\", \"x\": [98.15681457519531], \"y\": [-52.195587158203125], \"z\": [-64.42691802978516]}],\n",
              "                        {\"legend\": {\"tracegroupgap\": 0}, \"margin\": {\"t\": 60}, \"scene\": {\"domain\": {\"x\": [0.0, 1.0], \"y\": [0.0, 1.0]}, \"xaxis\": {\"title\": {\"text\": \"x\"}}, \"yaxis\": {\"title\": {\"text\": \"y\"}}, \"zaxis\": {\"title\": {\"text\": \"z\"}}}, \"template\": {\"data\": {\"bar\": [{\"error_x\": {\"color\": \"#2a3f5f\"}, \"error_y\": {\"color\": \"#2a3f5f\"}, \"marker\": {\"line\": {\"color\": \"#E5ECF6\", \"width\": 0.5}}, \"type\": \"bar\"}], \"barpolar\": [{\"marker\": {\"line\": {\"color\": \"#E5ECF6\", \"width\": 0.5}}, \"type\": \"barpolar\"}], \"carpet\": [{\"aaxis\": {\"endlinecolor\": \"#2a3f5f\", \"gridcolor\": \"white\", \"linecolor\": \"white\", \"minorgridcolor\": \"white\", \"startlinecolor\": \"#2a3f5f\"}, \"baxis\": {\"endlinecolor\": \"#2a3f5f\", \"gridcolor\": \"white\", \"linecolor\": \"white\", \"minorgridcolor\": \"white\", \"startlinecolor\": \"#2a3f5f\"}, \"type\": \"carpet\"}], \"choropleth\": [{\"colorbar\": {\"outlinewidth\": 0, \"ticks\": \"\"}, \"type\": \"choropleth\"}], \"contour\": [{\"colorbar\": {\"outlinewidth\": 0, \"ticks\": \"\"}, \"colorscale\": [[0.0, \"#0d0887\"], [0.1111111111111111, \"#46039f\"], [0.2222222222222222, \"#7201a8\"], [0.3333333333333333, \"#9c179e\"], [0.4444444444444444, \"#bd3786\"], [0.5555555555555556, \"#d8576b\"], [0.6666666666666666, \"#ed7953\"], [0.7777777777777778, \"#fb9f3a\"], [0.8888888888888888, \"#fdca26\"], [1.0, \"#f0f921\"]], \"type\": \"contour\"}], \"contourcarpet\": [{\"colorbar\": {\"outlinewidth\": 0, \"ticks\": \"\"}, \"type\": \"contourcarpet\"}], \"heatmap\": [{\"colorbar\": {\"outlinewidth\": 0, \"ticks\": \"\"}, \"colorscale\": [[0.0, \"#0d0887\"], [0.1111111111111111, \"#46039f\"], [0.2222222222222222, \"#7201a8\"], [0.3333333333333333, \"#9c179e\"], [0.4444444444444444, \"#bd3786\"], [0.5555555555555556, \"#d8576b\"], [0.6666666666666666, \"#ed7953\"], [0.7777777777777778, \"#fb9f3a\"], [0.8888888888888888, \"#fdca26\"], [1.0, \"#f0f921\"]], \"type\": \"heatmap\"}], \"heatmapgl\": [{\"colorbar\": {\"outlinewidth\": 0, \"ticks\": \"\"}, \"colorscale\": [[0.0, \"#0d0887\"], [0.1111111111111111, \"#46039f\"], [0.2222222222222222, \"#7201a8\"], [0.3333333333333333, \"#9c179e\"], [0.4444444444444444, \"#bd3786\"], [0.5555555555555556, \"#d8576b\"], [0.6666666666666666, \"#ed7953\"], [0.7777777777777778, \"#fb9f3a\"], [0.8888888888888888, \"#fdca26\"], [1.0, \"#f0f921\"]], \"type\": \"heatmapgl\"}], \"histogram\": [{\"marker\": {\"colorbar\": {\"outlinewidth\": 0, \"ticks\": \"\"}}, \"type\": \"histogram\"}], \"histogram2d\": [{\"colorbar\": {\"outlinewidth\": 0, \"ticks\": \"\"}, \"colorscale\": [[0.0, \"#0d0887\"], [0.1111111111111111, \"#46039f\"], [0.2222222222222222, \"#7201a8\"], [0.3333333333333333, \"#9c179e\"], [0.4444444444444444, \"#bd3786\"], [0.5555555555555556, \"#d8576b\"], [0.6666666666666666, \"#ed7953\"], [0.7777777777777778, \"#fb9f3a\"], [0.8888888888888888, \"#fdca26\"], [1.0, \"#f0f921\"]], \"type\": \"histogram2d\"}], \"histogram2dcontour\": [{\"colorbar\": {\"outlinewidth\": 0, \"ticks\": \"\"}, \"colorscale\": [[0.0, \"#0d0887\"], [0.1111111111111111, \"#46039f\"], [0.2222222222222222, \"#7201a8\"], [0.3333333333333333, \"#9c179e\"], [0.4444444444444444, \"#bd3786\"], [0.5555555555555556, \"#d8576b\"], [0.6666666666666666, \"#ed7953\"], [0.7777777777777778, \"#fb9f3a\"], [0.8888888888888888, \"#fdca26\"], [1.0, \"#f0f921\"]], \"type\": \"histogram2dcontour\"}], \"mesh3d\": [{\"colorbar\": {\"outlinewidth\": 0, \"ticks\": \"\"}, \"type\": \"mesh3d\"}], \"parcoords\": [{\"line\": {\"colorbar\": {\"outlinewidth\": 0, \"ticks\": \"\"}}, \"type\": \"parcoords\"}], \"pie\": [{\"automargin\": true, \"type\": \"pie\"}], \"scatter\": [{\"marker\": {\"colorbar\": {\"outlinewidth\": 0, \"ticks\": \"\"}}, \"type\": \"scatter\"}], \"scatter3d\": [{\"line\": {\"colorbar\": {\"outlinewidth\": 0, \"ticks\": \"\"}}, \"marker\": {\"colorbar\": {\"outlinewidth\": 0, \"ticks\": \"\"}}, \"type\": \"scatter3d\"}], \"scattercarpet\": [{\"marker\": {\"colorbar\": {\"outlinewidth\": 0, \"ticks\": \"\"}}, \"type\": \"scattercarpet\"}], \"scattergeo\": [{\"marker\": {\"colorbar\": {\"outlinewidth\": 0, \"ticks\": \"\"}}, \"type\": \"scattergeo\"}], \"scattergl\": [{\"marker\": {\"colorbar\": {\"outlinewidth\": 0, \"ticks\": \"\"}}, \"type\": \"scattergl\"}], \"scattermapbox\": [{\"marker\": {\"colorbar\": {\"outlinewidth\": 0, \"ticks\": \"\"}}, \"type\": \"scattermapbox\"}], \"scatterpolar\": [{\"marker\": {\"colorbar\": {\"outlinewidth\": 0, \"ticks\": \"\"}}, \"type\": \"scatterpolar\"}], \"scatterpolargl\": [{\"marker\": {\"colorbar\": {\"outlinewidth\": 0, \"ticks\": \"\"}}, \"type\": \"scatterpolargl\"}], \"scatterternary\": [{\"marker\": {\"colorbar\": {\"outlinewidth\": 0, \"ticks\": \"\"}}, \"type\": \"scatterternary\"}], \"surface\": [{\"colorbar\": {\"outlinewidth\": 0, \"ticks\": \"\"}, \"colorscale\": [[0.0, \"#0d0887\"], [0.1111111111111111, \"#46039f\"], [0.2222222222222222, \"#7201a8\"], [0.3333333333333333, \"#9c179e\"], [0.4444444444444444, \"#bd3786\"], [0.5555555555555556, \"#d8576b\"], [0.6666666666666666, \"#ed7953\"], [0.7777777777777778, \"#fb9f3a\"], [0.8888888888888888, \"#fdca26\"], [1.0, \"#f0f921\"]], \"type\": \"surface\"}], \"table\": [{\"cells\": {\"fill\": {\"color\": \"#EBF0F8\"}, \"line\": {\"color\": \"white\"}}, \"header\": {\"fill\": {\"color\": \"#C8D4E3\"}, \"line\": {\"color\": \"white\"}}, \"type\": \"table\"}]}, \"layout\": {\"annotationdefaults\": {\"arrowcolor\": \"#2a3f5f\", \"arrowhead\": 0, \"arrowwidth\": 1}, \"coloraxis\": {\"colorbar\": {\"outlinewidth\": 0, \"ticks\": \"\"}}, \"colorscale\": {\"diverging\": [[0, \"#8e0152\"], [0.1, \"#c51b7d\"], [0.2, \"#de77ae\"], [0.3, \"#f1b6da\"], [0.4, \"#fde0ef\"], [0.5, \"#f7f7f7\"], [0.6, \"#e6f5d0\"], [0.7, \"#b8e186\"], [0.8, \"#7fbc41\"], [0.9, \"#4d9221\"], [1, \"#276419\"]], \"sequential\": [[0.0, \"#0d0887\"], [0.1111111111111111, \"#46039f\"], [0.2222222222222222, \"#7201a8\"], [0.3333333333333333, \"#9c179e\"], [0.4444444444444444, \"#bd3786\"], [0.5555555555555556, \"#d8576b\"], [0.6666666666666666, \"#ed7953\"], [0.7777777777777778, \"#fb9f3a\"], [0.8888888888888888, \"#fdca26\"], [1.0, \"#f0f921\"]], \"sequentialminus\": [[0.0, \"#0d0887\"], [0.1111111111111111, \"#46039f\"], [0.2222222222222222, \"#7201a8\"], [0.3333333333333333, \"#9c179e\"], [0.4444444444444444, \"#bd3786\"], [0.5555555555555556, \"#d8576b\"], [0.6666666666666666, \"#ed7953\"], [0.7777777777777778, \"#fb9f3a\"], [0.8888888888888888, \"#fdca26\"], [1.0, \"#f0f921\"]]}, \"colorway\": [\"#636efa\", \"#EF553B\", \"#00cc96\", \"#ab63fa\", \"#FFA15A\", \"#19d3f3\", \"#FF6692\", \"#B6E880\", \"#FF97FF\", \"#FECB52\"], \"font\": {\"color\": \"#2a3f5f\"}, \"geo\": {\"bgcolor\": \"white\", \"lakecolor\": \"white\", \"landcolor\": \"#E5ECF6\", \"showlakes\": true, \"showland\": true, \"subunitcolor\": \"white\"}, \"hoverlabel\": {\"align\": \"left\"}, \"hovermode\": \"closest\", \"mapbox\": {\"style\": \"light\"}, \"paper_bgcolor\": \"white\", \"plot_bgcolor\": \"#E5ECF6\", \"polar\": {\"angularaxis\": {\"gridcolor\": \"white\", \"linecolor\": \"white\", \"ticks\": \"\"}, \"bgcolor\": \"#E5ECF6\", \"radialaxis\": {\"gridcolor\": \"white\", \"linecolor\": \"white\", \"ticks\": \"\"}}, \"scene\": {\"xaxis\": {\"backgroundcolor\": \"#E5ECF6\", \"gridcolor\": \"white\", \"gridwidth\": 2, \"linecolor\": \"white\", \"showbackground\": true, \"ticks\": \"\", \"zerolinecolor\": \"white\"}, \"yaxis\": {\"backgroundcolor\": \"#E5ECF6\", \"gridcolor\": \"white\", \"gridwidth\": 2, \"linecolor\": \"white\", \"showbackground\": true, \"ticks\": \"\", \"zerolinecolor\": \"white\"}, \"zaxis\": {\"backgroundcolor\": \"#E5ECF6\", \"gridcolor\": \"white\", \"gridwidth\": 2, \"linecolor\": \"white\", \"showbackground\": true, \"ticks\": \"\", \"zerolinecolor\": \"white\"}}, \"shapedefaults\": {\"line\": {\"color\": \"#2a3f5f\"}}, \"ternary\": {\"aaxis\": {\"gridcolor\": \"white\", \"linecolor\": \"white\", \"ticks\": \"\"}, \"baxis\": {\"gridcolor\": \"white\", \"linecolor\": \"white\", \"ticks\": \"\"}, \"bgcolor\": \"#E5ECF6\", \"caxis\": {\"gridcolor\": \"white\", \"linecolor\": \"white\", \"ticks\": \"\"}}, \"title\": {\"x\": 0.05}, \"xaxis\": {\"automargin\": true, \"gridcolor\": \"white\", \"linecolor\": \"white\", \"ticks\": \"\", \"title\": {\"standoff\": 15}, \"zerolinecolor\": \"white\", \"zerolinewidth\": 2}, \"yaxis\": {\"automargin\": true, \"gridcolor\": \"white\", \"linecolor\": \"white\", \"ticks\": \"\", \"title\": {\"standoff\": 15}, \"zerolinecolor\": \"white\", \"zerolinewidth\": 2}}}},\n",
              "                        {\"responsive\": true}\n",
              "                    ).then(function(){\n",
              "                            \n",
              "var gd = document.getElementById('1c51778c-acd3-4bd0-9e27-8f8a93da9ba1');\n",
              "var x = new MutationObserver(function (mutations, observer) {{\n",
              "        var display = window.getComputedStyle(gd).display;\n",
              "        if (!display || display === 'none') {{\n",
              "            console.log([gd, 'removed!']);\n",
              "            Plotly.purge(gd);\n",
              "            observer.disconnect();\n",
              "        }}\n",
              "}});\n",
              "\n",
              "// Listen for the removal of the full notebook cells\n",
              "var notebookContainer = gd.closest('#notebook-container');\n",
              "if (notebookContainer) {{\n",
              "    x.observe(notebookContainer, {childList: true});\n",
              "}}\n",
              "\n",
              "// Listen for the clearing of the current output cell\n",
              "var outputEl = gd.closest('.output');\n",
              "if (outputEl) {{\n",
              "    x.observe(outputEl, {childList: true});\n",
              "}}\n",
              "\n",
              "                        })\n",
              "                };\n",
              "                \n",
              "            </script>\n",
              "        </div>\n",
              "</body>\n",
              "</html>"
            ]
          },
          "metadata": {
            "tags": []
          }
        }
      ]
    },
    {
      "cell_type": "code",
      "metadata": {
        "id": "hYQWpdZsYTGn",
        "colab_type": "code",
        "outputId": "28cd5b2d-667e-4345-981f-a5d38eace3b1",
        "colab": {
          "base_uri": "https://localhost:8080/",
          "height": 542
        }
      },
      "source": [
        "import plotly.express as px\n",
        "df = px.data.iris()\n",
        "fig = px.scatter_3d(dfdf, x='x', y='y', z='z',\n",
        "                    color='cluster')\n",
        " #symbol='category'\n",
        "fig.show()"
      ],
      "execution_count": 0,
      "outputs": [
        {
          "output_type": "display_data",
          "data": {
            "text/html": [
              "<html>\n",
              "<head><meta charset=\"utf-8\" /></head>\n",
              "<body>\n",
              "    <div>\n",
              "            <script src=\"https://cdnjs.cloudflare.com/ajax/libs/mathjax/2.7.5/MathJax.js?config=TeX-AMS-MML_SVG\"></script><script type=\"text/javascript\">if (window.MathJax) {MathJax.Hub.Config({SVG: {font: \"STIX-Web\"}});}</script>\n",
              "                <script type=\"text/javascript\">window.PlotlyConfig = {MathJaxConfig: 'local'};</script>\n",
              "        <script src=\"https://cdn.plot.ly/plotly-latest.min.js\"></script>    \n",
              "            <div id=\"b6774afb-e2d8-40e1-bdbd-03dd5cf8099e\" class=\"plotly-graph-div\" style=\"height:525px; width:100%;\"></div>\n",
              "            <script type=\"text/javascript\">\n",
              "                \n",
              "                    window.PLOTLYENV=window.PLOTLYENV || {};\n",
              "                    \n",
              "                if (document.getElementById(\"b6774afb-e2d8-40e1-bdbd-03dd5cf8099e\")) {\n",
              "                    Plotly.newPlot(\n",
              "                        'b6774afb-e2d8-40e1-bdbd-03dd5cf8099e',\n",
              "                        [{\"hoverlabel\": {\"namelength\": 0}, \"hovertemplate\": \"x=%{x}<br>y=%{y}<br>z=%{z}<br>cluster=%{marker.color}\", \"legendgroup\": \"\", \"marker\": {\"color\": [0, 8, 14, 5, 6, 9, 9, 9, 8, 2, 8, 12, 1, 9, 9, 9, 4, 1, 9, 2, 7, 9, 12, 1, 10, 14, 6, 8, 15, 6, 7, 1, 15, 5, 2, 2, 9, 9, 7, 3, 10, 8, 5, 9, 15, 8, 12, 14, 2, 8, 12, 7, 16, 6, 16, 2, 11, 16, 12, 10, 2, 7, 1, 9, 10, 9, 7, 8, 10, 2, 11, 4, 12, 2, 7, 1, 1, 6, 16, 7, 6, 10, 5, 2, 12, 4, 7, 7, 7, 2, 16, 2, 8, 0, 4, 5, 7, 16, 12, 16, 16, 4, 14, 5, 8, 14, 16, 0, 14, 12, 1, 11, 1, 1, 1, 15, 6, 10, 8, 1, 4, 14, 16, 11, 16, 1, 14, 1, 8, 14, 1, 6, 10, 16, 14, 16, 0, 15, 10, 6, 14, 10, 8, 12, 14, 14, 6, 16, 10, 6, 14, 6, 9, 4, 2, 12, 6, 5, 15, 1, 14, 16, 14, 5, 8, 10, 12, 2, 15, 14, 15, 12, 1, 8, 0, 1, 10, 8, 2, 14, 1, 8, 12, 7, 0, 14, 2, 10, 0, 2, 8, 8, 15, 12, 15, 12, 6, 10, 15, 0, 12, 9, 14, 8, 14, 10, 14, 2, 10, 0, 0, 12, 15, 0, 0, 11, 0, 7, 7, 7, 5, 2, 6, 4, 1, 0, 5, 4, 8, 10, 9, 6, 16, 15, 8, 1, 2, 9, 0, 15, 15, 6, 12, 15, 2, 1, 9, 0, 14, 5, 2, 6, 14, 4, 12, 11, 10, 12, 11, 11, 11, 0, 11, 2, 5, 11, 16, 6, 15, 13, 11, 9, 10, 7, 10, 6, 10, 10, 1, 11, 4, 2, 10, 11, 10, 11, 12, 9, 11, 11, 11, 8, 7, 11, 13, 10, 5, 10, 11, 10], \"coloraxis\": \"coloraxis\", \"symbol\": \"circle\"}, \"mode\": \"markers\", \"name\": \"\", \"scene\": \"scene\", \"showlegend\": false, \"type\": \"scatter3d\", \"x\": [118.39532470703125, 12.493712425231934, -71.71719360351562, 43.54253387451172, -10.910456657409668, 78.17143249511719, -36.680442810058594, 18.13347053527832, 23.1905517578125, 1.7040152549743652, 38.76840591430664, 155.85231018066406, -105.42636108398438, 17.001632690429688, 55.91741180419922, 4.1134443283081055, -313.55511474609375, -133.59060668945312, 7.406094551086426, -64.43589782714844, 86.3718032836914, -10.207175254821777, 109.31499481201172, -45.35425567626953, -61.47703170776367, -179.90585327148438, 58.67753601074219, 47.23912811279297, 96.38007354736328, 57.90937423706055, 46.07669448852539, -110.24505615234375, 46.623783111572266, -9.77100944519043, -50.315216064453125, -62.53653335571289, 19.949216842651367, -13.159417152404785, 45.2602424621582, -324.1150817871094, 27.327363967895508, 16.833669662475586, 59.36524963378906, -22.007339477539062, 144.9216766357422, -12.901285171508789, 113.8492202758789, -127.55573272705078, -10.01733684539795, 59.8123893737793, 127.91930389404297, 55.495662689208984, -45.815731048583984, 39.1335563659668, -43.21858596801758, -108.07609558105469, -86.94769287109375, -27.898082733154297, 91.54197692871094, 39.34197998046875, -93.86206817626953, 141.13787841796875, -79.13406372070312, 28.536155700683594, -38.664772033691406, -24.927345275878906, 119.5525894165039, 87.11460876464844, 28.382902145385742, 0.11463169753551483, -95.45374298095703, -141.00547790527344, 113.32833862304688, -39.645721435546875, 49.84376525878906, -9.636750221252441, -97.69347381591797, 89.69285583496094, -41.8691520690918, 76.09679412841797, 63.02458572387695, 30.455036163330078, 28.82676887512207, -43.72907257080078, 41.7796630859375, -197.33607482910156, 131.99607849121094, 101.89633178710938, 90.4715347290039, -83.13410186767578, -109.96574401855469, -47.35810089111328, 7.979156494140625, 175.54080200195312, -120.69651794433594, 29.56231117248535, 53.72149658203125, -140.90866088867188, 174.23361206054688, -20.98084831237793, -54.72962951660156, -167.1749267578125, -146.1754913330078, -83.90926361083984, 0.5533347725868225, -61.76277160644531, -101.59634399414062, 112.67762756347656, -31.65908432006836, 72.807373046875, -126.38868713378906, 4.0583014488220215, -81.09895324707031, -80.19059753417969, -57.698692321777344, 56.40938949584961, 38.296348571777344, 8.454092979431152, 50.22118377685547, -36.63770294189453, -209.12684631347656, -108.87561798095703, -102.0443344116211, -65.43888092041016, -78.74708557128906, -85.24376678466797, -123.60577392578125, -56.09538650512695, -23.47994613647461, -76.308349609375, -98.45661163330078, 15.737503051757812, -2.0750229358673096, -48.59754943847656, -53.31022644042969, -62.7242317199707, 148.7660369873047, 43.2263069152832, -9.70186710357666, -48.5612907409668, -117.68443298339844, 0.7484312057495117, -11.81285572052002, 93.61214447021484, -72.71263122558594, -43.50986099243164, -33.326751708984375, -69.87653350830078, -24.938024520874023, 26.531320571899414, -150.11524963378906, 3.950577974319458, -59.7469596862793, -147.19740295410156, -44.02245330810547, 63.17201232910156, 70.83834838867188, 20.672218322753906, 15.87800407409668, -83.21179962158203, -153.6496124267578, -110.79376983642578, -146.56959533691406, -53.86693572998047, -2.6581227779388428, 19.15730857849121, 72.26590728759766, -64.75839233398438, 74.27484893798828, -74.09489440917969, 85.61124420166016, 156.9751739501953, -95.4965591430664, 62.34984588623047, 81.98670196533203, -39.548675537109375, 1.0013827085494995, 86.09603118896484, -32.16456985473633, -102.67827606201172, -86.29582977294922, 5.384437084197998, 64.3842544555664, 68.00372314453125, 140.3848114013672, -74.46841430664062, -3.0573766231536865, 35.0644645690918, 81.29505157470703, -89.98373413085938, 41.2067985534668, 36.43461990356445, 69.81529998779297, 98.15681457519531, 71.19686126708984, 79.70227813720703, 50.3870735168457, 66.26712036132812, 238.2729949951172, 80.05789184570312, 39.0203857421875, 44.328365325927734, -157.98886108398438, 32.22687911987305, -113.58480072021484, -9.537887573242188, -84.97005462646484, 20.010520935058594, 44.414241790771484, 110.67011260986328, 124.32147216796875, 130.6997528076172, 97.21268463134766, 77.32617950439453, 77.93986511230469, -12.13076114654541, 98.19923400878906, 77.87103271484375, 78.91787719726562, 99.18576049804688, -7.865584373474121, -92.70539093017578, 109.12366485595703, -153.6659393310547, -116.74004364013672, 130.5143280029297, -16.180797576904297, -175.61953735351562, -15.583145141601562, 10.569001197814941, 2.5476431846618652, -11.855507850646973, -151.52825927734375, 95.6342544555664, 37.54666519165039, -51.895713806152344, -12.608433723449707, -2.5655417442321777, 110.4256591796875, 143.15428161621094, 66.87091827392578, 19.887062072753906, 161.73379516601562, 40.04240036010742, 31.1943302154541, -141.16600036621094, -1.6785494089126587, 140.13668823242188, -111.63001251220703, -69.06260681152344, -41.1938591003418, 46.25367736816406, -91.61238861083984, -121.62946319580078, 118.73524475097656, -62.628597259521484, 42.647300720214844, 118.80564880371094, -23.24995994567871, -79.15155029296875, -43.70751190185547, 140.01316833496094, -8.07974910736084, -7.065442085266113, -13.835238456726074, -59.16147994995117, -64.17657470703125, -4.624924182891846, 111.74058532714844, 35.821533203125, -94.76445007324219, -30.48644256591797, -19.795272827148438, 89.69427490234375, -53.409297943115234, -20.986215591430664, -1.5547819137573242, -50.26945877075195, -131.5291748046875, -95.59814453125, -127.83140563964844, 33.7032470703125, -36.305538177490234, -113.94149780273438, -27.707468032836914, -44.50929641723633, 115.0763168334961, -0.02002592384815216, -100.91175842285156, -42.62799072265625, -66.92254638671875, 40.25779342651367, 148.12461853027344, -50.684288024902344, -43.96955490112305, -22.14365005493164, -23.83378791809082, -6.38811731338501, -105.05155181884766, 8.80040168762207], \"y\": [-35.830726623535156, 133.84017944335938, 36.1772346496582, -159.93441772460938, -59.14485549926758, 89.00614166259766, 101.88764190673828, 140.7078399658203, 95.21533203125, -11.802451133728027, 98.78756713867188, 15.988513946533203, 70.63392639160156, 118.27782440185547, 149.2284393310547, 92.99266815185547, -58.912384033203125, 31.218170166015625, 68.1986312866211, 11.122376441955566, -163.34437561035156, 86.90428161621094, 32.38944625854492, 96.37806701660156, -27.250019073486328, 11.836294174194336, -23.827787399291992, 98.9129867553711, 124.32099914550781, -66.23565673828125, -157.25709533691406, -2.946089744567871, 104.54146575927734, -159.11300659179688, -38.47157287597656, 7.798062324523926, 42.24820327758789, 125.2398910522461, -106.4003677368164, 696.02392578125, 3.2590348720550537, 57.52609634399414, -112.02694702148438, 217.47012329101562, 72.31813049316406, 116.34534454345703, -17.905290603637695, -9.91976261138916, -78.10111236572266, 124.93074035644531, 42.48475646972656, -50.60706329345703, 159.796142578125, -23.41895294189453, 174.15940856933594, -8.061570167541504, -70.48554992675781, 108.12355041503906, -39.8643684387207, -53.34208297729492, -60.090965270996094, -70.1251220703125, 46.54718017578125, 84.79900360107422, -15.154522895812988, 126.23094177246094, -93.52610778808594, 118.01055908203125, -72.59219360351562, 6.715425968170166, -95.4681167602539, -89.0926284790039, -15.56255054473877, -2.216449499130249, -84.44917297363281, 60.74061584472656, 50.83391189575195, -44.86040115356445, 68.40257263183594, -126.73562622070312, -65.66038513183594, 6.289361476898193, -111.00740051269531, -76.82842254638672, -8.502069473266602, -41.040809631347656, -117.22149658203125, -49.57149124145508, -116.36358642578125, -49.65520095825195, 89.22394561767578, -34.75819778442383, 174.37509155273438, -11.033329010009766, -75.99901580810547, -180.9092559814453, -130.37371826171875, 114.86475372314453, -38.42877960205078, 135.90365600585938, 107.95817565917969, -9.462891578674316, -80.30915069580078, -142.0084228515625, 99.14398193359375, 8.309637069702148, 80.26697540283203, 75.84085083007812, 29.157564163208008, -1.3503059148788452, 34.342628479003906, -134.6254119873047, -7.401257038116455, 2.8315932750701904, 48.206085205078125, 154.580810546875, -118.42977905273438, -85.17359161376953, 166.6090087890625, 36.95022964477539, -224.48362731933594, 31.598745346069336, 161.26222229003906, -103.41160583496094, 128.39515686035156, 60.112144470214844, 28.131275177001953, 59.04894256591797, 51.658287048339844, 13.619409561157227, 137.5846405029297, -20.209657669067383, -12.07530689239502, 65.75154113769531, 41.01861572265625, 105.04519653320312, 14.818268775939941, 138.9773406982422, 24.89026641845703, -26.171693801879883, -24.138092041015625, -21.136308670043945, 56.89472198486328, 26.165666580200195, -23.237398147583008, -30.10755729675293, -41.46202850341797, 74.4488754272461, -2.2746245861053467, -29.746532440185547, -54.62838363647461, -89.18244171142578, 69.18978881835938, -54.23423385620117, -26.59917449951172, -24.30898666381836, 9.358170509338379, -127.64189147949219, 98.51860809326172, 79.1669692993164, 35.05698776245117, 121.51453399658203, 10.870121955871582, -137.86972045898438, 65.40370178222656, -37.357295989990234, -18.23373794555664, -63.99334716796875, 98.53739166259766, -71.78058624267578, 80.93419647216797, -38.657039642333984, 124.79820251464844, 56.41041946411133, 66.29949188232422, 96.07568359375, 24.760026931762695, 77.16232299804688, 26.82993507385254, 6.933771133422852, 92.5009765625, 28.61161231994629, -8.852132797241211, -90.11526489257812, -20.249956130981445, -51.96592330932617, -39.50971984863281, 45.54029846191406, 41.34223175048828, -90.20246124267578, 42.91054153442383, 153.64463806152344, 45.909828186035156, -52.195587158203125, 42.188636779785156, -66.18016815185547, -123.34527587890625, 3.485341787338257, 120.74740600585938, -4.780978202819824, 20.985681533813477, 24.261821746826172, -29.434680938720703, 133.42950439453125, 61.84163284301758, -47.83090591430664, 48.507598876953125, -89.58847045898438, -37.03886413574219, -16.101552963256836, 18.80487060546875, -69.03509521484375, 142.58265686035156, -26.296817779541016, 18.059219360351562, -160.95387268066406, 12.101822853088379, -105.28455352783203, -84.43911743164062, -137.7657928466797, -125.3542251586914, -74.8224868774414, -84.18547058105469, -25.533164978027344, -4.600786209106445, 59.72856521606445, -105.25029754638672, -85.01193237304688, 64.00982666015625, 7.384029865264893, 110.75228881835938, -108.19608306884766, 65.50346374511719, 92.48435974121094, 48.651058197021484, 26.82380485534668, -64.41136932373047, 175.34036254882812, 15.694836616516113, 104.94439697265625, 89.01726531982422, -63.73497772216797, 17.458765029907227, 57.30358123779297, -37.5125846862793, 72.09674072265625, 33.09843826293945, 73.29185485839844, -45.916717529296875, -163.15489196777344, -94.34819793701172, 14.128432273864746, -1.7702898979187012, -129.54518127441406, -106.82347869873047, -80.68270111083984, -0.5947868824005127, -25.208572387695312, -108.21023559570312, -87.19609069824219, -173.413818359375, 106.16461181640625, -134.2660675048828, -14.67775821685791, -315.3580627441406, -128.33462524414062, 121.11526489257812, -18.263856887817383, 45.998680114746094, -510.11431884765625, -54.77679443359375, 81.8675537109375, -51.657470703125, -74.04024505615234, 13.405774116516113, -3.3741469383239746, -50.76751708984375, -54.612571716308594, 26.871021270751953, -134.67616271972656, -39.82497024536133, -58.72050857543945, 25.053844451904297, -99.5427474975586, -79.53392028808594, -95.67176055908203, -72.20003509521484, 54.912933349609375, -120.09642791748047, -69.04505920410156, -139.00439453125, 87.57598114013672, -59.08445358276367, -122.61006927490234, -486.8516845703125, 4.712862968444824, -136.61253356933594, 21.26680564880371, -153.5743865966797, -85.7071533203125], \"z\": [86.46208953857422, 84.48873901367188, 56.221309661865234, -69.90030670166016, 151.1679229736328, -132.13401794433594, -136.2821807861328, -73.87079620361328, 103.49320220947266, -173.3047332763672, 76.60902404785156, -92.89781951904297, -106.9800033569336, -107.99951934814453, -99.43585205078125, -155.12025451660156, -49.68849182128906, -110.7076416015625, -125.2931900024414, -112.72084045410156, -14.793076515197754, -44.717098236083984, -125.0168685913086, -59.03633117675781, 29.71853256225586, 47.9431266784668, 178.63951110839844, 135.1663055419922, -69.52915954589844, 102.37352752685547, 55.50391387939453, -92.21566009521484, -40.642826080322266, -69.68883514404297, -93.42670440673828, -169.50257873535156, -167.3536376953125, -33.35615539550781, 38.22929382324219, -1043.31494140625, 13.559030532836914, 73.4906997680664, -119.93502044677734, -60.51262283325195, -49.828651428222656, 125.29380798339844, -32.640052795410156, 64.35911560058594, -92.88333892822266, 94.82408142089844, -72.2090835571289, 22.90385627746582, -29.42496109008789, 91.2064437866211, 47.61412048339844, -132.1071014404297, -7.2043681144714355, 63.635868072509766, -16.3128604888916, 52.88741683959961, -96.22571563720703, 1.6309846639633179, -85.03812408447266, -90.19078826904297, -9.261228561401367, -87.08163452148438, 45.48035430908203, 44.160186767578125, -46.54280090332031, -80.79803466796875, 53.79594039916992, -87.39317321777344, -85.68175506591797, -70.61749267578125, 2.827695846557617, -11.1880521774292, -31.327014923095703, 100.07152557373047, 29.731645584106445, -48.128963470458984, 154.88320922851562, -39.0528678894043, -78.31729888916016, -51.19443893432617, -90.64653015136719, -20.986255645751953, -23.8668212890625, 30.822378158569336, 4.90272855758667, -50.14925003051758, 35.689964294433594, -41.10066223144531, 14.075576782226562, 38.04460906982422, -29.71397590637207, -3.0293474197387695, 10.423784255981445, -0.7068207263946533, -38.81465530395508, 25.10068702697754, 14.292201042175293, -30.48497772216797, 88.58939361572266, -65.75199890136719, 39.37986373901367, 83.38072204589844, 136.33570861816406, 22.981204986572266, 100.76790618896484, -60.77244567871094, -57.80217361450195, 25.57726287841797, -17.70350456237793, -55.65003967285156, -4.285131931304932, -38.50598907470703, 87.22789001464844, -12.784239768981934, 59.88383865356445, -73.81907653808594, -144.34066772460938, 34.00938415527344, 17.766674041748047, -24.456554412841797, 14.71367359161377, 9.899489402770996, 132.85586547851562, -45.673301696777344, 64.88748931884766, 152.42251586914062, -34.711753845214844, 129.80638122558594, -27.329883575439453, 112.57673645019531, 150.2230987548828, 109.2733383178711, 74.81230163574219, 4.032474994659424, -32.84934997558594, 167.06021118164062, 12.5547456741333, 30.944988250732422, 155.1416015625, -55.40757369995117, 112.0678939819336, 74.88318634033203, 114.72810363769531, 58.235252380371094, 28.966665267944336, 166.9709930419922, 40.543704986572266, 77.91972351074219, -138.13877868652344, -2.726167917251587, -141.93060302734375, -57.64202117919922, 157.3534393310547, -30.261798858642578, -9.518502235412598, -72.31932830810547, 82.00074005126953, 79.2598648071289, 24.766618728637695, -83.1474609375, 17.620874404907227, 6.023798942565918, -109.34745788574219, -122.66622924804688, -81.95513916015625, 144.3388671875, -69.75025939941406, -80.84161376953125, -87.47354125976562, 100.19661712646484, 63.49021911621094, -16.015077590942383, 41.154212951660156, 106.16792297363281, -145.0980682373047, 94.20125579833984, -24.632173538208008, 108.2838134765625, -162.69395446777344, -59.4964599609375, 6.22612190246582, 64.89097595214844, -67.34009552001953, 4.568973064422607, 23.174283981323242, -78.25486755371094, 41.58871841430664, 118.76078796386719, -90.15000915527344, -64.42691802978516, -16.455020904541016, -96.64118957519531, 119.96163177490234, -11.110247611999512, -154.16458129882812, 25.62387466430664, -72.64717102050781, -126.84252166748047, 89.1589584350586, 33.72943115234375, 88.4393081665039, -22.90558624267578, 103.28862762451172, -155.05555725097656, -24.38839340209961, 126.11846923828125, 55.37887191772461, -46.4432373046875, 4.298924446105957, 62.12940979003906, 75.78952026367188, 23.735403060913086, 111.94556427001953, 75.59331512451172, 44.0791015625, 58.8192138671875, -116.34558868408203, -147.56724548339844, 119.59774780273438, -93.69340515136719, -29.672597885131836, 97.22550201416016, -51.35026550292969, -33.858604431152344, 108.82686614990234, 65.32380676269531, -69.68147277832031, 131.06507873535156, 33.92473220825195, -25.053998947143555, 154.01806640625, -30.641206741333008, -128.8705291748047, -75.84852600097656, 6.9835028648376465, -15.775214195251465, 7.7560930252075195, 111.02214813232422, -28.768266677856445, -40.799442291259766, -130.7636260986328, -28.550819396972656, -109.95268249511719, 55.48234176635742, 92.79463195800781, -19.933992385864258, -94.60655975341797, 115.13789367675781, 39.482872009277344, -23.183000564575195, -78.75943756103516, 18.886960983276367, 49.60144805908203, -135.11395263671875, 48.074737548828125, 93.39188385009766, 62.41371536254883, 36.03620529174805, 70.19083404541016, -116.99352264404297, -198.12831115722656, 62.27496337890625, 61.071102142333984, 80.68815612792969, -18.684337615966797, -120.02776336669922, 33.22356033325195, -96.98675537109375, 17.9639835357666, -17.871938705444336, 15.157416343688965, 120.54525756835938, 60.359352111816406, -7.016978740692139, -9.721419334411621, 23.323381423950195, -55.9940299987793, -91.26456451416016, 43.26546096801758, 23.44371795654297, -7.812709808349609, 90.36820983886719, -110.04915618896484, -63.37004470825195, 100.91219329833984, 53.22264862060547, 100.73922729492188, 28.188270568847656, 55.8013916015625, 18.346508026123047, 121.83794403076172, 63.104248046875, -17.087543487548828, 8.296156883239746, 64.52406311035156, 32.282440185546875]}],\n",
              "                        {\"coloraxis\": {\"colorbar\": {\"title\": {\"text\": \"cluster\"}}, \"colorscale\": [[0.0, \"#0d0887\"], [0.1111111111111111, \"#46039f\"], [0.2222222222222222, \"#7201a8\"], [0.3333333333333333, \"#9c179e\"], [0.4444444444444444, \"#bd3786\"], [0.5555555555555556, \"#d8576b\"], [0.6666666666666666, \"#ed7953\"], [0.7777777777777778, \"#fb9f3a\"], [0.8888888888888888, \"#fdca26\"], [1.0, \"#f0f921\"]]}, \"legend\": {\"tracegroupgap\": 0}, \"margin\": {\"t\": 60}, \"scene\": {\"domain\": {\"x\": [0.0, 1.0], \"y\": [0.0, 1.0]}, \"xaxis\": {\"title\": {\"text\": \"x\"}}, \"yaxis\": {\"title\": {\"text\": \"y\"}}, \"zaxis\": {\"title\": {\"text\": \"z\"}}}, \"template\": {\"data\": {\"bar\": [{\"error_x\": {\"color\": \"#2a3f5f\"}, \"error_y\": {\"color\": \"#2a3f5f\"}, \"marker\": {\"line\": {\"color\": \"#E5ECF6\", \"width\": 0.5}}, \"type\": \"bar\"}], \"barpolar\": [{\"marker\": {\"line\": {\"color\": \"#E5ECF6\", \"width\": 0.5}}, \"type\": \"barpolar\"}], \"carpet\": [{\"aaxis\": {\"endlinecolor\": \"#2a3f5f\", \"gridcolor\": \"white\", \"linecolor\": \"white\", \"minorgridcolor\": \"white\", \"startlinecolor\": \"#2a3f5f\"}, \"baxis\": {\"endlinecolor\": \"#2a3f5f\", \"gridcolor\": \"white\", \"linecolor\": \"white\", \"minorgridcolor\": \"white\", \"startlinecolor\": \"#2a3f5f\"}, \"type\": \"carpet\"}], \"choropleth\": [{\"colorbar\": {\"outlinewidth\": 0, \"ticks\": \"\"}, \"type\": \"choropleth\"}], \"contour\": [{\"colorbar\": {\"outlinewidth\": 0, \"ticks\": \"\"}, \"colorscale\": [[0.0, \"#0d0887\"], [0.1111111111111111, \"#46039f\"], [0.2222222222222222, \"#7201a8\"], [0.3333333333333333, \"#9c179e\"], [0.4444444444444444, \"#bd3786\"], [0.5555555555555556, \"#d8576b\"], [0.6666666666666666, \"#ed7953\"], [0.7777777777777778, \"#fb9f3a\"], [0.8888888888888888, \"#fdca26\"], [1.0, \"#f0f921\"]], \"type\": \"contour\"}], \"contourcarpet\": [{\"colorbar\": {\"outlinewidth\": 0, \"ticks\": \"\"}, \"type\": \"contourcarpet\"}], \"heatmap\": [{\"colorbar\": {\"outlinewidth\": 0, \"ticks\": \"\"}, \"colorscale\": [[0.0, \"#0d0887\"], [0.1111111111111111, \"#46039f\"], [0.2222222222222222, \"#7201a8\"], [0.3333333333333333, \"#9c179e\"], [0.4444444444444444, \"#bd3786\"], [0.5555555555555556, \"#d8576b\"], [0.6666666666666666, \"#ed7953\"], [0.7777777777777778, \"#fb9f3a\"], [0.8888888888888888, \"#fdca26\"], [1.0, \"#f0f921\"]], \"type\": \"heatmap\"}], \"heatmapgl\": [{\"colorbar\": {\"outlinewidth\": 0, \"ticks\": \"\"}, \"colorscale\": [[0.0, \"#0d0887\"], [0.1111111111111111, \"#46039f\"], [0.2222222222222222, \"#7201a8\"], [0.3333333333333333, \"#9c179e\"], [0.4444444444444444, \"#bd3786\"], [0.5555555555555556, \"#d8576b\"], [0.6666666666666666, \"#ed7953\"], [0.7777777777777778, \"#fb9f3a\"], [0.8888888888888888, \"#fdca26\"], [1.0, \"#f0f921\"]], \"type\": \"heatmapgl\"}], \"histogram\": [{\"marker\": {\"colorbar\": {\"outlinewidth\": 0, \"ticks\": \"\"}}, \"type\": \"histogram\"}], \"histogram2d\": [{\"colorbar\": {\"outlinewidth\": 0, \"ticks\": \"\"}, \"colorscale\": [[0.0, \"#0d0887\"], [0.1111111111111111, \"#46039f\"], [0.2222222222222222, \"#7201a8\"], [0.3333333333333333, \"#9c179e\"], [0.4444444444444444, \"#bd3786\"], [0.5555555555555556, \"#d8576b\"], [0.6666666666666666, \"#ed7953\"], [0.7777777777777778, \"#fb9f3a\"], [0.8888888888888888, \"#fdca26\"], [1.0, \"#f0f921\"]], \"type\": \"histogram2d\"}], \"histogram2dcontour\": [{\"colorbar\": {\"outlinewidth\": 0, \"ticks\": \"\"}, \"colorscale\": [[0.0, \"#0d0887\"], [0.1111111111111111, \"#46039f\"], [0.2222222222222222, \"#7201a8\"], [0.3333333333333333, \"#9c179e\"], [0.4444444444444444, \"#bd3786\"], [0.5555555555555556, \"#d8576b\"], [0.6666666666666666, \"#ed7953\"], [0.7777777777777778, \"#fb9f3a\"], [0.8888888888888888, \"#fdca26\"], [1.0, \"#f0f921\"]], \"type\": \"histogram2dcontour\"}], \"mesh3d\": [{\"colorbar\": {\"outlinewidth\": 0, \"ticks\": \"\"}, \"type\": \"mesh3d\"}], \"parcoords\": [{\"line\": {\"colorbar\": {\"outlinewidth\": 0, \"ticks\": \"\"}}, \"type\": \"parcoords\"}], \"pie\": [{\"automargin\": true, \"type\": \"pie\"}], \"scatter\": [{\"marker\": {\"colorbar\": {\"outlinewidth\": 0, \"ticks\": \"\"}}, \"type\": \"scatter\"}], \"scatter3d\": [{\"line\": {\"colorbar\": {\"outlinewidth\": 0, \"ticks\": \"\"}}, \"marker\": {\"colorbar\": {\"outlinewidth\": 0, \"ticks\": \"\"}}, \"type\": \"scatter3d\"}], \"scattercarpet\": [{\"marker\": {\"colorbar\": {\"outlinewidth\": 0, \"ticks\": \"\"}}, \"type\": \"scattercarpet\"}], \"scattergeo\": [{\"marker\": {\"colorbar\": {\"outlinewidth\": 0, \"ticks\": \"\"}}, \"type\": \"scattergeo\"}], \"scattergl\": [{\"marker\": {\"colorbar\": {\"outlinewidth\": 0, \"ticks\": \"\"}}, \"type\": \"scattergl\"}], \"scattermapbox\": [{\"marker\": {\"colorbar\": {\"outlinewidth\": 0, \"ticks\": \"\"}}, \"type\": \"scattermapbox\"}], \"scatterpolar\": [{\"marker\": {\"colorbar\": {\"outlinewidth\": 0, \"ticks\": \"\"}}, \"type\": \"scatterpolar\"}], \"scatterpolargl\": [{\"marker\": {\"colorbar\": {\"outlinewidth\": 0, \"ticks\": \"\"}}, \"type\": \"scatterpolargl\"}], \"scatterternary\": [{\"marker\": {\"colorbar\": {\"outlinewidth\": 0, \"ticks\": \"\"}}, \"type\": \"scatterternary\"}], \"surface\": [{\"colorbar\": {\"outlinewidth\": 0, \"ticks\": \"\"}, \"colorscale\": [[0.0, \"#0d0887\"], [0.1111111111111111, \"#46039f\"], [0.2222222222222222, \"#7201a8\"], [0.3333333333333333, \"#9c179e\"], [0.4444444444444444, \"#bd3786\"], [0.5555555555555556, \"#d8576b\"], [0.6666666666666666, \"#ed7953\"], [0.7777777777777778, \"#fb9f3a\"], [0.8888888888888888, \"#fdca26\"], [1.0, \"#f0f921\"]], \"type\": \"surface\"}], \"table\": [{\"cells\": {\"fill\": {\"color\": \"#EBF0F8\"}, \"line\": {\"color\": \"white\"}}, \"header\": {\"fill\": {\"color\": \"#C8D4E3\"}, \"line\": {\"color\": \"white\"}}, \"type\": \"table\"}]}, \"layout\": {\"annotationdefaults\": {\"arrowcolor\": \"#2a3f5f\", \"arrowhead\": 0, \"arrowwidth\": 1}, \"coloraxis\": {\"colorbar\": {\"outlinewidth\": 0, \"ticks\": \"\"}}, \"colorscale\": {\"diverging\": [[0, \"#8e0152\"], [0.1, \"#c51b7d\"], [0.2, \"#de77ae\"], [0.3, \"#f1b6da\"], [0.4, \"#fde0ef\"], [0.5, \"#f7f7f7\"], [0.6, \"#e6f5d0\"], [0.7, \"#b8e186\"], [0.8, \"#7fbc41\"], [0.9, \"#4d9221\"], [1, \"#276419\"]], \"sequential\": [[0.0, \"#0d0887\"], [0.1111111111111111, \"#46039f\"], [0.2222222222222222, \"#7201a8\"], [0.3333333333333333, \"#9c179e\"], [0.4444444444444444, \"#bd3786\"], [0.5555555555555556, \"#d8576b\"], [0.6666666666666666, \"#ed7953\"], [0.7777777777777778, \"#fb9f3a\"], [0.8888888888888888, \"#fdca26\"], [1.0, \"#f0f921\"]], \"sequentialminus\": [[0.0, \"#0d0887\"], [0.1111111111111111, \"#46039f\"], [0.2222222222222222, \"#7201a8\"], [0.3333333333333333, \"#9c179e\"], [0.4444444444444444, \"#bd3786\"], [0.5555555555555556, \"#d8576b\"], [0.6666666666666666, \"#ed7953\"], [0.7777777777777778, \"#fb9f3a\"], [0.8888888888888888, \"#fdca26\"], [1.0, \"#f0f921\"]]}, \"colorway\": [\"#636efa\", \"#EF553B\", \"#00cc96\", \"#ab63fa\", \"#FFA15A\", \"#19d3f3\", \"#FF6692\", \"#B6E880\", \"#FF97FF\", \"#FECB52\"], \"font\": {\"color\": \"#2a3f5f\"}, \"geo\": {\"bgcolor\": \"white\", \"lakecolor\": \"white\", \"landcolor\": \"#E5ECF6\", \"showlakes\": true, \"showland\": true, \"subunitcolor\": \"white\"}, \"hoverlabel\": {\"align\": \"left\"}, \"hovermode\": \"closest\", \"mapbox\": {\"style\": \"light\"}, \"paper_bgcolor\": \"white\", \"plot_bgcolor\": \"#E5ECF6\", \"polar\": {\"angularaxis\": {\"gridcolor\": \"white\", \"linecolor\": \"white\", \"ticks\": \"\"}, \"bgcolor\": \"#E5ECF6\", \"radialaxis\": {\"gridcolor\": \"white\", \"linecolor\": \"white\", \"ticks\": \"\"}}, \"scene\": {\"xaxis\": {\"backgroundcolor\": \"#E5ECF6\", \"gridcolor\": \"white\", \"gridwidth\": 2, \"linecolor\": \"white\", \"showbackground\": true, \"ticks\": \"\", \"zerolinecolor\": \"white\"}, \"yaxis\": {\"backgroundcolor\": \"#E5ECF6\", \"gridcolor\": \"white\", \"gridwidth\": 2, \"linecolor\": \"white\", \"showbackground\": true, \"ticks\": \"\", \"zerolinecolor\": \"white\"}, \"zaxis\": {\"backgroundcolor\": \"#E5ECF6\", \"gridcolor\": \"white\", \"gridwidth\": 2, \"linecolor\": \"white\", \"showbackground\": true, \"ticks\": \"\", \"zerolinecolor\": \"white\"}}, \"shapedefaults\": {\"line\": {\"color\": \"#2a3f5f\"}}, \"ternary\": {\"aaxis\": {\"gridcolor\": \"white\", \"linecolor\": \"white\", \"ticks\": \"\"}, \"baxis\": {\"gridcolor\": \"white\", \"linecolor\": \"white\", \"ticks\": \"\"}, \"bgcolor\": \"#E5ECF6\", \"caxis\": {\"gridcolor\": \"white\", \"linecolor\": \"white\", \"ticks\": \"\"}}, \"title\": {\"x\": 0.05}, \"xaxis\": {\"automargin\": true, \"gridcolor\": \"white\", \"linecolor\": \"white\", \"ticks\": \"\", \"title\": {\"standoff\": 15}, \"zerolinecolor\": \"white\", \"zerolinewidth\": 2}, \"yaxis\": {\"automargin\": true, \"gridcolor\": \"white\", \"linecolor\": \"white\", \"ticks\": \"\", \"title\": {\"standoff\": 15}, \"zerolinecolor\": \"white\", \"zerolinewidth\": 2}}}},\n",
              "                        {\"responsive\": true}\n",
              "                    ).then(function(){\n",
              "                            \n",
              "var gd = document.getElementById('b6774afb-e2d8-40e1-bdbd-03dd5cf8099e');\n",
              "var x = new MutationObserver(function (mutations, observer) {{\n",
              "        var display = window.getComputedStyle(gd).display;\n",
              "        if (!display || display === 'none') {{\n",
              "            console.log([gd, 'removed!']);\n",
              "            Plotly.purge(gd);\n",
              "            observer.disconnect();\n",
              "        }}\n",
              "}});\n",
              "\n",
              "// Listen for the removal of the full notebook cells\n",
              "var notebookContainer = gd.closest('#notebook-container');\n",
              "if (notebookContainer) {{\n",
              "    x.observe(notebookContainer, {childList: true});\n",
              "}}\n",
              "\n",
              "// Listen for the clearing of the current output cell\n",
              "var outputEl = gd.closest('.output');\n",
              "if (outputEl) {{\n",
              "    x.observe(outputEl, {childList: true});\n",
              "}}\n",
              "\n",
              "                        })\n",
              "                };\n",
              "                \n",
              "            </script>\n",
              "        </div>\n",
              "</body>\n",
              "</html>"
            ]
          },
          "metadata": {
            "tags": []
          }
        }
      ]
    },
    {
      "cell_type": "code",
      "metadata": {
        "id": "Rc4tpHrYVw7N",
        "colab_type": "code",
        "colab": {}
      },
      "source": [
        "transform = TSNE  # PCA\n",
        "trans = transform(n_components=2)\n",
        "node_embeddings_2d = trans.fit_transform(x_t)\n",
        "\n",
        "\n"
      ],
      "execution_count": 0,
      "outputs": []
    },
    {
      "cell_type": "code",
      "metadata": {
        "id": "V9YOODsiWEwN",
        "colab_type": "code",
        "colab": {}
      },
      "source": [
        "from sklearn.manifold import TSNE\n",
        "from sklearn.cluster import KMeans"
      ],
      "execution_count": 0,
      "outputs": []
    },
    {
      "cell_type": "code",
      "metadata": {
        "id": "2BrfRLNHWf2w",
        "colab_type": "code",
        "outputId": "cc67e385-58f4-453f-de8d-087b4ff8f597",
        "colab": {
          "base_uri": "https://localhost:8080/",
          "height": 353
        }
      },
      "source": [
        "kmeans = KMeans(n_clusters=17, random_state=0).fit(X)\n",
        "kmeans.labels_\n",
        "\n"
      ],
      "execution_count": 0,
      "outputs": [
        {
          "output_type": "execute_result",
          "data": {
            "text/plain": [
              "array([ 0,  8, 14,  5,  6,  9,  9,  9,  8,  2,  8, 12,  1,  9,  9,  9,  4,\n",
              "        1,  9,  2,  7,  9, 12,  1, 10, 14,  6,  8, 15,  6,  7,  1, 15,  5,\n",
              "        2,  2,  9,  9,  7,  3, 10,  8,  5,  9, 15,  8, 12, 14,  2,  8, 12,\n",
              "        7, 16,  6, 16,  2, 11, 16, 12, 10,  2,  7,  1,  9, 10,  9,  7,  8,\n",
              "       10,  2, 11,  4, 12,  2,  7,  1,  1,  6, 16,  7,  6, 10,  5,  2, 12,\n",
              "        4,  7,  7,  7,  2, 16,  2,  8,  0,  4,  5,  7, 16, 12, 16, 16,  4,\n",
              "       14,  5,  8, 14, 16,  0, 14, 12,  1, 11,  1,  1,  1, 15,  6, 10,  8,\n",
              "        1,  4, 14, 16, 11, 16,  1, 14,  1,  8, 14,  1,  6, 10, 16, 14, 16,\n",
              "        0, 15, 10,  6, 14, 10,  8, 12, 14, 14,  6, 16, 10,  6, 14,  6,  9,\n",
              "        4,  2, 12,  6,  5, 15,  1, 14, 16, 14,  5,  8, 10, 12,  2, 15, 14,\n",
              "       15, 12,  1,  8,  0,  1, 10,  8,  2, 14,  1,  8, 12,  7,  0, 14,  2,\n",
              "       10,  0,  2,  8,  8, 15, 12, 15, 12,  6, 10, 15,  0, 12,  9, 14,  8,\n",
              "       14, 10, 14,  2, 10,  0,  0, 12, 15,  0,  0, 11,  0,  7,  7,  7,  5,\n",
              "        2,  6,  4,  1,  0,  5,  4,  8, 10,  9,  6, 16, 15,  8,  1,  2,  9,\n",
              "        0, 15, 15,  6, 12, 15,  2,  1,  9,  0, 14,  5,  2,  6, 14,  4, 12,\n",
              "       11, 10, 12, 11, 11, 11,  0, 11,  2,  5, 11, 16,  6, 15, 13, 11,  9,\n",
              "       10,  7, 10,  6, 10, 10,  1, 11,  4,  2, 10, 11, 10, 11, 12,  9, 11,\n",
              "       11, 11,  8,  7, 11, 13, 10,  5, 10, 11, 10], dtype=int32)"
            ]
          },
          "metadata": {
            "tags": []
          },
          "execution_count": 78
        }
      ]
    },
    {
      "cell_type": "code",
      "metadata": {
        "id": "VWQIzWsmWwXj",
        "colab_type": "code",
        "colab": {}
      },
      "source": [
        "cluster=pd.Series(kmeans.labels_)"
      ],
      "execution_count": 0,
      "outputs": []
    },
    {
      "cell_type": "code",
      "metadata": {
        "id": "8cnPfaXxW6uG",
        "colab_type": "code",
        "colab": {}
      },
      "source": [
        "dfdf['cluster']=cluster"
      ],
      "execution_count": 0,
      "outputs": []
    },
    {
      "cell_type": "code",
      "metadata": {
        "id": "rke4yvQdXlv1",
        "colab_type": "code",
        "outputId": "42e5efe1-3958-41e5-93af-3029bc072d25",
        "colab": {
          "base_uri": "https://localhost:8080/",
          "height": 415
        }
      },
      "source": [
        "dfdf"
      ],
      "execution_count": 0,
      "outputs": [
        {
          "output_type": "execute_result",
          "data": {
            "text/html": [
              "<div>\n",
              "<style scoped>\n",
              "    .dataframe tbody tr th:only-of-type {\n",
              "        vertical-align: middle;\n",
              "    }\n",
              "\n",
              "    .dataframe tbody tr th {\n",
              "        vertical-align: top;\n",
              "    }\n",
              "\n",
              "    .dataframe thead th {\n",
              "        text-align: right;\n",
              "    }\n",
              "</style>\n",
              "<table border=\"1\" class=\"dataframe\">\n",
              "  <thead>\n",
              "    <tr style=\"text-align: right;\">\n",
              "      <th></th>\n",
              "      <th>x</th>\n",
              "      <th>y</th>\n",
              "      <th>z</th>\n",
              "      <th>category</th>\n",
              "      <th>cluster</th>\n",
              "    </tr>\n",
              "  </thead>\n",
              "  <tbody>\n",
              "    <tr>\n",
              "      <th>0</th>\n",
              "      <td>118.395325</td>\n",
              "      <td>-35.830727</td>\n",
              "      <td>86.462090</td>\n",
              "      <td>경제민주화</td>\n",
              "      <td>0</td>\n",
              "    </tr>\n",
              "    <tr>\n",
              "      <th>1</th>\n",
              "      <td>12.493712</td>\n",
              "      <td>133.840179</td>\n",
              "      <td>84.488739</td>\n",
              "      <td>기타</td>\n",
              "      <td>8</td>\n",
              "    </tr>\n",
              "    <tr>\n",
              "      <th>2</th>\n",
              "      <td>-71.717194</td>\n",
              "      <td>36.177235</td>\n",
              "      <td>56.221310</td>\n",
              "      <td>기타</td>\n",
              "      <td>14</td>\n",
              "    </tr>\n",
              "    <tr>\n",
              "      <th>3</th>\n",
              "      <td>43.542534</td>\n",
              "      <td>-159.934418</td>\n",
              "      <td>-69.900307</td>\n",
              "      <td>외교/통일/국방</td>\n",
              "      <td>5</td>\n",
              "    </tr>\n",
              "    <tr>\n",
              "      <th>4</th>\n",
              "      <td>-10.910457</td>\n",
              "      <td>-59.144855</td>\n",
              "      <td>151.167923</td>\n",
              "      <td>외교/통일/국방</td>\n",
              "      <td>6</td>\n",
              "    </tr>\n",
              "    <tr>\n",
              "      <th>...</th>\n",
              "      <td>...</td>\n",
              "      <td>...</td>\n",
              "      <td>...</td>\n",
              "      <td>...</td>\n",
              "      <td>...</td>\n",
              "    </tr>\n",
              "    <tr>\n",
              "      <th>295</th>\n",
              "      <td>-22.143650</td>\n",
              "      <td>4.712863</td>\n",
              "      <td>63.104248</td>\n",
              "      <td>저출산/고령화대책</td>\n",
              "      <td>10</td>\n",
              "    </tr>\n",
              "    <tr>\n",
              "      <th>296</th>\n",
              "      <td>-23.833788</td>\n",
              "      <td>-136.612534</td>\n",
              "      <td>-17.087543</td>\n",
              "      <td>저출산/고령화대책</td>\n",
              "      <td>5</td>\n",
              "    </tr>\n",
              "    <tr>\n",
              "      <th>297</th>\n",
              "      <td>-6.388117</td>\n",
              "      <td>21.266806</td>\n",
              "      <td>8.296157</td>\n",
              "      <td>저출산/고령화대책</td>\n",
              "      <td>10</td>\n",
              "    </tr>\n",
              "    <tr>\n",
              "      <th>298</th>\n",
              "      <td>-105.051552</td>\n",
              "      <td>-153.574387</td>\n",
              "      <td>64.524063</td>\n",
              "      <td>저출산/고령화대책</td>\n",
              "      <td>11</td>\n",
              "    </tr>\n",
              "    <tr>\n",
              "      <th>299</th>\n",
              "      <td>8.800402</td>\n",
              "      <td>-85.707153</td>\n",
              "      <td>32.282440</td>\n",
              "      <td>저출산/고령화대책</td>\n",
              "      <td>10</td>\n",
              "    </tr>\n",
              "  </tbody>\n",
              "</table>\n",
              "<p>300 rows × 5 columns</p>\n",
              "</div>"
            ],
            "text/plain": [
              "              x           y           z   category  cluster\n",
              "0    118.395325  -35.830727   86.462090      경제민주화        0\n",
              "1     12.493712  133.840179   84.488739         기타        8\n",
              "2    -71.717194   36.177235   56.221310         기타       14\n",
              "3     43.542534 -159.934418  -69.900307   외교/통일/국방        5\n",
              "4    -10.910457  -59.144855  151.167923   외교/통일/국방        6\n",
              "..          ...         ...         ...        ...      ...\n",
              "295  -22.143650    4.712863   63.104248  저출산/고령화대책       10\n",
              "296  -23.833788 -136.612534  -17.087543  저출산/고령화대책        5\n",
              "297   -6.388117   21.266806    8.296157  저출산/고령화대책       10\n",
              "298 -105.051552 -153.574387   64.524063  저출산/고령화대책       11\n",
              "299    8.800402  -85.707153   32.282440  저출산/고령화대책       10\n",
              "\n",
              "[300 rows x 5 columns]"
            ]
          },
          "metadata": {
            "tags": []
          },
          "execution_count": 90
        }
      ]
    },
    {
      "cell_type": "code",
      "metadata": {
        "id": "LUDkUvNeZUEs",
        "colab_type": "code",
        "colab": {}
      },
      "source": [
        "df_3=df2.head(300)"
      ],
      "execution_count": 0,
      "outputs": []
    },
    {
      "cell_type": "code",
      "metadata": {
        "id": "VcYBwDpBZdI1",
        "colab_type": "code",
        "colab": {}
      },
      "source": [
        "df_3['cluster']=cluster"
      ],
      "execution_count": 0,
      "outputs": []
    },
    {
      "cell_type": "code",
      "metadata": {
        "id": "oYiUohBWZtk0",
        "colab_type": "code",
        "outputId": "ce56a0fc-6dc0-44fd-ae95-7e0433831fd2",
        "colab": {
          "base_uri": "https://localhost:8080/",
          "height": 589
        }
      },
      "source": [
        "df_3"
      ],
      "execution_count": 0,
      "outputs": [
        {
          "output_type": "execute_result",
          "data": {
            "text/html": [
              "<div>\n",
              "<style scoped>\n",
              "    .dataframe tbody tr th:only-of-type {\n",
              "        vertical-align: middle;\n",
              "    }\n",
              "\n",
              "    .dataframe tbody tr th {\n",
              "        vertical-align: top;\n",
              "    }\n",
              "\n",
              "    .dataframe thead th {\n",
              "        text-align: right;\n",
              "    }\n",
              "</style>\n",
              "<table border=\"1\" class=\"dataframe\">\n",
              "  <thead>\n",
              "    <tr style=\"text-align: right;\">\n",
              "      <th></th>\n",
              "      <th>article_id</th>\n",
              "      <th>start</th>\n",
              "      <th>end</th>\n",
              "      <th>answered</th>\n",
              "      <th>votes</th>\n",
              "      <th>category</th>\n",
              "      <th>title</th>\n",
              "      <th>content</th>\n",
              "      <th>cluster</th>\n",
              "    </tr>\n",
              "  </thead>\n",
              "  <tbody>\n",
              "    <tr>\n",
              "      <th>0</th>\n",
              "      <td>28</td>\n",
              "      <td>2017-08-19</td>\n",
              "      <td>2017-08-26</td>\n",
              "      <td>0</td>\n",
              "      <td>2137</td>\n",
              "      <td>경제민주화</td>\n",
              "      <td>소액주주를 보호해주십시오</td>\n",
              "      <td>**  존경하옵는 문재인대통령님께\\n저는 중국원양자원이라는 KOSPI상장사의 소액 ...</td>\n",
              "      <td>0</td>\n",
              "    </tr>\n",
              "    <tr>\n",
              "      <th>1</th>\n",
              "      <td>34</td>\n",
              "      <td>2017-08-19</td>\n",
              "      <td>2017-09-18</td>\n",
              "      <td>0</td>\n",
              "      <td>679</td>\n",
              "      <td>기타</td>\n",
              "      <td>『국가유공자 등 예우 및 지원에 관한법률』상「6.25전몰군경 자녀수당」의 불합리한 ...</td>\n",
              "      <td>(현황)\\n우리들 아버지께서는 67여년전 북의 남침으로 조국이 위기에 처했을 때 젊...</td>\n",
              "      <td>8</td>\n",
              "    </tr>\n",
              "    <tr>\n",
              "      <th>2</th>\n",
              "      <td>37</td>\n",
              "      <td>2017-08-19</td>\n",
              "      <td>2017-09-18</td>\n",
              "      <td>0</td>\n",
              "      <td>415</td>\n",
              "      <td>기타</td>\n",
              "      <td>황우석박사님 연구재개 허용 촉구합니다.</td>\n",
              "      <td>국민의 70% 이상이 황우석박사님을 응원하고 지지하고 있습니다.\\n*2007년 1월...</td>\n",
              "      <td>14</td>\n",
              "    </tr>\n",
              "    <tr>\n",
              "      <th>3</th>\n",
              "      <td>40</td>\n",
              "      <td>2017-08-19</td>\n",
              "      <td>2017-09-18</td>\n",
              "      <td>0</td>\n",
              "      <td>218</td>\n",
              "      <td>외교/통일/국방</td>\n",
              "      <td>국가유공자등 예우및 지우너에 관한 법률 시행령 개정</td>\n",
              "      <td>지금부터 67년전 1950년 6.25전쟁때 조국 대한민국이 위태로운 시점에 우리들 ...</td>\n",
              "      <td>5</td>\n",
              "    </tr>\n",
              "    <tr>\n",
              "      <th>4</th>\n",
              "      <td>41</td>\n",
              "      <td>2017-08-19</td>\n",
              "      <td>2017-09-18</td>\n",
              "      <td>0</td>\n",
              "      <td>227</td>\n",
              "      <td>외교/통일/국방</td>\n",
              "      <td>국가유공자등 예우및 지우너에 관한 법률 시행령 개정</td>\n",
              "      <td>지금부터 67년전 1950년 6.25전쟁때 조국 대한민국이 위태로운 시점에 우리들 ...</td>\n",
              "      <td>6</td>\n",
              "    </tr>\n",
              "    <tr>\n",
              "      <th>...</th>\n",
              "      <td>...</td>\n",
              "      <td>...</td>\n",
              "      <td>...</td>\n",
              "      <td>...</td>\n",
              "      <td>...</td>\n",
              "      <td>...</td>\n",
              "      <td>...</td>\n",
              "      <td>...</td>\n",
              "      <td>...</td>\n",
              "    </tr>\n",
              "    <tr>\n",
              "      <th>295</th>\n",
              "      <td>14539</td>\n",
              "      <td>2017-09-18</td>\n",
              "      <td>2017-10-18</td>\n",
              "      <td>0</td>\n",
              "      <td>223</td>\n",
              "      <td>저출산/고령화대책</td>\n",
              "      <td>난임지원</td>\n",
              "      <td>이번난임정책이의보지원이된다고해서  저같은난임환자들이얼마나환호했는지모릅니다..그래서1...</td>\n",
              "      <td>10</td>\n",
              "    </tr>\n",
              "    <tr>\n",
              "      <th>296</th>\n",
              "      <td>14556</td>\n",
              "      <td>2017-09-18</td>\n",
              "      <td>2017-10-18</td>\n",
              "      <td>0</td>\n",
              "      <td>354</td>\n",
              "      <td>저출산/고령화대책</td>\n",
              "      <td>저출산난임지원정책</td>\n",
              "      <td>난임정책 횟수제한 나이제한 이게 무슨 일인거죠?? 난임부부들 넘 정신적으로 경제적으...</td>\n",
              "      <td>5</td>\n",
              "    </tr>\n",
              "    <tr>\n",
              "      <th>297</th>\n",
              "      <td>14558</td>\n",
              "      <td>2017-09-18</td>\n",
              "      <td>2017-10-18</td>\n",
              "      <td>0</td>\n",
              "      <td>193</td>\n",
              "      <td>저출산/고령화대책</td>\n",
              "      <td>난임건강보험 나이제한 너무합니다~</td>\n",
              "      <td>왜 나이제한을 두는건지요~너무 불공평한거 아닌가요^^저희도 건강보험료 꼬박꼬박 내고...</td>\n",
              "      <td>10</td>\n",
              "    </tr>\n",
              "    <tr>\n",
              "      <th>298</th>\n",
              "      <td>14572</td>\n",
              "      <td>2017-09-18</td>\n",
              "      <td>2017-10-18</td>\n",
              "      <td>0</td>\n",
              "      <td>388</td>\n",
              "      <td>저출산/고령화대책</td>\n",
              "      <td>난임 건강보험 적용- 나이제한, 횟수 제한 수정 부탁 드립니다.</td>\n",
              "      <td>이번 시행책을 접하고 설명할 수 없는 절망감에 빠져 있는 부부입니다.\\n이번 정책관...</td>\n",
              "      <td>11</td>\n",
              "    </tr>\n",
              "    <tr>\n",
              "      <th>299</th>\n",
              "      <td>14589</td>\n",
              "      <td>2017-09-18</td>\n",
              "      <td>2017-10-18</td>\n",
              "      <td>0</td>\n",
              "      <td>238</td>\n",
              "      <td>저출산/고령화대책</td>\n",
              "      <td>난임부부 건강보험적용 제한에 문제가 있습니다.</td>\n",
              "      <td>정말이지 믿고 있던 정책에 발등 찍혔습니다.\\n1년이 소중한 난임 부부가 건강보험 ...</td>\n",
              "      <td>10</td>\n",
              "    </tr>\n",
              "  </tbody>\n",
              "</table>\n",
              "<p>300 rows × 9 columns</p>\n",
              "</div>"
            ],
            "text/plain": [
              "     article_id  ... cluster\n",
              "0            28  ...       0\n",
              "1            34  ...       8\n",
              "2            37  ...      14\n",
              "3            40  ...       5\n",
              "4            41  ...       6\n",
              "..          ...  ...     ...\n",
              "295       14539  ...      10\n",
              "296       14556  ...       5\n",
              "297       14558  ...      10\n",
              "298       14572  ...      11\n",
              "299       14589  ...      10\n",
              "\n",
              "[300 rows x 9 columns]"
            ]
          },
          "metadata": {
            "tags": []
          },
          "execution_count": 98
        }
      ]
    },
    {
      "cell_type": "code",
      "metadata": {
        "id": "IKQ5yfLNZ2ci",
        "colab_type": "code",
        "outputId": "11d693fd-7f66-4921-cda0-ddf1b6c4c2a4",
        "colab": {
          "base_uri": "https://localhost:8080/",
          "height": 56
        }
      },
      "source": [
        "df_3['content'].iloc[295]"
      ],
      "execution_count": 0,
      "outputs": [
        {
          "output_type": "execute_result",
          "data": {
            "text/plain": [
              "'이번난임정책이의보지원이된다고해서  저같은난임환자들이얼마나환호했는지모릅니다..그래서10월이오길꼬박기다렸는데기존정부지원받았던난임여성들은전혀해당사항이없더군요...다들멘붕의수렁에빠졌는데요  저도모두들다첨부터리셋되어기존정부지원받았던사람도 이제시작할난임여성들도모두들공평한정책일꺼라샙각했는데그게아니더란거죠...기존지원받았더란임여성들은한달에300에서많게는500되는돈을들여서임신이될지안될지도모를고가에시술을부담해야됩니다..된임신이1번에된다고누군가보장만해준다면500마넌이되수며1000마넌이대수일까요  문제는언제끌날지모를아기와의만남을이런식으로경제적부담을떠안고해야만한다는겁니다  아기를포기하지않고꼭만나려면요..적어도난임환자들은꼭아기를낳고싶어하는사람들인데  적어도이런사람들에게는도와주어야하는게아닐까요  인구절벽이다말만하면서왜꼭정작필요한곳에속시원한지원이안되는건지요  아이를낳아야나라가존속될텐데  국민없는나라가무슨의미인가요    가뜩이나조그만나라고인구도없고 주변은강대국으로둘러싸였는데  2년전부터이런정책이있다고들은거같은데그럼그2년동안세부적인내용은계획안하시고머하신건지요전국난임병원만조사해도신선4회냉동3회안에임신하신분들도계시겠지만안그런난임부부들이훨씬많습니다  왜꼭횟수와나이제한을두시는건가요   이거야말로난임부부들을더스트레시받게하는정책입니다 그안에꼭임신되야지안되면어쩌나...늘스트레스받아가면서합니다   그안에임신되지못하면안그래도자비가300에500정도는드는데경제적인금전비용이곱절이되니까요  아마도이런것들때문에결국포기하거나  빚더미에안ㅊ거나   흔들리고깨지는부부들도많습니다   이렇게더이상악순환을만들지말아주세요..저흰그저아이가너무간절히낳고싶을뿐인데 ....첫째만이라도낳을땐까진횟수나이제한두지않으시면안되나요..꼭아가를만나고싶은데돈때문에포기해야되는또는가정이깨어지는그런상황을만들지말아주세요..부탁드립니다...'"
            ]
          },
          "metadata": {
            "tags": []
          },
          "execution_count": 99
        }
      ]
    },
    {
      "cell_type": "code",
      "metadata": {
        "id": "gwTCUizvZ9pZ",
        "colab_type": "code",
        "outputId": "188954a7-9b56-4b22-a268-eae1f1f3df16",
        "colab": {
          "base_uri": "https://localhost:8080/",
          "height": 56
        }
      },
      "source": [
        "df_3['content'].iloc[296]"
      ],
      "execution_count": 0,
      "outputs": [
        {
          "output_type": "execute_result",
          "data": {
            "text/plain": [
              "'난임정책 횟수제한 나이제한 이게 무슨 일인거죠?? 난임부부들 넘 정신적으로 경제적으로 맘적으로 너무 힘듭니다ㅠ 부탁드릴게요~~\\\\n제발 기회를 줘야 아이 한명이라도 낳을거 아닙니까ㅠ 저번 정권에서 실망감이 이번 정권에서 기대감으로 부풀었던 저희 부부를 포함한 많은 난임부부들.. 진짜 스트레스들 때문에 지금 채취하고 이식받는 시술과정에서 막대한 손실과 실패들이 넘쳐납니다ㅠ 이게 도대체 뭡니까?? 저출산 난임정책 이건 무조건적인 정부의 협조와 배려 그리고 전폭적인 지원이 필요한 부분입니다...일자리도 사람이 있어야 일자리가 있는거죠...아기들이 없는데 사람들이 없는데 장차 학교며 학생이며 선생님이며 공무원이며 소방관이며 등등 이런 일자리창출이 무슨 의미가 있습니까??  나무보다 숲을 보는 안목과 정책으로 나라를 복지라는 이름으로 이끌어가시길 바라며, 희망의 끈을 놓지 않고, 국가와 국민을 먼저 생각하는... 사람이 먼저다 라는 사명감의 답변 부탁드립니다.'"
            ]
          },
          "metadata": {
            "tags": []
          },
          "execution_count": 101
        }
      ]
    },
    {
      "cell_type": "code",
      "metadata": {
        "id": "WpeXUg2CaCAe",
        "colab_type": "code",
        "outputId": "8427686e-9d12-4957-aa60-9dbee36e4d3d",
        "colab": {
          "base_uri": "https://localhost:8080/",
          "height": 56
        }
      },
      "source": [
        "df_3['content'].iloc[297]"
      ],
      "execution_count": 0,
      "outputs": [
        {
          "output_type": "execute_result",
          "data": {
            "text/plain": [
              "'왜 나이제한을 두는건지요~너무 불공평한거 아닌가요^^저희도 건강보험료 꼬박꼬박 내고 있는데·저희는 사람이 아닌가요~왜 나이로 차별을 두는건지^^우리부부 아직 첫째 아이도  만나질 못했는데~ 제발 첫째아이만이라도 나이제한,횟수제한 폐지해주세요! 이게 아니면 나이제한 늘려주세요!!'"
            ]
          },
          "metadata": {
            "tags": []
          },
          "execution_count": 102
        }
      ]
    },
    {
      "cell_type": "code",
      "metadata": {
        "id": "bKjcdiTPW4Iy",
        "colab_type": "code",
        "outputId": "3d8c28f1-83d3-4c17-ace1-275563036d1d",
        "colab": {
          "base_uri": "https://localhost:8080/",
          "height": 353
        }
      },
      "source": [
        "cluster.value_counts()"
      ],
      "execution_count": 0,
      "outputs": [
        {
          "output_type": "execute_result",
          "data": {
            "text/plain": [
              "10    28\n",
              "14    24\n",
              "2     24\n",
              "8     23\n",
              "1     23\n",
              "12    22\n",
              "6     20\n",
              "11    20\n",
              "9     20\n",
              "7     18\n",
              "16    17\n",
              "15    17\n",
              "0     17\n",
              "5     13\n",
              "4     11\n",
              "13     2\n",
              "3      1\n",
              "dtype: int64"
            ]
          },
          "metadata": {
            "tags": []
          },
          "execution_count": 86
        }
      ]
    },
    {
      "cell_type": "code",
      "metadata": {
        "id": "9XYo6o6WTXZf",
        "colab_type": "code",
        "outputId": "05539c7a-da95-40a4-bbbc-15dfd1d3e9e8",
        "colab": {
          "base_uri": "https://localhost:8080/",
          "height": 542
        }
      },
      "source": [
        "import plotly.express as px\n",
        "df = px.data.iris()\n",
        "fig = px.scatter_3d(df, x='sepal_length', y='sepal_width', z='petal_width',\n",
        "                    color='petal_length', symbol='species')\n",
        "fig.show()"
      ],
      "execution_count": 0,
      "outputs": [
        {
          "output_type": "display_data",
          "data": {
            "text/html": [
              "<html>\n",
              "<head><meta charset=\"utf-8\" /></head>\n",
              "<body>\n",
              "    <div>\n",
              "            <script src=\"https://cdnjs.cloudflare.com/ajax/libs/mathjax/2.7.5/MathJax.js?config=TeX-AMS-MML_SVG\"></script><script type=\"text/javascript\">if (window.MathJax) {MathJax.Hub.Config({SVG: {font: \"STIX-Web\"}});}</script>\n",
              "                <script type=\"text/javascript\">window.PlotlyConfig = {MathJaxConfig: 'local'};</script>\n",
              "        <script src=\"https://cdn.plot.ly/plotly-latest.min.js\"></script>    \n",
              "            <div id=\"17f4f1b8-f300-45e3-9bfa-cc35185d0a73\" class=\"plotly-graph-div\" style=\"height:525px; width:100%;\"></div>\n",
              "            <script type=\"text/javascript\">\n",
              "                \n",
              "                    window.PLOTLYENV=window.PLOTLYENV || {};\n",
              "                    \n",
              "                if (document.getElementById(\"17f4f1b8-f300-45e3-9bfa-cc35185d0a73\")) {\n",
              "                    Plotly.newPlot(\n",
              "                        '17f4f1b8-f300-45e3-9bfa-cc35185d0a73',\n",
              "                        [{\"hoverlabel\": {\"namelength\": 0}, \"hovertemplate\": \"species=setosa<br>sepal_length=%{x}<br>sepal_width=%{y}<br>petal_width=%{z}<br>petal_length=%{marker.color}\", \"legendgroup\": \"species=setosa\", \"marker\": {\"color\": [1.4, 1.4, 1.3, 1.5, 1.4, 1.7, 1.4, 1.5, 1.4, 1.5, 1.5, 1.6, 1.4, 1.1, 1.2, 1.5, 1.3, 1.4, 1.7, 1.5, 1.7, 1.5, 1.0, 1.7, 1.9, 1.6, 1.6, 1.5, 1.4, 1.6, 1.6, 1.5, 1.5, 1.4, 1.5, 1.2, 1.3, 1.5, 1.3, 1.5, 1.3, 1.3, 1.3, 1.6, 1.9, 1.4, 1.6, 1.4, 1.5, 1.4], \"coloraxis\": \"coloraxis\", \"symbol\": \"circle\"}, \"mode\": \"markers\", \"name\": \"species=setosa\", \"scene\": \"scene\", \"showlegend\": true, \"type\": \"scatter3d\", \"x\": [5.1, 4.9, 4.7, 4.6, 5.0, 5.4, 4.6, 5.0, 4.4, 4.9, 5.4, 4.8, 4.8, 4.3, 5.8, 5.7, 5.4, 5.1, 5.7, 5.1, 5.4, 5.1, 4.6, 5.1, 4.8, 5.0, 5.0, 5.2, 5.2, 4.7, 4.8, 5.4, 5.2, 5.5, 4.9, 5.0, 5.5, 4.9, 4.4, 5.1, 5.0, 4.5, 4.4, 5.0, 5.1, 4.8, 5.1, 4.6, 5.3, 5.0], \"y\": [3.5, 3.0, 3.2, 3.1, 3.6, 3.9, 3.4, 3.4, 2.9, 3.1, 3.7, 3.4, 3.0, 3.0, 4.0, 4.4, 3.9, 3.5, 3.8, 3.8, 3.4, 3.7, 3.6, 3.3, 3.4, 3.0, 3.4, 3.5, 3.4, 3.2, 3.1, 3.4, 4.1, 4.2, 3.1, 3.2, 3.5, 3.1, 3.0, 3.4, 3.5, 2.3, 3.2, 3.5, 3.8, 3.0, 3.8, 3.2, 3.7, 3.3], \"z\": [0.2, 0.2, 0.2, 0.2, 0.2, 0.4, 0.3, 0.2, 0.2, 0.1, 0.2, 0.2, 0.1, 0.1, 0.2, 0.4, 0.4, 0.3, 0.3, 0.3, 0.2, 0.4, 0.2, 0.5, 0.2, 0.2, 0.4, 0.2, 0.2, 0.2, 0.2, 0.4, 0.1, 0.2, 0.1, 0.2, 0.2, 0.1, 0.2, 0.2, 0.3, 0.3, 0.2, 0.6, 0.4, 0.3, 0.2, 0.2, 0.2, 0.2]}, {\"hoverlabel\": {\"namelength\": 0}, \"hovertemplate\": \"species=versicolor<br>sepal_length=%{x}<br>sepal_width=%{y}<br>petal_width=%{z}<br>petal_length=%{marker.color}\", \"legendgroup\": \"species=versicolor\", \"marker\": {\"color\": [4.7, 4.5, 4.9, 4.0, 4.6, 4.5, 4.7, 3.3, 4.6, 3.9, 3.5, 4.2, 4.0, 4.7, 3.6, 4.4, 4.5, 4.1, 4.5, 3.9, 4.8, 4.0, 4.9, 4.7, 4.3, 4.4, 4.8, 5.0, 4.5, 3.5, 3.8, 3.7, 3.9, 5.1, 4.5, 4.5, 4.7, 4.4, 4.1, 4.0, 4.4, 4.6, 4.0, 3.3, 4.2, 4.2, 4.2, 4.3, 3.0, 4.1], \"coloraxis\": \"coloraxis\", \"symbol\": \"diamond\"}, \"mode\": \"markers\", \"name\": \"species=versicolor\", \"scene\": \"scene\", \"showlegend\": true, \"type\": \"scatter3d\", \"x\": [7.0, 6.4, 6.9, 5.5, 6.5, 5.7, 6.3, 4.9, 6.6, 5.2, 5.0, 5.9, 6.0, 6.1, 5.6, 6.7, 5.6, 5.8, 6.2, 5.6, 5.9, 6.1, 6.3, 6.1, 6.4, 6.6, 6.8, 6.7, 6.0, 5.7, 5.5, 5.5, 5.8, 6.0, 5.4, 6.0, 6.7, 6.3, 5.6, 5.5, 5.5, 6.1, 5.8, 5.0, 5.6, 5.7, 5.7, 6.2, 5.1, 5.7], \"y\": [3.2, 3.2, 3.1, 2.3, 2.8, 2.8, 3.3, 2.4, 2.9, 2.7, 2.0, 3.0, 2.2, 2.9, 2.9, 3.1, 3.0, 2.7, 2.2, 2.5, 3.2, 2.8, 2.5, 2.8, 2.9, 3.0, 2.8, 3.0, 2.9, 2.6, 2.4, 2.4, 2.7, 2.7, 3.0, 3.4, 3.1, 2.3, 3.0, 2.5, 2.6, 3.0, 2.6, 2.3, 2.7, 3.0, 2.9, 2.9, 2.5, 2.8], \"z\": [1.4, 1.5, 1.5, 1.3, 1.5, 1.3, 1.6, 1.0, 1.3, 1.4, 1.0, 1.5, 1.0, 1.4, 1.3, 1.4, 1.5, 1.0, 1.5, 1.1, 1.8, 1.3, 1.5, 1.2, 1.3, 1.4, 1.4, 1.7, 1.5, 1.0, 1.1, 1.0, 1.2, 1.6, 1.5, 1.6, 1.5, 1.3, 1.3, 1.3, 1.2, 1.4, 1.2, 1.0, 1.3, 1.2, 1.3, 1.3, 1.1, 1.3]}, {\"hoverlabel\": {\"namelength\": 0}, \"hovertemplate\": \"species=virginica<br>sepal_length=%{x}<br>sepal_width=%{y}<br>petal_width=%{z}<br>petal_length=%{marker.color}\", \"legendgroup\": \"species=virginica\", \"marker\": {\"color\": [6.0, 5.1, 5.9, 5.6, 5.8, 6.6, 4.5, 6.3, 5.8, 6.1, 5.1, 5.3, 5.5, 5.0, 5.1, 5.3, 5.5, 6.7, 6.9, 5.0, 5.7, 4.9, 6.7, 4.9, 5.7, 6.0, 4.8, 4.9, 5.6, 5.8, 6.1, 6.4, 5.6, 5.1, 5.6, 6.1, 5.6, 5.5, 4.8, 5.4, 5.6, 5.1, 5.1, 5.9, 5.7, 5.2, 5.0, 5.2, 5.4, 5.1], \"coloraxis\": \"coloraxis\", \"symbol\": \"square\"}, \"mode\": \"markers\", \"name\": \"species=virginica\", \"scene\": \"scene\", \"showlegend\": true, \"type\": \"scatter3d\", \"x\": [6.3, 5.8, 7.1, 6.3, 6.5, 7.6, 4.9, 7.3, 6.7, 7.2, 6.5, 6.4, 6.8, 5.7, 5.8, 6.4, 6.5, 7.7, 7.7, 6.0, 6.9, 5.6, 7.7, 6.3, 6.7, 7.2, 6.2, 6.1, 6.4, 7.2, 7.4, 7.9, 6.4, 6.3, 6.1, 7.7, 6.3, 6.4, 6.0, 6.9, 6.7, 6.9, 5.8, 6.8, 6.7, 6.7, 6.3, 6.5, 6.2, 5.9], \"y\": [3.3, 2.7, 3.0, 2.9, 3.0, 3.0, 2.5, 2.9, 2.5, 3.6, 3.2, 2.7, 3.0, 2.5, 2.8, 3.2, 3.0, 3.8, 2.6, 2.2, 3.2, 2.8, 2.8, 2.7, 3.3, 3.2, 2.8, 3.0, 2.8, 3.0, 2.8, 3.8, 2.8, 2.8, 2.6, 3.0, 3.4, 3.1, 3.0, 3.1, 3.1, 3.1, 2.7, 3.2, 3.3, 3.0, 2.5, 3.0, 3.4, 3.0], \"z\": [2.5, 1.9, 2.1, 1.8, 2.2, 2.1, 1.7, 1.8, 1.8, 2.5, 2.0, 1.9, 2.1, 2.0, 2.4, 2.3, 1.8, 2.2, 2.3, 1.5, 2.3, 2.0, 2.0, 1.8, 2.1, 1.8, 1.8, 1.8, 2.1, 1.6, 1.9, 2.0, 2.2, 1.5, 1.4, 2.3, 2.4, 1.8, 1.8, 2.1, 2.4, 2.3, 1.9, 2.3, 2.5, 2.3, 1.9, 2.0, 2.3, 1.8]}],\n",
              "                        {\"coloraxis\": {\"colorbar\": {\"title\": {\"text\": \"petal_length\"}}, \"colorscale\": [[0.0, \"#0d0887\"], [0.1111111111111111, \"#46039f\"], [0.2222222222222222, \"#7201a8\"], [0.3333333333333333, \"#9c179e\"], [0.4444444444444444, \"#bd3786\"], [0.5555555555555556, \"#d8576b\"], [0.6666666666666666, \"#ed7953\"], [0.7777777777777778, \"#fb9f3a\"], [0.8888888888888888, \"#fdca26\"], [1.0, \"#f0f921\"]]}, \"legend\": {\"tracegroupgap\": 0}, \"margin\": {\"t\": 60}, \"scene\": {\"domain\": {\"x\": [0.0, 1.0], \"y\": [0.0, 1.0]}, \"xaxis\": {\"title\": {\"text\": \"sepal_length\"}}, \"yaxis\": {\"title\": {\"text\": \"sepal_width\"}}, \"zaxis\": {\"title\": {\"text\": \"petal_width\"}}}, \"template\": {\"data\": {\"bar\": [{\"error_x\": {\"color\": \"#2a3f5f\"}, \"error_y\": {\"color\": \"#2a3f5f\"}, \"marker\": {\"line\": {\"color\": \"#E5ECF6\", \"width\": 0.5}}, \"type\": \"bar\"}], \"barpolar\": [{\"marker\": {\"line\": {\"color\": \"#E5ECF6\", \"width\": 0.5}}, \"type\": \"barpolar\"}], \"carpet\": [{\"aaxis\": {\"endlinecolor\": \"#2a3f5f\", \"gridcolor\": \"white\", \"linecolor\": \"white\", \"minorgridcolor\": \"white\", \"startlinecolor\": \"#2a3f5f\"}, \"baxis\": {\"endlinecolor\": \"#2a3f5f\", \"gridcolor\": \"white\", \"linecolor\": \"white\", \"minorgridcolor\": \"white\", \"startlinecolor\": \"#2a3f5f\"}, \"type\": \"carpet\"}], \"choropleth\": [{\"colorbar\": {\"outlinewidth\": 0, \"ticks\": \"\"}, \"type\": \"choropleth\"}], \"contour\": [{\"colorbar\": {\"outlinewidth\": 0, \"ticks\": \"\"}, \"colorscale\": [[0.0, \"#0d0887\"], [0.1111111111111111, \"#46039f\"], [0.2222222222222222, \"#7201a8\"], [0.3333333333333333, \"#9c179e\"], [0.4444444444444444, \"#bd3786\"], [0.5555555555555556, \"#d8576b\"], [0.6666666666666666, \"#ed7953\"], [0.7777777777777778, \"#fb9f3a\"], [0.8888888888888888, \"#fdca26\"], [1.0, \"#f0f921\"]], \"type\": \"contour\"}], \"contourcarpet\": [{\"colorbar\": {\"outlinewidth\": 0, \"ticks\": \"\"}, \"type\": \"contourcarpet\"}], \"heatmap\": [{\"colorbar\": {\"outlinewidth\": 0, \"ticks\": \"\"}, \"colorscale\": [[0.0, \"#0d0887\"], [0.1111111111111111, \"#46039f\"], [0.2222222222222222, \"#7201a8\"], [0.3333333333333333, \"#9c179e\"], [0.4444444444444444, \"#bd3786\"], [0.5555555555555556, \"#d8576b\"], [0.6666666666666666, \"#ed7953\"], [0.7777777777777778, \"#fb9f3a\"], [0.8888888888888888, \"#fdca26\"], [1.0, \"#f0f921\"]], \"type\": \"heatmap\"}], \"heatmapgl\": [{\"colorbar\": {\"outlinewidth\": 0, \"ticks\": \"\"}, \"colorscale\": [[0.0, \"#0d0887\"], [0.1111111111111111, \"#46039f\"], [0.2222222222222222, \"#7201a8\"], [0.3333333333333333, \"#9c179e\"], [0.4444444444444444, \"#bd3786\"], [0.5555555555555556, \"#d8576b\"], [0.6666666666666666, \"#ed7953\"], [0.7777777777777778, \"#fb9f3a\"], [0.8888888888888888, \"#fdca26\"], [1.0, \"#f0f921\"]], \"type\": \"heatmapgl\"}], \"histogram\": [{\"marker\": {\"colorbar\": {\"outlinewidth\": 0, \"ticks\": \"\"}}, \"type\": \"histogram\"}], \"histogram2d\": [{\"colorbar\": {\"outlinewidth\": 0, \"ticks\": \"\"}, \"colorscale\": [[0.0, \"#0d0887\"], [0.1111111111111111, \"#46039f\"], [0.2222222222222222, \"#7201a8\"], [0.3333333333333333, \"#9c179e\"], [0.4444444444444444, \"#bd3786\"], [0.5555555555555556, \"#d8576b\"], [0.6666666666666666, \"#ed7953\"], [0.7777777777777778, \"#fb9f3a\"], [0.8888888888888888, \"#fdca26\"], [1.0, \"#f0f921\"]], \"type\": \"histogram2d\"}], \"histogram2dcontour\": [{\"colorbar\": {\"outlinewidth\": 0, \"ticks\": \"\"}, \"colorscale\": [[0.0, \"#0d0887\"], [0.1111111111111111, \"#46039f\"], [0.2222222222222222, \"#7201a8\"], [0.3333333333333333, \"#9c179e\"], [0.4444444444444444, \"#bd3786\"], [0.5555555555555556, \"#d8576b\"], [0.6666666666666666, \"#ed7953\"], [0.7777777777777778, \"#fb9f3a\"], [0.8888888888888888, \"#fdca26\"], [1.0, \"#f0f921\"]], \"type\": \"histogram2dcontour\"}], \"mesh3d\": [{\"colorbar\": {\"outlinewidth\": 0, \"ticks\": \"\"}, \"type\": \"mesh3d\"}], \"parcoords\": [{\"line\": {\"colorbar\": {\"outlinewidth\": 0, \"ticks\": \"\"}}, \"type\": \"parcoords\"}], \"pie\": [{\"automargin\": true, \"type\": \"pie\"}], \"scatter\": [{\"marker\": {\"colorbar\": {\"outlinewidth\": 0, \"ticks\": \"\"}}, \"type\": \"scatter\"}], \"scatter3d\": [{\"line\": {\"colorbar\": {\"outlinewidth\": 0, \"ticks\": \"\"}}, \"marker\": {\"colorbar\": {\"outlinewidth\": 0, \"ticks\": \"\"}}, \"type\": \"scatter3d\"}], \"scattercarpet\": [{\"marker\": {\"colorbar\": {\"outlinewidth\": 0, \"ticks\": \"\"}}, \"type\": \"scattercarpet\"}], \"scattergeo\": [{\"marker\": {\"colorbar\": {\"outlinewidth\": 0, \"ticks\": \"\"}}, \"type\": \"scattergeo\"}], \"scattergl\": [{\"marker\": {\"colorbar\": {\"outlinewidth\": 0, \"ticks\": \"\"}}, \"type\": \"scattergl\"}], \"scattermapbox\": [{\"marker\": {\"colorbar\": {\"outlinewidth\": 0, \"ticks\": \"\"}}, \"type\": \"scattermapbox\"}], \"scatterpolar\": [{\"marker\": {\"colorbar\": {\"outlinewidth\": 0, \"ticks\": \"\"}}, \"type\": \"scatterpolar\"}], \"scatterpolargl\": [{\"marker\": {\"colorbar\": {\"outlinewidth\": 0, \"ticks\": \"\"}}, \"type\": \"scatterpolargl\"}], \"scatterternary\": [{\"marker\": {\"colorbar\": {\"outlinewidth\": 0, \"ticks\": \"\"}}, \"type\": \"scatterternary\"}], \"surface\": [{\"colorbar\": {\"outlinewidth\": 0, \"ticks\": \"\"}, \"colorscale\": [[0.0, \"#0d0887\"], [0.1111111111111111, \"#46039f\"], [0.2222222222222222, \"#7201a8\"], [0.3333333333333333, \"#9c179e\"], [0.4444444444444444, \"#bd3786\"], [0.5555555555555556, \"#d8576b\"], [0.6666666666666666, \"#ed7953\"], [0.7777777777777778, \"#fb9f3a\"], [0.8888888888888888, \"#fdca26\"], [1.0, \"#f0f921\"]], \"type\": \"surface\"}], \"table\": [{\"cells\": {\"fill\": {\"color\": \"#EBF0F8\"}, \"line\": {\"color\": \"white\"}}, \"header\": {\"fill\": {\"color\": \"#C8D4E3\"}, \"line\": {\"color\": \"white\"}}, \"type\": \"table\"}]}, \"layout\": {\"annotationdefaults\": {\"arrowcolor\": \"#2a3f5f\", \"arrowhead\": 0, \"arrowwidth\": 1}, \"coloraxis\": {\"colorbar\": {\"outlinewidth\": 0, \"ticks\": \"\"}}, \"colorscale\": {\"diverging\": [[0, \"#8e0152\"], [0.1, \"#c51b7d\"], [0.2, \"#de77ae\"], [0.3, \"#f1b6da\"], [0.4, \"#fde0ef\"], [0.5, \"#f7f7f7\"], [0.6, \"#e6f5d0\"], [0.7, \"#b8e186\"], [0.8, \"#7fbc41\"], [0.9, \"#4d9221\"], [1, \"#276419\"]], \"sequential\": [[0.0, \"#0d0887\"], [0.1111111111111111, \"#46039f\"], [0.2222222222222222, \"#7201a8\"], [0.3333333333333333, \"#9c179e\"], [0.4444444444444444, \"#bd3786\"], [0.5555555555555556, \"#d8576b\"], [0.6666666666666666, \"#ed7953\"], [0.7777777777777778, \"#fb9f3a\"], [0.8888888888888888, \"#fdca26\"], [1.0, \"#f0f921\"]], \"sequentialminus\": [[0.0, \"#0d0887\"], [0.1111111111111111, \"#46039f\"], [0.2222222222222222, \"#7201a8\"], [0.3333333333333333, \"#9c179e\"], [0.4444444444444444, \"#bd3786\"], [0.5555555555555556, \"#d8576b\"], [0.6666666666666666, \"#ed7953\"], [0.7777777777777778, \"#fb9f3a\"], [0.8888888888888888, \"#fdca26\"], [1.0, \"#f0f921\"]]}, \"colorway\": [\"#636efa\", \"#EF553B\", \"#00cc96\", \"#ab63fa\", \"#FFA15A\", \"#19d3f3\", \"#FF6692\", \"#B6E880\", \"#FF97FF\", \"#FECB52\"], \"font\": {\"color\": \"#2a3f5f\"}, \"geo\": {\"bgcolor\": \"white\", \"lakecolor\": \"white\", \"landcolor\": \"#E5ECF6\", \"showlakes\": true, \"showland\": true, \"subunitcolor\": \"white\"}, \"hoverlabel\": {\"align\": \"left\"}, \"hovermode\": \"closest\", \"mapbox\": {\"style\": \"light\"}, \"paper_bgcolor\": \"white\", \"plot_bgcolor\": \"#E5ECF6\", \"polar\": {\"angularaxis\": {\"gridcolor\": \"white\", \"linecolor\": \"white\", \"ticks\": \"\"}, \"bgcolor\": \"#E5ECF6\", \"radialaxis\": {\"gridcolor\": \"white\", \"linecolor\": \"white\", \"ticks\": \"\"}}, \"scene\": {\"xaxis\": {\"backgroundcolor\": \"#E5ECF6\", \"gridcolor\": \"white\", \"gridwidth\": 2, \"linecolor\": \"white\", \"showbackground\": true, \"ticks\": \"\", \"zerolinecolor\": \"white\"}, \"yaxis\": {\"backgroundcolor\": \"#E5ECF6\", \"gridcolor\": \"white\", \"gridwidth\": 2, \"linecolor\": \"white\", \"showbackground\": true, \"ticks\": \"\", \"zerolinecolor\": \"white\"}, \"zaxis\": {\"backgroundcolor\": \"#E5ECF6\", \"gridcolor\": \"white\", \"gridwidth\": 2, \"linecolor\": \"white\", \"showbackground\": true, \"ticks\": \"\", \"zerolinecolor\": \"white\"}}, \"shapedefaults\": {\"line\": {\"color\": \"#2a3f5f\"}}, \"ternary\": {\"aaxis\": {\"gridcolor\": \"white\", \"linecolor\": \"white\", \"ticks\": \"\"}, \"baxis\": {\"gridcolor\": \"white\", \"linecolor\": \"white\", \"ticks\": \"\"}, \"bgcolor\": \"#E5ECF6\", \"caxis\": {\"gridcolor\": \"white\", \"linecolor\": \"white\", \"ticks\": \"\"}}, \"title\": {\"x\": 0.05}, \"xaxis\": {\"automargin\": true, \"gridcolor\": \"white\", \"linecolor\": \"white\", \"ticks\": \"\", \"title\": {\"standoff\": 15}, \"zerolinecolor\": \"white\", \"zerolinewidth\": 2}, \"yaxis\": {\"automargin\": true, \"gridcolor\": \"white\", \"linecolor\": \"white\", \"ticks\": \"\", \"title\": {\"standoff\": 15}, \"zerolinecolor\": \"white\", \"zerolinewidth\": 2}}}},\n",
              "                        {\"responsive\": true}\n",
              "                    ).then(function(){\n",
              "                            \n",
              "var gd = document.getElementById('17f4f1b8-f300-45e3-9bfa-cc35185d0a73');\n",
              "var x = new MutationObserver(function (mutations, observer) {{\n",
              "        var display = window.getComputedStyle(gd).display;\n",
              "        if (!display || display === 'none') {{\n",
              "            console.log([gd, 'removed!']);\n",
              "            Plotly.purge(gd);\n",
              "            observer.disconnect();\n",
              "        }}\n",
              "}});\n",
              "\n",
              "// Listen for the removal of the full notebook cells\n",
              "var notebookContainer = gd.closest('#notebook-container');\n",
              "if (notebookContainer) {{\n",
              "    x.observe(notebookContainer, {childList: true});\n",
              "}}\n",
              "\n",
              "// Listen for the clearing of the current output cell\n",
              "var outputEl = gd.closest('.output');\n",
              "if (outputEl) {{\n",
              "    x.observe(outputEl, {childList: true});\n",
              "}}\n",
              "\n",
              "                        })\n",
              "                };\n",
              "                \n",
              "            </script>\n",
              "        </div>\n",
              "</body>\n",
              "</html>"
            ]
          },
          "metadata": {
            "tags": []
          }
        }
      ]
    },
    {
      "cell_type": "code",
      "metadata": {
        "id": "AWQvFaByJjKK",
        "colab_type": "code",
        "colab": {}
      },
      "source": [
        "fig = go.Figure(data=[data], layout=layout)"
      ],
      "execution_count": 0,
      "outputs": []
    },
    {
      "cell_type": "code",
      "metadata": {
        "id": "whLc0iH4KepO",
        "colab_type": "code",
        "outputId": "c8d148a7-7e29-41e7-988a-db4b79294fe4",
        "colab": {
          "base_uri": "https://localhost:8080/",
          "height": 517
        }
      },
      "source": [
        "from plotly.offline import plot, iplot\n",
        "iplot(fig)"
      ],
      "execution_count": 0,
      "outputs": [
        {
          "output_type": "display_data",
          "data": {
            "text/html": [
              "<html>\n",
              "<head><meta charset=\"utf-8\" /></head>\n",
              "<body>\n",
              "    <div>\n",
              "            <script src=\"https://cdnjs.cloudflare.com/ajax/libs/mathjax/2.7.5/MathJax.js?config=TeX-AMS-MML_SVG\"></script><script type=\"text/javascript\">if (window.MathJax) {MathJax.Hub.Config({SVG: {font: \"STIX-Web\"}});}</script>\n",
              "                <script type=\"text/javascript\">window.PlotlyConfig = {MathJaxConfig: 'local'};</script>\n",
              "        <script src=\"https://cdn.plot.ly/plotly-latest.min.js\"></script>    \n",
              "            <div id=\"2d70d542-631b-41e0-89fc-7af941a64cd6\" class=\"plotly-graph-div\" style=\"height:500px; width:500px;\"></div>\n",
              "            <script type=\"text/javascript\">\n",
              "                \n",
              "                    window.PLOTLYENV=window.PLOTLYENV || {};\n",
              "                    \n",
              "                if (document.getElementById(\"2d70d542-631b-41e0-89fc-7af941a64cd6\")) {\n",
              "                    Plotly.newPlot(\n",
              "                        '2d70d542-631b-41e0-89fc-7af941a64cd6',\n",
              "                        [{\"marker\": {\"color\": [0.5895756172054807, 0.6391734506506942, 0.9179079683149269, 0.8529658185001493, 0.8129605679844464, 0.45030583591368184, 0.37428467701890666, 0.5672609945406342, 0.43723942938201443, 0.8762284354812848, 0.6817150385786312, 0.8058364676807006, 0.5957824023065653, 0.8058319417039275, 0.4317139193413567, 0.5180116995974292, 0.8956188442861903, 0.8782063489306238, 0.34525837887440103, 0.5026099525780287, 0.9634457916680932, 0.31385169801551976, 0.6298278650448919, 0.5309842134313696, 0.09552460786822513, 0.42821157478587735, 0.5176761291777208, 0.506348576498399, 0.44084942469687644, 0.018689853746193103, 0.35819383889901496, 0.5539410615158763, 0.017744111995717758, 0.752371842597949, 0.24432621387618547, 0.34719059323147644, 0.9812178100633479, 0.017926112207275198, 0.8605304883182576, 0.8266074968539757, 0.6552663172088782, 0.3970853502567044, 0.6682529058401824, 0.1800866361420508, 0.6841336025064482, 0.5884607487634034, 0.8822905773436959, 0.26580175593162025, 0.8536249949698406, 0.09636563699661212, 0.9888548280420711, 0.1516602771214208, 0.8143385154839202, 0.516087008301575, 0.9328627144623295, 0.9721861030389307, 0.27170509032286805, 0.8109269839418505, 0.5045351225956946, 0.6949623961398775, 0.2667986786445608, 0.37555679539009607, 0.5443776427504352, 0.22479504024697836, 0.24110306009198473, 0.11939043068878646, 0.3394324048743952, 0.9870529935889623, 0.20446332572744755, 0.03216133266339691, 0.9400161485888333, 0.43114032022532806, 0.4674830842158593, 0.6743479163282601, 0.18310699149046133, 0.7966084839077457, 0.23136072642888184, 0.18613760615630018, 0.012871538920057157, 0.006984187760529044, 0.5859625053819775, 0.9114727283772346, 0.9191529711017065, 0.0513790476993409, 0.0002867896639146773, 0.44136038156835367, 0.9671448338694658, 0.3137172681542911, 0.8527080150875631, 0.20285139868416566, 0.23181215089756158, 0.8007426913161823, 0.7100482238339058, 0.11382460120367385, 0.35167729809776743, 0.7285571928564696, 0.10328417138187308, 0.5954755403434627, 0.5418819907221314, 0.434188540788394, 0.5347059194057442, 0.7700580873850802, 0.7168070499642119, 0.08333082231287936, 0.3677570614675642, 0.6073146407564248, 0.2405093273172831, 0.3833206481747724, 0.48137475940591234, 0.9076620360989291, 0.745948950254178, 0.41609425197374245, 0.5192819102229376, 0.8851159975963768, 0.23753427424342954, 0.6519427002762308, 0.9593736637350208, 0.7691049804227514, 0.4830011483307803, 0.35094156152482026, 0.2880878251352638, 0.8887959012025031, 0.22289670449385823, 0.03819762855427525, 0.19663342318202007, 0.9096736970847555, 0.7620200220904096, 0.8117117642031686, 0.907232337969536, 0.6844917523017034, 0.3430728187958682, 0.16729527504825842, 0.4216896494848049, 0.8114824728800739, 0.010042925979540533, 0.5305210618462857, 0.19498407093981843, 0.07944637502954921, 0.1597726885760295, 0.14715857636972735, 0.8336345327365319, 0.14340075322309812, 0.893729535663397, 0.5368090518202268, 0.4815070636016226, 0.39813775491503217, 0.0034316059166297646, 0.6257783955451584, 0.7563903926355064, 0.7470911481254916, 0.42993427385973604, 0.13768521588506694, 0.37503635968777177, 0.18055640547895294, 0.8062914949517861, 0.062313271764719486, 0.4955817454262728, 0.09935266507272655, 0.6870447404666891, 0.3367632572327129, 0.20418895979421559, 0.5750770359611783, 0.47637723781759717, 0.058635184339706374, 0.817146541496108, 0.8002924578187024, 0.2999982516080404, 0.4289679421009247, 0.1543345294946527, 0.8515191029836582, 0.45333594691147827, 0.7763374468013522, 0.03332400948311233, 0.08917358109811566, 0.9384097826368052, 0.05075730478966235, 0.3391248322200534, 0.02782540864957664, 0.7507925054213231, 0.04365947449945528, 0.9536036674503585, 0.7609722258297821, 0.7360119377915668, 0.11699610960671275, 0.6382231892948339, 0.30410581032152534, 0.02463168056873954, 0.8552482241940981, 0.8993247976670107, 0.18096925858194554, 0.8619298546674853, 0.234485392443676, 0.055961269009159216, 0.341047495816798, 0.4766423238836461, 0.9377703814049166, 0.52548916847151, 0.33457742639646176, 0.003084572249376835, 0.7302858416771265, 0.27348150330612353, 0.5112499916428089, 0.6656006860543354, 0.9443116903373844, 0.7682382553218973, 0.6401713040440804, 0.6390435422383514, 0.7109834678574474, 0.8902641916580178, 0.5023440323179892, 0.8376037419208636, 0.09422021901016081, 0.28177995045054105, 0.11164694894750683, 0.11400169197832304, 0.3316078168339492, 0.32163712061851335, 0.01699165400379591, 0.6763460492530997, 0.7039513471520505, 0.44839881425890754, 0.6866159567225797, 0.9760033188989556, 0.6454715404983923, 0.7547806040712719, 0.7105906553235994, 0.5951804007072413, 0.3019937578557243, 0.5066485243376886, 0.23429636041664545, 0.8058191028425598, 0.6365130173062098, 0.26588586947737236, 0.03533448499275017, 0.7581007826771827, 0.6927379518813759, 0.8108567897382511, 0.9848659860256697, 0.9952538683814367, 0.39069088806979935, 0.06435955181315425, 0.6830954186794702, 0.07705047931068926, 0.5122665560464846, 0.6098584709765603, 0.6026587303015893, 0.8931291447970588, 0.26977295002858986, 0.8482959197386922, 0.8419816176406102, 0.14190769842608422, 0.3705795111004293, 0.5569121570880148, 0.44836929584460533, 0.03381956759851065, 0.44024945842885216, 0.6137355699068988, 0.8148627418444983, 0.2497043415832784, 0.005693802263163503, 0.7650921796595435, 0.5371966395410936, 0.276462143229458, 0.4284943494503364, 0.7653864290073914, 0.7079749635262006, 0.026797536066358704, 0.8189868188721053, 0.14439510923978813, 0.49215119476364794, 0.0569998858544959, 0.3062228494454762, 0.8807720971842757, 0.3198419497139679, 0.45324363340099294, 0.789504197817359, 0.5978584200887783, 0.6863305326956836, 0.6677472752818377, 0.9173783105217337, 0.2706882410405071, 0.7776743657755658, 0.35884250504079046, 0.32989418863051884, 0.6160191776589089, 0.532351303385762, 0.21630140565021658, 0.9939449521952826, 0.0, 0.41220419129822305, 0.14130214597664256, 0.4075158215852673, 0.9708096510858415, 0.5667404626325308, 0.7406690023003024, 0.03743165485998745, 0.5581776224223469, 0.4505773822897284, 0.9493456723035874, 0.7975612188819489, 0.49380988383838753, 0.14635163926002367, 0.45466194839211815, 0.6754881102367148, 0.5088791379890683, 0.06659146046687922, 0.7411800916019899, 0.5239066211492798, 0.5674130172901289, 0.15252186112845775, 0.008044320627004602, 0.40824558388030524, 0.7110018425363208, 0.7107814925610018, 0.761864801793394, 0.7001626731186167, 0.2684698847774507, 0.1906047267663647, 0.5424566501943128, 0.5975126667960567, 0.25465170665473363, 0.014408353957618641, 0.964680470386167, 0.7745804655251572, 0.7973716588670949, 0.10415308075453561, 0.8643115316069321, 0.8842839170649182, 0.6339790331349631, 0.22152284426113905, 0.5664417509665101, 0.1303530445839248, 0.6740398875495651, 0.9719379632051064, 0.3519952325491163, 1.0, 0.363770852864599, 0.070623093382987, 0.584060697079767, 0.5382007542499333, 0.876918494311772, 0.025628876744032136, 0.8970517536839903, 0.44420038964380487, 0.9594873284277649, 0.16308252596530887, 0.08273448179545943, 0.6433378947596144, 0.9903897034671801, 0.28678839582983817, 0.31736175468156724, 0.09669551057977505, 0.22274952134368564, 0.19207930444447296, 0.5842180632534192, 0.3110349848639132, 0.4501202995616211, 0.17645597237985738, 0.783546493612829, 0.9383857120874641, 0.2911064947499943, 0.36752501550000577, 0.1612084235104695, 0.08960985276346342, 0.5426080071360534, 0.5968757208786758, 0.5988284966072163, 0.7241329991701712, 0.8298190462856015, 0.9386186255417548, 0.08818268648513042, 0.7108795753730194, 0.16244607086761345, 0.9141140357790467, 0.23552818427836647, 0.8986846055672656, 0.6585717047163236, 0.4273951689594224, 0.27455081689175886, 0.07006081095611814, 0.004585163075361903, 0.2925937286188351, 0.13958595846041486, 0.49593303385677145, 0.8293467252171169, 0.24550732088475496, 0.8864513700128708, 0.34644236659886546, 0.14188058753302674, 0.18693611278830072, 0.14429207093935967, 0.09850118782357321, 0.03625923392639433, 0.1623081937730872, 0.694345289281993, 0.784173290070177, 0.49138217582996163, 0.09365882768289008, 0.8050707070484748, 0.5118207200690715, 0.8877759815994265, 0.024034371517670433, 0.5855496387738615, 0.798220255887665, 0.5057607810474076, 0.38601392160607184, 0.7261371911318206, 0.49501368948545893, 0.819869158865236, 0.3789917903211524, 0.14960010025757375, 0.5694801204031876, 0.19827141210239183, 0.28813835086133255, 0.48715553024916297, 0.41600549344029486, 0.6783325737204818, 0.2535682289665069, 0.8470408065574255, 0.9328888074655827, 0.7060706498283209, 0.46691999542669727, 0.025573724655400684, 0.5007900919352897, 0.7432658567139213, 0.561784343999948, 0.05558713342658645, 0.6221558820838374, 0.9564451934927906, 0.16130430722907815, 0.549412610335705, 0.45894306918231687, 0.31891998455946574, 0.27692423658474646, 0.3626062847827795, 0.9550261720474639, 0.8300451258704264, 0.15782108116529503, 0.9149608176201505, 0.8844618408533115, 0.37257229117980034, 0.9308232483884669, 0.12140383285093392, 0.8554236752016958, 0.1552778527270415, 0.6357703829636404, 0.2190773535518779, 0.7864180151768834, 0.6708135188018882, 0.4916455993508944, 0.06853664535099016, 0.1303052425851491, 0.2433206728292728, 0.7633092680073378, 0.05200912999407533, 0.4058602089679481, 0.9325746727215134, 0.5560427992210303, 0.21976757531470986, 0.35538793117785655, 0.6031565942480599, 0.001376698070639943, 0.21633424373215085, 0.6275650742510633, 0.8680892488061301, 0.3883602198515418, 0.011214457498649064, 0.09912063865988864, 0.008056990851190084, 0.523924987079282, 0.6853566938808175, 0.24763991378917177, 0.4129032999587688, 0.6796167560742856, 0.1610022546633621, 0.011967700326880904, 0.6805983635974514, 0.9667257337654886, 0.5595025189135764, 0.0834540367546709, 0.5975298005984412, 0.03816315164427012, 0.715561080433619, 0.2860418994407529, 0.4782673920089329, 0.43430931782335297, 0.18143776782925936, 0.5326846066777384, 0.5556230027985536, 0.3700381768379803, 0.2579507959223571, 0.9941880924919728, 0.4622026249651395, 0.22097278604334986, 0.7719678623367913, 0.6043193294207702, 0.5776778256143661, 0.00915814923950509, 0.7253793879761954, 0.5326749243634077, 0.6755706240735672, 0.4071770337769327, 0.02304835116882049, 0.596193823372345, 0.13676798793179534, 0.4652467260487836, 0.1856279907757175, 0.6597471067121349, 0.036300197359156475, 0.9617466699183869, 0.005013915108590255, 0.7288632996104739, 0.7928187825735938, 0.433030086196985, 0.5841595935488226, 0.6071343035236042, 0.008035107858796721, 0.6803143966273947, 0.22242310116599015, 0.13287337863368096, 0.4696316279633894, 0.03392569775866842, 0.5342682845404397, 0.30133719514943563, 0.19057247156359153, 0.9792907218807998, 0.24023298243864113, 0.027728709027784005, 0.00513739922283428, 0.9441684046796196, 0.3553672463469965, 0.12388056950863345, 0.42794719903366735, 0.8268929470993372, 0.43090298909983565, 0.7658377588160765, 0.40764544860549357, 0.8286980837637364, 0.6208213259271977, 0.09514329545506622, 0.08184410317064132, 0.06719923505692285, 0.7897273727710806, 0.3364063519425149, 0.7112215267457743, 0.846177673437373, 0.1786750664368638, 0.2743552531422154, 0.18181901489079472, 0.7027820133772753, 0.6410610423679222, 0.954425247817865, 0.1701502070461162, 0.7936603776480267, 0.31780154160800883, 0.5917721485887475, 0.6457468844871237, 0.2561212302893836, 0.1312414173751473, 0.33180770241569935, 0.47441307091769963, 0.489250549042165, 0.3055385952200595, 0.47804629060969384, 0.04055999176416851, 0.5823173541734654, 0.43374260714869095, 0.29221665471455543, 0.1559594095082492, 0.9169101750024197, 0.09179221159449007, 0.6063776201525268, 0.7079595847334257, 0.2924017881943462, 0.18345376508401912, 0.6138047675002312, 0.7452213215081642, 0.5810309816330684, 0.06426912469047309, 0.13791103509031366, 0.02983776337828547, 0.7841153977389104, 0.23810214639981475, 0.19534755980263047, 0.018597200526005876, 0.45339379547865705, 0.49294861923285355, 0.062020608627490224, 0.30887175615438783, 0.12823969993655748, 0.019215756647241615, 0.8595112199854382, 0.7080112165849451, 0.25467357306623734, 0.026389353807038173, 0.26403631775224745, 0.1570796300449754, 0.7451494260881323, 0.9265903952187141, 0.8180757348583657, 0.10103747907629446, 0.2219747050488681, 0.8305953210913399, 0.011645053676212856, 0.14786439175937083, 0.8180410011800964, 0.5183437065687571, 0.9666464065533383, 0.08090328856378784, 0.1906465568878364, 0.6238431049504222, 0.35601908146248296, 0.34506132608435586, 0.3015459936319048, 0.6418757616488888, 0.7542854535471862, 0.42685479753978883, 0.44260598855218486, 0.5214362889396993, 0.7799666797070873, 0.866917525950169, 0.7711476933675632, 0.7230646515414788, 0.9747038849820189, 0.27296713677268863, 0.23548347111257312, 0.25097068216977736, 0.528358985819929, 0.0020775276990624516, 0.5815420546704901, 0.8066555149016544, 0.8627366081181983, 0.2964035859519719, 0.8652166773738441, 0.9118467304811411, 0.38681788711115306, 0.6279703369521731, 0.48109194780708225, 0.6975179413512166, 0.9176425466641346, 0.641175050843908, 0.6976998840126623, 0.9907098308554083, 0.30895534822899345, 0.21069842019042231, 0.9344995898324394, 0.04620058318215844, 0.9755960377423788, 0.05422755721630056, 0.909309903483648, 0.8969399161124447, 0.9145827237345312, 0.4629966484002777, 0.2987906904805224, 0.811970472522814, 0.0420891066744828, 0.8930275332795047, 0.922845821085523, 0.8493715926316755, 0.242534270695317, 0.6309027826288062, 0.7581009071662311, 0.02968447156992811, 0.9110694721039119, 0.5893581038026418, 0.5533034520289557, 0.7576700491485163, 0.19363394880689447, 0.4095918625034703, 0.16823155028759976, 0.19900262990582968, 0.9464994288667327, 0.13795830050423782, 0.022125715672797433, 0.9946950891293477, 0.8415895157218235, 0.41516193270552837, 0.14681829157275947, 0.6703091101032264, 0.1312897343165607, 0.0714408243225356, 0.7301840580658273, 0.018581008221463004, 0.4843959620519249, 0.4694285490697595, 0.012707567467908005, 0.48083270764135244, 0.4876392442824083, 0.2214059284794156, 0.7251892281369204, 0.8808025900358022, 0.8041436673204823, 0.17808606867500396, 0.2013095563114833, 0.29879091463337437, 0.39663028917251875, 0.3746729954128887, 0.044363446624224805, 0.2115256153402209, 0.5659024573614436, 0.33817736865662124, 0.996181552890791, 0.7350897837615374, 0.821965672872374, 0.7649241736262495, 0.40201764869383577, 0.7091458808917758, 0.9214591935403247, 0.35263245810651916, 0.8399300770309539, 0.13973381366984503, 0.5566253960720283, 0.8373800731450438, 0.03116990968657018, 0.06569796352603703, 0.11209320381185767, 0.9763607184391279, 0.06659166231225663, 0.7190661700326813, 0.4285266516346664, 0.21673907349823118, 0.4037799744738765, 0.7260585406128711, 0.32350720606770045, 0.9233839229913701, 0.10348475616607987, 0.7220190887400159, 0.6197007266552117, 0.47240938341922106, 0.6905906251031296, 0.31019602581002187, 0.5492485385347928, 0.5009317283648429, 0.3668016824578074, 0.16858612565927442, 0.6326773334528012, 0.4713343829411985, 0.7610695887020529, 0.7277352676809148, 0.1912303944989126, 0.6762017701978031, 0.4812492866729401, 0.7414967307665606, 0.5758988705768451, 0.9633274979640231, 0.12825533330958272, 0.8695675952479656, 0.06380307859987772, 0.4065663520749987, 0.6615528091383575, 0.341819896830891, 0.0657618655782368, 0.30045759815974504, 0.44994706037461824, 0.07448473715206677, 0.955518417077478, 0.6411837299461381, 0.966187991459716, 0.958775779657685, 0.13586311312014124, 0.5818099659870715, 0.057587296731737875, 0.6178729829504118, 0.20485872589692786, 0.22540975417545311, 0.10604120688269351, 0.7997856100818168, 0.1155723090935158, 0.7797884600329144, 0.004898702467977579, 0.7829331894926725, 0.781196332819799, 0.5230597535776631, 0.3224019971944518, 0.18627988440560958, 0.8240993312986652, 0.5775906321403109, 0.9627413762607617, 0.2630181759593156, 0.7103923186986956, 0.8977891616660079, 0.48491302369249617, 0.4263902315344756, 0.015835582787593398, 0.3622366408272823, 0.5799356601740748, 0.30421867531281116, 0.10264132964209999, 0.17110379721671654, 0.8677423874009768, 0.598933412790564, 0.27068159433088446, 0.4761578170746219, 0.7777979845779326, 0.8210215952552581, 0.21809428838795006, 0.3875867188701732, 0.9370894123861591, 0.42328216908948163, 0.6362929179902067, 0.11287357128839344, 0.457249798254118, 0.5441528770467962, 0.6953226656423875, 0.14212404123004727, 0.5749601184551861, 0.004198829902549222, 0.42030091492330435, 0.7527645877940352, 0.013176112422948355, 0.3929765057399277, 0.9756866975646995, 0.7239369758518429, 0.6665072721936081, 0.7979256809324856, 0.49482547432542645, 0.24023641818280586, 0.610123244395427, 0.6453000000350626, 0.4724866572818787, 0.7291087437217316, 0.4379264325832515, 0.9371814119075419, 0.7722142472550062, 0.141451650540656, 0.29242092512872864, 0.8037879408925627, 0.04167624292805294, 0.6428154499918896, 0.07024543656554567, 0.9129613880967319, 0.8558298251731766, 0.6302583261854955, 0.6057842283806625, 0.7161991231340515, 0.9604908210307818, 0.6740391703160791, 0.9769161358868642, 0.46786280185999246, 0.42603119792505567, 0.6999302943524658, 0.9699897411647069, 0.9026431299086427, 0.13658807765456163, 0.31376552284195564, 0.3503379288715657, 0.04413751275892881, 0.17848649754344348, 0.6441248858297661, 0.3917430208328201, 0.08883678857780718, 0.4356729239379041, 0.8259087015269914, 0.9259412241064435, 0.9008119981245638, 0.2171703651979288, 0.4332781503752091, 0.0070504386908710704, 0.733413159132942, 0.9861463555415382, 0.4898906966246108, 0.31042589509310986, 0.85602477460099, 0.5571648059390254, 0.06964026584466468, 0.13103371889250182, 0.14061839789615604, 0.09311714222604622, 0.6194981619418917, 0.5468024104977461, 0.2099458571972121, 0.9872330102649154, 0.4980916079249749, 0.6041007348714278, 0.15903213511012285, 0.625214235837652, 0.0540126974207689, 0.00019921903069999725, 0.6891072359281886, 0.47207488880269993, 0.31624059813553945, 0.17313414468351904, 0.5614454421759052, 0.8007201842496141, 0.4775104224443934, 0.12549964126082475, 0.5516655683017542, 0.031211631300560306, 0.32341731604124896, 0.9206602064684186, 0.17311958980550002, 0.4872831820200414, 0.9538250619568603, 0.33402552987321765, 0.7540253123421692, 0.5219076216842221, 0.8050104899905652, 0.8376411005855493, 0.881450179184898, 0.19539933470978735, 0.6726288723805223, 0.6208345460721151, 0.09720677261322369, 0.9304967353048174, 0.47373022482688354, 0.5402478854461181, 0.2485280701749893, 0.6977783479752931, 0.18092939994410295, 0.12253101641563242, 0.7604518921455876, 0.5551717381918603, 0.7783323691748945, 0.6267800264663582, 0.7076618399674702, 0.13749270175988418, 0.16333781332531144, 0.8403140031646066, 0.8347669548910981, 0.7560373358903636, 0.7882256779481723, 0.4226955469156505, 0.6343815276712943, 0.8819066825787956, 0.9685079392729785, 0.4116103275350736, 0.8006164331877947, 0.504531503458592, 0.5001763712537355, 0.6023919265115861, 0.5219027068573664, 0.7841415937203057, 0.5876734957351338, 0.9391717396088546, 0.4631537163677685, 0.7457460727226278, 0.16568960705444138, 0.949678572147044, 0.1429460006810694, 0.2380735721495386, 0.620614730587227, 0.1792328350413514, 0.3619615311831011, 0.20549481199625064, 0.7095847592695265, 0.638943632971708, 0.17889743734176314, 0.30714807208454487, 0.14385214205458965, 0.3559242265948396, 0.263458237474978, 0.3055248991551704, 0.4091584651357556, 0.16407630310225757, 0.550856456386238, 0.22448688258918173, 0.3635468700718221, 0.19220988990129417, 0.9240398937154989, 0.6331828690484477, 0.13997679400939544, 0.8371491563740749, 0.5700732513386643, 0.48194341163935783, 0.027528527089135623, 0.8909734079600271, 0.473085614121381, 0.19457997432390842, 0.6934750141706016, 0.08815596876828483, 0.2967378790512934, 0.8685594788411645, 0.6192623277554662, 0.5767070224156718, 0.5137855111060323, 0.7941322400588662, 0.47809700672427546, 0.29386177537161035, 0.47135302907979254, 0.9525960001462961, 0.5242257748641512, 0.225654263686283, 0.605118389500696, 0.45142102365697084, 0.9558538648152628, 0.8596973793733782, 0.020651531521915074, 0.47317220597408904, 0.7800977463483878, 0.027076243150473293, 0.5155538861870789, 0.6499497704440811, 0.01829659919781413, 0.9123845325782792, 0.6164445494609322, 0.8314865237640597, 0.5053042719749341, 0.7842298657461801, 0.9872115930972022, 0.3424584199690275], \"colorscale\": [[0.0, \"rgb(0,0,131)\"], [0.2, \"rgb(0,60,170)\"], [0.4, \"rgb(5,255,255)\"], [0.6, \"rgb(255,255,0)\"], [0.8, \"rgb(250,0,0)\"], [1.0, \"rgb(128,0,0)\"]], \"line\": {\"width\": 0.0}, \"opacity\": 0.8, \"size\": 3}, \"mode\": \"markers\", \"text\": [\"category:\\uacbd\\uc81c\\ubbfc\\uc8fc\\ud654\", \"category:\\uae30\\ud0c0\", \"category:\\uae30\\ud0c0\", \"category:\\uc678\\uad50/\\ud1b5\\uc77c/\\uad6d\\ubc29\", \"category:\\uc678\\uad50/\\ud1b5\\uc77c/\\uad6d\\ubc29\", \"category:\\uc721\\uc544/\\uad50\\uc721\", \"category:\\uc721\\uc544/\\uad50\\uc721\", \"category:\\uc721\\uc544/\\uad50\\uc721\", \"category:\\uc678\\uad50/\\ud1b5\\uc77c/\\uad6d\\ubc29\", \"category:\\uc77c\\uc790\\ub9ac\", \"category:\\uc678\\uad50/\\ud1b5\\uc77c/\\uad6d\\ubc29\", \"category:\\uc77c\\uc790\\ub9ac\", \"category:\\uc77c\\uc790\\ub9ac\", \"category:\\uc77c\\uc790\\ub9ac\", \"category:\\uc721\\uc544/\\uad50\\uc721\", \"category:\\uc721\\uc544/\\uad50\\uc721\", \"category:\\uc721\\uc544/\\uad50\\uc721\", \"category:\\uc721\\uc544/\\uad50\\uc721\", \"category:\\uc721\\uc544/\\uad50\\uc721\", \"category:\\uc721\\uc544/\\uad50\\uc721\", \"category:\\uc721\\uc544/\\uad50\\uc721\", \"category:\\uc721\\uc544/\\uad50\\uc721\", \"category:\\uc721\\uc544/\\uad50\\uc721\", \"category:\\uc721\\uc544/\\uad50\\uc721\", \"category:\\uc678\\uad50/\\ud1b5\\uc77c/\\uad6d\\ubc29\", \"category:\\uc678\\uad50/\\ud1b5\\uc77c/\\uad6d\\ubc29\", \"category:\\uc721\\uc544/\\uad50\\uc721\", \"category:\\uc678\\uad50/\\ud1b5\\uc77c/\\uad6d\\ubc29\", \"category:\\uc77c\\uc790\\ub9ac\", \"category:\\uacbd\\uc81c\\ubbfc\\uc8fc\\ud654\", \"category:\\uad50\\ud1b5/\\uac74\\ucd95/\\uad6d\\ud1a0\", \"category:\\uc721\\uc544/\\uad50\\uc721\", \"category:\\uc77c\\uc790\\ub9ac\", \"category:\\uc721\\uc544/\\uad50\\uc721\", \"category:\\ubcf4\\uac74\\ubcf5\\uc9c0\", \"category:\\uc721\\uc544/\\uad50\\uc721\", \"category:\\uc721\\uc544/\\uad50\\uc721\", \"category:\\uc77c\\uc790\\ub9ac\", \"category:\\ud589\\uc815\", \"category:\\ubcf4\\uac74\\ubcf5\\uc9c0\", \"category:\\uad50\\ud1b5/\\uac74\\ucd95/\\uad6d\\ud1a0\", \"category:\\uc678\\uad50/\\ud1b5\\uc77c/\\uad6d\\ubc29\", \"category:\\uad50\\ud1b5/\\uac74\\ucd95/\\uad6d\\ud1a0\", \"category:\\ubcf4\\uac74\\ubcf5\\uc9c0\", \"category:\\ubb38\\ud654/\\uc608\\uc220/\\uccb4\\uc721/\\uc5b8\\ub860\", \"category:\\ubcf4\\uac74\\ubcf5\\uc9c0\", \"category:\\uad50\\ud1b5/\\uac74\\ucd95/\\uad6d\\ud1a0\", \"category:\\uc548\\uc804/\\ud658\\uacbd\", \"category:\\uc548\\uc804/\\ud658\\uacbd\", \"category:\\uc678\\uad50/\\ud1b5\\uc77c/\\uad6d\\ubc29\", \"category:\\uad50\\ud1b5/\\uac74\\ucd95/\\uad6d\\ud1a0\", \"category:\\uad50\\ud1b5/\\uac74\\ucd95/\\uad6d\\ud1a0\", \"category:\\uc548\\uc804/\\ud658\\uacbd\", \"category:\\uae30\\ud0c0\", \"category:\\ubb38\\ud654/\\uc608\\uc220/\\uccb4\\uc721/\\uc5b8\\ub860\", \"category:\\uc721\\uc544/\\uad50\\uc721\", \"category:\\uae30\\ud0c0\", \"category:\\uc77c\\uc790\\ub9ac\", \"category:\\uad50\\ud1b5/\\uac74\\ucd95/\\uad6d\\ud1a0\", \"category:\\uad50\\ud1b5/\\uac74\\ucd95/\\uad6d\\ud1a0\", \"category:\\uc721\\uc544/\\uad50\\uc721\", \"category:\\uc721\\uc544/\\uad50\\uc721\", \"category:\\uc721\\uc544/\\uad50\\uc721\", \"category:\\uc77c\\uc790\\ub9ac\", \"category:\\uc721\\uc544/\\uad50\\uc721\", \"category:\\uc721\\uc544/\\uad50\\uc721\", \"category:\\uad50\\ud1b5/\\uac74\\ucd95/\\uad6d\\ud1a0\", \"category:\\uc815\\uce58\\uac1c\\ud601\", \"category:\\uae30\\ud0c0\", \"category:\\uc721\\uc544/\\uad50\\uc721\", \"category:\\uc800\\ucd9c\\uc0b0/\\uace0\\ub839\\ud654\\ub300\\ucc45\", \"category:\\uc548\\uc804/\\ud658\\uacbd\", \"category:\\uad50\\ud1b5/\\uac74\\ucd95/\\uad6d\\ud1a0\", \"category:\\uc721\\uc544/\\uad50\\uc721\", \"category:\\uad50\\ud1b5/\\uac74\\ucd95/\\uad6d\\ud1a0\", \"category:\\uc721\\uc544/\\uad50\\uc721\", \"category:\\uc77c\\uc790\\ub9ac\", \"category:\\uacbd\\uc81c\\ubbfc\\uc8fc\\ud654\", \"category:\\ubcf4\\uac74\\ubcf5\\uc9c0\", \"category:\\uad50\\ud1b5/\\uac74\\ucd95/\\uad6d\\ud1a0\", \"category:\\uad50\\ud1b5/\\uac74\\ucd95/\\uad6d\\ud1a0\", \"category:\\uc721\\uc544/\\uad50\\uc721\", \"category:\\uad50\\ud1b5/\\uac74\\ucd95/\\uad6d\\ud1a0\", \"category:\\ubcf4\\uac74\\ubcf5\\uc9c0\", \"category:\\uc721\\uc544/\\uad50\\uc721\", \"category:\\ubb38\\ud654/\\uc608\\uc220/\\uccb4\\uc721/\\uc5b8\\ub860\", \"category:\\uc548\\uc804/\\ud658\\uacbd\", \"category:\\ud589\\uc815\", \"category:\\uad50\\ud1b5/\\uac74\\ucd95/\\uad6d\\ud1a0\", \"category:\\uc721\\uc544/\\uad50\\uc721\", \"category:\\uc77c\\uc790\\ub9ac\", \"category:\\ubcf4\\uac74\\ubcf5\\uc9c0\", \"category:\\uc815\\uce58\\uac1c\\ud601\", \"category:\\ud589\\uc815\", \"category:\\ud589\\uc815\", \"category:\\uad50\\ud1b5/\\uac74\\ucd95/\\uad6d\\ud1a0\", \"category:\\uae30\\ud0c0\", \"category:\\ubcf4\\uac74\\ubcf5\\uc9c0\", \"category:\\uad50\\ud1b5/\\uac74\\ucd95/\\uad6d\\ud1a0\", \"category:\\uc77c\\uc790\\ub9ac\", \"category:\\uc778\\uad8c/\\uc131\\ud3c9\\ub4f1\", \"category:\\uc721\\uc544/\\uad50\\uc721\", \"category:\\uc77c\\uc790\\ub9ac\", \"category:\\uad50\\ud1b5/\\uac74\\ucd95/\\uad6d\\ud1a0\", \"category:\\ud589\\uc815\", \"category:\\ubcf4\\uac74\\ubcf5\\uc9c0\", \"category:\\uc678\\uad50/\\ud1b5\\uc77c/\\uad6d\\ubc29\", \"category:\\ud589\\uc815\", \"category:\\uc778\\uad8c/\\uc131\\ud3c9\\ub4f1\", \"category:\\uc548\\uc804/\\ud658\\uacbd\", \"category:\\uae30\\ud0c0\", \"category:\\ubcf4\\uac74\\ubcf5\\uc9c0\", \"category:\\uc721\\uc544/\\uad50\\uc721\", \"category:\\uc721\\uc544/\\uad50\\uc721\", \"category:\\uc721\\uc544/\\uad50\\uc721\", \"category:\\uc721\\uc544/\\uad50\\uc721\", \"category:\\uad50\\ud1b5/\\uac74\\ucd95/\\uad6d\\ud1a0\", \"category:\\uad50\\ud1b5/\\uac74\\ucd95/\\uad6d\\ud1a0\", \"category:\\ud589\\uc815\", \"category:\\uc778\\uad8c/\\uc131\\ud3c9\\ub4f1\", \"category:\\uae30\\ud0c0\", \"category:\\ubcf4\\uac74\\ubcf5\\uc9c0\", \"category:\\ud589\\uc815\", \"category:\\ubcf4\\uac74\\ubcf5\\uc9c0\", \"category:\\ud589\\uc815\", \"category:\\ubcf4\\uac74\\ubcf5\\uc9c0\", \"category:\\uc778\\uad8c/\\uc131\\ud3c9\\ub4f1\", \"category:\\uc721\\uc544/\\uad50\\uc721\", \"category:\\uc778\\uad8c/\\uc131\\ud3c9\\ub4f1\", \"category:\\uc778\\uad8c/\\uc131\\ud3c9\\ub4f1\", \"category:\\uc778\\uad8c/\\uc131\\ud3c9\\ub4f1\", \"category:\\uae30\\ud0c0\", \"category:\\uc721\\uc544/\\uad50\\uc721\", \"category:\\uc815\\uce58\\uac1c\\ud601\", \"category:\\uc778\\uad8c/\\uc131\\ud3c9\\ub4f1\", \"category:\\uc778\\uad8c/\\uc131\\ud3c9\\ub4f1\", \"category:\\ubb38\\ud654/\\uc608\\uc220/\\uccb4\\uc721/\\uc5b8\\ub860\", \"category:\\uae30\\ud0c0\", \"category:\\uc721\\uc544/\\uad50\\uc721\", \"category:\\uc778\\uad8c/\\uc131\\ud3c9\\ub4f1\", \"category:\\uc778\\uad8c/\\uc131\\ud3c9\\ub4f1\", \"category:\\uc778\\uad8c/\\uc131\\ud3c9\\ub4f1\", \"category:\\uc778\\uad8c/\\uc131\\ud3c9\\ub4f1\", \"category:\\ubcf4\\uac74\\ubcf5\\uc9c0\", \"category:\\ud589\\uc815\", \"category:\\uc778\\uad8c/\\uc131\\ud3c9\\ub4f1\", \"category:\\uc778\\uad8c/\\uc131\\ud3c9\\ub4f1\", \"category:\\uc778\\uad8c/\\uc131\\ud3c9\\ub4f1\", \"category:\\uc815\\uce58\\uac1c\\ud601\", \"category:\\ubcf4\\uac74\\ubcf5\\uc9c0\", \"category:\\uc548\\uc804/\\ud658\\uacbd\", \"category:\\ubcf4\\uac74\\ubcf5\\uc9c0\", \"category:\\uc548\\uc804/\\ud658\\uacbd\", \"category:\\uc778\\uad8c/\\uc131\\ud3c9\\ub4f1\", \"category:\\uc721\\uc544/\\uad50\\uc721\", \"category:\\uc548\\uc804/\\ud658\\uacbd\", \"category:\\uc77c\\uc790\\ub9ac\", \"category:\\ubb38\\ud654/\\uc608\\uc220/\\uccb4\\uc721/\\uc5b8\\ub860\", \"category:\\uc721\\uc544/\\uad50\\uc721\", \"category:\\ud589\\uc815\", \"category:\\uc778\\uad8c/\\uc131\\ud3c9\\ub4f1\", \"category:\\uc77c\\uc790\\ub9ac\", \"category:\\uc778\\uad8c/\\uc131\\ud3c9\\ub4f1\", \"category:\\uad50\\ud1b5/\\uac74\\ucd95/\\uad6d\\ud1a0\", \"category:\\uc721\\uc544/\\uad50\\uc721\", \"category:\\uc778\\uad8c/\\uc131\\ud3c9\\ub4f1\", \"category:\\uc548\\uc804/\\ud658\\uacbd\", \"category:\\uc721\\uc544/\\uad50\\uc721\", \"category:\\uc77c\\uc790\\ub9ac\", \"category:\\ud589\\uc815\", \"category:\\uc77c\\uc790\\ub9ac\", \"category:\\uc548\\uc804/\\ud658\\uacbd\", \"category:\\uc77c\\uc790\\ub9ac\", \"category:\\ubb38\\ud654/\\uc608\\uc220/\\uccb4\\uc721/\\uc5b8\\ub860\", \"category:\\ubb38\\ud654/\\uc608\\uc220/\\uccb4\\uc721/\\uc5b8\\ub860\", \"category:\\uc77c\\uc790\\ub9ac\", \"category:\\ubbf8\\ub798\", \"category:\\ubb38\\ud654/\\uc608\\uc220/\\uccb4\\uc721/\\uc5b8\\ub860\", \"category:\\uc721\\uc544/\\uad50\\uc721\", \"category:\\uc721\\uc544/\\uad50\\uc721\", \"category:\\uc778\\uad8c/\\uc131\\ud3c9\\ub4f1\", \"category:\\uc778\\uad8c/\\uc131\\ud3c9\\ub4f1\", \"category:\\uc721\\uc544/\\uad50\\uc721\", \"category:\\uad50\\ud1b5/\\uac74\\ucd95/\\uad6d\\ud1a0\", \"category:\\uc77c\\uc790\\ub9ac\", \"category:\\ubbf8\\ub798\", \"category:\\uc548\\uc804/\\ud658\\uacbd\", \"category:\\uc548\\uc804/\\ud658\\uacbd\", \"category:\\uc678\\uad50/\\ud1b5\\uc77c/\\uad6d\\ubc29\", \"category:\\ubcf4\\uac74\\ubcf5\\uc9c0\", \"category:\\uc778\\uad8c/\\uc131\\ud3c9\\ub4f1\", \"category:\\ubb38\\ud654/\\uc608\\uc220/\\uccb4\\uc721/\\uc5b8\\ub860\", \"category:\\ubb38\\ud654/\\uc608\\uc220/\\uccb4\\uc721/\\uc5b8\\ub860\", \"category:\\ub18d\\uc0b0\\uc5b4\\ucd0c\", \"category:\\ubb38\\ud654/\\uc608\\uc220/\\uccb4\\uc721/\\uc5b8\\ub860\", \"category:\\uc548\\uc804/\\ud658\\uacbd\", \"category:\\uc815\\uce58\\uac1c\\ud601\", \"category:\\ubb38\\ud654/\\uc608\\uc220/\\uccb4\\uc721/\\uc5b8\\ub860\", \"category:\\uc721\\uc544/\\uad50\\uc721\", \"category:\\uc721\\uc544/\\uad50\\uc721\", \"category:\\uc548\\uc804/\\ud658\\uacbd\", \"category:\\uc678\\uad50/\\ud1b5\\uc77c/\\uad6d\\ubc29\", \"category:\\uc778\\uad8c/\\uc131\\ud3c9\\ub4f1\", \"category:\\uae30\\ud0c0\", \"category:\\uc778\\uad8c/\\uc131\\ud3c9\\ub4f1\", \"category:\\uc721\\uc544/\\uad50\\uc721\", \"category:\\uc815\\uce58\\uac1c\\ud601\", \"category:\\uc721\\uc544/\\uad50\\uc721\", \"category:\\uc548\\uc804/\\ud658\\uacbd\", \"category:\\uae30\\ud0c0\", \"category:\\ud589\\uc815\", \"category:\\uc548\\uc804/\\ud658\\uacbd\", \"category:\\uc815\\uce58\\uac1c\\ud601\", \"category:\\ubb38\\ud654/\\uc608\\uc220/\\uccb4\\uc721/\\uc5b8\\ub860\", \"category:\\ud589\\uc815\", \"category:\\ubcf4\\uac74\\ubcf5\\uc9c0\", \"category:\\uc548\\uc804/\\ud658\\uacbd\", \"category:\\uad50\\ud1b5/\\uac74\\ucd95/\\uad6d\\ud1a0\", \"category:\\uad50\\ud1b5/\\uac74\\ucd95/\\uad6d\\ud1a0\", \"category:\\uad50\\ud1b5/\\uac74\\ucd95/\\uad6d\\ud1a0\", \"category:\\uc548\\uc804/\\ud658\\uacbd\", \"category:\\uc721\\uc544/\\uad50\\uc721\", \"category:\\uc77c\\uc790\\ub9ac\", \"category:\\uc77c\\uc790\\ub9ac\", \"category:\\ubcf4\\uac74\\ubcf5\\uc9c0\", \"category:\\uc815\\uce58\\uac1c\\ud601\", \"category:\\ubcf4\\uac74\\ubcf5\\uc9c0\", \"category:\\uae30\\ud0c0\", \"category:\\uc778\\uad8c/\\uc131\\ud3c9\\ub4f1\", \"category:\\uc815\\uce58\\uac1c\\ud601\", \"category:\\uc77c\\uc790\\ub9ac\", \"category:\\ubb38\\ud654/\\uc608\\uc220/\\uccb4\\uc721/\\uc5b8\\ub860\", \"category:\\uacbd\\uc81c\\ubbfc\\uc8fc\\ud654\", \"category:\\uc815\\uce58\\uac1c\\ud601\", \"category:\\uacbd\\uc81c\\ubbfc\\uc8fc\\ud654\", \"category:\\uc721\\uc544/\\uad50\\uc721\", \"category:\\uc77c\\uc790\\ub9ac\", \"category:\\uc77c\\uc790\\ub9ac\", \"category:\\uc721\\uc544/\\uad50\\uc721\", \"category:\\ubb38\\ud654/\\uc608\\uc220/\\uccb4\\uc721/\\uc5b8\\ub860\", \"category:\\uc548\\uc804/\\ud658\\uacbd\", \"category:\\ubb38\\ud654/\\uc608\\uc220/\\uccb4\\uc721/\\uc5b8\\ub860\", \"category:\\uc548\\uc804/\\ud658\\uacbd\", \"category:\\uc77c\\uc790\\ub9ac\", \"category:\\uc721\\uc544/\\uad50\\uc721\", \"category:\\ubcf4\\uac74\\ubcf5\\uc9c0\", \"category:\\uc721\\uc544/\\uad50\\uc721\", \"category:\\ubb38\\ud654/\\uc608\\uc220/\\uccb4\\uc721/\\uc5b8\\ub860\", \"category:\\uc778\\uad8c/\\uc131\\ud3c9\\ub4f1\", \"category:\\ubcf4\\uac74\\ubcf5\\uc9c0\", \"category:\\uc548\\uc804/\\ud658\\uacbd\", \"category:\\uc678\\uad50/\\ud1b5\\uc77c/\\uad6d\\ubc29\", \"category:\\ubcf4\\uac74\\ubcf5\\uc9c0\", \"category:\\ubcf4\\uac74\\ubcf5\\uc9c0\", \"category:\\uc548\\uc804/\\ud658\\uacbd\", \"category:\\uc721\\uc544/\\uad50\\uc721\", \"category:\\uc815\\uce58\\uac1c\\ud601\", \"category:\\uad50\\ud1b5/\\uac74\\ucd95/\\uad6d\\ud1a0\", \"category:\\uc800\\ucd9c\\uc0b0/\\uace0\\ub839\\ud654\\ub300\\ucc45\", \"category:\\uc800\\ucd9c\\uc0b0/\\uace0\\ub839\\ud654\\ub300\\ucc45\", \"category:\\uc800\\ucd9c\\uc0b0/\\uace0\\ub839\\ud654\\ub300\\ucc45\", \"category:\\ubb38\\ud654/\\uc608\\uc220/\\uccb4\\uc721/\\uc5b8\\ub860\", \"category:\\uc800\\ucd9c\\uc0b0/\\uace0\\ub839\\ud654\\ub300\\ucc45\", \"category:\\uc721\\uc544/\\uad50\\uc721\", \"category:\\ubcf4\\uac74\\ubcf5\\uc9c0\", \"category:\\ubcf4\\uac74\\ubcf5\\uc9c0\", \"category:\\uc778\\uad8c/\\uc131\\ud3c9\\ub4f1\", \"category:\\uc800\\ucd9c\\uc0b0/\\uace0\\ub839\\ud654\\ub300\\ucc45\", \"category:\\uc721\\uc544/\\uad50\\uc721\", \"category:\\uc778\\uad8c/\\uc131\\ud3c9\\ub4f1\", \"category:\\ubcf4\\uac74\\ubcf5\\uc9c0\", \"category:\\uc77c\\uc790\\ub9ac\", \"category:\\ubcf4\\uac74\\ubcf5\\uc9c0\", \"category:\\uad50\\ud1b5/\\uac74\\ucd95/\\uad6d\\ud1a0\", \"category:\\uc800\\ucd9c\\uc0b0/\\uace0\\ub839\\ud654\\ub300\\ucc45\", \"category:\\uc800\\ucd9c\\uc0b0/\\uace0\\ub839\\ud654\\ub300\\ucc45\", \"category:\\ubcf4\\uac74\\ubcf5\\uc9c0\", \"category:\\uc800\\ucd9c\\uc0b0/\\uace0\\ub839\\ud654\\ub300\\ucc45\", \"category:\\ubcf4\\uac74\\ubcf5\\uc9c0\", \"category:\\ubcf4\\uac74\\ubcf5\\uc9c0\", \"category:\\uc721\\uc544/\\uad50\\uc721\", \"category:\\uc721\\uc544/\\uad50\\uc721\", \"category:\\ubcf4\\uac74\\ubcf5\\uc9c0\", \"category:\\uc800\\ucd9c\\uc0b0/\\uace0\\ub839\\ud654\\ub300\\ucc45\", \"category:\\uc800\\ucd9c\\uc0b0/\\uace0\\ub839\\ud654\\ub300\\ucc45\", \"category:\\uc800\\ucd9c\\uc0b0/\\uace0\\ub839\\ud654\\ub300\\ucc45\", \"category:\\uc548\\uc804/\\ud658\\uacbd\", \"category:\\uc721\\uc544/\\uad50\\uc721\", \"category:\\uc800\\ucd9c\\uc0b0/\\uace0\\ub839\\ud654\\ub300\\ucc45\", \"category:\\ubcf4\\uac74\\ubcf5\\uc9c0\", \"category:\\uc800\\ucd9c\\uc0b0/\\uace0\\ub839\\ud654\\ub300\\ucc45\", \"category:\\ubcf4\\uac74\\ubcf5\\uc9c0\", \"category:\\uc800\\ucd9c\\uc0b0/\\uace0\\ub839\\ud654\\ub300\\ucc45\", \"category:\\uc800\\ucd9c\\uc0b0/\\uace0\\ub839\\ud654\\ub300\\ucc45\", \"category:\\uc800\\ucd9c\\uc0b0/\\uace0\\ub839\\ud654\\ub300\\ucc45\", \"category:\\uc800\\ucd9c\\uc0b0/\\uace0\\ub839\\ud654\\ub300\\ucc45\", \"category:\\uc800\\ucd9c\\uc0b0/\\uace0\\ub839\\ud654\\ub300\\ucc45\", \"category:\\uc800\\ucd9c\\uc0b0/\\uace0\\ub839\\ud654\\ub300\\ucc45\", \"category:\\uc800\\ucd9c\\uc0b0/\\uace0\\ub839\\ud654\\ub300\\ucc45\", \"category:\\uc800\\ucd9c\\uc0b0/\\uace0\\ub839\\ud654\\ub300\\ucc45\"], \"type\": \"scatter3d\", \"x\": [118.39532470703125, 12.493712425231934, -71.71719360351562, 43.54253387451172, -10.910456657409668, 78.17143249511719, -36.680442810058594, 18.13347053527832, 23.1905517578125, 1.7040152549743652, 38.76840591430664, 155.85231018066406, -105.42636108398438, 17.001632690429688, 55.91741180419922, 4.1134443283081055, -313.55511474609375, -133.59060668945312, 7.406094551086426, -64.43589782714844, 86.3718032836914, -10.207175254821777, 109.31499481201172, -45.35425567626953, -61.47703170776367, -179.90585327148438, 58.67753601074219, 47.23912811279297, 96.38007354736328, 57.90937423706055, 46.07669448852539, -110.24505615234375, 46.623783111572266, -9.77100944519043, -50.315216064453125, -62.53653335571289, 19.949216842651367, -13.159417152404785, 45.2602424621582, -324.1150817871094, 27.327363967895508, 16.833669662475586, 59.36524963378906, -22.007339477539062, 144.9216766357422, -12.901285171508789, 113.8492202758789, -127.55573272705078, -10.01733684539795, 59.8123893737793, 127.91930389404297, 55.495662689208984, -45.815731048583984, 39.1335563659668, -43.21858596801758, -108.07609558105469, -86.94769287109375, -27.898082733154297, 91.54197692871094, 39.34197998046875, -93.86206817626953, 141.13787841796875, -79.13406372070312, 28.536155700683594, -38.664772033691406, -24.927345275878906, 119.5525894165039, 87.11460876464844, 28.382902145385742, 0.11463169753551483, -95.45374298095703, -141.00547790527344, 113.32833862304688, -39.645721435546875, 49.84376525878906, -9.636750221252441, -97.69347381591797, 89.69285583496094, -41.8691520690918, 76.09679412841797, 63.02458572387695, 30.455036163330078, 28.82676887512207, -43.72907257080078, 41.7796630859375, -197.33607482910156, 131.99607849121094, 101.89633178710938, 90.4715347290039, -83.13410186767578, -109.96574401855469, -47.35810089111328, 7.979156494140625, 175.54080200195312, -120.69651794433594, 29.56231117248535, 53.72149658203125, -140.90866088867188, 174.23361206054688, -20.98084831237793, -54.72962951660156, -167.1749267578125, -146.1754913330078, -83.90926361083984, 0.5533347725868225, -61.76277160644531, -101.59634399414062, 112.67762756347656, -31.65908432006836, 72.807373046875, -126.38868713378906, 4.0583014488220215, -81.09895324707031, -80.19059753417969, -57.698692321777344, 56.40938949584961, 38.296348571777344, 8.454092979431152, 50.22118377685547, -36.63770294189453, -209.12684631347656, -108.87561798095703, -102.0443344116211, -65.43888092041016, -78.74708557128906, -85.24376678466797, -123.60577392578125, -56.09538650512695, -23.47994613647461, -76.308349609375, -98.45661163330078, 15.737503051757812, -2.0750229358673096, -48.59754943847656, -53.31022644042969, -62.7242317199707, 148.7660369873047, 43.2263069152832, -9.70186710357666, -48.5612907409668, -117.68443298339844, 0.7484312057495117, -11.81285572052002, 93.61214447021484, -72.71263122558594, -43.50986099243164, -33.326751708984375, -69.87653350830078, -24.938024520874023, 26.531320571899414, -150.11524963378906, 3.950577974319458, -59.7469596862793, -147.19740295410156, -44.02245330810547, 63.17201232910156, 70.83834838867188, 20.672218322753906, 15.87800407409668, -83.21179962158203, -153.6496124267578, -110.79376983642578, -146.56959533691406, -53.86693572998047, -2.6581227779388428, 19.15730857849121, 72.26590728759766, -64.75839233398438, 74.27484893798828, -74.09489440917969, 85.61124420166016, 156.9751739501953, -95.4965591430664, 62.34984588623047, 81.98670196533203, -39.548675537109375, 1.0013827085494995, 86.09603118896484, -32.16456985473633, -102.67827606201172, -86.29582977294922, 5.384437084197998, 64.3842544555664, 68.00372314453125, 140.3848114013672, -74.46841430664062, -3.0573766231536865, 35.0644645690918, 81.29505157470703, -89.98373413085938, 41.2067985534668, 36.43461990356445, 69.81529998779297, 98.15681457519531, 71.19686126708984, 79.70227813720703, 50.3870735168457, 66.26712036132812, 238.2729949951172, 80.05789184570312, 39.0203857421875, 44.328365325927734, -157.98886108398438, 32.22687911987305, -113.58480072021484, -9.537887573242188, -84.97005462646484, 20.010520935058594, 44.414241790771484, 110.67011260986328, 124.32147216796875, 130.6997528076172, 97.21268463134766, 77.32617950439453, 77.93986511230469, -12.13076114654541, 98.19923400878906, 77.87103271484375, 78.91787719726562, 99.18576049804688, -7.865584373474121, -92.70539093017578, 109.12366485595703, -153.6659393310547, -116.74004364013672, 130.5143280029297, -16.180797576904297, -175.61953735351562, -15.583145141601562, 10.569001197814941, 2.5476431846618652, -11.855507850646973, -151.52825927734375, 95.6342544555664, 37.54666519165039, -51.895713806152344, -12.608433723449707, -2.5655417442321777, 110.4256591796875, 143.15428161621094, 66.87091827392578, 19.887062072753906, 161.73379516601562, 40.04240036010742, 31.1943302154541, -141.16600036621094, -1.6785494089126587, 140.13668823242188, -111.63001251220703, -69.06260681152344, -41.1938591003418, 46.25367736816406, -91.61238861083984, -121.62946319580078, 118.73524475097656, -62.628597259521484, 42.647300720214844, 118.80564880371094, -23.24995994567871, -79.15155029296875, -43.70751190185547, 140.01316833496094, -8.07974910736084, -7.065442085266113, -13.835238456726074, -59.16147994995117, -64.17657470703125, -4.624924182891846, 111.74058532714844, 35.821533203125, -94.76445007324219, -30.48644256591797, -19.795272827148438, 89.69427490234375, -53.409297943115234, -20.986215591430664, -1.5547819137573242, -50.26945877075195, -131.5291748046875, -95.59814453125, -127.83140563964844, 33.7032470703125, -36.305538177490234, -113.94149780273438, -27.707468032836914, -44.50929641723633, 115.0763168334961, -0.02002592384815216, -100.91175842285156, -42.62799072265625, -66.92254638671875, 40.25779342651367, 148.12461853027344, -50.684288024902344, -43.96955490112305, -22.14365005493164, -23.83378791809082, -6.38811731338501, -105.05155181884766, 8.80040168762207], \"y\": [-35.830726623535156, 133.84017944335938, 36.1772346496582, -159.93441772460938, -59.14485549926758, 89.00614166259766, 101.88764190673828, 140.7078399658203, 95.21533203125, -11.802451133728027, 98.78756713867188, 15.988513946533203, 70.63392639160156, 118.27782440185547, 149.2284393310547, 92.99266815185547, -58.912384033203125, 31.218170166015625, 68.1986312866211, 11.122376441955566, -163.34437561035156, 86.90428161621094, 32.38944625854492, 96.37806701660156, -27.250019073486328, 11.836294174194336, -23.827787399291992, 98.9129867553711, 124.32099914550781, -66.23565673828125, -157.25709533691406, -2.946089744567871, 104.54146575927734, -159.11300659179688, -38.47157287597656, 7.798062324523926, 42.24820327758789, 125.2398910522461, -106.4003677368164, 696.02392578125, 3.2590348720550537, 57.52609634399414, -112.02694702148438, 217.47012329101562, 72.31813049316406, 116.34534454345703, -17.905290603637695, -9.91976261138916, -78.10111236572266, 124.93074035644531, 42.48475646972656, -50.60706329345703, 159.796142578125, -23.41895294189453, 174.15940856933594, -8.061570167541504, -70.48554992675781, 108.12355041503906, -39.8643684387207, -53.34208297729492, -60.090965270996094, -70.1251220703125, 46.54718017578125, 84.79900360107422, -15.154522895812988, 126.23094177246094, -93.52610778808594, 118.01055908203125, -72.59219360351562, 6.715425968170166, -95.4681167602539, -89.0926284790039, -15.56255054473877, -2.216449499130249, -84.44917297363281, 60.74061584472656, 50.83391189575195, -44.86040115356445, 68.40257263183594, -126.73562622070312, -65.66038513183594, 6.289361476898193, -111.00740051269531, -76.82842254638672, -8.502069473266602, -41.040809631347656, -117.22149658203125, -49.57149124145508, -116.36358642578125, -49.65520095825195, 89.22394561767578, -34.75819778442383, 174.37509155273438, -11.033329010009766, -75.99901580810547, -180.9092559814453, -130.37371826171875, 114.86475372314453, -38.42877960205078, 135.90365600585938, 107.95817565917969, -9.462891578674316, -80.30915069580078, -142.0084228515625, 99.14398193359375, 8.309637069702148, 80.26697540283203, 75.84085083007812, 29.157564163208008, -1.3503059148788452, 34.342628479003906, -134.6254119873047, -7.401257038116455, 2.8315932750701904, 48.206085205078125, 154.580810546875, -118.42977905273438, -85.17359161376953, 166.6090087890625, 36.95022964477539, -224.48362731933594, 31.598745346069336, 161.26222229003906, -103.41160583496094, 128.39515686035156, 60.112144470214844, 28.131275177001953, 59.04894256591797, 51.658287048339844, 13.619409561157227, 137.5846405029297, -20.209657669067383, -12.07530689239502, 65.75154113769531, 41.01861572265625, 105.04519653320312, 14.818268775939941, 138.9773406982422, 24.89026641845703, -26.171693801879883, -24.138092041015625, -21.136308670043945, 56.89472198486328, 26.165666580200195, -23.237398147583008, -30.10755729675293, -41.46202850341797, 74.4488754272461, -2.2746245861053467, -29.746532440185547, -54.62838363647461, -89.18244171142578, 69.18978881835938, -54.23423385620117, -26.59917449951172, -24.30898666381836, 9.358170509338379, -127.64189147949219, 98.51860809326172, 79.1669692993164, 35.05698776245117, 121.51453399658203, 10.870121955871582, -137.86972045898438, 65.40370178222656, -37.357295989990234, -18.23373794555664, -63.99334716796875, 98.53739166259766, -71.78058624267578, 80.93419647216797, -38.657039642333984, 124.79820251464844, 56.41041946411133, 66.29949188232422, 96.07568359375, 24.760026931762695, 77.16232299804688, 26.82993507385254, 6.933771133422852, 92.5009765625, 28.61161231994629, -8.852132797241211, -90.11526489257812, -20.249956130981445, -51.96592330932617, -39.50971984863281, 45.54029846191406, 41.34223175048828, -90.20246124267578, 42.91054153442383, 153.64463806152344, 45.909828186035156, -52.195587158203125, 42.188636779785156, -66.18016815185547, -123.34527587890625, 3.485341787338257, 120.74740600585938, -4.780978202819824, 20.985681533813477, 24.261821746826172, -29.434680938720703, 133.42950439453125, 61.84163284301758, -47.83090591430664, 48.507598876953125, -89.58847045898438, -37.03886413574219, -16.101552963256836, 18.80487060546875, -69.03509521484375, 142.58265686035156, -26.296817779541016, 18.059219360351562, -160.95387268066406, 12.101822853088379, -105.28455352783203, -84.43911743164062, -137.7657928466797, -125.3542251586914, -74.8224868774414, -84.18547058105469, -25.533164978027344, -4.600786209106445, 59.72856521606445, -105.25029754638672, -85.01193237304688, 64.00982666015625, 7.384029865264893, 110.75228881835938, -108.19608306884766, 65.50346374511719, 92.48435974121094, 48.651058197021484, 26.82380485534668, -64.41136932373047, 175.34036254882812, 15.694836616516113, 104.94439697265625, 89.01726531982422, -63.73497772216797, 17.458765029907227, 57.30358123779297, -37.5125846862793, 72.09674072265625, 33.09843826293945, 73.29185485839844, -45.916717529296875, -163.15489196777344, -94.34819793701172, 14.128432273864746, -1.7702898979187012, -129.54518127441406, -106.82347869873047, -80.68270111083984, -0.5947868824005127, -25.208572387695312, -108.21023559570312, -87.19609069824219, -173.413818359375, 106.16461181640625, -134.2660675048828, -14.67775821685791, -315.3580627441406, -128.33462524414062, 121.11526489257812, -18.263856887817383, 45.998680114746094, -510.11431884765625, -54.77679443359375, 81.8675537109375, -51.657470703125, -74.04024505615234, 13.405774116516113, -3.3741469383239746, -50.76751708984375, -54.612571716308594, 26.871021270751953, -134.67616271972656, -39.82497024536133, -58.72050857543945, 25.053844451904297, -99.5427474975586, -79.53392028808594, -95.67176055908203, -72.20003509521484, 54.912933349609375, -120.09642791748047, -69.04505920410156, -139.00439453125, 87.57598114013672, -59.08445358276367, -122.61006927490234, -486.8516845703125, 4.712862968444824, -136.61253356933594, 21.26680564880371, -153.5743865966797, -85.7071533203125], \"z\": [86.46208953857422, 84.48873901367188, 56.221309661865234, -69.90030670166016, 151.1679229736328, -132.13401794433594, -136.2821807861328, -73.87079620361328, 103.49320220947266, -173.3047332763672, 76.60902404785156, -92.89781951904297, -106.9800033569336, -107.99951934814453, -99.43585205078125, -155.12025451660156, -49.68849182128906, -110.7076416015625, -125.2931900024414, -112.72084045410156, -14.793076515197754, -44.717098236083984, -125.0168685913086, -59.03633117675781, 29.71853256225586, 47.9431266784668, 178.63951110839844, 135.1663055419922, -69.52915954589844, 102.37352752685547, 55.50391387939453, -92.21566009521484, -40.642826080322266, -69.68883514404297, -93.42670440673828, -169.50257873535156, -167.3536376953125, -33.35615539550781, 38.22929382324219, -1043.31494140625, 13.559030532836914, 73.4906997680664, -119.93502044677734, -60.51262283325195, -49.828651428222656, 125.29380798339844, -32.640052795410156, 64.35911560058594, -92.88333892822266, 94.82408142089844, -72.2090835571289, 22.90385627746582, -29.42496109008789, 91.2064437866211, 47.61412048339844, -132.1071014404297, -7.2043681144714355, 63.635868072509766, -16.3128604888916, 52.88741683959961, -96.22571563720703, 1.6309846639633179, -85.03812408447266, -90.19078826904297, -9.261228561401367, -87.08163452148438, 45.48035430908203, 44.160186767578125, -46.54280090332031, -80.79803466796875, 53.79594039916992, -87.39317321777344, -85.68175506591797, -70.61749267578125, 2.827695846557617, -11.1880521774292, -31.327014923095703, 100.07152557373047, 29.731645584106445, -48.128963470458984, 154.88320922851562, -39.0528678894043, -78.31729888916016, -51.19443893432617, -90.64653015136719, -20.986255645751953, -23.8668212890625, 30.822378158569336, 4.90272855758667, -50.14925003051758, 35.689964294433594, -41.10066223144531, 14.075576782226562, 38.04460906982422, -29.71397590637207, -3.0293474197387695, 10.423784255981445, -0.7068207263946533, -38.81465530395508, 25.10068702697754, 14.292201042175293, -30.48497772216797, 88.58939361572266, -65.75199890136719, 39.37986373901367, 83.38072204589844, 136.33570861816406, 22.981204986572266, 100.76790618896484, -60.77244567871094, -57.80217361450195, 25.57726287841797, -17.70350456237793, -55.65003967285156, -4.285131931304932, -38.50598907470703, 87.22789001464844, -12.784239768981934, 59.88383865356445, -73.81907653808594, -144.34066772460938, 34.00938415527344, 17.766674041748047, -24.456554412841797, 14.71367359161377, 9.899489402770996, 132.85586547851562, -45.673301696777344, 64.88748931884766, 152.42251586914062, -34.711753845214844, 129.80638122558594, -27.329883575439453, 112.57673645019531, 150.2230987548828, 109.2733383178711, 74.81230163574219, 4.032474994659424, -32.84934997558594, 167.06021118164062, 12.5547456741333, 30.944988250732422, 155.1416015625, -55.40757369995117, 112.0678939819336, 74.88318634033203, 114.72810363769531, 58.235252380371094, 28.966665267944336, 166.9709930419922, 40.543704986572266, 77.91972351074219, -138.13877868652344, -2.726167917251587, -141.93060302734375, -57.64202117919922, 157.3534393310547, -30.261798858642578, -9.518502235412598, -72.31932830810547, 82.00074005126953, 79.2598648071289, 24.766618728637695, -83.1474609375, 17.620874404907227, 6.023798942565918, -109.34745788574219, -122.66622924804688, -81.95513916015625, 144.3388671875, -69.75025939941406, -80.84161376953125, -87.47354125976562, 100.19661712646484, 63.49021911621094, -16.015077590942383, 41.154212951660156, 106.16792297363281, -145.0980682373047, 94.20125579833984, -24.632173538208008, 108.2838134765625, -162.69395446777344, -59.4964599609375, 6.22612190246582, 64.89097595214844, -67.34009552001953, 4.568973064422607, 23.174283981323242, -78.25486755371094, 41.58871841430664, 118.76078796386719, -90.15000915527344, -64.42691802978516, -16.455020904541016, -96.64118957519531, 119.96163177490234, -11.110247611999512, -154.16458129882812, 25.62387466430664, -72.64717102050781, -126.84252166748047, 89.1589584350586, 33.72943115234375, 88.4393081665039, -22.90558624267578, 103.28862762451172, -155.05555725097656, -24.38839340209961, 126.11846923828125, 55.37887191772461, -46.4432373046875, 4.298924446105957, 62.12940979003906, 75.78952026367188, 23.735403060913086, 111.94556427001953, 75.59331512451172, 44.0791015625, 58.8192138671875, -116.34558868408203, -147.56724548339844, 119.59774780273438, -93.69340515136719, -29.672597885131836, 97.22550201416016, -51.35026550292969, -33.858604431152344, 108.82686614990234, 65.32380676269531, -69.68147277832031, 131.06507873535156, 33.92473220825195, -25.053998947143555, 154.01806640625, -30.641206741333008, -128.8705291748047, -75.84852600097656, 6.9835028648376465, -15.775214195251465, 7.7560930252075195, 111.02214813232422, -28.768266677856445, -40.799442291259766, -130.7636260986328, -28.550819396972656, -109.95268249511719, 55.48234176635742, 92.79463195800781, -19.933992385864258, -94.60655975341797, 115.13789367675781, 39.482872009277344, -23.183000564575195, -78.75943756103516, 18.886960983276367, 49.60144805908203, -135.11395263671875, 48.074737548828125, 93.39188385009766, 62.41371536254883, 36.03620529174805, 70.19083404541016, -116.99352264404297, -198.12831115722656, 62.27496337890625, 61.071102142333984, 80.68815612792969, -18.684337615966797, -120.02776336669922, 33.22356033325195, -96.98675537109375, 17.9639835357666, -17.871938705444336, 15.157416343688965, 120.54525756835938, 60.359352111816406, -7.016978740692139, -9.721419334411621, 23.323381423950195, -55.9940299987793, -91.26456451416016, 43.26546096801758, 23.44371795654297, -7.812709808349609, 90.36820983886719, -110.04915618896484, -63.37004470825195, 100.91219329833984, 53.22264862060547, 100.73922729492188, 28.188270568847656, 55.8013916015625, 18.346508026123047, 121.83794403076172, 63.104248046875, -17.087543487548828, 8.296156883239746, 64.52406311035156, 32.282440185546875]}],\n",
              "                        {\"autosize\": false, \"height\": 500, \"margin\": {\"b\": 100, \"l\": 50, \"pad\": 4, \"r\": 50, \"t\": 100}, \"template\": {\"data\": {\"bar\": [{\"error_x\": {\"color\": \"#2a3f5f\"}, \"error_y\": {\"color\": \"#2a3f5f\"}, \"marker\": {\"line\": {\"color\": \"#E5ECF6\", \"width\": 0.5}}, \"type\": \"bar\"}], \"barpolar\": [{\"marker\": {\"line\": {\"color\": \"#E5ECF6\", \"width\": 0.5}}, \"type\": \"barpolar\"}], \"carpet\": [{\"aaxis\": {\"endlinecolor\": \"#2a3f5f\", \"gridcolor\": \"white\", \"linecolor\": \"white\", \"minorgridcolor\": \"white\", \"startlinecolor\": \"#2a3f5f\"}, \"baxis\": {\"endlinecolor\": \"#2a3f5f\", \"gridcolor\": \"white\", \"linecolor\": \"white\", \"minorgridcolor\": \"white\", \"startlinecolor\": \"#2a3f5f\"}, \"type\": \"carpet\"}], \"choropleth\": [{\"colorbar\": {\"outlinewidth\": 0, \"ticks\": \"\"}, \"type\": \"choropleth\"}], \"contour\": [{\"colorbar\": {\"outlinewidth\": 0, \"ticks\": \"\"}, \"colorscale\": [[0.0, \"#0d0887\"], [0.1111111111111111, \"#46039f\"], [0.2222222222222222, \"#7201a8\"], [0.3333333333333333, \"#9c179e\"], [0.4444444444444444, \"#bd3786\"], [0.5555555555555556, \"#d8576b\"], [0.6666666666666666, \"#ed7953\"], [0.7777777777777778, \"#fb9f3a\"], [0.8888888888888888, \"#fdca26\"], [1.0, \"#f0f921\"]], \"type\": \"contour\"}], \"contourcarpet\": [{\"colorbar\": {\"outlinewidth\": 0, \"ticks\": \"\"}, \"type\": \"contourcarpet\"}], \"heatmap\": [{\"colorbar\": {\"outlinewidth\": 0, \"ticks\": \"\"}, \"colorscale\": [[0.0, \"#0d0887\"], [0.1111111111111111, \"#46039f\"], [0.2222222222222222, \"#7201a8\"], [0.3333333333333333, \"#9c179e\"], [0.4444444444444444, \"#bd3786\"], [0.5555555555555556, \"#d8576b\"], [0.6666666666666666, \"#ed7953\"], [0.7777777777777778, \"#fb9f3a\"], [0.8888888888888888, \"#fdca26\"], [1.0, \"#f0f921\"]], \"type\": \"heatmap\"}], \"heatmapgl\": [{\"colorbar\": {\"outlinewidth\": 0, \"ticks\": \"\"}, \"colorscale\": [[0.0, \"#0d0887\"], [0.1111111111111111, \"#46039f\"], [0.2222222222222222, \"#7201a8\"], [0.3333333333333333, \"#9c179e\"], [0.4444444444444444, \"#bd3786\"], [0.5555555555555556, \"#d8576b\"], [0.6666666666666666, \"#ed7953\"], [0.7777777777777778, \"#fb9f3a\"], [0.8888888888888888, \"#fdca26\"], [1.0, \"#f0f921\"]], \"type\": \"heatmapgl\"}], \"histogram\": [{\"marker\": {\"colorbar\": {\"outlinewidth\": 0, \"ticks\": \"\"}}, \"type\": \"histogram\"}], \"histogram2d\": [{\"colorbar\": {\"outlinewidth\": 0, \"ticks\": \"\"}, \"colorscale\": [[0.0, \"#0d0887\"], [0.1111111111111111, \"#46039f\"], [0.2222222222222222, \"#7201a8\"], [0.3333333333333333, \"#9c179e\"], [0.4444444444444444, \"#bd3786\"], [0.5555555555555556, \"#d8576b\"], [0.6666666666666666, \"#ed7953\"], [0.7777777777777778, \"#fb9f3a\"], [0.8888888888888888, \"#fdca26\"], [1.0, \"#f0f921\"]], \"type\": \"histogram2d\"}], \"histogram2dcontour\": [{\"colorbar\": {\"outlinewidth\": 0, \"ticks\": \"\"}, \"colorscale\": [[0.0, \"#0d0887\"], [0.1111111111111111, \"#46039f\"], [0.2222222222222222, \"#7201a8\"], [0.3333333333333333, \"#9c179e\"], [0.4444444444444444, \"#bd3786\"], [0.5555555555555556, \"#d8576b\"], [0.6666666666666666, \"#ed7953\"], [0.7777777777777778, \"#fb9f3a\"], [0.8888888888888888, \"#fdca26\"], [1.0, \"#f0f921\"]], \"type\": \"histogram2dcontour\"}], \"mesh3d\": [{\"colorbar\": {\"outlinewidth\": 0, \"ticks\": \"\"}, \"type\": \"mesh3d\"}], \"parcoords\": [{\"line\": {\"colorbar\": {\"outlinewidth\": 0, \"ticks\": \"\"}}, \"type\": \"parcoords\"}], \"pie\": [{\"automargin\": true, \"type\": \"pie\"}], \"scatter\": [{\"marker\": {\"colorbar\": {\"outlinewidth\": 0, \"ticks\": \"\"}}, \"type\": \"scatter\"}], \"scatter3d\": [{\"line\": {\"colorbar\": {\"outlinewidth\": 0, \"ticks\": \"\"}}, \"marker\": {\"colorbar\": {\"outlinewidth\": 0, \"ticks\": \"\"}}, \"type\": \"scatter3d\"}], \"scattercarpet\": [{\"marker\": {\"colorbar\": {\"outlinewidth\": 0, \"ticks\": \"\"}}, \"type\": \"scattercarpet\"}], \"scattergeo\": [{\"marker\": {\"colorbar\": {\"outlinewidth\": 0, \"ticks\": \"\"}}, \"type\": \"scattergeo\"}], \"scattergl\": [{\"marker\": {\"colorbar\": {\"outlinewidth\": 0, \"ticks\": \"\"}}, \"type\": \"scattergl\"}], \"scattermapbox\": [{\"marker\": {\"colorbar\": {\"outlinewidth\": 0, \"ticks\": \"\"}}, \"type\": \"scattermapbox\"}], \"scatterpolar\": [{\"marker\": {\"colorbar\": {\"outlinewidth\": 0, \"ticks\": \"\"}}, \"type\": \"scatterpolar\"}], \"scatterpolargl\": [{\"marker\": {\"colorbar\": {\"outlinewidth\": 0, \"ticks\": \"\"}}, \"type\": \"scatterpolargl\"}], \"scatterternary\": [{\"marker\": {\"colorbar\": {\"outlinewidth\": 0, \"ticks\": \"\"}}, \"type\": \"scatterternary\"}], \"surface\": [{\"colorbar\": {\"outlinewidth\": 0, \"ticks\": \"\"}, \"colorscale\": [[0.0, \"#0d0887\"], [0.1111111111111111, \"#46039f\"], [0.2222222222222222, \"#7201a8\"], [0.3333333333333333, \"#9c179e\"], [0.4444444444444444, \"#bd3786\"], [0.5555555555555556, \"#d8576b\"], [0.6666666666666666, \"#ed7953\"], [0.7777777777777778, \"#fb9f3a\"], [0.8888888888888888, \"#fdca26\"], [1.0, \"#f0f921\"]], \"type\": \"surface\"}], \"table\": [{\"cells\": {\"fill\": {\"color\": \"#EBF0F8\"}, \"line\": {\"color\": \"white\"}}, \"header\": {\"fill\": {\"color\": \"#C8D4E3\"}, \"line\": {\"color\": \"white\"}}, \"type\": \"table\"}]}, \"layout\": {\"annotationdefaults\": {\"arrowcolor\": \"#2a3f5f\", \"arrowhead\": 0, \"arrowwidth\": 1}, \"coloraxis\": {\"colorbar\": {\"outlinewidth\": 0, \"ticks\": \"\"}}, \"colorscale\": {\"diverging\": [[0, \"#8e0152\"], [0.1, \"#c51b7d\"], [0.2, \"#de77ae\"], [0.3, \"#f1b6da\"], [0.4, \"#fde0ef\"], [0.5, \"#f7f7f7\"], [0.6, \"#e6f5d0\"], [0.7, \"#b8e186\"], [0.8, \"#7fbc41\"], [0.9, \"#4d9221\"], [1, \"#276419\"]], \"sequential\": [[0.0, \"#0d0887\"], [0.1111111111111111, \"#46039f\"], [0.2222222222222222, \"#7201a8\"], [0.3333333333333333, \"#9c179e\"], [0.4444444444444444, \"#bd3786\"], [0.5555555555555556, \"#d8576b\"], [0.6666666666666666, \"#ed7953\"], [0.7777777777777778, \"#fb9f3a\"], [0.8888888888888888, \"#fdca26\"], [1.0, \"#f0f921\"]], \"sequentialminus\": [[0.0, \"#0d0887\"], [0.1111111111111111, \"#46039f\"], [0.2222222222222222, \"#7201a8\"], [0.3333333333333333, \"#9c179e\"], [0.4444444444444444, \"#bd3786\"], [0.5555555555555556, \"#d8576b\"], [0.6666666666666666, \"#ed7953\"], [0.7777777777777778, \"#fb9f3a\"], [0.8888888888888888, \"#fdca26\"], [1.0, \"#f0f921\"]]}, \"colorway\": [\"#636efa\", \"#EF553B\", \"#00cc96\", \"#ab63fa\", \"#FFA15A\", \"#19d3f3\", \"#FF6692\", \"#B6E880\", \"#FF97FF\", \"#FECB52\"], \"font\": {\"color\": \"#2a3f5f\"}, \"geo\": {\"bgcolor\": \"white\", \"lakecolor\": \"white\", \"landcolor\": \"#E5ECF6\", \"showlakes\": true, \"showland\": true, \"subunitcolor\": \"white\"}, \"hoverlabel\": {\"align\": \"left\"}, \"hovermode\": \"closest\", \"mapbox\": {\"style\": \"light\"}, \"paper_bgcolor\": \"white\", \"plot_bgcolor\": \"#E5ECF6\", \"polar\": {\"angularaxis\": {\"gridcolor\": \"white\", \"linecolor\": \"white\", \"ticks\": \"\"}, \"bgcolor\": \"#E5ECF6\", \"radialaxis\": {\"gridcolor\": \"white\", \"linecolor\": \"white\", \"ticks\": \"\"}}, \"scene\": {\"xaxis\": {\"backgroundcolor\": \"#E5ECF6\", \"gridcolor\": \"white\", \"gridwidth\": 2, \"linecolor\": \"white\", \"showbackground\": true, \"ticks\": \"\", \"zerolinecolor\": \"white\"}, \"yaxis\": {\"backgroundcolor\": \"#E5ECF6\", \"gridcolor\": \"white\", \"gridwidth\": 2, \"linecolor\": \"white\", \"showbackground\": true, \"ticks\": \"\", \"zerolinecolor\": \"white\"}, \"zaxis\": {\"backgroundcolor\": \"#E5ECF6\", \"gridcolor\": \"white\", \"gridwidth\": 2, \"linecolor\": \"white\", \"showbackground\": true, \"ticks\": \"\", \"zerolinecolor\": \"white\"}}, \"shapedefaults\": {\"line\": {\"color\": \"#2a3f5f\"}}, \"ternary\": {\"aaxis\": {\"gridcolor\": \"white\", \"linecolor\": \"white\", \"ticks\": \"\"}, \"baxis\": {\"gridcolor\": \"white\", \"linecolor\": \"white\", \"ticks\": \"\"}, \"bgcolor\": \"#E5ECF6\", \"caxis\": {\"gridcolor\": \"white\", \"linecolor\": \"white\", \"ticks\": \"\"}}, \"title\": {\"x\": 0.05}, \"xaxis\": {\"automargin\": true, \"gridcolor\": \"white\", \"linecolor\": \"white\", \"ticks\": \"\", \"title\": {\"standoff\": 15}, \"zerolinecolor\": \"white\", \"zerolinewidth\": 2}, \"yaxis\": {\"automargin\": true, \"gridcolor\": \"white\", \"linecolor\": \"white\", \"ticks\": \"\", \"title\": {\"standoff\": 15}, \"zerolinecolor\": \"white\", \"zerolinewidth\": 2}}}, \"width\": 500},\n",
              "                        {\"responsive\": true}\n",
              "                    ).then(function(){\n",
              "                            \n",
              "var gd = document.getElementById('2d70d542-631b-41e0-89fc-7af941a64cd6');\n",
              "var x = new MutationObserver(function (mutations, observer) {{\n",
              "        var display = window.getComputedStyle(gd).display;\n",
              "        if (!display || display === 'none') {{\n",
              "            console.log([gd, 'removed!']);\n",
              "            Plotly.purge(gd);\n",
              "            observer.disconnect();\n",
              "        }}\n",
              "}});\n",
              "\n",
              "// Listen for the removal of the full notebook cells\n",
              "var notebookContainer = gd.closest('#notebook-container');\n",
              "if (notebookContainer) {{\n",
              "    x.observe(notebookContainer, {childList: true});\n",
              "}}\n",
              "\n",
              "// Listen for the clearing of the current output cell\n",
              "var outputEl = gd.closest('.output');\n",
              "if (outputEl) {{\n",
              "    x.observe(outputEl, {childList: true});\n",
              "}}\n",
              "\n",
              "                        })\n",
              "                };\n",
              "                \n",
              "            </script>\n",
              "        </div>\n",
              "</body>\n",
              "</html>"
            ]
          },
          "metadata": {
            "tags": []
          }
        }
      ]
    },
    {
      "cell_type": "code",
      "metadata": {
        "id": "VQNEKehyKq79",
        "colab_type": "code",
        "colab": {}
      },
      "source": [
        "from sklearn.manifold import TSNE"
      ],
      "execution_count": 0,
      "outputs": []
    },
    {
      "cell_type": "code",
      "metadata": {
        "id": "cJkIRw5HOypc",
        "colab_type": "code",
        "colab": {}
      },
      "source": [
        ""
      ],
      "execution_count": 0,
      "outputs": []
    }
  ]
}